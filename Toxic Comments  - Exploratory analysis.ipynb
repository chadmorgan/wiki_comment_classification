{
 "cells": [
  {
   "cell_type": "markdown",
   "metadata": {},
   "source": [
    "This is a (somewhat rambling) first look through the competition data. Pardon the messiness, as I doubled back and revised earlier things on my way through but haven't taken the time to reorganize everything."
   ]
  },
  {
   "cell_type": "code",
   "execution_count": 1,
   "metadata": {},
   "outputs": [],
   "source": [
    "import numpy as np\n",
    "import pandas as pd\n",
    "import re\n",
    "import copy\n",
    "import gensim"
   ]
  },
  {
   "cell_type": "code",
   "execution_count": 2,
   "metadata": {
    "collapsed": true
   },
   "outputs": [],
   "source": [
    "from sklearn import decomposition, preprocessing\n",
    "from sklearn.feature_extraction import DictVectorizer\n",
    "from sklearn.feature_extraction.text import TfidfTransformer\n",
    "from sklearn.decomposition import NMF\n",
    "from sklearn.linear_model import LogisticRegression\n",
    "from sklearn.metrics import log_loss,roc_auc_score\n",
    "from sklearn.ensemble import GradientBoostingClassifier,RandomForestClassifier"
   ]
  },
  {
   "cell_type": "code",
   "execution_count": 3,
   "metadata": {
    "collapsed": true
   },
   "outputs": [],
   "source": [
    "from matplotlib import pyplot as plt\n",
    "%matplotlib inline"
   ]
  },
  {
   "cell_type": "code",
   "execution_count": 4,
   "metadata": {
    "collapsed": true
   },
   "outputs": [],
   "source": [
    "np.set_printoptions(precision=6,suppress=True)"
   ]
  },
  {
   "cell_type": "code",
   "execution_count": 6,
   "metadata": {},
   "outputs": [
    {
     "data": {
      "text/plain": [
       "(95851, 8)"
      ]
     },
     "execution_count": 6,
     "metadata": {},
     "output_type": "execute_result"
    }
   ],
   "source": [
    "full_train = pd.read_csv('../train.csv')\n",
    "full_train.shape"
   ]
  },
  {
   "cell_type": "code",
   "execution_count": 10,
   "metadata": {},
   "outputs": [
    {
     "data": {
      "text/html": [
       "<div>\n",
       "<style>\n",
       "    .dataframe thead tr:only-child th {\n",
       "        text-align: right;\n",
       "    }\n",
       "\n",
       "    .dataframe thead th {\n",
       "        text-align: left;\n",
       "    }\n",
       "\n",
       "    .dataframe tbody tr th {\n",
       "        vertical-align: top;\n",
       "    }\n",
       "</style>\n",
       "<table border=\"1\" class=\"dataframe\">\n",
       "  <thead>\n",
       "    <tr style=\"text-align: right;\">\n",
       "      <th></th>\n",
       "      <th>id</th>\n",
       "      <th>comment_text</th>\n",
       "      <th>toxic</th>\n",
       "      <th>severe_toxic</th>\n",
       "      <th>obscene</th>\n",
       "      <th>threat</th>\n",
       "      <th>insult</th>\n",
       "      <th>identity_hate</th>\n",
       "    </tr>\n",
       "  </thead>\n",
       "  <tbody>\n",
       "    <tr>\n",
       "      <th>72261</th>\n",
       "      <td>753840787957</td>\n",
       "      <td>\"\\n\\n Papa Roach \\n\\nPlease bother to read the...</td>\n",
       "      <td>0</td>\n",
       "      <td>0</td>\n",
       "      <td>0</td>\n",
       "      <td>0</td>\n",
       "      <td>0</td>\n",
       "      <td>0</td>\n",
       "    </tr>\n",
       "    <tr>\n",
       "      <th>73648</th>\n",
       "      <td>768179415144</td>\n",
       "      <td>That´s what Genesis flood narrative is for, th...</td>\n",
       "      <td>0</td>\n",
       "      <td>0</td>\n",
       "      <td>0</td>\n",
       "      <td>0</td>\n",
       "      <td>0</td>\n",
       "      <td>0</td>\n",
       "    </tr>\n",
       "    <tr>\n",
       "      <th>73103</th>\n",
       "      <td>762462740243</td>\n",
       "      <td>John and Peter Middleton \\n\\nI've got what I'v...</td>\n",
       "      <td>0</td>\n",
       "      <td>0</td>\n",
       "      <td>0</td>\n",
       "      <td>0</td>\n",
       "      <td>0</td>\n",
       "      <td>0</td>\n",
       "    </tr>\n",
       "    <tr>\n",
       "      <th>56621</th>\n",
       "      <td>590416132995</td>\n",
       "      <td>Unspecified source for Image:SuperShieldPack.J...</td>\n",
       "      <td>0</td>\n",
       "      <td>0</td>\n",
       "      <td>0</td>\n",
       "      <td>0</td>\n",
       "      <td>0</td>\n",
       "      <td>0</td>\n",
       "    </tr>\n",
       "    <tr>\n",
       "      <th>57316</th>\n",
       "      <td>597488392912</td>\n",
       "      <td>Yes, I agree, and so do all of the other edito...</td>\n",
       "      <td>1</td>\n",
       "      <td>0</td>\n",
       "      <td>0</td>\n",
       "      <td>0</td>\n",
       "      <td>0</td>\n",
       "      <td>0</td>\n",
       "    </tr>\n",
       "    <tr>\n",
       "      <th>8597</th>\n",
       "      <td>88751708736</td>\n",
       "      <td>Now who is threatening? Actually, if you exten...</td>\n",
       "      <td>0</td>\n",
       "      <td>0</td>\n",
       "      <td>0</td>\n",
       "      <td>0</td>\n",
       "      <td>0</td>\n",
       "      <td>0</td>\n",
       "    </tr>\n",
       "    <tr>\n",
       "      <th>42106</th>\n",
       "      <td>440206432002</td>\n",
       "      <td>\"\\n\\n Citation quality \\n\\nFirst thing, I kiss...</td>\n",
       "      <td>0</td>\n",
       "      <td>0</td>\n",
       "      <td>0</td>\n",
       "      <td>0</td>\n",
       "      <td>0</td>\n",
       "      <td>0</td>\n",
       "    </tr>\n",
       "    <tr>\n",
       "      <th>45811</th>\n",
       "      <td>478374386450</td>\n",
       "      <td>I have proposed some of the latest pic's for I...</td>\n",
       "      <td>0</td>\n",
       "      <td>0</td>\n",
       "      <td>0</td>\n",
       "      <td>0</td>\n",
       "      <td>0</td>\n",
       "      <td>0</td>\n",
       "    </tr>\n",
       "    <tr>\n",
       "      <th>37709</th>\n",
       "      <td>392943307086</td>\n",
       "      <td>Lolapaloozas Preachy Fuck Award \\n\\nGiven for ...</td>\n",
       "      <td>1</td>\n",
       "      <td>0</td>\n",
       "      <td>1</td>\n",
       "      <td>0</td>\n",
       "      <td>0</td>\n",
       "      <td>0</td>\n",
       "    </tr>\n",
       "    <tr>\n",
       "      <th>45118</th>\n",
       "      <td>471253836564</td>\n",
       "      <td>I might pay more attention to details of your ...</td>\n",
       "      <td>0</td>\n",
       "      <td>0</td>\n",
       "      <td>0</td>\n",
       "      <td>0</td>\n",
       "      <td>0</td>\n",
       "      <td>0</td>\n",
       "    </tr>\n",
       "  </tbody>\n",
       "</table>\n",
       "</div>"
      ],
      "text/plain": [
       "                 id                                       comment_text  toxic  \\\n",
       "72261  753840787957  \"\\n\\n Papa Roach \\n\\nPlease bother to read the...      0   \n",
       "73648  768179415144  That´s what Genesis flood narrative is for, th...      0   \n",
       "73103  762462740243  John and Peter Middleton \\n\\nI've got what I'v...      0   \n",
       "56621  590416132995  Unspecified source for Image:SuperShieldPack.J...      0   \n",
       "57316  597488392912  Yes, I agree, and so do all of the other edito...      1   \n",
       "8597    88751708736  Now who is threatening? Actually, if you exten...      0   \n",
       "42106  440206432002  \"\\n\\n Citation quality \\n\\nFirst thing, I kiss...      0   \n",
       "45811  478374386450  I have proposed some of the latest pic's for I...      0   \n",
       "37709  392943307086  Lolapaloozas Preachy Fuck Award \\n\\nGiven for ...      1   \n",
       "45118  471253836564  I might pay more attention to details of your ...      0   \n",
       "\n",
       "       severe_toxic  obscene  threat  insult  identity_hate  \n",
       "72261             0        0       0       0              0  \n",
       "73648             0        0       0       0              0  \n",
       "73103             0        0       0       0              0  \n",
       "56621             0        0       0       0              0  \n",
       "57316             0        0       0       0              0  \n",
       "8597              0        0       0       0              0  \n",
       "42106             0        0       0       0              0  \n",
       "45811             0        0       0       0              0  \n",
       "37709             0        1       0       0              0  \n",
       "45118             0        0       0       0              0  "
      ]
     },
     "execution_count": 10,
     "metadata": {},
     "output_type": "execute_result"
    }
   ],
   "source": [
    "full_train.sample(10)"
   ]
  },
  {
   "cell_type": "code",
   "execution_count": 8,
   "metadata": {},
   "outputs": [
    {
     "data": {
      "text/plain": [
       "Index(['id', 'comment_text', 'toxic', 'severe_toxic', 'obscene', 'threat',\n",
       "       'insult', 'identity_hate'],\n",
       "      dtype='object')"
      ]
     },
     "execution_count": 8,
     "metadata": {},
     "output_type": "execute_result"
    }
   ],
   "source": [
    "full_train.columns"
   ]
  },
  {
   "cell_type": "code",
   "execution_count": 9,
   "metadata": {},
   "outputs": [
    {
     "data": {
      "text/plain": [
       "(95851, 8)"
      ]
     },
     "execution_count": 9,
     "metadata": {},
     "output_type": "execute_result"
    }
   ],
   "source": [
    "full_train.shape"
   ]
  },
  {
   "cell_type": "markdown",
   "metadata": {},
   "source": [
    "### EDA on labels\n",
    "\n",
    "Since this is a multilabel task, spend some time checking the prevalence of each tag and their relationship"
   ]
  },
  {
   "cell_type": "code",
   "execution_count": 65,
   "metadata": {
    "collapsed": true
   },
   "outputs": [],
   "source": [
    "labels = full_train[['toxic', 'severe_toxic', 'obscene', 'threat','insult', 'identity_hate']]"
   ]
  },
  {
   "cell_type": "code",
   "execution_count": 15,
   "metadata": {},
   "outputs": [
    {
     "data": {
      "text/plain": [
       "0.10213769287748693"
      ]
     },
     "execution_count": 15,
     "metadata": {},
     "output_type": "execute_result"
    }
   ],
   "source": [
    "# rate of any kind of toxic comment\n",
    "np.mean(np.max(labels,axis=1))"
   ]
  },
  {
   "cell_type": "code",
   "execution_count": 78,
   "metadata": {},
   "outputs": [
    {
     "data": {
      "text/plain": [
       "toxic            0.096368\n",
       "severe_toxic     0.010068\n",
       "obscene          0.053301\n",
       "threat           0.003182\n",
       "insult           0.049713\n",
       "identity_hate    0.008492\n",
       "dtype: float64"
      ]
     },
     "execution_count": 78,
     "metadata": {},
     "output_type": "execute_result"
    }
   ],
   "source": [
    "# toxic comment rate by class\n",
    "np.mean(labels,axis=0)"
   ]
  },
  {
   "cell_type": "code",
   "execution_count": 79,
   "metadata": {},
   "outputs": [
    {
     "data": {
      "text/plain": [
       "toxic            9237\n",
       "severe_toxic      965\n",
       "obscene          5109\n",
       "threat            305\n",
       "insult           4765\n",
       "identity_hate     814\n",
       "dtype: int64"
      ]
     },
     "execution_count": 79,
     "metadata": {},
     "output_type": "execute_result"
    }
   ],
   "source": [
    "# toxic comment count by class\n",
    "np.sum(labels,axis=0)"
   ]
  },
  {
   "cell_type": "code",
   "execution_count": 10,
   "metadata": {},
   "outputs": [
    {
     "data": {
      "text/html": [
       "<div>\n",
       "<style>\n",
       "    .dataframe thead tr:only-child th {\n",
       "        text-align: right;\n",
       "    }\n",
       "\n",
       "    .dataframe thead th {\n",
       "        text-align: left;\n",
       "    }\n",
       "\n",
       "    .dataframe tbody tr th {\n",
       "        vertical-align: top;\n",
       "    }\n",
       "</style>\n",
       "<table border=\"1\" class=\"dataframe\">\n",
       "  <thead>\n",
       "    <tr style=\"text-align: right;\">\n",
       "      <th></th>\n",
       "      <th>toxic</th>\n",
       "      <th>severe_toxic</th>\n",
       "      <th>obscene</th>\n",
       "      <th>threat</th>\n",
       "      <th>insult</th>\n",
       "      <th>identity_hate</th>\n",
       "    </tr>\n",
       "  </thead>\n",
       "  <tbody>\n",
       "    <tr>\n",
       "      <th>toxic</th>\n",
       "      <td>1.000000</td>\n",
       "      <td>0.308810</td>\n",
       "      <td>0.677491</td>\n",
       "      <td>0.162967</td>\n",
       "      <td>0.648330</td>\n",
       "      <td>0.259124</td>\n",
       "    </tr>\n",
       "    <tr>\n",
       "      <th>severe_toxic</th>\n",
       "      <td>0.308810</td>\n",
       "      <td>1.000000</td>\n",
       "      <td>0.404540</td>\n",
       "      <td>0.133469</td>\n",
       "      <td>0.377450</td>\n",
       "      <td>0.193385</td>\n",
       "    </tr>\n",
       "    <tr>\n",
       "      <th>obscene</th>\n",
       "      <td>0.677491</td>\n",
       "      <td>0.404540</td>\n",
       "      <td>1.000000</td>\n",
       "      <td>0.149874</td>\n",
       "      <td>0.744685</td>\n",
       "      <td>0.287794</td>\n",
       "    </tr>\n",
       "    <tr>\n",
       "      <th>threat</th>\n",
       "      <td>0.162967</td>\n",
       "      <td>0.133469</td>\n",
       "      <td>0.149874</td>\n",
       "      <td>1.000000</td>\n",
       "      <td>0.157534</td>\n",
       "      <td>0.123971</td>\n",
       "    </tr>\n",
       "    <tr>\n",
       "      <th>insult</th>\n",
       "      <td>0.648330</td>\n",
       "      <td>0.377450</td>\n",
       "      <td>0.744685</td>\n",
       "      <td>0.157534</td>\n",
       "      <td>1.000000</td>\n",
       "      <td>0.331922</td>\n",
       "    </tr>\n",
       "    <tr>\n",
       "      <th>identity_hate</th>\n",
       "      <td>0.259124</td>\n",
       "      <td>0.193385</td>\n",
       "      <td>0.287794</td>\n",
       "      <td>0.123971</td>\n",
       "      <td>0.331922</td>\n",
       "      <td>1.000000</td>\n",
       "    </tr>\n",
       "  </tbody>\n",
       "</table>\n",
       "</div>"
      ],
      "text/plain": [
       "                  toxic  severe_toxic   obscene    threat    insult  \\\n",
       "toxic          1.000000      0.308810  0.677491  0.162967  0.648330   \n",
       "severe_toxic   0.308810      1.000000  0.404540  0.133469  0.377450   \n",
       "obscene        0.677491      0.404540  1.000000  0.149874  0.744685   \n",
       "threat         0.162967      0.133469  0.149874  1.000000  0.157534   \n",
       "insult         0.648330      0.377450  0.744685  0.157534  1.000000   \n",
       "identity_hate  0.259124      0.193385  0.287794  0.123971  0.331922   \n",
       "\n",
       "               identity_hate  \n",
       "toxic               0.259124  \n",
       "severe_toxic        0.193385  \n",
       "obscene             0.287794  \n",
       "threat              0.123971  \n",
       "insult              0.331922  \n",
       "identity_hate       1.000000  "
      ]
     },
     "execution_count": 10,
     "metadata": {},
     "output_type": "execute_result"
    }
   ],
   "source": [
    "# cross correlation between toxic comment types\n",
    "labels.corr()"
   ]
  },
  {
   "cell_type": "code",
   "execution_count": 14,
   "metadata": {},
   "outputs": [
    {
     "ename": "NameError",
     "evalue": "name 'labels' is not defined",
     "output_type": "error",
     "traceback": [
      "\u001b[0;31m---------------------------------------------------------------------------\u001b[0m",
      "\u001b[0;31mNameError\u001b[0m                                 Traceback (most recent call last)",
      "\u001b[0;32m<ipython-input-14-a441eeafd4e9>\u001b[0m in \u001b[0;36m<module>\u001b[0;34m()\u001b[0m\n\u001b[0;32m----> 1\u001b[0;31m \u001b[0mclean_comment\u001b[0m \u001b[0;34m=\u001b[0m \u001b[0mnp\u001b[0m\u001b[0;34m.\u001b[0m\u001b[0mzeros\u001b[0m\u001b[0;34m(\u001b[0m\u001b[0mshape\u001b[0m\u001b[0;34m=\u001b[0m\u001b[0;34m[\u001b[0m\u001b[0mlabels\u001b[0m\u001b[0;34m.\u001b[0m\u001b[0mshape\u001b[0m\u001b[0;34m[\u001b[0m\u001b[0;36m0\u001b[0m\u001b[0;34m]\u001b[0m\u001b[0;34m]\u001b[0m\u001b[0;34m)\u001b[0m\u001b[0;34m\u001b[0m\u001b[0m\n\u001b[0m",
      "\u001b[0;31mNameError\u001b[0m: name 'labels' is not defined"
     ]
    }
   ],
   "source": [
    "clean_comment = np.zeros(shape=[labels.shape[0]])"
   ]
  },
  {
   "cell_type": "code",
   "execution_count": 67,
   "metadata": {
    "collapsed": true
   },
   "outputs": [],
   "source": [
    "clean_comment[np.max(labels,axis=1)==0] = 1"
   ]
  },
  {
   "cell_type": "code",
   "execution_count": 68,
   "metadata": {},
   "outputs": [
    {
     "data": {
      "text/plain": [
       "0.89786230712251303"
      ]
     },
     "execution_count": 68,
     "metadata": {},
     "output_type": "execute_result"
    }
   ],
   "source": [
    "np.mean(clean_comment)"
   ]
  },
  {
   "cell_type": "code",
   "execution_count": 44,
   "metadata": {},
   "outputs": [
    {
     "data": {
      "text/html": [
       "<div>\n",
       "<style>\n",
       "    .dataframe thead tr:only-child th {\n",
       "        text-align: right;\n",
       "    }\n",
       "\n",
       "    .dataframe thead th {\n",
       "        text-align: left;\n",
       "    }\n",
       "\n",
       "    .dataframe tbody tr th {\n",
       "        vertical-align: top;\n",
       "    }\n",
       "</style>\n",
       "<table border=\"1\" class=\"dataframe\">\n",
       "  <thead>\n",
       "    <tr style=\"text-align: right;\">\n",
       "      <th></th>\n",
       "      <th>id</th>\n",
       "      <th>comment_text</th>\n",
       "      <th>toxic</th>\n",
       "      <th>severe_toxic</th>\n",
       "      <th>obscene</th>\n",
       "      <th>threat</th>\n",
       "      <th>insult</th>\n",
       "      <th>identity_hate</th>\n",
       "    </tr>\n",
       "  </thead>\n",
       "  <tbody>\n",
       "    <tr>\n",
       "      <th>13674</th>\n",
       "      <td>141333131806</td>\n",
       "      <td>FUCK YOU ALL! \\n\\nGO TO HELL!</td>\n",
       "      <td>1</td>\n",
       "      <td>1</td>\n",
       "      <td>1</td>\n",
       "      <td>0</td>\n",
       "      <td>1</td>\n",
       "      <td>0</td>\n",
       "    </tr>\n",
       "    <tr>\n",
       "      <th>82164</th>\n",
       "      <td>856986227845</td>\n",
       "      <td>spam \\n\\nim spamming you, cause you're a cunt ...</td>\n",
       "      <td>1</td>\n",
       "      <td>1</td>\n",
       "      <td>1</td>\n",
       "      <td>0</td>\n",
       "      <td>1</td>\n",
       "      <td>0</td>\n",
       "    </tr>\n",
       "    <tr>\n",
       "      <th>4974</th>\n",
       "      <td>51982356971</td>\n",
       "      <td>WIKIPEDIA SUCKS!! IT SHOULD BURN!!</td>\n",
       "      <td>1</td>\n",
       "      <td>1</td>\n",
       "      <td>1</td>\n",
       "      <td>0</td>\n",
       "      <td>0</td>\n",
       "      <td>0</td>\n",
       "    </tr>\n",
       "    <tr>\n",
       "      <th>82599</th>\n",
       "      <td>861489153164</td>\n",
       "      <td>I Fucked Your Mom Last Night. It Felt Awsome. ...</td>\n",
       "      <td>1</td>\n",
       "      <td>1</td>\n",
       "      <td>1</td>\n",
       "      <td>0</td>\n",
       "      <td>1</td>\n",
       "      <td>0</td>\n",
       "    </tr>\n",
       "    <tr>\n",
       "      <th>39699</th>\n",
       "      <td>414844105394</td>\n",
       "      <td>Hey, you freaking retard \\n\\nDon't call people...</td>\n",
       "      <td>1</td>\n",
       "      <td>1</td>\n",
       "      <td>0</td>\n",
       "      <td>0</td>\n",
       "      <td>1</td>\n",
       "      <td>0</td>\n",
       "    </tr>\n",
       "    <tr>\n",
       "      <th>67709</th>\n",
       "      <td>705386613723</td>\n",
       "      <td>you're such a douche fag</td>\n",
       "      <td>1</td>\n",
       "      <td>1</td>\n",
       "      <td>1</td>\n",
       "      <td>0</td>\n",
       "      <td>1</td>\n",
       "      <td>0</td>\n",
       "    </tr>\n",
       "    <tr>\n",
       "      <th>67345</th>\n",
       "      <td>701305227406</td>\n",
       "      <td>Go fuck yourself this ain't any of your busine...</td>\n",
       "      <td>1</td>\n",
       "      <td>1</td>\n",
       "      <td>1</td>\n",
       "      <td>0</td>\n",
       "      <td>1</td>\n",
       "      <td>0</td>\n",
       "    </tr>\n",
       "    <tr>\n",
       "      <th>51772</th>\n",
       "      <td>539871533752</td>\n",
       "      <td>Go fuck yourself bitch</td>\n",
       "      <td>1</td>\n",
       "      <td>1</td>\n",
       "      <td>1</td>\n",
       "      <td>0</td>\n",
       "      <td>1</td>\n",
       "      <td>0</td>\n",
       "    </tr>\n",
       "    <tr>\n",
       "      <th>3230</th>\n",
       "      <td>32895402228</td>\n",
       "      <td>Fuck You \\n\\nfuck you and wikipedia there is n...</td>\n",
       "      <td>1</td>\n",
       "      <td>1</td>\n",
       "      <td>1</td>\n",
       "      <td>0</td>\n",
       "      <td>1</td>\n",
       "      <td>0</td>\n",
       "    </tr>\n",
       "    <tr>\n",
       "      <th>16270</th>\n",
       "      <td>168350432858</td>\n",
       "      <td>you are a fucking bawbag.\\n\\nget a real job yo...</td>\n",
       "      <td>1</td>\n",
       "      <td>1</td>\n",
       "      <td>1</td>\n",
       "      <td>1</td>\n",
       "      <td>1</td>\n",
       "      <td>0</td>\n",
       "    </tr>\n",
       "  </tbody>\n",
       "</table>\n",
       "</div>"
      ],
      "text/plain": [
       "                 id                                       comment_text  toxic  \\\n",
       "13674  141333131806                      FUCK YOU ALL! \\n\\nGO TO HELL!      1   \n",
       "82164  856986227845  spam \\n\\nim spamming you, cause you're a cunt ...      1   \n",
       "4974    51982356971                 WIKIPEDIA SUCKS!! IT SHOULD BURN!!      1   \n",
       "82599  861489153164  I Fucked Your Mom Last Night. It Felt Awsome. ...      1   \n",
       "39699  414844105394  Hey, you freaking retard \\n\\nDon't call people...      1   \n",
       "67709  705386613723                           you're such a douche fag      1   \n",
       "67345  701305227406  Go fuck yourself this ain't any of your busine...      1   \n",
       "51772  539871533752                             Go fuck yourself bitch      1   \n",
       "3230    32895402228  Fuck You \\n\\nfuck you and wikipedia there is n...      1   \n",
       "16270  168350432858  you are a fucking bawbag.\\n\\nget a real job yo...      1   \n",
       "\n",
       "       severe_toxic  obscene  threat  insult  identity_hate  \n",
       "13674             1        1       0       1              0  \n",
       "82164             1        1       0       1              0  \n",
       "4974              1        1       0       0              0  \n",
       "82599             1        1       0       1              0  \n",
       "39699             1        0       0       1              0  \n",
       "67709             1        1       0       1              0  \n",
       "67345             1        1       0       1              0  \n",
       "51772             1        1       0       1              0  \n",
       "3230              1        1       0       1              0  \n",
       "16270             1        1       1       1              0  "
      ]
     },
     "execution_count": 44,
     "metadata": {},
     "output_type": "execute_result"
    }
   ],
   "source": [
    "full_train[full_train['severe_toxic']==1].sample(10)"
   ]
  },
  {
   "cell_type": "code",
   "execution_count": 46,
   "metadata": {},
   "outputs": [
    {
     "data": {
      "text/plain": [
       "1.0"
      ]
     },
     "execution_count": 46,
     "metadata": {},
     "output_type": "execute_result"
    }
   ],
   "source": [
    "np.mean(labels[labels['severe_toxic']==1]['toxic'])"
   ]
  },
  {
   "cell_type": "code",
   "execution_count": 47,
   "metadata": {},
   "outputs": [
    {
     "data": {
      "text/plain": [
       "0.9544041450777202"
      ]
     },
     "execution_count": 47,
     "metadata": {},
     "output_type": "execute_result"
    }
   ],
   "source": [
    "np.mean(labels[labels['severe_toxic']==1]['obscene'])"
   ]
  },
  {
   "cell_type": "code",
   "execution_count": 48,
   "metadata": {},
   "outputs": [
    {
     "data": {
      "text/plain": [
       "0.8632124352331606"
      ]
     },
     "execution_count": 48,
     "metadata": {},
     "output_type": "execute_result"
    }
   ],
   "source": [
    "np.mean(labels[labels['severe_toxic']==1]['insult'])"
   ]
  },
  {
   "cell_type": "code",
   "execution_count": 83,
   "metadata": {},
   "outputs": [
    {
     "data": {
      "text/plain": [
       "0.9475409836065574"
      ]
     },
     "execution_count": 83,
     "metadata": {},
     "output_type": "execute_result"
    }
   ],
   "source": [
    "np.mean(labels[labels['threat']==1]['toxic'])"
   ]
  },
  {
   "cell_type": "code",
   "execution_count": 84,
   "metadata": {},
   "outputs": [
    {
     "data": {
      "text/plain": [
       "0.9226044226044227"
      ]
     },
     "execution_count": 84,
     "metadata": {},
     "output_type": "execute_result"
    }
   ],
   "source": [
    "np.mean(labels[labels['identity_hate']==1]['toxic'])"
   ]
  },
  {
   "cell_type": "code",
   "execution_count": 73,
   "metadata": {},
   "outputs": [
    {
     "name": "stdout",
     "output_type": "stream",
     "text": [
      "Index(['toxic', 'severe_toxic', 'obscene', 'threat', 'insult',\n",
      "       'identity_hate'],\n",
      "      dtype='object')\n",
      "[[ 0.48405924  0.34247257  0.51908776  0.17281606  0.51548957  0.28870781]\n",
      " [-0.13923021  0.02642394 -0.1677628   0.94685966 -0.14072525  0.18821676]\n",
      " [-0.14875063 -0.18168182 -0.13369145 -0.23323624 -0.04924426  0.93282765]\n",
      " [-0.31112749  0.91315178 -0.13916213 -0.13376885 -0.16652343  0.06605487]\n",
      " [-0.78065613 -0.11346711  0.30275552  0.03398832  0.52955722 -0.06674032]\n",
      " [-0.13397965 -0.04780236  0.75729989  0.01195527 -0.63551633  0.04730028]]\n"
     ]
    }
   ],
   "source": [
    "labels_normal = preprocessing.scale(labels)\n",
    "pca = PCA(n_components=6)\n",
    "pca.fit(labels_normal)\n",
    "print(labels.columns)\n",
    "print(pca.components_)"
   ]
  },
  {
   "cell_type": "code",
   "execution_count": 75,
   "metadata": {},
   "outputs": [
    {
     "name": "stdout",
     "output_type": "stream",
     "text": [
      "[ 0.47469283  0.63376563  0.77230727  0.89876336  0.95833061  1.        ]\n"
     ]
    },
    {
     "data": {
      "text/plain": [
       "[<matplotlib.lines.Line2D at 0x129987b70>]"
      ]
     },
     "execution_count": 75,
     "metadata": {},
     "output_type": "execute_result"
    },
    {
     "data": {
      "image/png": "[encoded data removed]",
      "text/plain": [
       "<matplotlib.figure.Figure at 0x11eed2710>"
      ]
     },
     "metadata": {},
     "output_type": "display_data"
    }
   ],
   "source": [
    "print(np.cumsum(pca.explained_variance_)/sum(pca.explained_variance_))\n",
    "plt.plot(pca.explained_variance_/sum(pca.explained_variance_))"
   ]
  },
  {
   "cell_type": "markdown",
   "metadata": {},
   "source": [
    "It is evident from the PCA that there is a lot of correlation between the types of toxic comments. Threats and identity hate are more unlike the other types."
   ]
  },
  {
   "cell_type": "markdown",
   "metadata": {},
   "source": [
    "### Word analysis on comment text"
   ]
  },
  {
   "cell_type": "code",
   "execution_count": 11,
   "metadata": {
    "collapsed": true
   },
   "outputs": [],
   "source": [
    "comments=full_train['comment_text'].tolist()"
   ]
  },
  {
   "cell_type": "code",
   "execution_count": 12,
   "metadata": {},
   "outputs": [
    {
     "data": {
      "text/plain": [
       "[\"Nonsense?  kiss off, geek. what I said is true.  I'll have your account terminated.\",\n",
       " '\"\\n\\n Please do not vandalize pages, as you did with this edit to W. S. Merwin. If you continue to do so, you will be blocked from editing.    \"',\n",
       " '\"\\n\\n \"\"Points of interest\"\" \\n\\nI removed the \"\"points of interest\"\" section you added because it seemed kind of spammy. I know you probably didn\\'t mean to disobey the rules, but generally, a point of interest tends to be rather touristy, and quite irrelevant to an area culture. That\\'s just my opinion, though.\\n\\nIf you want to reply, just put your reply here and add {{talkback|Jamiegraham08}} on my talkpage.   \"']"
      ]
     },
     "execution_count": 12,
     "metadata": {},
     "output_type": "execute_result"
    }
   ],
   "source": [
    "comments[0:3]"
   ]
  },
  {
   "cell_type": "code",
   "execution_count": 15,
   "metadata": {
    "collapsed": true
   },
   "outputs": [],
   "source": [
    "token_dict = {}\n",
    "token_set = set()\n",
    "tokenized_comments = copy.copy(comments)\n",
    "token_comment_dicts = []\n",
    "for i in range(len(tokenized_comments)):\n",
    "#     clean_flag = clean_comment[i]\n",
    "    tokenized_comments[i] = re.sub(\"\\n\",' ',tokenized_comments[i])\n",
    "    tokenized_comments[i] = re.sub(\"\\t\",' ',tokenized_comments[i])\n",
    "    tokenized_comments[i] = re.sub(\"[^A-Za-z'\\*\\- ]\",' ',tokenized_comments[i])\n",
    "    tokenized_comments[i] = re.sub(\" +\",' ',tokenized_comments[i])\n",
    "    tokenized_comments[i] = re.sub(\"'+\",\"'\",tokenized_comments[i])    \n",
    "    tokenized_comments[i] = re.sub(\"\\*+\",\"\\*\",tokenized_comments[i])   \n",
    "    tokenized_comments[i] = re.sub(\"\\-+\",\"\\-\",tokenized_comments[i])\n",
    "    tokenized_comments[i] = tokenized_comments[i].lower().strip()\n",
    "    tokenized_comments[i] = tokenized_comments[i].split(' ')\n",
    "    line_dict = {}\n",
    "    line_set = set()\n",
    "    for token in tokenized_comments[i]:        \n",
    "        if token in token_set:\n",
    "#             token_dict[token]['freq'] += 1\n",
    "#             token_dict[token]['clean_freq'] += clean_flag\n",
    "            token_dict[token] += 1\n",
    "        else:\n",
    "            token_set.add(token)\n",
    "#             token_dict[token] = {'freq':1,'clean_freq':clean_flag}\n",
    "            token_dict[token] = 1\n",
    "        if token in line_set:\n",
    "            line_dict[token]+=1\n",
    "        else:\n",
    "            line_set.add(token)\n",
    "            line_dict[token]=1\n",
    "    token_comment_dicts.append(line_dict)"
   ]
  },
  {
   "cell_type": "code",
   "execution_count": 405,
   "metadata": {},
   "outputs": [
    {
     "name": "stdout",
     "output_type": "stream",
     "text": [
      "{'please': 1, 'do': 2, 'not': 1, 'vandalize': 1, 'pages': 1, 'as': 1, 'you': 3, 'did': 1, 'with': 1, 'this': 1, 'edit': 1, 'to': 2, 'w': 1, 's': 1, 'merwin': 1, 'if': 1, 'continue': 1, 'so': 1, 'will': 1, 'be': 1, 'blocked': 1, 'from': 1, 'editing': 1}\n"
     ]
    }
   ],
   "source": [
    "print(token_comment_dicts[1])"
   ]
  },
  {
   "cell_type": "code",
   "execution_count": 395,
   "metadata": {},
   "outputs": [
    {
     "name": "stdout",
     "output_type": "stream",
     "text": [
      "[['nonsense', 'kiss', 'off', 'geek', 'what', 'i', 'said', 'is', 'true', \"i'll\", 'have', 'your', 'account', 'terminated'], ['please', 'do', 'not', 'vandalize', 'pages', 'as', 'you', 'did', 'with', 'this', 'edit', 'to', 'w', 's', 'merwin', 'if', 'you', 'continue', 'to', 'do', 'so', 'you', 'will', 'be', 'blocked', 'from', 'editing'], ['points', 'of', 'interest', 'i', 'removed', 'the', 'points', 'of', 'interest', 'section', 'you', 'added', 'because', 'it', 'seemed', 'kind', 'of', 'spammy', 'i', 'know', 'you', 'probably', \"didn't\", 'mean', 'to', 'disobey', 'the', 'rules', 'but', 'generally', 'a', 'point', 'of', 'interest', 'tends', 'to', 'be', 'rather', 'touristy', 'and', 'quite', 'irrelevant', 'to', 'an', 'area', 'culture', \"that's\", 'just', 'my', 'opinion', 'though', 'if', 'you', 'want', 'to', 'reply', 'just', 'put', 'your', 'reply', 'here', 'and', 'add', 'talkback', 'jamiegraham', 'on', 'my', 'talkpage']]\n"
     ]
    }
   ],
   "source": [
    "print(tokenized_comments[0:3])"
   ]
  },
  {
   "cell_type": "code",
   "execution_count": 363,
   "metadata": {
    "collapsed": true
   },
   "outputs": [],
   "source": [
    "flat_tokens = [item for sublist in comments for item in sublist]"
   ]
  },
  {
   "cell_type": "code",
   "execution_count": 364,
   "metadata": {},
   "outputs": [
    {
     "name": "stdout",
     "output_type": "stream",
     "text": [
      "total words: 37893913\n",
      "unique words: 141839\n"
     ]
    }
   ],
   "source": [
    "print(\"total words:\",len(flat_tokens))\n",
    "print(\"unique words:\",len(token_dict.keys()))"
   ]
  },
  {
   "cell_type": "code",
   "execution_count": 135,
   "metadata": {},
   "outputs": [
    {
     "name": "stdout",
     "output_type": "stream",
     "text": [
      "overall toxic rate = 0.102137692877\n"
     ]
    }
   ],
   "source": [
    "clean_rate = np.mean(clean_comment)\n",
    "toxic_rate = 1-clean_rate\n",
    "print(\"overall toxic rate =\",toxic_rate)"
   ]
  },
  {
   "cell_type": "code",
   "execution_count": 136,
   "metadata": {
    "collapsed": true
   },
   "outputs": [],
   "source": [
    "token_count = pd.DataFrame.from_dict(token_dict,orient='index').reset_index()\n",
    "token_count.columns = ['token','freq','clean_freq']\n",
    "token_count['toxic_freq'] = token_count['freq']-token_count['clean_freq'] \n",
    "token_count['toxic_rate'] = token_count['toxic_freq']/token_count['freq']\n",
    "# IDEA: compare observed to expected toxic freq, like Chi-square\n",
    "token_count['toxic_chisq_val'] = (token_count['toxic_freq'] - \\\n",
    "                                  token_count['freq']*toxic_rate)**2 / \\\n",
    "                                  token_count['freq']*toxic_rate\n",
    "# multiply chisqr value by sign of (token toxic rate - overall toxic rate)\n",
    "token_count['toxic_chisq_val_sign'] = token_count['toxic_chisq_val'] * \\\n",
    "    np.sign(token_count['toxic_rate']-toxic_rate)"
   ]
  },
  {
   "cell_type": "code",
   "execution_count": 137,
   "metadata": {
    "collapsed": true
   },
   "outputs": [],
   "source": [
    "token_count = token_count.sort_values('freq',ascending=False)\\\n",
    "    .reset_index(drop=True)\n",
    "token_count = token_count.reset_index()    "
   ]
  },
  {
   "cell_type": "code",
   "execution_count": 352,
   "metadata": {},
   "outputs": [
    {
     "name": "stdout",
     "output_type": "stream",
     "text": [
      "Most frequent words:\n"
     ]
    },
    {
     "data": {
      "text/html": [
       "<div>\n",
       "<style>\n",
       "    .dataframe thead tr:only-child th {\n",
       "        text-align: right;\n",
       "    }\n",
       "\n",
       "    .dataframe thead th {\n",
       "        text-align: left;\n",
       "    }\n",
       "\n",
       "    .dataframe tbody tr th {\n",
       "        vertical-align: top;\n",
       "    }\n",
       "</style>\n",
       "<table border=\"1\" class=\"dataframe\">\n",
       "  <thead>\n",
       "    <tr style=\"text-align: right;\">\n",
       "      <th></th>\n",
       "      <th>index</th>\n",
       "      <th>token</th>\n",
       "      <th>freq</th>\n",
       "      <th>clean_freq</th>\n",
       "      <th>toxic_freq</th>\n",
       "      <th>toxic_rate</th>\n",
       "      <th>toxic_chisq_val</th>\n",
       "      <th>toxic_chisq_val_sign</th>\n",
       "    </tr>\n",
       "  </thead>\n",
       "  <tbody>\n",
       "    <tr>\n",
       "      <th>0</th>\n",
       "      <td>0</td>\n",
       "      <td>the</td>\n",
       "      <td>298601</td>\n",
       "      <td>284491.0</td>\n",
       "      <td>14110.0</td>\n",
       "      <td>0.047254</td>\n",
       "      <td>91.868962</td>\n",
       "      <td>-91.868962</td>\n",
       "    </tr>\n",
       "    <tr>\n",
       "      <th>1</th>\n",
       "      <td>1</td>\n",
       "      <td>to</td>\n",
       "      <td>178522</td>\n",
       "      <td>167827.0</td>\n",
       "      <td>10695.0</td>\n",
       "      <td>0.059909</td>\n",
       "      <td>32.516339</td>\n",
       "      <td>-32.516339</td>\n",
       "    </tr>\n",
       "    <tr>\n",
       "      <th>2</th>\n",
       "      <td>2</td>\n",
       "      <td>of</td>\n",
       "      <td>135454</td>\n",
       "      <td>127670.0</td>\n",
       "      <td>7784.0</td>\n",
       "      <td>0.057466</td>\n",
       "      <td>27.608489</td>\n",
       "      <td>-27.608489</td>\n",
       "    </tr>\n",
       "    <tr>\n",
       "      <th>3</th>\n",
       "      <td>3</td>\n",
       "      <td>and</td>\n",
       "      <td>134731</td>\n",
       "      <td>124032.0</td>\n",
       "      <td>10699.0</td>\n",
       "      <td>0.079410</td>\n",
       "      <td>7.108224</td>\n",
       "      <td>-7.108224</td>\n",
       "    </tr>\n",
       "    <tr>\n",
       "      <th>4</th>\n",
       "      <td>4</td>\n",
       "      <td>a</td>\n",
       "      <td>130904</td>\n",
       "      <td>116851.0</td>\n",
       "      <td>14053.0</td>\n",
       "      <td>0.107353</td>\n",
       "      <td>0.363730</td>\n",
       "      <td>0.363730</td>\n",
       "    </tr>\n",
       "    <tr>\n",
       "      <th>5</th>\n",
       "      <td>5</td>\n",
       "      <td>you</td>\n",
       "      <td>125189</td>\n",
       "      <td>101073.0</td>\n",
       "      <td>24116.0</td>\n",
       "      <td>0.192637</td>\n",
       "      <td>104.722539</td>\n",
       "      <td>104.722539</td>\n",
       "    </tr>\n",
       "    <tr>\n",
       "      <th>6</th>\n",
       "      <td>6</td>\n",
       "      <td>i</td>\n",
       "      <td>122894</td>\n",
       "      <td>109387.0</td>\n",
       "      <td>13507.0</td>\n",
       "      <td>0.109908</td>\n",
       "      <td>0.757814</td>\n",
       "      <td>0.757814</td>\n",
       "    </tr>\n",
       "    <tr>\n",
       "      <th>7</th>\n",
       "      <td>7</td>\n",
       "      <td>is</td>\n",
       "      <td>106226</td>\n",
       "      <td>97459.0</td>\n",
       "      <td>8767.0</td>\n",
       "      <td>0.082532</td>\n",
       "      <td>4.170611</td>\n",
       "      <td>-4.170611</td>\n",
       "    </tr>\n",
       "    <tr>\n",
       "      <th>8</th>\n",
       "      <td>8</td>\n",
       "      <td>that</td>\n",
       "      <td>93514</td>\n",
       "      <td>88108.0</td>\n",
       "      <td>5406.0</td>\n",
       "      <td>0.057810</td>\n",
       "      <td>18.768183</td>\n",
       "      <td>-18.768183</td>\n",
       "    </tr>\n",
       "    <tr>\n",
       "      <th>9</th>\n",
       "      <td>9</td>\n",
       "      <td>in</td>\n",
       "      <td>87638</td>\n",
       "      <td>82970.0</td>\n",
       "      <td>4668.0</td>\n",
       "      <td>0.053265</td>\n",
       "      <td>21.380544</td>\n",
       "      <td>-21.380544</td>\n",
       "    </tr>\n",
       "    <tr>\n",
       "      <th>10</th>\n",
       "      <td>10</td>\n",
       "      <td>it</td>\n",
       "      <td>78412</td>\n",
       "      <td>73708.0</td>\n",
       "      <td>4704.0</td>\n",
       "      <td>0.059991</td>\n",
       "      <td>14.226542</td>\n",
       "      <td>-14.226542</td>\n",
       "    </tr>\n",
       "    <tr>\n",
       "      <th>11</th>\n",
       "      <td>11</td>\n",
       "      <td>for</td>\n",
       "      <td>62101</td>\n",
       "      <td>58843.0</td>\n",
       "      <td>3258.0</td>\n",
       "      <td>0.052463</td>\n",
       "      <td>15.651514</td>\n",
       "      <td>-15.651514</td>\n",
       "    </tr>\n",
       "    <tr>\n",
       "      <th>12</th>\n",
       "      <td>12</td>\n",
       "      <td>this</td>\n",
       "      <td>58637</td>\n",
       "      <td>54917.0</td>\n",
       "      <td>3720.0</td>\n",
       "      <td>0.063441</td>\n",
       "      <td>8.968124</td>\n",
       "      <td>-8.968124</td>\n",
       "    </tr>\n",
       "    <tr>\n",
       "      <th>13</th>\n",
       "      <td>13</td>\n",
       "      <td>not</td>\n",
       "      <td>56683</td>\n",
       "      <td>53371.0</td>\n",
       "      <td>3312.0</td>\n",
       "      <td>0.058430</td>\n",
       "      <td>11.059878</td>\n",
       "      <td>-11.059878</td>\n",
       "    </tr>\n",
       "    <tr>\n",
       "      <th>14</th>\n",
       "      <td>14</td>\n",
       "      <td>on</td>\n",
       "      <td>54120</td>\n",
       "      <td>50840.0</td>\n",
       "      <td>3280.0</td>\n",
       "      <td>0.060606</td>\n",
       "      <td>9.534586</td>\n",
       "      <td>-9.534586</td>\n",
       "    </tr>\n",
       "  </tbody>\n",
       "</table>\n",
       "</div>"
      ],
      "text/plain": [
       "    index token    freq  clean_freq  toxic_freq  toxic_rate  toxic_chisq_val  \\\n",
       "0       0   the  298601    284491.0     14110.0    0.047254        91.868962   \n",
       "1       1    to  178522    167827.0     10695.0    0.059909        32.516339   \n",
       "2       2    of  135454    127670.0      7784.0    0.057466        27.608489   \n",
       "3       3   and  134731    124032.0     10699.0    0.079410         7.108224   \n",
       "4       4     a  130904    116851.0     14053.0    0.107353         0.363730   \n",
       "5       5   you  125189    101073.0     24116.0    0.192637       104.722539   \n",
       "6       6     i  122894    109387.0     13507.0    0.109908         0.757814   \n",
       "7       7    is  106226     97459.0      8767.0    0.082532         4.170611   \n",
       "8       8  that   93514     88108.0      5406.0    0.057810        18.768183   \n",
       "9       9    in   87638     82970.0      4668.0    0.053265        21.380544   \n",
       "10     10    it   78412     73708.0      4704.0    0.059991        14.226542   \n",
       "11     11   for   62101     58843.0      3258.0    0.052463        15.651514   \n",
       "12     12  this   58637     54917.0      3720.0    0.063441         8.968124   \n",
       "13     13   not   56683     53371.0      3312.0    0.058430        11.059878   \n",
       "14     14    on   54120     50840.0      3280.0    0.060606         9.534586   \n",
       "\n",
       "    toxic_chisq_val_sign  \n",
       "0             -91.868962  \n",
       "1             -32.516339  \n",
       "2             -27.608489  \n",
       "3              -7.108224  \n",
       "4               0.363730  \n",
       "5             104.722539  \n",
       "6               0.757814  \n",
       "7              -4.170611  \n",
       "8             -18.768183  \n",
       "9             -21.380544  \n",
       "10            -14.226542  \n",
       "11            -15.651514  \n",
       "12             -8.968124  \n",
       "13            -11.059878  \n",
       "14             -9.534586  "
      ]
     },
     "execution_count": 352,
     "metadata": {},
     "output_type": "execute_result"
    }
   ],
   "source": [
    "print(\"Most frequent words:\")\n",
    "token_count.head(15)"
   ]
  },
  {
   "cell_type": "code",
   "execution_count": 353,
   "metadata": {},
   "outputs": [
    {
     "name": "stdout",
     "output_type": "stream",
     "text": [
      "Most toxic words:\n"
     ]
    },
    {
     "data": {
      "text/html": [
       "<div>\n",
       "<style>\n",
       "    .dataframe thead tr:only-child th {\n",
       "        text-align: right;\n",
       "    }\n",
       "\n",
       "    .dataframe thead th {\n",
       "        text-align: left;\n",
       "    }\n",
       "\n",
       "    .dataframe tbody tr th {\n",
       "        vertical-align: top;\n",
       "    }\n",
       "</style>\n",
       "<table border=\"1\" class=\"dataframe\">\n",
       "  <thead>\n",
       "    <tr style=\"text-align: right;\">\n",
       "      <th></th>\n",
       "      <th>index</th>\n",
       "      <th>token</th>\n",
       "      <th>freq</th>\n",
       "      <th>clean_freq</th>\n",
       "      <th>toxic_freq</th>\n",
       "      <th>toxic_rate</th>\n",
       "      <th>toxic_chisq_val</th>\n",
       "      <th>toxic_chisq_val_sign</th>\n",
       "    </tr>\n",
       "  </thead>\n",
       "  <tbody>\n",
       "    <tr>\n",
       "      <th>118</th>\n",
       "      <td>118</td>\n",
       "      <td>fuck</td>\n",
       "      <td>6301</td>\n",
       "      <td>45.0</td>\n",
       "      <td>6256.0</td>\n",
       "      <td>0.992858</td>\n",
       "      <td>510.597284</td>\n",
       "      <td>510.597284</td>\n",
       "    </tr>\n",
       "    <tr>\n",
       "      <th>225</th>\n",
       "      <td>225</td>\n",
       "      <td>nigger</td>\n",
       "      <td>3385</td>\n",
       "      <td>19.0</td>\n",
       "      <td>3366.0</td>\n",
       "      <td>0.994387</td>\n",
       "      <td>275.243554</td>\n",
       "      <td>275.243554</td>\n",
       "    </tr>\n",
       "    <tr>\n",
       "      <th>254</th>\n",
       "      <td>254</td>\n",
       "      <td>shit</td>\n",
       "      <td>2918</td>\n",
       "      <td>106.0</td>\n",
       "      <td>2812.0</td>\n",
       "      <td>0.963674</td>\n",
       "      <td>221.216872</td>\n",
       "      <td>221.216872</td>\n",
       "    </tr>\n",
       "    <tr>\n",
       "      <th>322</th>\n",
       "      <td>322</td>\n",
       "      <td>ass</td>\n",
       "      <td>2399</td>\n",
       "      <td>87.0</td>\n",
       "      <td>2312.0</td>\n",
       "      <td>0.963735</td>\n",
       "      <td>181.896711</td>\n",
       "      <td>181.896711</td>\n",
       "    </tr>\n",
       "    <tr>\n",
       "      <th>349</th>\n",
       "      <td>349</td>\n",
       "      <td>suck</td>\n",
       "      <td>2245</td>\n",
       "      <td>32.0</td>\n",
       "      <td>2213.0</td>\n",
       "      <td>0.985746</td>\n",
       "      <td>179.028458</td>\n",
       "      <td>179.028458</td>\n",
       "    </tr>\n",
       "    <tr>\n",
       "      <th>357</th>\n",
       "      <td>357</td>\n",
       "      <td>fucking</td>\n",
       "      <td>2195</td>\n",
       "      <td>26.0</td>\n",
       "      <td>2169.0</td>\n",
       "      <td>0.988155</td>\n",
       "      <td>175.996843</td>\n",
       "      <td>175.996843</td>\n",
       "    </tr>\n",
       "    <tr>\n",
       "      <th>400</th>\n",
       "      <td>400</td>\n",
       "      <td>penis</td>\n",
       "      <td>1996</td>\n",
       "      <td>47.0</td>\n",
       "      <td>1949.0</td>\n",
       "      <td>0.976453</td>\n",
       "      <td>155.841332</td>\n",
       "      <td>155.841332</td>\n",
       "    </tr>\n",
       "    <tr>\n",
       "      <th>395</th>\n",
       "      <td>395</td>\n",
       "      <td>die</td>\n",
       "      <td>2021</td>\n",
       "      <td>222.0</td>\n",
       "      <td>1799.0</td>\n",
       "      <td>0.890153</td>\n",
       "      <td>128.180539</td>\n",
       "      <td>128.180539</td>\n",
       "    </tr>\n",
       "    <tr>\n",
       "      <th>558</th>\n",
       "      <td>558</td>\n",
       "      <td>cunt</td>\n",
       "      <td>1315</td>\n",
       "      <td>11.0</td>\n",
       "      <td>1304.0</td>\n",
       "      <td>0.991635</td>\n",
       "      <td>106.267644</td>\n",
       "      <td>106.267644</td>\n",
       "    </tr>\n",
       "    <tr>\n",
       "      <th>5</th>\n",
       "      <td>5</td>\n",
       "      <td>you</td>\n",
       "      <td>125189</td>\n",
       "      <td>101073.0</td>\n",
       "      <td>24116.0</td>\n",
       "      <td>0.192637</td>\n",
       "      <td>104.722539</td>\n",
       "      <td>104.722539</td>\n",
       "    </tr>\n",
       "    <tr>\n",
       "      <th>551</th>\n",
       "      <td>551</td>\n",
       "      <td>pig</td>\n",
       "      <td>1342</td>\n",
       "      <td>35.0</td>\n",
       "      <td>1307.0</td>\n",
       "      <td>0.973920</td>\n",
       "      <td>104.172764</td>\n",
       "      <td>104.172764</td>\n",
       "    </tr>\n",
       "    <tr>\n",
       "      <th>616</th>\n",
       "      <td>616</td>\n",
       "      <td>bitch</td>\n",
       "      <td>1186</td>\n",
       "      <td>18.0</td>\n",
       "      <td>1168.0</td>\n",
       "      <td>0.984823</td>\n",
       "      <td>94.380541</td>\n",
       "      <td>94.380541</td>\n",
       "    </tr>\n",
       "    <tr>\n",
       "      <th>562</th>\n",
       "      <td>562</td>\n",
       "      <td>fat</td>\n",
       "      <td>1310</td>\n",
       "      <td>105.0</td>\n",
       "      <td>1205.0</td>\n",
       "      <td>0.919847</td>\n",
       "      <td>89.465495</td>\n",
       "      <td>89.465495</td>\n",
       "    </tr>\n",
       "    <tr>\n",
       "      <th>712</th>\n",
       "      <td>712</td>\n",
       "      <td>bark</td>\n",
       "      <td>1010</td>\n",
       "      <td>9.0</td>\n",
       "      <td>1001.0</td>\n",
       "      <td>0.991089</td>\n",
       "      <td>81.519868</td>\n",
       "      <td>81.519868</td>\n",
       "    </tr>\n",
       "    <tr>\n",
       "      <th>406</th>\n",
       "      <td>406</td>\n",
       "      <td>hate</td>\n",
       "      <td>1954</td>\n",
       "      <td>510.0</td>\n",
       "      <td>1444.0</td>\n",
       "      <td>0.738997</td>\n",
       "      <td>80.946394</td>\n",
       "      <td>80.946394</td>\n",
       "    </tr>\n",
       "    <tr>\n",
       "      <th>661</th>\n",
       "      <td>661</td>\n",
       "      <td>bullshit</td>\n",
       "      <td>1098</td>\n",
       "      <td>72.0</td>\n",
       "      <td>1026.0</td>\n",
       "      <td>0.934426</td>\n",
       "      <td>77.684828</td>\n",
       "      <td>77.684828</td>\n",
       "    </tr>\n",
       "    <tr>\n",
       "      <th>214</th>\n",
       "      <td>214</td>\n",
       "      <td>u</td>\n",
       "      <td>3544</td>\n",
       "      <td>1548.0</td>\n",
       "      <td>1996.0</td>\n",
       "      <td>0.563205</td>\n",
       "      <td>76.950102</td>\n",
       "      <td>76.950102</td>\n",
       "    </tr>\n",
       "    <tr>\n",
       "      <th>734</th>\n",
       "      <td>734</td>\n",
       "      <td>balls</td>\n",
       "      <td>977</td>\n",
       "      <td>58.0</td>\n",
       "      <td>919.0</td>\n",
       "      <td>0.940635</td>\n",
       "      <td>70.159023</td>\n",
       "      <td>70.159023</td>\n",
       "    </tr>\n",
       "    <tr>\n",
       "      <th>880</th>\n",
       "      <td>880</td>\n",
       "      <td>wanker</td>\n",
       "      <td>780</td>\n",
       "      <td>3.0</td>\n",
       "      <td>777.0</td>\n",
       "      <td>0.996154</td>\n",
       "      <td>63.675355</td>\n",
       "      <td>63.675355</td>\n",
       "    </tr>\n",
       "    <tr>\n",
       "      <th>732</th>\n",
       "      <td>732</td>\n",
       "      <td>dick</td>\n",
       "      <td>979</td>\n",
       "      <td>98.0</td>\n",
       "      <td>881.0</td>\n",
       "      <td>0.899898</td>\n",
       "      <td>63.637546</td>\n",
       "      <td>63.637546</td>\n",
       "    </tr>\n",
       "  </tbody>\n",
       "</table>\n",
       "</div>"
      ],
      "text/plain": [
       "     index     token    freq  clean_freq  toxic_freq  toxic_rate  \\\n",
       "118    118      fuck    6301        45.0      6256.0    0.992858   \n",
       "225    225    nigger    3385        19.0      3366.0    0.994387   \n",
       "254    254      shit    2918       106.0      2812.0    0.963674   \n",
       "322    322       ass    2399        87.0      2312.0    0.963735   \n",
       "349    349      suck    2245        32.0      2213.0    0.985746   \n",
       "357    357   fucking    2195        26.0      2169.0    0.988155   \n",
       "400    400     penis    1996        47.0      1949.0    0.976453   \n",
       "395    395       die    2021       222.0      1799.0    0.890153   \n",
       "558    558      cunt    1315        11.0      1304.0    0.991635   \n",
       "5        5       you  125189    101073.0     24116.0    0.192637   \n",
       "551    551       pig    1342        35.0      1307.0    0.973920   \n",
       "616    616     bitch    1186        18.0      1168.0    0.984823   \n",
       "562    562       fat    1310       105.0      1205.0    0.919847   \n",
       "712    712      bark    1010         9.0      1001.0    0.991089   \n",
       "406    406      hate    1954       510.0      1444.0    0.738997   \n",
       "661    661  bullshit    1098        72.0      1026.0    0.934426   \n",
       "214    214         u    3544      1548.0      1996.0    0.563205   \n",
       "734    734     balls     977        58.0       919.0    0.940635   \n",
       "880    880    wanker     780         3.0       777.0    0.996154   \n",
       "732    732      dick     979        98.0       881.0    0.899898   \n",
       "\n",
       "     toxic_chisq_val  toxic_chisq_val_sign  \n",
       "118       510.597284            510.597284  \n",
       "225       275.243554            275.243554  \n",
       "254       221.216872            221.216872  \n",
       "322       181.896711            181.896711  \n",
       "349       179.028458            179.028458  \n",
       "357       175.996843            175.996843  \n",
       "400       155.841332            155.841332  \n",
       "395       128.180539            128.180539  \n",
       "558       106.267644            106.267644  \n",
       "5         104.722539            104.722539  \n",
       "551       104.172764            104.172764  \n",
       "616        94.380541             94.380541  \n",
       "562        89.465495             89.465495  \n",
       "712        81.519868             81.519868  \n",
       "406        80.946394             80.946394  \n",
       "661        77.684828             77.684828  \n",
       "214        76.950102             76.950102  \n",
       "734        70.159023             70.159023  \n",
       "880        63.675355             63.675355  \n",
       "732        63.637546             63.637546  "
      ]
     },
     "execution_count": 353,
     "metadata": {},
     "output_type": "execute_result"
    }
   ],
   "source": [
    "print(\"Most toxic words:\")\n",
    "token_count.sort_values('toxic_chisq_val_sign',ascending=False).head(20)"
   ]
  },
  {
   "cell_type": "code",
   "execution_count": 403,
   "metadata": {},
   "outputs": [
    {
     "data": {
      "text/plain": [
       "(0, 0.0002)"
      ]
     },
     "execution_count": 403,
     "metadata": {},
     "output_type": "execute_result"
    },
    {
     "data": {
      "image/png": "[encoded data removed]",
      "text/plain": [
       "<matplotlib.figure.Figure at 0x137c0d7b8>"
      ]
     },
     "metadata": {},
     "output_type": "display_data"
    }
   ],
   "source": [
    "plt.figure(figsize=(16, 8))\n",
    "plt.subplot(121)\n",
    "plt.plot(token_count['index'],token_count['freq'],linestyle='--', marker='o')\n",
    "plt.xlim([-2,100])\n",
    "plt.xlabel('word rank')\n",
    "plt.ylabel('word frequency')\n",
    "plt.subplot(122)\n",
    "n, bins, patches = plt.hist(token_count['toxic_chisq_val'], 300, normed=1, \\\n",
    "                            facecolor='green', alpha=0.7)\n",
    "plt.xlim([6,540])\n",
    "plt.ylim([0,0.0002])"
   ]
  },
  {
   "cell_type": "code",
   "execution_count": 355,
   "metadata": {},
   "outputs": [
    {
     "data": {
      "text/plain": [
       "0.0081086955549402422"
      ]
     },
     "execution_count": 355,
     "metadata": {},
     "output_type": "execute_result"
    }
   ],
   "source": [
    "from scipy.stats import chi2\n",
    "chi2.pdf(6, 1, loc=0, scale=1)"
   ]
  },
  {
   "cell_type": "code",
   "execution_count": 359,
   "metadata": {},
   "outputs": [
    {
     "data": {
      "text/plain": [
       "(233, 8)"
      ]
     },
     "execution_count": 359,
     "metadata": {},
     "output_type": "execute_result"
    }
   ],
   "source": [
    "token_count[token_count['toxic_chisq_val']>5].shape"
   ]
  },
  {
   "cell_type": "code",
   "execution_count": 391,
   "metadata": {
    "collapsed": true
   },
   "outputs": [],
   "source": [
    "# token_count[token_count['toxic_chisq_val_sign']>3]\\\n",
    "#       .sort_values('toxic_chisq_val_sign',ascending=False)\\\n",
    "#       [['token','freq','toxic_chisq_val_sign']]"
   ]
  },
  {
   "cell_type": "markdown",
   "metadata": {},
   "source": [
    "### Topic modeling\n",
    "\n",
    "Try out some simple topic modeling and classification models based on them as a first attempt at things"
   ]
  },
  {
   "cell_type": "code",
   "execution_count": 151,
   "metadata": {
    "collapsed": true
   },
   "outputs": [],
   "source": [
    "# convert token dictionaries into sparse matrix\n",
    "v = DictVectorizer()\n",
    "v.fit(token_comment_dicts)\n",
    "X = v.transform(token_comment_dicts)"
   ]
  },
  {
   "cell_type": "code",
   "execution_count": 150,
   "metadata": {
    "collapsed": true
   },
   "outputs": [],
   "source": [
    "# feature_names = v.get_feature_names()\n",
    "# feature_names[0:30]"
   ]
  },
  {
   "cell_type": "code",
   "execution_count": 410,
   "metadata": {},
   "outputs": [
    {
     "data": {
      "text/plain": [
       "(95851, 152074)"
      ]
     },
     "execution_count": 410,
     "metadata": {},
     "output_type": "execute_result"
    }
   ],
   "source": [
    "# TF-IDF transformation on sparse matrix\n",
    "tfidf = TfidfTransformer().fit_transform(X)\n",
    "tfidf.shape"
   ]
  },
  {
   "cell_type": "code",
   "execution_count": 422,
   "metadata": {
    "collapsed": true
   },
   "outputs": [],
   "source": [
    "# non-negative matrix factorization\n",
    "nmf_fit = NMF(n_components=100).fit(X=tfidf)"
   ]
  },
  {
   "cell_type": "code",
   "execution_count": 423,
   "metadata": {
    "collapsed": true
   },
   "outputs": [],
   "source": [
    "nmf_topics = nmf_fit.transform(tfidf)"
   ]
  },
  {
   "cell_type": "code",
   "execution_count": 424,
   "metadata": {},
   "outputs": [
    {
     "data": {
      "text/plain": [
       "(95851, 100)"
      ]
     },
     "execution_count": 424,
     "metadata": {},
     "output_type": "execute_result"
    }
   ],
   "source": [
    "nmf_topics.shape"
   ]
  },
  {
   "cell_type": "code",
   "execution_count": 427,
   "metadata": {},
   "outputs": [
    {
     "data": {
      "text/plain": [
       "0.10213769287748693"
      ]
     },
     "execution_count": 427,
     "metadata": {},
     "output_type": "execute_result"
    }
   ],
   "source": [
    "y = 1-clean_comment\n",
    "np.mean(y)"
   ]
  },
  {
   "cell_type": "markdown",
   "metadata": {},
   "source": [
    "#### Try L1 logistic regression on topics to see if they are predictive"
   ]
  },
  {
   "cell_type": "code",
   "execution_count": 430,
   "metadata": {
    "collapsed": true
   },
   "outputs": [],
   "source": [
    "lasso_lr = LogisticRegression(penalty='l1')"
   ]
  },
  {
   "cell_type": "code",
   "execution_count": 431,
   "metadata": {},
   "outputs": [
    {
     "data": {
      "text/plain": [
       "LogisticRegression(C=1.0, class_weight=None, dual=False, fit_intercept=True,\n",
       "          intercept_scaling=1, max_iter=100, multi_class='ovr', n_jobs=1,\n",
       "          penalty='l1', random_state=None, solver='liblinear', tol=0.0001,\n",
       "          verbose=0, warm_start=False)"
      ]
     },
     "execution_count": 431,
     "metadata": {},
     "output_type": "execute_result"
    }
   ],
   "source": [
    "lasso_lr.fit(X=nmf_topics,y=y)"
   ]
  },
  {
   "cell_type": "code",
   "execution_count": 149,
   "metadata": {
    "collapsed": true
   },
   "outputs": [],
   "source": [
    "# for i in range(100):\n",
    "#     print(i,lasso_lr.coef_[0][i])"
   ]
  },
  {
   "cell_type": "code",
   "execution_count": 441,
   "metadata": {
    "collapsed": true
   },
   "outputs": [],
   "source": [
    "def print_top_words(model, feature_names, n_top_words):\n",
    "    for topic_idx,topic in enumerate(model.components_):\n",
    "        message = \"Topic #%d: \" % topic_idx\n",
    "        message += \" \".join([feature_names[i]\n",
    "                             for i in topic.argsort()[:-n_top_words - 1:-1]])\n",
    "        print(message)\n",
    "    print()"
   ]
  },
  {
   "cell_type": "code",
   "execution_count": 148,
   "metadata": {
    "collapsed": true
   },
   "outputs": [],
   "source": [
    "#print_top_words(nmf_fit,feature_names,10)"
   ]
  },
  {
   "cell_type": "code",
   "execution_count": 452,
   "metadata": {
    "collapsed": true
   },
   "outputs": [],
   "source": [
    "predict=lasso_lr.predict_proba(nmf_topics)[:,1]"
   ]
  },
  {
   "cell_type": "code",
   "execution_count": 453,
   "metadata": {},
   "outputs": [
    {
     "data": {
      "image/png": "[encoded data removed]",
      "text/plain": [
       "<matplotlib.figure.Figure at 0x138390c88>"
      ]
     },
     "metadata": {},
     "output_type": "display_data"
    }
   ],
   "source": [
    "n, bins, patches = plt.hist(predict, 100, normed=1, facecolor='green', alpha=0.7)"
   ]
  },
  {
   "cell_type": "code",
   "execution_count": 461,
   "metadata": {},
   "outputs": [
    {
     "name": "stdout",
     "output_type": "stream",
     "text": [
      "0.168428675779\n",
      "0.930952312028\n"
     ]
    }
   ],
   "source": [
    "print(log_loss(y,predict))\n",
    "print(roc_auc_score(y,predict))"
   ]
  },
  {
   "cell_type": "code",
   "execution_count": 463,
   "metadata": {},
   "outputs": [
    {
     "data": {
      "text/plain": [
       "GradientBoostingClassifier(criterion='friedman_mse', init=None,\n",
       "              learning_rate=0.1, loss='deviance', max_depth=12,\n",
       "              max_features=None, max_leaf_nodes=None,\n",
       "              min_impurity_split=1e-07, min_samples_leaf=1,\n",
       "              min_samples_split=2, min_weight_fraction_leaf=0.0,\n",
       "              n_estimators=100, presort='auto', random_state=None,\n",
       "              subsample=0.5, verbose=0, warm_start=False)"
      ]
     },
     "execution_count": 463,
     "metadata": {},
     "output_type": "execute_result"
    }
   ],
   "source": [
    "gbm = GradientBoostingClassifier(n_estimators=100, subsample=.5,max_depth=12)\n",
    "gbm.fit(X=nmf_topics,y=y)"
   ]
  },
  {
   "cell_type": "code",
   "execution_count": 464,
   "metadata": {
    "collapsed": true
   },
   "outputs": [],
   "source": [
    "gbm_predict = gbm.predict_proba(nmf_topics)[:,1]"
   ]
  },
  {
   "cell_type": "code",
   "execution_count": 466,
   "metadata": {},
   "outputs": [
    {
     "data": {
      "image/png": "[encoded data removed]",
      "text/plain": [
       "<matplotlib.figure.Figure at 0x147ad7a20>"
      ]
     },
     "metadata": {},
     "output_type": "display_data"
    }
   ],
   "source": [
    "n, bins, patches = plt.hist(gbm_predict, 100, normed=1, facecolor='green', alpha=0.7)"
   ]
  },
  {
   "cell_type": "code",
   "execution_count": 465,
   "metadata": {},
   "outputs": [
    {
     "name": "stdout",
     "output_type": "stream",
     "text": [
      "0.0508589239589\n",
      "0.996387971907\n"
     ]
    }
   ],
   "source": [
    "print(log_loss(y,gbm_predict))\n",
    "print(roc_auc_score(y,gbm_predict))"
   ]
  },
  {
   "cell_type": "code",
   "execution_count": 469,
   "metadata": {
    "collapsed": true
   },
   "outputs": [],
   "source": [
    "multilabel_rf = RandomForestClassifier(n_estimators=100,n_jobs=-1,verbose=1)"
   ]
  },
  {
   "cell_type": "code",
   "execution_count": 486,
   "metadata": {},
   "outputs": [
    {
     "name": "stderr",
     "output_type": "stream",
     "text": [
      "[Parallel(n_jobs=-1)]: Done  42 tasks      | elapsed:   21.6s\n",
      "[Parallel(n_jobs=-1)]: Done 100 out of 100 | elapsed:   48.9s finished\n"
     ]
    },
    {
     "data": {
      "text/plain": [
       "RandomForestClassifier(bootstrap=True, class_weight=None, criterion='gini',\n",
       "            max_depth=None, max_features='auto', max_leaf_nodes=None,\n",
       "            min_impurity_split=1e-07, min_samples_leaf=1,\n",
       "            min_samples_split=2, min_weight_fraction_leaf=0.0,\n",
       "            n_estimators=100, n_jobs=-1, oob_score=False,\n",
       "            random_state=None, verbose=1, warm_start=False)"
      ]
     },
     "execution_count": 486,
     "metadata": {},
     "output_type": "execute_result"
    }
   ],
   "source": [
    "multilabel_rf.fit(X=nmf_topics,y=np.array(labels))"
   ]
  },
  {
   "cell_type": "code",
   "execution_count": 487,
   "metadata": {},
   "outputs": [
    {
     "name": "stderr",
     "output_type": "stream",
     "text": [
      "[Parallel(n_jobs=4)]: Done  42 tasks      | elapsed:    0.9s\n",
      "[Parallel(n_jobs=4)]: Done 100 out of 100 | elapsed:    2.3s finished\n"
     ]
    }
   ],
   "source": [
    "rf_predict = multilabel_rf.predict_proba(nmf_topics)"
   ]
  },
  {
   "cell_type": "code",
   "execution_count": 524,
   "metadata": {},
   "outputs": [
    {
     "data": {
      "text/plain": [
       "(6, 95851, 2)"
      ]
     },
     "execution_count": 524,
     "metadata": {},
     "output_type": "execute_result"
    }
   ],
   "source": [
    "rf_predict0 = np.array(rf_predict)\n",
    "rf_predict0.shape"
   ]
  },
  {
   "cell_type": "code",
   "execution_count": 525,
   "metadata": {},
   "outputs": [
    {
     "data": {
      "text/plain": [
       "(95851, 6)"
      ]
     },
     "execution_count": 525,
     "metadata": {},
     "output_type": "execute_result"
    }
   ],
   "source": [
    "rf_predict0 = rf_predict0[:,:,1].T\n",
    "rf_predict0.shape"
   ]
  },
  {
   "cell_type": "code",
   "execution_count": 526,
   "metadata": {},
   "outputs": [
    {
     "data": {
      "text/plain": [
       "array([[ 0.78,  0.02,  0.06,  0.  ,  0.06,  0.01],\n",
       "       [ 0.01,  0.  ,  0.01,  0.  ,  0.01,  0.  ],\n",
       "       [ 0.01,  0.  ,  0.  ,  0.  ,  0.  ,  0.  ],\n",
       "       [ 0.05,  0.  ,  0.01,  0.  ,  0.03,  0.  ],\n",
       "       [ 0.  ,  0.  ,  0.  ,  0.  ,  0.  ,  0.  ],\n",
       "       [ 0.02,  0.  ,  0.  ,  0.  ,  0.01,  0.  ],\n",
       "       [ 0.07,  0.  ,  0.02,  0.  ,  0.04,  0.  ],\n",
       "       [ 0.2 ,  0.  ,  0.1 ,  0.01,  0.09,  0.01],\n",
       "       [ 0.  ,  0.  ,  0.01,  0.  ,  0.01,  0.  ],\n",
       "       [ 0.  ,  0.  ,  0.  ,  0.  ,  0.  ,  0.  ]])"
      ]
     },
     "execution_count": 526,
     "metadata": {},
     "output_type": "execute_result"
    }
   ],
   "source": [
    "rf_predict0[0:10]"
   ]
  },
  {
   "cell_type": "code",
   "execution_count": 533,
   "metadata": {
    "collapsed": true
   },
   "outputs": [],
   "source": [
    "def mean_logloss(obs_y,predict_y):\n",
    "    predict_y0 = copy.copy(predict_y)\n",
    "    predict_y0[predict_y0==0] = 10e10\n",
    "    predict_y0[predict_y0==1] = 1-10e10\n",
    "    return np.mean(np.multiply(np.log(predict_y0),obs_y))"
   ]
  },
  {
   "cell_type": "code",
   "execution_count": 534,
   "metadata": {},
   "outputs": [
    {
     "name": "stderr",
     "output_type": "stream",
     "text": [
      "/Users/ChadMorgan/anaconda/lib/python3.6/site-packages/ipykernel_launcher.py:5: RuntimeWarning: invalid value encountered in log\n",
      "  \"\"\"\n"
     ]
    },
    {
     "data": {
      "text/plain": [
       "nan"
      ]
     },
     "execution_count": 534,
     "metadata": {},
     "output_type": "execute_result"
    }
   ],
   "source": [
    "mean_logloss(np.array(labels),rf_predict0)"
   ]
  },
  {
   "cell_type": "code",
   "execution_count": 535,
   "metadata": {},
   "outputs": [
    {
     "name": "stderr",
     "output_type": "stream",
     "text": [
      "/Users/ChadMorgan/anaconda/lib/python3.6/site-packages/ipykernel_launcher.py:3: RuntimeWarning: invalid value encountered in log\n",
      "  This is separate from the ipykernel package so we can avoid doing imports until\n",
      "/Users/ChadMorgan/anaconda/lib/python3.6/site-packages/ipykernel_launcher.py:4: RuntimeWarning: invalid value encountered in log\n",
      "  after removing the cwd from sys.path.\n"
     ]
    },
    {
     "data": {
      "text/plain": [
       "nan"
      ]
     },
     "execution_count": 535,
     "metadata": {},
     "output_type": "execute_result"
    }
   ],
   "source": [
    "rf_predict0[rf_predict0==0] = 10e10\n",
    "rf_predict0[rf_predict0==1] = 1-10e10\n",
    "np.log(rf_predict0)\n",
    "np.mean(np.multiply(np.log(rf_predict0),np.array(labels)))"
   ]
  },
  {
   "cell_type": "code",
   "execution_count": 543,
   "metadata": {},
   "outputs": [
    {
     "name": "stderr",
     "output_type": "stream",
     "text": [
      "/Users/ChadMorgan/anaconda/lib/python3.6/site-packages/ipykernel_launcher.py:3: RuntimeWarning: invalid value encountered in log\n",
      "  This is separate from the ipykernel package so we can avoid doing imports until\n"
     ]
    },
    {
     "data": {
      "text/plain": [
       "(95851, 6)"
      ]
     },
     "execution_count": 543,
     "metadata": {},
     "output_type": "execute_result"
    }
   ],
   "source": [
    "rf_predict0[rf_predict0==0] = 10e5\n",
    "rf_predict0[rf_predict0==1] = 1-10e5\n",
    "(np.log(rf_predict0)*np.array(labels)).shape"
   ]
  },
  {
   "cell_type": "markdown",
   "metadata": {},
   "source": [
    "#### Try a submission with our simple topic-based model"
   ]
  },
  {
   "cell_type": "code",
   "execution_count": 12,
   "metadata": {
    "collapsed": true
   },
   "outputs": [],
   "source": [
    "testdat = pd.read_csv('test.csv')\n",
    "print(testdat.shape)\n",
    "testdat.head()"
   ]
  },
  {
   "cell_type": "code",
   "execution_count": 153,
   "metadata": {},
   "outputs": [
    {
     "name": "stdout",
     "output_type": "stream",
     "text": [
      "52300 nan\n"
     ]
    }
   ],
   "source": [
    "test_comments0 = testdat['comment_text'].tolist()\n",
    "test_comments = copy.copy(test_comments0)\n",
    "test_comment_dicts = []\n",
    "for i in range(len(test_comments)):\n",
    "    if type(test_comments[i]) is float:\n",
    "        print(i,test_comments[i])\n",
    "        test_comments[i]=[]\n",
    "    else:\n",
    "        test_comments[i] = re.sub(\"\\n\",' ',test_comments[i])\n",
    "        test_comments[i] = re.sub(\"\\t\",' ',test_comments[i])\n",
    "        test_comments[i] = re.sub(\"[^A-Za-z'\\*\\- ]\",' ',test_comments[i])\n",
    "        test_comments[i] = re.sub(\" +\",' ',test_comments[i])\n",
    "        test_comments[i] = re.sub(\"'+\",\"'\",test_comments[i])    \n",
    "        test_comments[i] = re.sub(\"\\*+\",\"\\*\",test_comments[i])   \n",
    "        test_comments[i] = re.sub(\"\\-+\",\"\\-\",test_comments[i])\n",
    "        test_comments[i] = test_comments[i].lower().strip()\n",
    "        test_comments[i] = test_comments[i].split(' ')\n",
    "        line_dict = {}\n",
    "        line_set = set()\n",
    "        for token in test_comments[i]:        \n",
    "            if token in line_set:\n",
    "                line_dict[token]+=1\n",
    "            else:\n",
    "                line_set.add(token)\n",
    "                line_dict[token]=1\n",
    "        test_comment_dicts.append(line_dict)"
   ]
  },
  {
   "cell_type": "code",
   "execution_count": 20,
   "metadata": {},
   "outputs": [
    {
     "data": {
      "text/plain": [
       "226998"
      ]
     },
     "execution_count": 20,
     "metadata": {},
     "output_type": "execute_result"
    }
   ],
   "source": [
    "len(test_comments)"
   ]
  },
  {
   "cell_type": "code",
   "execution_count": null,
   "metadata": {
    "collapsed": true
   },
   "outputs": [],
   "source": [
    "#### Topic modeling on full dataset\n",
    "- Should refit topic model on all the data rather than just train\n",
    "- This is unsupervised so it should be fine to include test data, which is larger"
   ]
  },
  {
   "cell_type": "code",
   "execution_count": 154,
   "metadata": {
    "collapsed": true
   },
   "outputs": [],
   "source": [
    "full_X = v.transform(token_comment_dicts + test_comment_dicts)"
   ]
  },
  {
   "cell_type": "code",
   "execution_count": 156,
   "metadata": {
    "collapsed": true
   },
   "outputs": [],
   "source": [
    "tfidf_trans = TfidfTransformer()\n",
    "tfidf_trans.fit(full_X)\n",
    "full_tfidf = tfidf_trans.transform(full_X)"
   ]
  },
  {
   "cell_type": "code",
   "execution_count": null,
   "metadata": {
    "collapsed": true
   },
   "outputs": [],
   "source": [
    "# non-negative matrix factorization\n",
    "nmf_fit = NMF(n_components=100).fit(X=full_tfidf)"
   ]
  },
  {
   "cell_type": "code",
   "execution_count": null,
   "metadata": {
    "collapsed": true
   },
   "outputs": [],
   "source": [
    "nmf_topics = nmf_fit.transform(tfidf)"
   ]
  },
  {
   "cell_type": "code",
   "execution_count": null,
   "metadata": {
    "collapsed": true
   },
   "outputs": [],
   "source": [
    "test_X = v.transform(token_comment_dicts)\n",
    "test_tfidf = TfidfTransformer().fit_transform(test_X)\n",
    "#test_nmf_topics = nmf_fit.transform(test_tfidf)"
   ]
  },
  {
   "cell_type": "markdown",
   "metadata": {},
   "source": [
    "### Word Embeddings via gensim"
   ]
  },
  {
   "cell_type": "code",
   "execution_count": 10,
   "metadata": {
    "collapsed": true
   },
   "outputs": [],
   "source": [
    "comments=full_train['comment_text'].tolist()\n",
    "tokenized_comments = copy.copy(comments)\n",
    "for i in range(len(tokenized_comments)):\n",
    "    tokenized_comments[i] = re.sub(\"\\n\",' ',tokenized_comments[i])\n",
    "    tokenized_comments[i] = re.sub(\"\\t\",' ',tokenized_comments[i])\n",
    "    tokenized_comments[i] = re.sub(\"[^A-Za-z'\\*\\- ]\",' ',tokenized_comments[i])\n",
    "    tokenized_comments[i] = re.sub(\" +\",' ',tokenized_comments[i])\n",
    "    tokenized_comments[i] = re.sub(\"'+\",\"'\",tokenized_comments[i])    \n",
    "    tokenized_comments[i] = re.sub(\"\\*+\",\"\\*\",tokenized_comments[i])   \n",
    "    tokenized_comments[i] = re.sub(\"\\-+\",\"\\-\",tokenized_comments[i])\n",
    "    tokenized_comments[i] = tokenized_comments[i].lower().strip()\n",
    "    tokenized_comments[i] = tokenized_comments[i].split(' ')"
   ]
  },
  {
   "cell_type": "code",
   "execution_count": 21,
   "metadata": {
    "collapsed": true
   },
   "outputs": [],
   "source": [
    "# with unsupervised learning such as word embeddings we can combine the train and test sets\n",
    "combined_comments = tokenized_comments + test_comments "
   ]
  },
  {
   "cell_type": "code",
   "execution_count": 22,
   "metadata": {},
   "outputs": [
    {
     "name": "stdout",
     "output_type": "stream",
     "text": [
      "226998\n",
      "95851\n",
      "322849\n"
     ]
    }
   ],
   "source": [
    "print(len(test_comments))\n",
    "print(len(tokenized_comments))\n",
    "print(len(combined_comments))"
   ]
  },
  {
   "cell_type": "code",
   "execution_count": 139,
   "metadata": {},
   "outputs": [
    {
     "name": "stdout",
     "output_type": "stream",
     "text": [
      "14817\n",
      "0.09743282875442219\n",
      "0.950883368023\n"
     ]
    }
   ],
   "source": [
    "min_token_freq = 15\n",
    "num_unique_tokens = token_count[token_count['freq']>=min_token_freq].shape[0]\n",
    "print(num_unique_tokens)\n",
    "print(num_unique_tokens/len(token_dict.keys()))\n",
    "print(sum(token_count[token_count['freq']>=min_token_freq]['freq']/sum(token_count['freq'])))"
   ]
  },
  {
   "cell_type": "code",
   "execution_count": 112,
   "metadata": {
    "collapsed": true
   },
   "outputs": [],
   "source": [
    "model = gensim.models.Word2Vec(size=50, window=7, min_count=15,iter=10,sg=1,workers=4)"
   ]
  },
  {
   "cell_type": "code",
   "execution_count": 113,
   "metadata": {
    "collapsed": true
   },
   "outputs": [],
   "source": [
    "model.build_vocab(combined_comments)"
   ]
  },
  {
   "cell_type": "code",
   "execution_count": 114,
   "metadata": {},
   "outputs": [
    {
     "data": {
      "text/plain": [
       "31293"
      ]
     },
     "execution_count": 114,
     "metadata": {},
     "output_type": "execute_result"
    }
   ],
   "source": [
    "len(model.wv.vocab)"
   ]
  },
  {
   "cell_type": "code",
   "execution_count": 115,
   "metadata": {},
   "outputs": [
    {
     "data": {
      "text/plain": [
       "172826635"
      ]
     },
     "execution_count": 115,
     "metadata": {},
     "output_type": "execute_result"
    }
   ],
   "source": [
    "model.train(combined_comments,total_examples=model.corpus_count,epochs=model.iter)"
   ]
  },
  {
   "cell_type": "code",
   "execution_count": 116,
   "metadata": {
    "collapsed": true
   },
   "outputs": [],
   "source": [
    "model.save(\"wiki_comment_word2vec\")"
   ]
  },
  {
   "cell_type": "code",
   "execution_count": 117,
   "metadata": {},
   "outputs": [
    {
     "data": {
      "text/plain": [
       "[('spamming', 0.759528398513794),\n",
       " ('inappropriate', 0.7465755343437195),\n",
       " ('linkfarm', 0.74321049451828),\n",
       " ('advertising', 0.7209452390670776),\n",
       " ('promotion', 0.7063705325126648),\n",
       " ('misinformation', 0.7014890909194946),\n",
       " ('spammer', 0.6812227964401245),\n",
       " ('self\\\\-promotion', 0.68116694688797),\n",
       " ('vehicle', 0.6739222407341003),\n",
       " ('links', 0.6724534630775452)]"
      ]
     },
     "execution_count": 117,
     "metadata": {},
     "output_type": "execute_result"
    }
   ],
   "source": [
    "model.wv.most_similar(positive=['spam'])"
   ]
  },
  {
   "cell_type": "code",
   "execution_count": 118,
   "metadata": {},
   "outputs": [
    {
     "data": {
      "text/plain": [
       "[('vandalize', 0.8179588317871094),\n",
       " ('vandalising', 0.7867379188537598),\n",
       " ('vandalizing', 0.7844653725624084),\n",
       " ('continue', 0.7751064896583557),\n",
       " ('blocked', 0.7681029438972473),\n",
       " (\"will'\", 0.7350543737411499),\n",
       " ('blocking', 0.7204157710075378),\n",
       " ('disruptive', 0.7179380655288696),\n",
       " ('vandilism', 0.7021838426589966),\n",
       " ('stop', 0.6999066472053528)]"
      ]
     },
     "execution_count": 118,
     "metadata": {},
     "output_type": "execute_result"
    }
   ],
   "source": [
    "model.wv.most_similar(positive=['vandalise'])"
   ]
  },
  {
   "cell_type": "code",
   "execution_count": 119,
   "metadata": {},
   "outputs": [
    {
     "data": {
      "text/plain": [
       "[('wiki', 0.827539324760437),\n",
       " ('link', 0.7889859080314636),\n",
       " ('you', 0.6202805638313293),\n",
       " ('policy', 0.6109753847122192),\n",
       " ('please', 0.6063942909240723),\n",
       " ('page', 0.6039745211601257),\n",
       " ('to', 0.5953031778335571),\n",
       " ('articles', 0.5935777425765991),\n",
       " ('use', 0.5805928111076355),\n",
       " ('freplyspang', 0.5775981545448303)]"
      ]
     },
     "execution_count": 119,
     "metadata": {},
     "output_type": "execute_result"
    }
   ],
   "source": [
    "model.wv.most_similar(positive=['wikipedia'])"
   ]
  },
  {
   "cell_type": "code",
   "execution_count": 120,
   "metadata": {},
   "outputs": [
    {
     "data": {
      "text/plain": [
       "[('if', 0.7749486565589905),\n",
       " ('i', 0.7219581604003906),\n",
       " ('\\\\*you', 0.7202538251876831),\n",
       " ('freplyspang', 0.6731392741203308),\n",
       " ('to', 0.6446644067764282),\n",
       " ('this', 0.6445660591125488),\n",
       " ('please', 0.6427567601203918),\n",
       " ('wikipedia', 0.6202805042266846),\n",
       " ('want', 0.6139556765556335),\n",
       " ('do', 0.6123207807540894)]"
      ]
     },
     "execution_count": 120,
     "metadata": {},
     "output_type": "execute_result"
    }
   ],
   "source": [
    "model.wv.most_similar(positive=['you'])"
   ]
  },
  {
   "cell_type": "code",
   "execution_count": 144,
   "metadata": {},
   "outputs": [
    {
     "data": {
      "text/plain": [
       "[('homophobic', 0.8554118275642395),\n",
       " ('misogynistic', 0.8300203084945679),\n",
       " ('homophobe', 0.8233377933502197),\n",
       " ('racist', 0.8169455528259277),\n",
       " ('stereotyping', 0.796703577041626),\n",
       " ('slurs', 0.7959371209144592),\n",
       " ('anti\\\\-semetic', 0.7915410399436951),\n",
       " ('raving', 0.7762748003005981),\n",
       " ('ignorant', 0.7721282243728638),\n",
       " ('slur', 0.7623776793479919)]"
      ]
     },
     "execution_count": 144,
     "metadata": {},
     "output_type": "execute_result"
    }
   ],
   "source": [
    "model.wv.most_similar(positive=['sexist'])"
   ]
  },
  {
   "cell_type": "code",
   "execution_count": 145,
   "metadata": {},
   "outputs": [
    {
     "data": {
      "text/plain": [
       "[('nerd', 0.7926405072212219),\n",
       " ('dork', 0.789850115776062),\n",
       " ('f\\\\*cking', 0.7774613499641418),\n",
       " ('whoop', 0.7516065239906311),\n",
       " ('nerds', 0.7490488290786743),\n",
       " ('motherfucker', 0.7446703910827637),\n",
       " ('weeaboo', 0.7423754930496216),\n",
       " ('asshole', 0.7410081624984741),\n",
       " ('awesome', 0.7408780455589294),\n",
       " ('inbred', 0.7375519871711731)]"
      ]
     },
     "execution_count": 145,
     "metadata": {},
     "output_type": "execute_result"
    }
   ],
   "source": [
    "model.wv.most_similar(positive=['geek'])"
   ]
  },
  {
   "cell_type": "code",
   "execution_count": 130,
   "metadata": {},
   "outputs": [
    {
     "data": {
      "text/plain": [
       "[('anal', 0.8929529190063477),\n",
       " ('molestation', 0.7554458975791931),\n",
       " ('murder', 0.7532585859298706),\n",
       " ('homosexual', 0.7384670972824097),\n",
       " ('mutilation', 0.733931839466095),\n",
       " ('adultery', 0.7080392241477966),\n",
       " ('crime', 0.7051728367805481),\n",
       " ('incest', 0.7027655839920044),\n",
       " ('sex', 0.6951019763946533),\n",
       " ('robbery', 0.6928032040596008)]"
      ]
     },
     "execution_count": 130,
     "metadata": {},
     "output_type": "execute_result"
    }
   ],
   "source": [
    "model.wv.most_similar(positive=['rape'])"
   ]
  },
  {
   "cell_type": "code",
   "execution_count": 122,
   "metadata": {},
   "outputs": [
    {
     "data": {
      "text/plain": [
       "[('edie', 0.8378049731254578),\n",
       " ('motherfucker', 0.8153197169303894),\n",
       " ('nicht', 0.7991008758544922),\n",
       " ('einer', 0.7987916469573975),\n",
       " ('sonne', 0.7972235679626465),\n",
       " ('fag', 0.7942181825637817),\n",
       " ('wenn', 0.7893837094306946),\n",
       " ('ich', 0.7891098856925964),\n",
       " ('noch', 0.7867863774299622),\n",
       " ('sie', 0.7807758450508118)]"
      ]
     },
     "execution_count": 122,
     "metadata": {},
     "output_type": "execute_result"
    }
   ],
   "source": [
    "model.wv.most_similar(positive=['die'])"
   ]
  },
  {
   "cell_type": "markdown",
   "metadata": {},
   "source": [
    "Some of these look like German... (\"die\" = \"the\" in DE). Will check these out..."
   ]
  },
  {
   "cell_type": "code",
   "execution_count": 77,
   "metadata": {},
   "outputs": [
    {
     "data": {
      "text/html": [
       "<div>\n",
       "<style>\n",
       "    .dataframe thead tr:only-child th {\n",
       "        text-align: right;\n",
       "    }\n",
       "\n",
       "    .dataframe thead th {\n",
       "        text-align: left;\n",
       "    }\n",
       "\n",
       "    .dataframe tbody tr th {\n",
       "        vertical-align: top;\n",
       "    }\n",
       "</style>\n",
       "<table border=\"1\" class=\"dataframe\">\n",
       "  <thead>\n",
       "    <tr style=\"text-align: right;\">\n",
       "      <th></th>\n",
       "      <th>id</th>\n",
       "      <th>comment_text</th>\n",
       "      <th>toxic</th>\n",
       "      <th>severe_toxic</th>\n",
       "      <th>obscene</th>\n",
       "      <th>threat</th>\n",
       "      <th>insult</th>\n",
       "      <th>identity_hate</th>\n",
       "    </tr>\n",
       "  </thead>\n",
       "  <tbody>\n",
       "    <tr>\n",
       "      <th>28035</th>\n",
       "      <td>290764441780</td>\n",
       "      <td>Well-founded news in 'our' GPS/GSM-tracking ma...</td>\n",
       "      <td>0</td>\n",
       "      <td>0</td>\n",
       "      <td>0</td>\n",
       "      <td>0</td>\n",
       "      <td>0</td>\n",
       "      <td>0</td>\n",
       "    </tr>\n",
       "    <tr>\n",
       "      <th>74781</th>\n",
       "      <td>779295189890</td>\n",
       "      <td>\" Hasenjagd ==\\nHave fun with this special kin...</td>\n",
       "      <td>0</td>\n",
       "      <td>0</td>\n",
       "      <td>0</td>\n",
       "      <td>0</td>\n",
       "      <td>0</td>\n",
       "      <td>0</td>\n",
       "    </tr>\n",
       "  </tbody>\n",
       "</table>\n",
       "</div>"
      ],
      "text/plain": [
       "                 id                                       comment_text  toxic  \\\n",
       "28035  290764441780  Well-founded news in 'our' GPS/GSM-tracking ma...      0   \n",
       "74781  779295189890  \" Hasenjagd ==\\nHave fun with this special kin...      0   \n",
       "\n",
       "       severe_toxic  obscene  threat  insult  identity_hate  \n",
       "28035             0        0       0       0              0  \n",
       "74781             0        0       0       0              0  "
      ]
     },
     "execution_count": 77,
     "metadata": {},
     "output_type": "execute_result"
    }
   ],
   "source": [
    "full_train[full_train['comment_text'].str.contains('nicht')]"
   ]
  },
  {
   "cell_type": "code",
   "execution_count": 76,
   "metadata": {},
   "outputs": [
    {
     "name": "stdout",
     "output_type": "stream",
     "text": [
      "\" Hasenjagd ==\n",
      "Have fun with this special kind of new (or old?) German bolshewik humour:\n",
      "\n",
      "http://de.wikipedia.org/w/index.php?title=Wikipedia:Vandalensperrung&diff;=prev&oldid;=11367727#Unscheinbar\n",
      " \n",
      "Version vom 01:23, 6. Dez 2005 Jesusfreund (Diskussion | Beiträge) PRUUUST - verschoben ins Humorarchiv, Überschrift \"\"der ganz normale Wahnsinn im Adminalltag\"\". Selten so gelacht...\n",
      "\n",
      "cu \n",
      "\n",
      " And now an anti bolshewik joke:\n",
      "\n",
      "Ich sehe das nicht so, denn Hans Bugs Kritik hat eine wichtige Funktion. Sie stört einzelne, aber für das Wohlergehen des Projekts ist sie wichtig.  Weiße Rose 15:46, 7. Dez 2005 (CET)Ahja? Also mir hat seine \"\"Kritik\"\" bei der Erstellung einer Enzyklopaedie noch nie geholfen... DaTroll 15:47, 7. Dez 2005 (CET)\n",
      "dito. GrummelJS8 15:48, 7. Dez 2005 (CET)\n",
      " Nicht überraschend. Die Funktion ist die eines Kammerjägers. Ungemütlich für das Ungeziefer. Frisch From Fröhlich Frei 16:26, 7. Dez 2005 (CET)\n",
      "\n",
      "Source: http://de.wikipedia.org/w/index.php?title=Wikipedia_Diskussion:Benutzersperrung/Hans_Bug&oldid;=11421707#Meinungsfreiheit\n",
      "\n",
      "Have fun \n",
      "\n",
      " And now a real big bundle of German bolshewik humour. Follow the first link and have fun. Great! \n",
      "\n",
      " Entadminisierungsanträge sind seit neuestem nicht mehr zulässig. (Vergleiche die Versionsliste der entsprechenden Seite). Botswana 13:38, 8. Dez 2005 (CET) = \n",
      "\n",
      "Source: \n",
      "\n",
      " Oops, a  problem. Towarisch de:Peterlustig has started with communism in de, but bourgeois people like Hans Bug has caught him in flagranti and call that \"\"copyright violation\"\".\n",
      "\n",
      "\"\"What to do?\"\"(Lenin).\n",
      "\n",
      "Karl and Rosa have a classic de-idea:\n",
      "\n",
      "No Hans Bug - no problems . \n",
      "\n",
      "A reason? (sorry, that´s a silly bourgeois question!) \"\"Belege: Statt aller zunächst pauschal Benutzer:Hans Bug, Benutzer Diskussion:Hans Bug\"\" (Stechlin).\n",
      "\n",
      "Live show: http://de.wikipedia.org/w/index.php?title=Wikipedia:Benutzersperrung/Hans_Bug&oldid;=11470758\n",
      "\n",
      "btw.: Some commies name reasons: \"\"Hans Bug nervt\"\" or \"\"he´s boring\"\". \n",
      "\n",
      "Have fun  \n",
      "\n",
      "Trying to get prominent for 15 minutes (Andy Warhol).\n",
      "\n",
      "Admin Anneke Wolf  (aka \"\"Rosa\"\" or Rosa Luxemburg ) doesn´t like this current result: \n",
      "\n",
      "Der unheimlich starke Abgang der de:Benutzer:Anneke Wolf: \n",
      "\n",
      "http://de.wikipedia.org/w/index.php?title=Wikipedia:Administratoren/Probleme&oldid;=11561304\n",
      "\n",
      "http://de.wikipedia.org/w/index.php?title=Wikipedia_Diskussion:Administratoren/Probleme&oldid;=11562262#Wieso_gibts_nicht_schon_l.C3.A4ngst_einen_Sperrantrag_gegen_Benutzer:Anneke_Wolf.3F\n",
      "\n",
      "Have fun \n",
      "\n",
      " 5 hours - new German bolshewik humour\n",
      "7:50 , 14. Dez 2005 (CET)\n",
      "http://de.wikipedia.org/w/index.php?title=Wikipedia:Benutzersperrung/Hans_Bug&oldid;=11626536#Abstimmung (finished) \n",
      "The votes: PRO banning  69 | CONTRA banning: 50  (and some more)\n",
      "\n",
      "13:36, 14. Dez 2005 (CET) -  5 hours later \n",
      "http://de.wikipedia.org/w/index.php?title=Wikipedia:Vandalensperrung&oldid;=11626941#.C3.9Cble_Nachrede\n",
      "\n",
      "Have fun \n",
      "\n",
      "==\"\n"
     ]
    }
   ],
   "source": [
    "print(full_train.loc[74781]['comment_text'])"
   ]
  },
  {
   "cell_type": "code",
   "execution_count": 91,
   "metadata": {},
   "outputs": [
    {
     "data": {
      "text/html": [
       "<div>\n",
       "<style>\n",
       "    .dataframe thead tr:only-child th {\n",
       "        text-align: right;\n",
       "    }\n",
       "\n",
       "    .dataframe thead th {\n",
       "        text-align: left;\n",
       "    }\n",
       "\n",
       "    .dataframe tbody tr th {\n",
       "        vertical-align: top;\n",
       "    }\n",
       "</style>\n",
       "<table border=\"1\" class=\"dataframe\">\n",
       "  <thead>\n",
       "    <tr style=\"text-align: right;\">\n",
       "      <th></th>\n",
       "      <th>id</th>\n",
       "      <th>comment_text</th>\n",
       "    </tr>\n",
       "  </thead>\n",
       "  <tbody>\n",
       "    <tr>\n",
       "      <th>100235</th>\n",
       "      <td>442158514631</td>\n",
       "      <td>Kannst Du eigentlich noch verantworten, in ein...</td>\n",
       "    </tr>\n",
       "  </tbody>\n",
       "</table>\n",
       "</div>"
      ],
      "text/plain": [
       "                  id                                       comment_text\n",
       "100235  442158514631  Kannst Du eigentlich noch verantworten, in ein..."
      ]
     },
     "execution_count": 91,
     "metadata": {},
     "output_type": "execute_result"
    }
   ],
   "source": [
    "testdat0 = testdat.dropna()\n",
    "testdat0[testdat0['comment_text'].str.contains('stimme')]"
   ]
  },
  {
   "cell_type": "code",
   "execution_count": 92,
   "metadata": {},
   "outputs": [
    {
     "name": "stdout",
     "output_type": "stream",
     "text": [
      "Kannst Du eigentlich noch verantworten, in einem derart angebräunten Projekt mitzuarbeiten? Die Artikel [WIKI_LINK: de:Oskar-Heinrich Bär@Oskar-Heinrich Bär] und [WIKI_LINK: de:Kurt Welter] werden von nazi-unterstützenden Admins regelwidrig von NPOV-Bausteinen entblösst und Diskussionsbeiträge, die die Probleme kennzeichnen regelwidrig entfernt. Bin gespannt, wie Du das siehst. Ich werde diesen u.a. von Stefan64 verbreiteten braunen Unsinn öffentlich anprangern. [WIKI_LINK: de:Benutzer:Saidpinao@Saidpinao] ([WIKI_LINK: de:Benutzer Diskussion:Saidpinao@Diskussion]) 23:43, 23. Jul. 2012 (CEST)\n",
      ":Ach, ich mache mir gerade mehr Sorgen um den Artikel [WIKI_LINK: Pro-Bewegung]. Ehrlich gesagt. Was hast Du denn zu kritisieren? [EXTERNAL_LINK: Das dort] die ganzen naziblätter wiederum zitiert werden? Unter Rezeption? Ja, ist doch üblich hier! Geh auf die Diskussionsseite und versuche denen klar zu machen, dass Naziblätter hier nicht zitierfähig sind. Bei so Spezialisten wie Stefan64 ist eh Hopfen und Malz verloren. Gruß [WIKI_LINK: Benutzer:Widescreen@ WSC][WIKI_LINK: BD:Widescreen@  ®  ] 23:49, 23. Jul. 2012 (CEST)\n",
      ":P.S. Und Thomas (;o)) immer schön sachlich bleiben. Gell? [WIKI_LINK: Benutzer:Widescreen@ WSC][WIKI_LINK: BD:Widescreen@  ®  ] 23:49, 23. Jul. 2012 (CEST)\n",
      "::Ach! Guckmer mal. [WIKI_LINK: Benutzer:Widescreen@ WSC][WIKI_LINK: BD:Widescreen@  ®  ] 00:54, 24. Jul. 2012 (CEST)\n",
      ":::Sekundär-Zitate sind schon aus wissenschaftlicher Perspektive suspekt. Aber dass die genannten Artikel dicken Nazi-Jargon transportieren, ist m.e. deutlich zu kritisieren. Die Autoren haben nichts in einer Enzyklopädie zu suchen. Ich sehe es nicht als üblich an, Nazi-Behauptungen (z.B. 1935 sei die Luftwaffe der Wehrmacht neu gegründet, Bär sei rehabilitiert, auf Bärs Konto gingen (im Artikel Präsens) Luftsiege) einfach durch die National-Zeitung als belegt anzusehen oder auch nur in ihrer Diktion zu akzeptieren. Dass bei Autoren wie Stefan64, PDD und Seewolf (nomen est omen) Hopfen und Malz verloren sind, sehe ich auch - allerdings schärfer. Sachlich-fachlich bleibe ich schon. Aber ich sehe Enzyklopäden auch in der Pflicht, ihrer Handbuchwissenschaft durch geeignete treffende Wortwahl auszudrücken. Dass hier zahlreiche Admins nicht in der Lage sind, in Diskussionen erlaubte Polemik von Faktenbehauptungen und von PAs zu unterscheiden, wird meinen Formulierungsstil nicht angreifen. Ich kenne mich mit [WIKI_LINK: Albert-László Barabási@Barabási] Schwarmintelligenz aus und will doch mal sehen, wie ich den Schwarm beeinflusse. ) Schaumermal. [WIKI_LINK: Benutzer:Cloudintoto@Cloudintoto] ([WIKI_LINK: Benutzer Diskussion:Cloudintoto@Diskussion]) 01:22, 24. Jul. 2012 (CEST)\n",
      "::::PS: Stefan64 glaubt tatsächlich, seine Knöpfe könnten verhindern, dass bekannt wird, wie er sich in den braunen Algen im Wikipedia-Schwarm-Planschbecken verheddert. Meine Katze freut sich schon auf diesen aus dem Schwarm ausgebrochenen Catfish. [WIKI_LINK: Benutzer:Bettina Schwerske@Bettina Schwerske] ([WIKI_LINK: Benutzer Diskussion:Bettina Schwerske@Diskussion]) 01:28, 24. Jul. 2012 (CEST)\n",
      ":::::PS2: ich bin sicher, dass man den Schwarm vor sich hertreiben kann, wenn man sachlich-fachlich auf die braunen Missstände, für die Stefan64 und seine unenzyklopädischen Kumpels verantwortlich zeichen, hinweist. Wikipedia ist kein hermetisches System, wie deren Denken, sondern offen. Und Intelligenz findet immer einen Weg, ohne ausfällig zu werden. Dass MarcusC. und Co. über selbst verantwortete Eskalationsstufen lamentieren, ist kein Zufall. Die von diesen Leuten gezüchtete strukturelle Gewalt - in Form von Zensur, Meinungsunterdrückung und Dummheit - ist eigentlich nur ein Zeichen intelektueller Schwäche. Das fällt dennen auf die Füße. Zeit- und Spiegel-Autoren auszusperren wird sich früher oder später rächen. [WIKI_LINK: Benutzer:Beganstory@Beganstory] ([WIKI_LINK: Benutzer Diskussion:Beganstory@Diskussion]) 01:37, 24. Jul. 2012 (CEST)\n",
      "::::::Da komme ich jetzt aber nicht ganz drauf klar! In dem Artikel, jetzige Version wird die Nationalzeitung doch gar nicht als Quelle verwendet. Sondern dieser Virchow. Das ginge m.M.n. in Ordnung, obwohl ich den Mehrwert für den Artikel gerade nicht verstehe! Warum müssen die Attribute ausgerechnet in dem Artikel über Bär stehen und stehen nicht in bspw. [WIKI_LINK: National-Zeitung (München)]. Die Studie vom Virchow ist nämlich eine Studie über den Neonazisprech und nicht über Bär. Das ist echt schräg! Zugegeben. Du meinst aber dass wäre dort nur enthalten, um die Konnotationen in dem Artikel zu erhalten? Schaun mer mal! [WIKI_LINK: Benutzer:Widescreen@ WSC][WIKI_LINK: BD:Widescreen@  ®  ] 01:30, 24. Jul. 2012 (CEST)\n",
      ":::::::::Dieses Sekundär-Zitat ist nur einer der dort vorhandenen Lapsu:s. Der ganze Artikel zieht doch Fliegen an. [WIKI_LINK: Benutzer:Beganstory@Beganstory] ([WIKI_LINK: Benutzer Diskussion:Beganstory@Diskussion]) 01:37, 24. Jul. 2012 (CEST)\n",
      ":::::::::::Jetzt hat der Benutzer Stefan64 in seinem hermetischen Denken mir Nachtruhe verordnet (siehe Historie). Ich schreib mal auf Deiner englischsprachigen Diskussionsseite weiter. Jenseits des Horizonts der Flachteller hier. [WIKI_LINK: Benutzer:OceanImam@OceanImam] ([WIKI_LINK: Benutzer Diskussion:OceanImam@Diskussion]) 01:47, 24. Jul. 2012 (CEST)\n",
      "::::::::::Da muss ich Dir Recht geben Stefan und PDD sind Unenzyklopäden. Obwohl ich mir manchmal bei Seewolf nicht sicher bin... Und mit dem Rest hast Du prinzipiell auch recht. o) Nun ja. Aber Du als IP/Neubenutzer musst halte kleine Brötchen backen. \"Ja Herr Admin, natürlich Herr Admin\" oder eben nur auf der Sachebene. Und Du weißt ja: Ich habe nichts gegen Fliegerasse! Nur die Quellen müssen stimmen. Dann können die von mir aus auch einen Artikel über Hitlers Klofrau schreiben. o) Sonst fand ich den Artikel gar nicht soooo schlimm. Das übliche Geschwurbel halt. Wenn Du wirklich schlechte Artikel lesen möchtest: Die findet man unter DSDS-Teilnehmern. O) [WIKI_LINK: Benutzer:Widescreen@ WSC][WIKI_LINK: BD:Widescreen@  ®  ] 01:47, 24. Jul. 2012 (CEST)\n",
      ":::::::::::::Irgendwie tut mir Seewolf leid. Er jagt mich nun schon seit Jahren und kommt immer etwas zu spät. Wenn er bei einfachen regulären Ausdrücken bei Benutzer Lustiger Seth nachfragen muss, hat das was entwürdigendes. Das macht er nun schon so lange, ohne sich in die Grundlagen seiner Zensur-Wissenschaft eingearbeitet zu haben. Mit Enzyklopädie hat das nichts zu tun - die Enzyklopäden standen auf der anderen Seite des Tisches, nicht auf der Zensur-Seite. Seewolfs Hantieren hat schon eher mit Watzlawiks Kritik zu tun, dass - wenn man eine Methode anwendet, welche nicht hilft, nicht noch mehr dieser Methode kommen sollte, in der Wikipedia wird sie aber immer weiter verstärkt angewendet. Ähnlich wie Stefan64 eben. Wie ein Mantra. Die verordnen Nachtruhe, ohne die Sonne im Griff zu haben. Die haben eine flache Wikipedia-Scheibe im Sinn. [EXTERNAL_LINK: Flachtellerfraktion] - nach Manfred Krugs Verdikt über die engstirnige DDR-Kultur-Nomenklatura. Gib Menschen etwas Macht und Du siehst was es für Menschen sind: ein Großteil der Teilmenge des Admin-Pöbels in der deutschsprachigen Wikipedia sind pubertäre Würstchen, an deren Spitze Leute wie Stefan64, Anton-Josef, PDD, Kuebi und Seewolf stehen. Man sollte Seewolf, Anton-Josef, PDD, Kuebi und Stefan64 die [WIKI_LINK: de:Kurt Hager@Kurt-Hager-Wikipedia-Gedenk-Medaille] verpassen für die dräuenden Schwierigkeiten, ihre geistigen IP-Ranges nun auf IPv6 überführen zu müssen. Ich schweife ab. Morgen mehr (oder auch schon [EXTERNAL_LINK: heute]). )\n"
     ]
    }
   ],
   "source": [
    "print(testdat0.loc[100235]['comment_text'])"
   ]
  },
  {
   "cell_type": "markdown",
   "metadata": {},
   "source": [
    "### doc2vec model"
   ]
  },
  {
   "cell_type": "code",
   "execution_count": null,
   "metadata": {
    "collapsed": true
   },
   "outputs": [],
   "source": []
  }
 ],
 "metadata": {
  "kernelspec": {
   "display_name": "Python 3",
   "language": "python",
   "name": "python3"
  },
  "language_info": {
   "codemirror_mode": {
    "name": "ipython",
    "version": 3
   },
   "file_extension": ".py",
   "mimetype": "text/x-python",
   "name": "python",
   "nbconvert_exporter": "python",
   "pygments_lexer": "ipython3",
   "version": "3.6.1"
  }
 },
 "nbformat": 4,
 "nbformat_minor": 2
}
