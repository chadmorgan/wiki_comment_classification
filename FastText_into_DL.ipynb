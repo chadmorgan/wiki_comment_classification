{
 "cells": [
  {
   "cell_type": "markdown",
   "metadata": {},
   "source": [
    "### FastText sequence embeddings in Deep Learning models\n",
    "Try FastText embeddings in ConvNet & LSTM models to see how they fare against earlier experiments with word2vec"
   ]
  },
  {
   "cell_type": "code",
   "execution_count": 1,
   "metadata": {
    "collapsed": true
   },
   "outputs": [],
   "source": [
    "import numpy as np\n",
    "import pandas as pd\n",
    "import re\n",
    "import copy\n",
    "import gensim"
   ]
  },
  {
   "cell_type": "code",
   "execution_count": 2,
   "metadata": {},
   "outputs": [
    {
     "name": "stderr",
     "output_type": "stream",
     "text": [
      "/Users/ChadMorgan/anaconda/lib/python3.6/site-packages/h5py/__init__.py:34: FutureWarning: Conversion of the second argument of issubdtype from `float` to `np.floating` is deprecated. In future, it will be treated as `np.float64 == np.dtype(float).type`.\n",
      "  from ._conv import register_converters as _register_converters\n",
      "Using TensorFlow backend.\n"
     ]
    }
   ],
   "source": [
    "from keras.preprocessing.sequence import pad_sequences\n",
    "from keras.layers import Dense, Input, Conv1D, Embedding, Dropout, Activation, Flatten\n",
    "from keras.layers import GlobalMaxPool1D, MaxPooling1D, concatenate\n",
    "from keras.layers import Bidirectional,LSTM\n",
    "from keras.models import Model\n",
    "from keras import initializers, regularizers, constraints, optimizers, layers\n",
    "from keras.utils.np_utils import to_categorical\n",
    "from keras.regularizers import l2"
   ]
  },
  {
   "cell_type": "code",
   "execution_count": 3,
   "metadata": {
    "collapsed": true
   },
   "outputs": [],
   "source": [
    "from sklearn.model_selection import train_test_split\n",
    "from sklearn.utils import shuffle "
   ]
  },
  {
   "cell_type": "code",
   "execution_count": 4,
   "metadata": {
    "collapsed": true
   },
   "outputs": [],
   "source": [
    "from matplotlib import pyplot as plt\n",
    "%matplotlib inline"
   ]
  },
  {
   "cell_type": "markdown",
   "metadata": {},
   "source": [
    "### Read in training data"
   ]
  },
  {
   "cell_type": "code",
   "execution_count": 5,
   "metadata": {},
   "outputs": [
    {
     "data": {
      "text/plain": [
       "(95851, 8)"
      ]
     },
     "execution_count": 5,
     "metadata": {},
     "output_type": "execute_result"
    }
   ],
   "source": [
    "full_train = pd.read_csv('../train.csv')\n",
    "full_train.shape"
   ]
  },
  {
   "cell_type": "code",
   "execution_count": 6,
   "metadata": {
    "collapsed": true
   },
   "outputs": [],
   "source": [
    "labels = np.array(full_train[['toxic', 'severe_toxic', 'obscene', 'threat','insult', 'identity_hate']])"
   ]
  },
  {
   "cell_type": "code",
   "execution_count": 7,
   "metadata": {
    "collapsed": true
   },
   "outputs": [],
   "source": [
    "comments=full_train['comment_text'].tolist()"
   ]
  },
  {
   "cell_type": "code",
   "execution_count": 8,
   "metadata": {
    "collapsed": true
   },
   "outputs": [],
   "source": [
    "token_dict = {}\n",
    "token_set = set()\n",
    "tokenized_comments = copy.copy(comments)\n",
    "for i in range(len(tokenized_comments)):\n",
    "    tokenized_comments[i] = re.sub(\"\\n\",' ',tokenized_comments[i])\n",
    "    tokenized_comments[i] = re.sub(\"\\t\",' ',tokenized_comments[i])\n",
    "    tokenized_comments[i] = re.sub(\"[^A-Za-z'\\*\\- ]\",' ',tokenized_comments[i])\n",
    "    tokenized_comments[i] = re.sub(\" +\",' ',tokenized_comments[i])\n",
    "    tokenized_comments[i] = re.sub(\"'+\",\"'\",tokenized_comments[i])    \n",
    "    tokenized_comments[i] = re.sub(\"\\*+\",\"\\*\",tokenized_comments[i])   \n",
    "    tokenized_comments[i] = re.sub(\"\\-+\",\"\\-\",tokenized_comments[i])\n",
    "    tokenized_comments[i] = tokenized_comments[i].lower().strip()\n",
    "    tokenized_comments[i] = tokenized_comments[i].split(' ')\n",
    "    line_dict = {}\n",
    "    line_set = set()\n",
    "    for token in tokenized_comments[i]:        \n",
    "        if token in token_set:\n",
    "            token_dict[token] += 1\n",
    "        else:\n",
    "            token_set.add(token)\n",
    "            token_dict[token] = 1"
   ]
  },
  {
   "cell_type": "markdown",
   "metadata": {},
   "source": [
    "### Read in test data"
   ]
  },
  {
   "cell_type": "code",
   "execution_count": 9,
   "metadata": {
    "collapsed": true
   },
   "outputs": [],
   "source": [
    "testdat = pd.read_csv('../test.csv')"
   ]
  },
  {
   "cell_type": "code",
   "execution_count": 10,
   "metadata": {
    "collapsed": true
   },
   "outputs": [],
   "source": [
    "test_comments0 = testdat['comment_text'].tolist()"
   ]
  },
  {
   "cell_type": "code",
   "execution_count": 11,
   "metadata": {},
   "outputs": [
    {
     "name": "stdout",
     "output_type": "stream",
     "text": [
      "52300 nan\n"
     ]
    }
   ],
   "source": [
    "test_comments0 = testdat['comment_text'].tolist()\n",
    "test_comments = copy.copy(test_comments0)\n",
    "for i in range(len(test_comments)):\n",
    "    if type(test_comments[i]) is float:\n",
    "        print(i,test_comments[i])\n",
    "        test_comments[i]=[]\n",
    "    else:\n",
    "        test_comments[i] = re.sub(\"\\n\",' ',test_comments[i])\n",
    "        test_comments[i] = re.sub(\"\\t\",' ',test_comments[i])\n",
    "        test_comments[i] = re.sub(\"[^A-Za-z'\\*\\- ]\",' ',test_comments[i])\n",
    "        test_comments[i] = re.sub(\" +\",' ',test_comments[i])\n",
    "        test_comments[i] = re.sub(\"'+\",\"'\",test_comments[i])    \n",
    "        test_comments[i] = re.sub(\"\\*+\",\"\\*\",test_comments[i])   \n",
    "        test_comments[i] = re.sub(\"\\-+\",\"\\-\",test_comments[i])\n",
    "        test_comments[i] = test_comments[i].lower().strip()\n",
    "        test_comments[i] = test_comments[i].split(' ')\n",
    "        for token in test_comments[i]:        \n",
    "            if token in token_set:\n",
    "                token_dict[token] += 1\n",
    "            else:\n",
    "                token_set.add(token)\n",
    "                token_dict[token] = 1  "
   ]
  },
  {
   "cell_type": "code",
   "execution_count": 12,
   "metadata": {
    "collapsed": true
   },
   "outputs": [],
   "source": [
    "token_count = pd.DataFrame.from_dict(token_dict,orient='index').reset_index()\n",
    "token_count.columns = ['token','freq']"
   ]
  },
  {
   "cell_type": "code",
   "execution_count": 13,
   "metadata": {
    "collapsed": true
   },
   "outputs": [],
   "source": [
    "token_count = token_count.sort_values('freq',ascending=False)\\\n",
    "    .reset_index(drop=True)\n",
    "token_count = token_count.reset_index()"
   ]
  },
  {
   "cell_type": "code",
   "execution_count": 15,
   "metadata": {
    "collapsed": true
   },
   "outputs": [],
   "source": [
    "reduced_token_count = token_count[token_count['freq']>=10]\n",
    "reduced_token_set = set(reduced_token_count['token'])"
   ]
  },
  {
   "cell_type": "code",
   "execution_count": 16,
   "metadata": {
    "collapsed": true
   },
   "outputs": [],
   "source": [
    "index_token_dict = pd.Series(reduced_token_count.token.values,index=reduced_token_count.index+1).to_dict()\n",
    "token_index_dict = pd.Series(reduced_token_count.index.values+1,index=reduced_token_count.token).to_dict()"
   ]
  },
  {
   "cell_type": "code",
   "execution_count": 17,
   "metadata": {
    "collapsed": true
   },
   "outputs": [],
   "source": [
    "tokenized_corpus = []\n",
    "for line in tokenized_comments:\n",
    "    line_token_idx = []\n",
    "    for t in line:\n",
    "        if t in reduced_token_set:\n",
    "            line_token_idx += [token_index_dict[t]]\n",
    "    tokenized_corpus += [line_token_idx]"
   ]
  },
  {
   "cell_type": "code",
   "execution_count": 29,
   "metadata": {
    "collapsed": true
   },
   "outputs": [],
   "source": [
    "MAX_SEQ_LENGTH=300\n",
    "tokenized_corpus_padded = pad_sequences(tokenized_corpus,maxlen=MAX_SEQ_LENGTH)"
   ]
  },
  {
   "cell_type": "markdown",
   "metadata": {},
   "source": [
    "### Load FastText embeddings"
   ]
  },
  {
   "cell_type": "code",
   "execution_count": 19,
   "metadata": {
    "collapsed": true
   },
   "outputs": [],
   "source": [
    "fasttext_model = gensim.models.Word2Vec.load(\"../wiki_fasttext_embed\")"
   ]
  },
  {
   "cell_type": "code",
   "execution_count": 21,
   "metadata": {},
   "outputs": [
    {
     "name": "stdout",
     "output_type": "stream",
     "text": [
      "41286\n",
      "(41286, 3)\n"
     ]
    }
   ],
   "source": [
    "print(len(fasttext_model.wv.vocab))\n",
    "print(reduced_token_count.shape)"
   ]
  },
  {
   "cell_type": "code",
   "execution_count": 22,
   "metadata": {},
   "outputs": [
    {
     "name": "stdout",
     "output_type": "stream",
     "text": [
      "(41287, 150)\n"
     ]
    }
   ],
   "source": [
    "V = len(reduced_token_set)+1\n",
    "EMBEDDING_DIM=150\n",
    "print((V,EMBEDDING_DIM))"
   ]
  },
  {
   "cell_type": "code",
   "execution_count": 24,
   "metadata": {},
   "outputs": [
    {
     "data": {
      "text/plain": [
       "(41287, 150)"
      ]
     },
     "execution_count": 24,
     "metadata": {},
     "output_type": "execute_result"
    }
   ],
   "source": [
    "embed_matrix = np.zeros((V,EMBEDDING_DIM))\n",
    "for token in token_index_dict.keys():\n",
    "    embed_matrix[token_index_dict[token]] = fasttext_model.wv[token]\n",
    "    \n",
    "embed_matrix.shape    "
   ]
  },
  {
   "cell_type": "markdown",
   "metadata": {},
   "source": [
    "### Split training data into train,valid sets"
   ]
  },
  {
   "cell_type": "code",
   "execution_count": 35,
   "metadata": {
    "collapsed": true
   },
   "outputs": [],
   "source": [
    "labels0,tokenized_corpus_padded0 = shuffle(labels,tokenized_corpus_padded)"
   ]
  },
  {
   "cell_type": "code",
   "execution_count": 36,
   "metadata": {
    "collapsed": true
   },
   "outputs": [],
   "source": [
    "clean_comment = np.zeros(shape=[labels.shape[0]])\n",
    "clean_comment[np.max(labels,axis=1)==0] = 1"
   ]
  },
  {
   "cell_type": "code",
   "execution_count": 37,
   "metadata": {},
   "outputs": [],
   "source": [
    "labels_train,labels_valid, \\\n",
    "seq_train,seq_valid  = \\\n",
    "train_test_split(labels0,tokenized_corpus_padded0,\\\n",
    "                 test_size=0.2,stratify=clean_comment)"
   ]
  },
  {
   "cell_type": "markdown",
   "metadata": {},
   "source": [
    "## Convolutional model\n",
    "Same architecture as for w2v experiments"
   ]
  },
  {
   "cell_type": "code",
   "execution_count": 30,
   "metadata": {
    "collapsed": true
   },
   "outputs": [],
   "source": [
    "# Sequence input\n",
    "sequence_input = Input(shape=(MAX_SEQ_LENGTH,),dtype='int32',name='Input')\n",
    "\n",
    "# Embedding lookup\n",
    "embed_seq_unmasked = Embedding(input_dim=V\n",
    "                              ,output_dim=EMBEDDING_DIM\n",
    "                              ,weights=[embed_matrix]\n",
    "                              ,input_length=300\n",
    "                              ,trainable=False\n",
    "                              ,mask_zero=False\n",
    "                              ,name='Embedding')(sequence_input)"
   ]
  },
  {
   "cell_type": "code",
   "execution_count": 31,
   "metadata": {
    "collapsed": true
   },
   "outputs": [],
   "source": [
    "# Convolutional layers: width 7\n",
    "Conv7_layer = Conv1D(64,7,activation='sigmoid',padding='same')(embed_seq_unmasked)\n",
    "Conv7_layer = MaxPooling1D(2)(Conv7_layer)\n",
    "Conv7_layer = Conv1D(64,7,activation='sigmoid',padding='same')(Conv7_layer)\n",
    "Conv7_layer = GlobalMaxPool1D()(Conv7_layer)\n",
    "Conv7_layer = Dropout(0.5)(Conv7_layer)"
   ]
  },
  {
   "cell_type": "code",
   "execution_count": 32,
   "metadata": {
    "collapsed": true
   },
   "outputs": [],
   "source": [
    "Conv_dense = Dense(32,activation='relu',kernel_regularizer=regularizers.l2(0.0001))(Conv7_layer)\n",
    "Conv_output = Dense(6, activation=\"sigmoid\")(Conv_dense)"
   ]
  },
  {
   "cell_type": "code",
   "execution_count": 33,
   "metadata": {},
   "outputs": [
    {
     "name": "stdout",
     "output_type": "stream",
     "text": [
      "_________________________________________________________________\n",
      "Layer (type)                 Output Shape              Param #   \n",
      "=================================================================\n",
      "Input (InputLayer)           (None, 300)               0         \n",
      "_________________________________________________________________\n",
      "Embedding (Embedding)        (None, 300, 150)          6193050   \n",
      "_________________________________________________________________\n",
      "conv1d_1 (Conv1D)            (None, 300, 64)           67264     \n",
      "_________________________________________________________________\n",
      "max_pooling1d_1 (MaxPooling1 (None, 150, 64)           0         \n",
      "_________________________________________________________________\n",
      "conv1d_2 (Conv1D)            (None, 150, 64)           28736     \n",
      "_________________________________________________________________\n",
      "global_max_pooling1d_1 (Glob (None, 64)                0         \n",
      "_________________________________________________________________\n",
      "dropout_1 (Dropout)          (None, 64)                0         \n",
      "_________________________________________________________________\n",
      "dense_1 (Dense)              (None, 32)                2080      \n",
      "_________________________________________________________________\n",
      "dense_2 (Dense)              (None, 6)                 198       \n",
      "=================================================================\n",
      "Total params: 6,291,328\n",
      "Trainable params: 98,278\n",
      "Non-trainable params: 6,193,050\n",
      "_________________________________________________________________\n"
     ]
    }
   ],
   "source": [
    "cnn_model = Model(inputs=sequence_input, outputs=Conv_output)\n",
    "cnn_model.compile(loss='binary_crossentropy', optimizer='adam', metrics=['accuracy'])\n",
    "cnn_model.summary()"
   ]
  },
  {
   "cell_type": "code",
   "execution_count": 38,
   "metadata": {},
   "outputs": [
    {
     "name": "stdout",
     "output_type": "stream",
     "text": [
      "Train on 76680 samples, validate on 19171 samples\n",
      "Epoch 1/6\n",
      "76680/76680 [==============================] - 441s - loss: 0.0755 - acc: 0.9759 - val_loss: 0.0541 - val_acc: 0.9809\n",
      "Epoch 2/6\n",
      "76680/76680 [==============================] - 440s - loss: 0.0560 - acc: 0.9805 - val_loss: 0.0517 - val_acc: 0.9819\n",
      "Epoch 3/6\n",
      "76680/76680 [==============================] - 441s - loss: 0.0523 - acc: 0.9812 - val_loss: 0.0506 - val_acc: 0.9819\n",
      "Epoch 4/6\n",
      "76680/76680 [==============================] - 440s - loss: 0.0492 - acc: 0.9819 - val_loss: 0.0509 - val_acc: 0.9820\n",
      "Epoch 5/6\n",
      "76680/76680 [==============================] - 440s - loss: 0.0467 - acc: 0.9826 - val_loss: 0.0497 - val_acc: 0.9816\n",
      "Epoch 6/6\n",
      "76680/76680 [==============================] - 442s - loss: 0.0438 - acc: 0.9836 - val_loss: 0.0522 - val_acc: 0.9817\n"
     ]
    }
   ],
   "source": [
    "history_CNN = cnn_model.fit(seq_train,labels_train\n",
    "                           ,epochs=6\n",
    "                           ,batch_size=16\n",
    "                           ,validation_data=(seq_valid,labels_valid)\n",
    "                           ,verbose=1)"
   ]
  },
  {
   "cell_type": "code",
   "execution_count": 39,
   "metadata": {},
   "outputs": [
    {
     "data": {
      "text/plain": [
       "<matplotlib.text.Text at 0x19cbb6dd8>"
      ]
     },
     "execution_count": 39,
     "metadata": {},
     "output_type": "execute_result"
    },
    {
     "data": {
      "image/png": "[encoded data removed]",
      "text/plain": [
       "<matplotlib.figure.Figure at 0x18d8b6908>"
      ]
     },
     "metadata": {},
     "output_type": "display_data"
    }
   ],
   "source": [
    "plt.figure(figsize=(12,6))\n",
    "plt.suptitle(\"Convolutional sequence model with FastText input\")\n",
    "#plt.subplot(121)\n",
    "plt.plot(history_CNN.history['loss'],'-o',label='train')\n",
    "plt.plot(history_CNN.history['val_loss'],'-o',label='test')\n",
    "plt.legend()\n",
    "plt.xlabel('epoch',fontsize=14)\n",
    "plt.ylabel('loss',fontsize=14)"
   ]
  },
  {
   "cell_type": "code",
   "execution_count": 40,
   "metadata": {},
   "outputs": [
    {
     "data": {
      "text/plain": [
       "0.049671591895302444"
      ]
     },
     "execution_count": 40,
     "metadata": {},
     "output_type": "execute_result"
    }
   ],
   "source": [
    "np.min(history_CNN.history['val_loss'])"
   ]
  },
  {
   "cell_type": "code",
   "execution_count": null,
   "metadata": {
    "collapsed": true
   },
   "outputs": [],
   "source": []
  }
 ],
 "metadata": {
  "kernelspec": {
   "display_name": "Python 3",
   "language": "python",
   "name": "python3"
  },
  "language_info": {
   "codemirror_mode": {
    "name": "ipython",
    "version": 3
   },
   "file_extension": ".py",
   "mimetype": "text/x-python",
   "name": "python",
   "nbconvert_exporter": "python",
   "pygments_lexer": "ipython3",
   "version": "3.6.1"
  }
 },
 "nbformat": 4,
 "nbformat_minor": 2
}
