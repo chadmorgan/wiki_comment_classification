{
 "cells": [
  {
   "cell_type": "markdown",
   "metadata": {},
   "source": [
    "### FastText sequence embeddings in Deep Learning models\n",
    "Try FastText embeddings in ConvNet & LSTM models to see how they fare against earlier experiments with word2vec"
   ]
  },
  {
   "cell_type": "code",
   "execution_count": 1,
   "metadata": {
    "collapsed": true
   },
   "outputs": [],
   "source": [
    "import numpy as np\n",
    "import pandas as pd\n",
    "import re\n",
    "import copy\n",
    "import gensim"
   ]
  },
  {
   "cell_type": "code",
   "execution_count": 2,
   "metadata": {},
   "outputs": [
    {
     "name": "stderr",
     "output_type": "stream",
     "text": [
      "/Users/ChadMorgan/anaconda/lib/python3.6/site-packages/h5py/__init__.py:34: FutureWarning: Conversion of the second argument of issubdtype from `float` to `np.floating` is deprecated. In future, it will be treated as `np.float64 == np.dtype(float).type`.\n",
      "  from ._conv import register_converters as _register_converters\n",
      "Using TensorFlow backend.\n"
     ]
    }
   ],
   "source": [
    "from keras.preprocessing.sequence import pad_sequences\n",
    "from keras.layers import Dense, Input, Conv1D, Embedding, Dropout, Activation, Flatten\n",
    "from keras.layers import GlobalMaxPool1D, MaxPooling1D, concatenate\n",
    "from keras.layers import Bidirectional,LSTM\n",
    "from keras.models import Model,load_model\n",
    "from keras import initializers, regularizers, constraints, optimizers, layers\n",
    "from keras.utils.np_utils import to_categorical\n",
    "from keras.regularizers import l2"
   ]
  },
  {
   "cell_type": "code",
   "execution_count": 3,
   "metadata": {
    "collapsed": true
   },
   "outputs": [],
   "source": [
    "from sklearn.model_selection import train_test_split\n",
    "from sklearn.utils import shuffle "
   ]
  },
  {
   "cell_type": "code",
   "execution_count": 4,
   "metadata": {
    "collapsed": true
   },
   "outputs": [],
   "source": [
    "from matplotlib import pyplot as plt\n",
    "%matplotlib inline"
   ]
  },
  {
   "cell_type": "code",
   "execution_count": 132,
   "metadata": {
    "collapsed": true
   },
   "outputs": [],
   "source": [
    "pd.set_option('max_colwidth',140)"
   ]
  },
  {
   "cell_type": "markdown",
   "metadata": {},
   "source": [
    "### Read in training data"
   ]
  },
  {
   "cell_type": "code",
   "execution_count": 5,
   "metadata": {},
   "outputs": [
    {
     "data": {
      "text/plain": [
       "(95851, 8)"
      ]
     },
     "execution_count": 5,
     "metadata": {},
     "output_type": "execute_result"
    }
   ],
   "source": [
    "full_train = pd.read_csv('../train.csv')\n",
    "full_train.shape"
   ]
  },
  {
   "cell_type": "code",
   "execution_count": 6,
   "metadata": {
    "collapsed": true
   },
   "outputs": [],
   "source": [
    "labels = np.array(full_train[['toxic', 'severe_toxic', 'obscene', 'threat','insult', 'identity_hate']])"
   ]
  },
  {
   "cell_type": "code",
   "execution_count": 7,
   "metadata": {
    "collapsed": true
   },
   "outputs": [],
   "source": [
    "comments=full_train['comment_text'].tolist()"
   ]
  },
  {
   "cell_type": "code",
   "execution_count": 8,
   "metadata": {
    "collapsed": true
   },
   "outputs": [],
   "source": [
    "token_dict = {}\n",
    "token_set = set()\n",
    "tokenized_comments = copy.copy(comments)\n",
    "for i in range(len(tokenized_comments)):\n",
    "    tokenized_comments[i] = re.sub(\"\\n\",' ',tokenized_comments[i])\n",
    "    tokenized_comments[i] = re.sub(\"\\t\",' ',tokenized_comments[i])\n",
    "    tokenized_comments[i] = re.sub(\"[^A-Za-z'\\*\\- ]\",' ',tokenized_comments[i])\n",
    "    tokenized_comments[i] = re.sub(\" +\",' ',tokenized_comments[i])\n",
    "    tokenized_comments[i] = re.sub(\"'+\",\"'\",tokenized_comments[i])    \n",
    "    tokenized_comments[i] = re.sub(\"\\*+\",\"\\*\",tokenized_comments[i])   \n",
    "    tokenized_comments[i] = re.sub(\"\\-+\",\"\\-\",tokenized_comments[i])\n",
    "    tokenized_comments[i] = tokenized_comments[i].lower().strip()\n",
    "    tokenized_comments[i] = tokenized_comments[i].split(' ')\n",
    "    line_dict = {}\n",
    "    line_set = set()\n",
    "    for token in tokenized_comments[i]:        \n",
    "        if token in token_set:\n",
    "            token_dict[token] += 1\n",
    "        else:\n",
    "            token_set.add(token)\n",
    "            token_dict[token] = 1"
   ]
  },
  {
   "cell_type": "markdown",
   "metadata": {},
   "source": [
    "### Read in test data"
   ]
  },
  {
   "cell_type": "code",
   "execution_count": 9,
   "metadata": {
    "collapsed": true
   },
   "outputs": [],
   "source": [
    "testdat = pd.read_csv('../test.csv')"
   ]
  },
  {
   "cell_type": "code",
   "execution_count": 10,
   "metadata": {
    "collapsed": true
   },
   "outputs": [],
   "source": [
    "test_comments0 = testdat['comment_text'].tolist()"
   ]
  },
  {
   "cell_type": "code",
   "execution_count": 11,
   "metadata": {},
   "outputs": [
    {
     "name": "stdout",
     "output_type": "stream",
     "text": [
      "52300 nan\n"
     ]
    }
   ],
   "source": [
    "test_comments0 = testdat['comment_text'].tolist()\n",
    "test_comments = copy.copy(test_comments0)\n",
    "for i in range(len(test_comments)):\n",
    "    if type(test_comments[i]) is float:\n",
    "        print(i,test_comments[i])\n",
    "        test_comments[i]=[]\n",
    "    else:\n",
    "        test_comments[i] = re.sub(\"\\n\",' ',test_comments[i])\n",
    "        test_comments[i] = re.sub(\"\\t\",' ',test_comments[i])\n",
    "        test_comments[i] = re.sub(\"[^A-Za-z'\\*\\- ]\",' ',test_comments[i])\n",
    "        test_comments[i] = re.sub(\" +\",' ',test_comments[i])\n",
    "        test_comments[i] = re.sub(\"'+\",\"'\",test_comments[i])    \n",
    "        test_comments[i] = re.sub(\"\\*+\",\"\\*\",test_comments[i])   \n",
    "        test_comments[i] = re.sub(\"\\-+\",\"\\-\",test_comments[i])\n",
    "        test_comments[i] = test_comments[i].lower().strip()\n",
    "        test_comments[i] = test_comments[i].split(' ')\n",
    "        for token in test_comments[i]:        \n",
    "            if token in token_set:\n",
    "                token_dict[token] += 1\n",
    "            else:\n",
    "                token_set.add(token)\n",
    "                token_dict[token] = 1  "
   ]
  },
  {
   "cell_type": "code",
   "execution_count": 12,
   "metadata": {
    "collapsed": true
   },
   "outputs": [],
   "source": [
    "token_count = pd.DataFrame.from_dict(token_dict,orient='index').reset_index()\n",
    "token_count.columns = ['token','freq']"
   ]
  },
  {
   "cell_type": "code",
   "execution_count": 13,
   "metadata": {
    "collapsed": true
   },
   "outputs": [],
   "source": [
    "token_count = token_count.sort_values('freq',ascending=False)\\\n",
    "    .reset_index(drop=True)\n",
    "token_count = token_count.reset_index()\n",
    "token_count.to_csv('../token_count.csv',index=False)"
   ]
  },
  {
   "cell_type": "code",
   "execution_count": 14,
   "metadata": {
    "collapsed": true
   },
   "outputs": [],
   "source": [
    "reduced_token_count = token_count[token_count['freq']>=10]\n",
    "reduced_token_set = set(reduced_token_count['token'])"
   ]
  },
  {
   "cell_type": "code",
   "execution_count": 15,
   "metadata": {},
   "outputs": [
    {
     "data": {
      "text/html": [
       "<div>\n",
       "<style>\n",
       "    .dataframe thead tr:only-child th {\n",
       "        text-align: right;\n",
       "    }\n",
       "\n",
       "    .dataframe thead th {\n",
       "        text-align: left;\n",
       "    }\n",
       "\n",
       "    .dataframe tbody tr th {\n",
       "        vertical-align: top;\n",
       "    }\n",
       "</style>\n",
       "<table border=\"1\" class=\"dataframe\">\n",
       "  <thead>\n",
       "    <tr style=\"text-align: right;\">\n",
       "      <th></th>\n",
       "      <th>index</th>\n",
       "      <th>token</th>\n",
       "      <th>freq</th>\n",
       "    </tr>\n",
       "  </thead>\n",
       "  <tbody>\n",
       "    <tr>\n",
       "      <th>17130</th>\n",
       "      <td>17130</td>\n",
       "      <td>uv</td>\n",
       "      <td>38</td>\n",
       "    </tr>\n",
       "  </tbody>\n",
       "</table>\n",
       "</div>"
      ],
      "text/plain": [
       "       index token  freq\n",
       "17130  17130    uv    38"
      ]
     },
     "execution_count": 15,
     "metadata": {},
     "output_type": "execute_result"
    }
   ],
   "source": [
    "token_count[token_count['token']=='uv']"
   ]
  },
  {
   "cell_type": "code",
   "execution_count": 16,
   "metadata": {
    "collapsed": true
   },
   "outputs": [],
   "source": [
    "index_token_dict = pd.Series(reduced_token_count.token.values,index=reduced_token_count.index+1).to_dict()\n",
    "token_index_dict = pd.Series(reduced_token_count.index.values+1,index=reduced_token_count.token).to_dict()"
   ]
  },
  {
   "cell_type": "code",
   "execution_count": 17,
   "metadata": {
    "collapsed": true
   },
   "outputs": [],
   "source": [
    "tokenized_corpus = []\n",
    "for line in tokenized_comments:\n",
    "    line_token_idx = []\n",
    "    for t in line:\n",
    "        if t in reduced_token_set:\n",
    "            line_token_idx += [token_index_dict[t]]\n",
    "    tokenized_corpus += [line_token_idx]"
   ]
  },
  {
   "cell_type": "code",
   "execution_count": 60,
   "metadata": {
    "collapsed": true
   },
   "outputs": [],
   "source": [
    "MAX_SEQ_LENGTH=200\n",
    "tokenized_corpus_padded = pad_sequences(tokenized_corpus,maxlen=MAX_SEQ_LENGTH)"
   ]
  },
  {
   "cell_type": "markdown",
   "metadata": {},
   "source": [
    "### Load FastText embeddings"
   ]
  },
  {
   "cell_type": "code",
   "execution_count": 19,
   "metadata": {
    "collapsed": true
   },
   "outputs": [],
   "source": [
    "fasttext_model = gensim.models.Word2Vec.load(\"../wiki_fasttext_embed\")"
   ]
  },
  {
   "cell_type": "code",
   "execution_count": 20,
   "metadata": {},
   "outputs": [
    {
     "name": "stdout",
     "output_type": "stream",
     "text": [
      "88829\n",
      "(41286, 3)\n"
     ]
    }
   ],
   "source": [
    "print(len(fasttext_model.wv.vocab))\n",
    "print(reduced_token_count.shape)"
   ]
  },
  {
   "cell_type": "code",
   "execution_count": 21,
   "metadata": {},
   "outputs": [
    {
     "name": "stdout",
     "output_type": "stream",
     "text": [
      "(41287, 300)\n"
     ]
    }
   ],
   "source": [
    "V = len(reduced_token_set)+1\n",
    "EMBEDDING_DIM=300\n",
    "print((V,EMBEDDING_DIM))"
   ]
  },
  {
   "cell_type": "code",
   "execution_count": 22,
   "metadata": {},
   "outputs": [
    {
     "data": {
      "text/plain": [
       "(41287, 300)"
      ]
     },
     "execution_count": 22,
     "metadata": {},
     "output_type": "execute_result"
    }
   ],
   "source": [
    "embed_matrix = np.zeros((V,EMBEDDING_DIM))\n",
    "for token in token_index_dict.keys():\n",
    "    embed_matrix[token_index_dict[token]] = fasttext_model.wv[token]\n",
    "    \n",
    "embed_matrix.shape    "
   ]
  },
  {
   "cell_type": "code",
   "execution_count": 23,
   "metadata": {},
   "outputs": [
    {
     "data": {
      "text/plain": [
       "'bret'"
      ]
     },
     "execution_count": 23,
     "metadata": {},
     "output_type": "execute_result"
    }
   ],
   "source": [
    "index_token_dict[17001]"
   ]
  },
  {
   "cell_type": "code",
   "execution_count": 24,
   "metadata": {},
   "outputs": [
    {
     "data": {
      "text/plain": [
       "array([ 0.02984633, -0.27093416, -0.12651165,  0.09013478,  0.33145612,\n",
       "        0.03216681, -0.30315688, -0.16925091,  0.42607117, -0.22465536,\n",
       "        0.52975357,  0.17408866, -0.20125617,  0.04185129, -0.017332  ,\n",
       "       -0.06097405, -0.11582982,  0.06381077,  0.17901611, -0.14841729,\n",
       "       -0.1191977 ,  0.13019054, -0.08182178,  0.2349878 , -0.05191481,\n",
       "        0.10095929,  0.09024913,  0.16671804, -0.06742897,  0.06489798,\n",
       "       -0.1660945 ,  0.01988511, -0.19595882,  0.06875617, -0.11166582,\n",
       "        0.12774971,  0.23175517,  0.10941604, -0.12553677,  0.04425445,\n",
       "        0.11487369,  0.10569883, -0.09627014,  0.09342963, -0.03733277,\n",
       "        0.01809489, -0.05680862, -0.0530004 , -0.38647074, -0.09753998,\n",
       "       -0.02467549,  0.1435577 , -0.08357934, -0.30238232,  0.18086283,\n",
       "       -0.20289122,  0.04633207, -0.45302945,  0.06082628, -0.07791322,\n",
       "        0.01299717, -0.50664765,  0.36628804,  0.03040865, -0.33930805,\n",
       "        0.13470636,  0.14430322, -0.32390609, -0.10374179,  0.09724931,\n",
       "        0.02035499,  0.13275069, -0.23314117,  0.01331719, -0.22055684,\n",
       "        0.14106394,  0.10768924, -0.25605851,  0.33288071, -0.07326484,\n",
       "        0.13497916,  0.11672959,  0.21597849, -0.39590982,  0.03360585,\n",
       "       -0.15852709,  0.1683276 ,  0.31852016, -0.06974237, -0.02660418,\n",
       "        0.36426905,  0.01951229,  0.15401287, -0.53607148,  0.06122538,\n",
       "        0.07625677,  0.3378219 , -0.16560389, -0.13069041, -0.23925449,\n",
       "        0.00736516,  0.19043101,  0.25382972,  0.16665255,  0.25769407,\n",
       "        0.1294871 , -0.07504498,  0.02375386, -0.0859176 , -0.4254494 ,\n",
       "        0.13264184, -0.13514706,  0.27237669,  0.03838457, -0.03632291,\n",
       "        0.11500765, -0.13606282, -0.08275399, -0.42373219, -0.41425851,\n",
       "        0.11207046,  0.21856993, -0.1163258 ,  0.08343393, -0.03907306,\n",
       "        0.36818677,  0.03919132, -0.35955989, -0.46317789,  0.11535566,\n",
       "       -0.07247874, -0.03535481, -0.31779826,  0.02405356,  0.05634758,\n",
       "        0.22722548,  0.1570144 ,  0.06932312,  0.33038357, -0.09108236,\n",
       "        0.0276451 , -0.33940884, -0.11357976, -0.04801284, -0.06344296,\n",
       "       -0.05206786, -0.08494197, -0.0278859 ,  0.06559917,  0.21952628,\n",
       "        0.01262474, -0.10138359,  0.23651597,  0.06692858, -0.1601859 ,\n",
       "       -0.13044126, -0.0702259 , -0.16877903, -0.15875067, -0.07419992,\n",
       "       -0.0049689 ,  0.02041718, -0.06591386, -0.09526001, -0.13000938,\n",
       "       -0.2163886 ,  0.09215672,  0.22479627,  0.23655158, -0.21234795,\n",
       "       -0.04674239,  0.06930565, -0.07351993,  0.09923757, -0.0481557 ,\n",
       "        0.14511973,  0.08765047,  0.00558686, -0.16076674,  0.03091396,\n",
       "        0.41947392, -0.07544025, -0.10979518,  0.33180782,  0.28715631,\n",
       "       -0.32792535, -0.10041478,  0.02258362, -0.17998254,  0.12515666,\n",
       "        0.19158754,  0.08518349, -0.19483975,  0.07434566, -0.22331378,\n",
       "        0.05373462,  0.19139163,  0.27473781, -0.06049745,  0.21825087,\n",
       "       -0.05343652,  0.11536483, -0.00139822,  0.41188225, -0.21602088,\n",
       "       -0.16042016, -0.0473563 , -0.00563823, -0.14127499, -0.08722228,\n",
       "       -0.23418544,  0.01517113, -0.01515883, -0.2914139 , -0.1516986 ,\n",
       "       -0.4616977 ,  0.06247145, -0.02346656,  0.40686622, -0.0886476 ,\n",
       "       -0.35985237,  0.18588108, -0.05747668, -0.07430772,  0.31408125,\n",
       "       -0.10849356, -0.00132253, -0.00192328, -0.52200675, -0.08132095,\n",
       "       -0.02796925,  0.11082751, -0.21265401,  0.2088947 ,  0.24273416,\n",
       "        0.42083496,  0.00802158, -0.25332472, -0.06884426,  0.25043774,\n",
       "       -0.32637313,  0.0547492 , -0.10520481, -0.08999756,  0.10387719,\n",
       "        0.19561794, -0.13523749,  0.27513623, -0.45891419,  0.40459761,\n",
       "        0.02976827,  0.04287973,  0.01539516,  0.00240265,  0.24031602,\n",
       "       -0.28935796, -0.25254872, -0.40599597, -0.26202324, -0.01179763,\n",
       "       -0.19940135,  0.27273515, -0.17476948,  0.05466141,  0.14738598,\n",
       "       -0.02261688, -0.22293977, -0.10667712, -0.18780382,  0.13704036,\n",
       "        0.2236764 ,  0.14235528,  0.2915906 , -0.05048365,  0.30608475,\n",
       "        0.34598157, -0.14840539, -0.12594473, -0.08046126,  0.0756394 ,\n",
       "        0.12478794,  0.11073785, -0.10471868, -0.12739521, -0.02121218,\n",
       "       -0.04167569,  0.01226305, -0.05426764, -0.10527726,  0.12812723,\n",
       "        0.18126519,  0.07269615,  0.03474371,  0.02609856,  0.02192949,\n",
       "       -0.43385121, -0.09516349,  0.2152476 ,  0.08286572,  0.16493899])"
      ]
     },
     "execution_count": 24,
     "metadata": {},
     "output_type": "execute_result"
    }
   ],
   "source": [
    "embed_matrix[17002]"
   ]
  },
  {
   "cell_type": "markdown",
   "metadata": {},
   "source": [
    "### Split training data into train,valid sets"
   ]
  },
  {
   "cell_type": "code",
   "execution_count": 61,
   "metadata": {
    "collapsed": true
   },
   "outputs": [],
   "source": [
    "labels0,tokenized_corpus_padded0 = shuffle(labels,tokenized_corpus_padded)"
   ]
  },
  {
   "cell_type": "code",
   "execution_count": 62,
   "metadata": {
    "collapsed": true
   },
   "outputs": [],
   "source": [
    "clean_comment = np.zeros(shape=[labels.shape[0]])\n",
    "clean_comment[np.max(labels,axis=1)==0] = 1"
   ]
  },
  {
   "cell_type": "code",
   "execution_count": 63,
   "metadata": {
    "collapsed": true
   },
   "outputs": [],
   "source": [
    "labels_train,labels_valid, \\\n",
    "seq_train,seq_valid  = \\\n",
    "train_test_split(labels0,tokenized_corpus_padded0,\\\n",
    "                 test_size=0.2,stratify=clean_comment)"
   ]
  },
  {
   "cell_type": "markdown",
   "metadata": {},
   "source": [
    "## Convolutional model\n",
    "Same architecture as for w2v experiments"
   ]
  },
  {
   "cell_type": "code",
   "execution_count": 58,
   "metadata": {
    "collapsed": true
   },
   "outputs": [],
   "source": [
    "# Sequence input\n",
    "sequence_input = Input(shape=(MAX_SEQ_LENGTH,),dtype='int32',name='Input')\n",
    "\n",
    "# Embedding lookup\n",
    "embed_seq_unmasked = Embedding(input_dim=V\n",
    "                              ,output_dim=EMBEDDING_DIM\n",
    "                              ,weights=[embed_matrix]\n",
    "                              ,input_length=300\n",
    "                              ,trainable=False\n",
    "                              ,mask_zero=False\n",
    "                              ,name='Embedding')(sequence_input)"
   ]
  },
  {
   "cell_type": "code",
   "execution_count": 31,
   "metadata": {
    "collapsed": true
   },
   "outputs": [],
   "source": [
    "# Convolutional layers: width 7\n",
    "Conv7_layer = Conv1D(64,7,activation='sigmoid',padding='same')(embed_seq_unmasked)\n",
    "Conv7_layer = MaxPooling1D(2)(Conv7_layer)\n",
    "Conv7_layer = Conv1D(64,7,activation='sigmoid',padding='same')(Conv7_layer)\n",
    "Conv7_layer = GlobalMaxPool1D()(Conv7_layer)\n",
    "Conv7_layer = Dropout(0.5)(Conv7_layer)"
   ]
  },
  {
   "cell_type": "code",
   "execution_count": 32,
   "metadata": {
    "collapsed": true
   },
   "outputs": [],
   "source": [
    "Conv_dense = Dense(32,activation='relu',kernel_regularizer=regularizers.l2(0.0001))(Conv7_layer)\n",
    "Conv_output = Dense(6, activation=\"sigmoid\")(Conv_dense)"
   ]
  },
  {
   "cell_type": "code",
   "execution_count": 33,
   "metadata": {},
   "outputs": [
    {
     "name": "stdout",
     "output_type": "stream",
     "text": [
      "_________________________________________________________________\n",
      "Layer (type)                 Output Shape              Param #   \n",
      "=================================================================\n",
      "Input (InputLayer)           (None, 300)               0         \n",
      "_________________________________________________________________\n",
      "Embedding (Embedding)        (None, 300, 150)          6193050   \n",
      "_________________________________________________________________\n",
      "conv1d_1 (Conv1D)            (None, 300, 64)           67264     \n",
      "_________________________________________________________________\n",
      "max_pooling1d_1 (MaxPooling1 (None, 150, 64)           0         \n",
      "_________________________________________________________________\n",
      "conv1d_2 (Conv1D)            (None, 150, 64)           28736     \n",
      "_________________________________________________________________\n",
      "global_max_pooling1d_1 (Glob (None, 64)                0         \n",
      "_________________________________________________________________\n",
      "dropout_1 (Dropout)          (None, 64)                0         \n",
      "_________________________________________________________________\n",
      "dense_1 (Dense)              (None, 32)                2080      \n",
      "_________________________________________________________________\n",
      "dense_2 (Dense)              (None, 6)                 198       \n",
      "=================================================================\n",
      "Total params: 6,291,328\n",
      "Trainable params: 98,278\n",
      "Non-trainable params: 6,193,050\n",
      "_________________________________________________________________\n"
     ]
    }
   ],
   "source": [
    "cnn_model = Model(inputs=sequence_input, outputs=Conv_output)\n",
    "cnn_model.compile(loss='binary_crossentropy', optimizer='adam', metrics=['accuracy'])\n",
    "cnn_model.summary()"
   ]
  },
  {
   "cell_type": "code",
   "execution_count": 38,
   "metadata": {},
   "outputs": [
    {
     "name": "stdout",
     "output_type": "stream",
     "text": [
      "Train on 76680 samples, validate on 19171 samples\n",
      "Epoch 1/6\n",
      "76680/76680 [==============================] - 441s - loss: 0.0755 - acc: 0.9759 - val_loss: 0.0541 - val_acc: 0.9809\n",
      "Epoch 2/6\n",
      "76680/76680 [==============================] - 440s - loss: 0.0560 - acc: 0.9805 - val_loss: 0.0517 - val_acc: 0.9819\n",
      "Epoch 3/6\n",
      "76680/76680 [==============================] - 441s - loss: 0.0523 - acc: 0.9812 - val_loss: 0.0506 - val_acc: 0.9819\n",
      "Epoch 4/6\n",
      "76680/76680 [==============================] - 440s - loss: 0.0492 - acc: 0.9819 - val_loss: 0.0509 - val_acc: 0.9820\n",
      "Epoch 5/6\n",
      "76680/76680 [==============================] - 440s - loss: 0.0467 - acc: 0.9826 - val_loss: 0.0497 - val_acc: 0.9816\n",
      "Epoch 6/6\n",
      "76680/76680 [==============================] - 442s - loss: 0.0438 - acc: 0.9836 - val_loss: 0.0522 - val_acc: 0.9817\n"
     ]
    }
   ],
   "source": [
    "history_CNN = cnn_model.fit(seq_train,labels_train\n",
    "                           ,epochs=6\n",
    "                           ,batch_size=16\n",
    "                           ,validation_data=(seq_valid,labels_valid)\n",
    "                           ,verbose=1)"
   ]
  },
  {
   "cell_type": "code",
   "execution_count": 39,
   "metadata": {},
   "outputs": [
    {
     "data": {
      "text/plain": [
       "<matplotlib.text.Text at 0x19cbb6dd8>"
      ]
     },
     "execution_count": 39,
     "metadata": {},
     "output_type": "execute_result"
    },
    {
     "data": {
      "image/png": "[encoded data removed]",
      "text/plain": [
       "<matplotlib.figure.Figure at 0x18d8b6908>"
      ]
     },
     "metadata": {},
     "output_type": "display_data"
    }
   ],
   "source": [
    "plt.figure(figsize=(12,6))\n",
    "plt.suptitle(\"Convolutional sequence model with FastText input\")\n",
    "#plt.subplot(121)\n",
    "plt.plot(history_CNN.history['loss'],'-o',label='train')\n",
    "plt.plot(history_CNN.history['val_loss'],'-o',label='test')\n",
    "plt.legend()\n",
    "plt.xlabel('epoch',fontsize=14)\n",
    "plt.ylabel('loss',fontsize=14)"
   ]
  },
  {
   "cell_type": "code",
   "execution_count": 40,
   "metadata": {},
   "outputs": [
    {
     "data": {
      "text/plain": [
       "0.049671591895302444"
      ]
     },
     "execution_count": 40,
     "metadata": {},
     "output_type": "execute_result"
    }
   ],
   "source": [
    "np.min(history_CNN.history['val_loss'])"
   ]
  },
  {
   "cell_type": "markdown",
   "metadata": {
    "collapsed": true
   },
   "source": [
    "### Try using Figshare Conv layers to initialize model..."
   ]
  },
  {
   "cell_type": "code",
   "execution_count": 51,
   "metadata": {
    "collapsed": true
   },
   "outputs": [],
   "source": [
    "figshare_cnn_model = load_model(\"figshare_rating_cnn\")"
   ]
  },
  {
   "cell_type": "code",
   "execution_count": 66,
   "metadata": {},
   "outputs": [
    {
     "name": "stdout",
     "output_type": "stream",
     "text": [
      "_________________________________________________________________\n",
      "Layer (type)                 Output Shape              Param #   \n",
      "=================================================================\n",
      "Input (InputLayer)           (None, 200)               0         \n",
      "_________________________________________________________________\n",
      "Embedding (Embedding)        (None, 200, 300)          12386100  \n",
      "_________________________________________________________________\n",
      "conv1d_3 (Conv1D)            (None, 200, 64)           134464    \n",
      "_________________________________________________________________\n",
      "max_pooling1d_2 (MaxPooling1 (None, 100, 64)           0         \n",
      "_________________________________________________________________\n",
      "conv1d_4 (Conv1D)            (None, 100, 64)           28736     \n",
      "_________________________________________________________________\n",
      "global_max_pooling1d_2 (Glob (None, 64)                0         \n",
      "_________________________________________________________________\n",
      "dropout_2 (Dropout)          (None, 64)                0         \n",
      "_________________________________________________________________\n",
      "dense_5 (Dense)              (None, 32)                2080      \n",
      "_________________________________________________________________\n",
      "dense_6 (Dense)              (None, 1)                 33        \n",
      "=================================================================\n",
      "Total params: 12,551,413\n",
      "Trainable params: 165,313\n",
      "Non-trainable params: 12,386,100\n",
      "_________________________________________________________________\n"
     ]
    }
   ],
   "source": [
    "figshare_cnn_model.summary()"
   ]
  },
  {
   "cell_type": "code",
   "execution_count": 75,
   "metadata": {},
   "outputs": [],
   "source": [
    "figshare_frst8layers = figshare_cnn_model.get_layer('dense_5').output"
   ]
  },
  {
   "cell_type": "code",
   "execution_count": 76,
   "metadata": {},
   "outputs": [],
   "source": [
    "Conv_FS_output = Dense(6, activation=\"sigmoid\")(figshare_frst8layers)"
   ]
  },
  {
   "cell_type": "code",
   "execution_count": 77,
   "metadata": {},
   "outputs": [
    {
     "name": "stdout",
     "output_type": "stream",
     "text": [
      "_________________________________________________________________\n",
      "Layer (type)                 Output Shape              Param #   \n",
      "=================================================================\n",
      "Input (InputLayer)           (None, 200)               0         \n",
      "_________________________________________________________________\n",
      "Embedding (Embedding)        (None, 200, 300)          12386100  \n",
      "_________________________________________________________________\n",
      "conv1d_3 (Conv1D)            (None, 200, 64)           134464    \n",
      "_________________________________________________________________\n",
      "max_pooling1d_2 (MaxPooling1 (None, 100, 64)           0         \n",
      "_________________________________________________________________\n",
      "conv1d_4 (Conv1D)            (None, 100, 64)           28736     \n",
      "_________________________________________________________________\n",
      "global_max_pooling1d_2 (Glob (None, 64)                0         \n",
      "_________________________________________________________________\n",
      "dropout_2 (Dropout)          (None, 64)                0         \n",
      "_________________________________________________________________\n",
      "dense_5 (Dense)              (None, 32)                2080      \n",
      "_________________________________________________________________\n",
      "dense_7 (Dense)              (None, 6)                 198       \n",
      "=================================================================\n",
      "Total params: 12,551,578\n",
      "Trainable params: 165,478\n",
      "Non-trainable params: 12,386,100\n",
      "_________________________________________________________________\n"
     ]
    }
   ],
   "source": [
    "cnn_fs_model = Model(inputs=figshare_cnn_model.input, outputs=Conv_FS_output)\n",
    "cnn_fs_model.compile(loss='binary_crossentropy', optimizer='adam', metrics=['accuracy'])\n",
    "cnn_fs_model.summary()"
   ]
  },
  {
   "cell_type": "code",
   "execution_count": 79,
   "metadata": {},
   "outputs": [
    {
     "name": "stdout",
     "output_type": "stream",
     "text": [
      "Train on 76680 samples, validate on 19171 samples\n",
      "Epoch 1/6\n",
      "76680/76680 [==============================] - 442s - loss: 0.0744 - acc: 0.9767 - val_loss: 0.0593 - val_acc: 0.9801\n",
      "Epoch 2/6\n",
      "76680/76680 [==============================] - 456s - loss: 0.0610 - acc: 0.9797 - val_loss: 0.0674 - val_acc: 0.9788\n",
      "Epoch 3/6\n",
      "76680/76680 [==============================] - 3258s - loss: 0.0549 - acc: 0.9812 - val_loss: 0.0572 - val_acc: 0.9803\n",
      "Epoch 4/6\n",
      "76680/76680 [==============================] - 447s - loss: 0.0499 - acc: 0.9824 - val_loss: 0.0635 - val_acc: 0.9796\n",
      "Epoch 5/6\n",
      "76680/76680 [==============================] - 449s - loss: 0.0457 - acc: 0.9835 - val_loss: 0.0643 - val_acc: 0.9778\n",
      "Epoch 6/6\n",
      "76680/76680 [==============================] - 451s - loss: 0.0422 - acc: 0.9844 - val_loss: 0.0614 - val_acc: 0.9795\n"
     ]
    }
   ],
   "source": [
    "history_figshare_CNN = cnn_fs_model.fit(seq_train,labels_train\n",
    "                           ,epochs=6\n",
    "                           ,batch_size=16\n",
    "                           ,validation_data=(seq_valid,labels_valid)\n",
    "                           ,verbose=1)"
   ]
  },
  {
   "cell_type": "code",
   "execution_count": 83,
   "metadata": {},
   "outputs": [
    {
     "data": {
      "text/plain": [
       "<matplotlib.text.Text at 0x182470fd0>"
      ]
     },
     "execution_count": 83,
     "metadata": {},
     "output_type": "execute_result"
    },
    {
     "data": {
      "image/png": "[encoded data removed]",
      "text/plain": [
       "<matplotlib.figure.Figure at 0x181090a58>"
      ]
     },
     "metadata": {},
     "output_type": "display_data"
    }
   ],
   "source": [
    "plt.figure(figsize=(12,6))\n",
    "plt.suptitle(\"ConvNet with FastText input + Figshare pre-training\")\n",
    "#plt.subplot(121)\n",
    "plt.plot(history_figshare_CNN.history['loss'],'-o',label='train')\n",
    "plt.plot(history_figshare_CNN.history['val_loss'],'-o',label='valid')\n",
    "plt.legend()\n",
    "plt.xlabel('epoch',fontsize=14)\n",
    "plt.ylabel('loss',fontsize=14)"
   ]
  },
  {
   "cell_type": "markdown",
   "metadata": {},
   "source": [
    "Well... that didn't seem to help at all. Moving on!"
   ]
  },
  {
   "cell_type": "markdown",
   "metadata": {},
   "source": [
    "### LSTM model\n",
    "Keep same architecture as w2v experiment"
   ]
  },
  {
   "cell_type": "code",
   "execution_count": 84,
   "metadata": {},
   "outputs": [
    {
     "data": {
      "text/plain": [
       "200"
      ]
     },
     "execution_count": 84,
     "metadata": {},
     "output_type": "execute_result"
    }
   ],
   "source": [
    "MAX_SEQ_LENGTH"
   ]
  },
  {
   "cell_type": "code",
   "execution_count": 85,
   "metadata": {
    "collapsed": true
   },
   "outputs": [],
   "source": [
    "# Sequence input\n",
    "sequence_input = Input(shape=(MAX_SEQ_LENGTH,),dtype='int32',name='Input')\n",
    "\n",
    "# Embedding lookup\n",
    "embed_seq_unmasked = Embedding(input_dim=V\n",
    "                              ,output_dim=EMBEDDING_DIM\n",
    "                              ,weights=[embed_matrix]\n",
    "                              ,input_length=MAX_SEQ_LENGTH\n",
    "                              ,trainable=False\n",
    "                              ,mask_zero=False\n",
    "                              ,name='Embedding')(sequence_input)"
   ]
  },
  {
   "cell_type": "code",
   "execution_count": 87,
   "metadata": {},
   "outputs": [],
   "source": [
    "recurrent_layer = Bidirectional(LSTM(30, return_sequences=True))(embed_seq_unmasked) #dropout=0.1, recurrent_dropout=0.1\n",
    "recurrent_layer = GlobalMaxPool1D()(recurrent_layer)\n",
    "recurrent_layer = Dropout(0.5)(recurrent_layer)"
   ]
  },
  {
   "cell_type": "code",
   "execution_count": 89,
   "metadata": {},
   "outputs": [],
   "source": [
    "rnn_dense = Dense(16,activation='relu',kernel_regularizer=regularizers.l2(0.0001))(recurrent_layer)\n",
    "rnn_output = Dense(6, activation=\"sigmoid\")(rnn_dense)"
   ]
  },
  {
   "cell_type": "code",
   "execution_count": 91,
   "metadata": {},
   "outputs": [
    {
     "name": "stdout",
     "output_type": "stream",
     "text": [
      "_________________________________________________________________\n",
      "Layer (type)                 Output Shape              Param #   \n",
      "=================================================================\n",
      "Input (InputLayer)           (None, 200)               0         \n",
      "_________________________________________________________________\n",
      "Embedding (Embedding)        (None, 200, 300)          12386100  \n",
      "_________________________________________________________________\n",
      "bidirectional_2 (Bidirection (None, 200, 60)           79440     \n",
      "_________________________________________________________________\n",
      "global_max_pooling1d_1 (Glob (None, 60)                0         \n",
      "_________________________________________________________________\n",
      "dropout_1 (Dropout)          (None, 60)                0         \n",
      "_________________________________________________________________\n",
      "dense_9 (Dense)              (None, 16)                976       \n",
      "_________________________________________________________________\n",
      "dense_10 (Dense)             (None, 6)                 102       \n",
      "=================================================================\n",
      "Total params: 12,466,618\n",
      "Trainable params: 80,518\n",
      "Non-trainable params: 12,386,100\n",
      "_________________________________________________________________\n"
     ]
    },
    {
     "name": "stderr",
     "output_type": "stream",
     "text": [
      "/Users/ChadMorgan/anaconda/lib/python3.6/site-packages/ipykernel_launcher.py:1: UserWarning: Update your `Model` call to the Keras 2 API: `Model(inputs=Tensor(\"In..., outputs=Tensor(\"de...)`\n",
      "  \"\"\"Entry point for launching an IPython kernel.\n"
     ]
    }
   ],
   "source": [
    "lstm_model = Model(inputs=sequence_input, output=rnn_output)\n",
    "lstm_model.compile(loss='binary_crossentropy', optimizer='adam', metrics=['accuracy'])\n",
    "lstm_model.summary()"
   ]
  },
  {
   "cell_type": "code",
   "execution_count": 94,
   "metadata": {},
   "outputs": [
    {
     "name": "stdout",
     "output_type": "stream",
     "text": [
      "Train on 76680 samples, validate on 19171 samples\n",
      "Epoch 1/3\n",
      "76680/76680 [==============================] - 2688s - loss: 0.0605 - acc: 0.9794 - val_loss: 0.0498 - val_acc: 0.9816\n",
      "Epoch 2/3\n",
      "76680/76680 [==============================] - 2674s - loss: 0.0521 - acc: 0.9816 - val_loss: 0.0487 - val_acc: 0.9820\n",
      "Epoch 3/3\n",
      "76680/76680 [==============================] - 2644s - loss: 0.0491 - acc: 0.9822 - val_loss: 0.0457 - val_acc: 0.9828\n",
      "CPU times: user 4h 7min 29s, sys: 1h 45min 12s, total: 5h 52min 42s\n",
      "Wall time: 2h 13min 26s\n"
     ]
    }
   ],
   "source": [
    "%%time\n",
    "history_LSTM = lstm_model.fit(seq_train,labels_train\n",
    "                           ,epochs=3\n",
    "                           ,batch_size=16\n",
    "                           ,validation_data=(seq_valid,labels_valid)\n",
    "                           ,verbose=1)"
   ]
  },
  {
   "cell_type": "code",
   "execution_count": 95,
   "metadata": {
    "collapsed": true
   },
   "outputs": [],
   "source": [
    "lstm_model.save(\"fasttext300_lstm30\")"
   ]
  },
  {
   "cell_type": "code",
   "execution_count": null,
   "metadata": {
    "collapsed": true
   },
   "outputs": [],
   "source": []
  },
  {
   "cell_type": "code",
   "execution_count": 96,
   "metadata": {},
   "outputs": [
    {
     "data": {
      "text/plain": [
       "<matplotlib.text.Text at 0x180fed748>"
      ]
     },
     "execution_count": 96,
     "metadata": {},
     "output_type": "execute_result"
    },
    {
     "data": {
      "image/png": "[encoded data removed]",
      "text/plain": [
       "<matplotlib.figure.Figure at 0x18101d208>"
      ]
     },
     "metadata": {},
     "output_type": "display_data"
    }
   ],
   "source": [
    "plt.figure(figsize=(12,6))\n",
    "plt.suptitle(\"LSTM with 300dim FastText\")\n",
    "plt.plot(history_LSTM.history['loss'],'-o',label='train')\n",
    "plt.plot(history_LSTM.history['val_loss'],'-o',label='test')\n",
    "plt.legend()\n",
    "plt.xlabel('epoch',fontsize=14)\n",
    "plt.ylabel('loss',fontsize=14)"
   ]
  },
  {
   "cell_type": "markdown",
   "metadata": {},
   "source": [
    "### Kaggle evaluation set scoring"
   ]
  },
  {
   "cell_type": "code",
   "execution_count": 97,
   "metadata": {
    "collapsed": true
   },
   "outputs": [],
   "source": [
    "tokenized_test = []\n",
    "for line in test_comments:\n",
    "    line_token_idx = []\n",
    "    for t in line:\n",
    "        if t in reduced_token_set:\n",
    "            line_token_idx += [token_index_dict[t]]\n",
    "    tokenized_test += [line_token_idx]"
   ]
  },
  {
   "cell_type": "code",
   "execution_count": 98,
   "metadata": {
    "collapsed": true
   },
   "outputs": [],
   "source": [
    "tokenized_test_padded = pad_sequences(tokenized_test,maxlen=200)"
   ]
  },
  {
   "cell_type": "code",
   "execution_count": 99,
   "metadata": {
    "collapsed": true
   },
   "outputs": [],
   "source": [
    "lstm_kaggle_predict = lstm_model.predict(tokenized_test_padded)"
   ]
  },
  {
   "cell_type": "code",
   "execution_count": 125,
   "metadata": {},
   "outputs": [
    {
     "data": {
      "text/plain": [
       "array([0.04081488, 0.00389366, 0.0196001 , 0.0017752 , 0.01845872,\n",
       "       0.00375234], dtype=float32)"
      ]
     },
     "execution_count": 125,
     "metadata": {},
     "output_type": "execute_result"
    }
   ],
   "source": [
    "np.mean(lstm_kaggle_predict,axis=0)"
   ]
  },
  {
   "cell_type": "code",
   "execution_count": 100,
   "metadata": {},
   "outputs": [
    {
     "name": "stdout",
     "output_type": "stream",
     "text": [
      "(226998, 6)\n"
     ]
    }
   ],
   "source": [
    "kaggle_submit = pd.DataFrame(lstm_kaggle_predict)\n",
    "print(kaggle_submit.shape)\n",
    "kaggle_submit.columns = ['toxic', 'severe_toxic', 'obscene', 'threat','insult', 'identity_hate']"
   ]
  },
  {
   "cell_type": "code",
   "execution_count": 101,
   "metadata": {},
   "outputs": [
    {
     "data": {
      "text/html": [
       "<div>\n",
       "<style>\n",
       "    .dataframe thead tr:only-child th {\n",
       "        text-align: right;\n",
       "    }\n",
       "\n",
       "    .dataframe thead th {\n",
       "        text-align: left;\n",
       "    }\n",
       "\n",
       "    .dataframe tbody tr th {\n",
       "        vertical-align: top;\n",
       "    }\n",
       "</style>\n",
       "<table border=\"1\" class=\"dataframe\">\n",
       "  <thead>\n",
       "    <tr style=\"text-align: right;\">\n",
       "      <th></th>\n",
       "      <th>id</th>\n",
       "      <th>toxic</th>\n",
       "      <th>severe_toxic</th>\n",
       "      <th>obscene</th>\n",
       "      <th>threat</th>\n",
       "      <th>insult</th>\n",
       "      <th>identity_hate</th>\n",
       "    </tr>\n",
       "  </thead>\n",
       "  <tbody>\n",
       "    <tr>\n",
       "      <th>0</th>\n",
       "      <td>6044863</td>\n",
       "      <td>0.002642</td>\n",
       "      <td>6.342337e-06</td>\n",
       "      <td>0.000332</td>\n",
       "      <td>0.000040</td>\n",
       "      <td>0.000257</td>\n",
       "      <td>0.000083</td>\n",
       "    </tr>\n",
       "    <tr>\n",
       "      <th>1</th>\n",
       "      <td>6102620</td>\n",
       "      <td>0.001030</td>\n",
       "      <td>9.776885e-07</td>\n",
       "      <td>0.000139</td>\n",
       "      <td>0.000009</td>\n",
       "      <td>0.000089</td>\n",
       "      <td>0.000024</td>\n",
       "    </tr>\n",
       "    <tr>\n",
       "      <th>2</th>\n",
       "      <td>14563293</td>\n",
       "      <td>0.000930</td>\n",
       "      <td>9.055578e-07</td>\n",
       "      <td>0.000134</td>\n",
       "      <td>0.000008</td>\n",
       "      <td>0.000077</td>\n",
       "      <td>0.000020</td>\n",
       "    </tr>\n",
       "    <tr>\n",
       "      <th>3</th>\n",
       "      <td>21086297</td>\n",
       "      <td>0.002222</td>\n",
       "      <td>8.856232e-06</td>\n",
       "      <td>0.000271</td>\n",
       "      <td>0.000050</td>\n",
       "      <td>0.000200</td>\n",
       "      <td>0.000081</td>\n",
       "    </tr>\n",
       "    <tr>\n",
       "      <th>4</th>\n",
       "      <td>22982444</td>\n",
       "      <td>0.006696</td>\n",
       "      <td>5.631140e-05</td>\n",
       "      <td>0.000949</td>\n",
       "      <td>0.000234</td>\n",
       "      <td>0.000782</td>\n",
       "      <td>0.000344</td>\n",
       "    </tr>\n",
       "  </tbody>\n",
       "</table>\n",
       "</div>"
      ],
      "text/plain": [
       "         id     toxic  severe_toxic   obscene    threat    insult  \\\n",
       "0   6044863  0.002642  6.342337e-06  0.000332  0.000040  0.000257   \n",
       "1   6102620  0.001030  9.776885e-07  0.000139  0.000009  0.000089   \n",
       "2  14563293  0.000930  9.055578e-07  0.000134  0.000008  0.000077   \n",
       "3  21086297  0.002222  8.856232e-06  0.000271  0.000050  0.000200   \n",
       "4  22982444  0.006696  5.631140e-05  0.000949  0.000234  0.000782   \n",
       "\n",
       "   identity_hate  \n",
       "0       0.000083  \n",
       "1       0.000024  \n",
       "2       0.000020  \n",
       "3       0.000081  \n",
       "4       0.000344  "
      ]
     },
     "execution_count": 101,
     "metadata": {},
     "output_type": "execute_result"
    }
   ],
   "source": [
    "kaggle_submit['id'] = testdat['id']\n",
    "kaggle_submit = kaggle_submit[['id','toxic', 'severe_toxic', 'obscene', 'threat','insult', 'identity_hate']]\n",
    "kaggle_submit.head()"
   ]
  },
  {
   "cell_type": "code",
   "execution_count": 103,
   "metadata": {
    "collapsed": true
   },
   "outputs": [],
   "source": [
    "kaggle_submit.to_csv(\"../300fasttext_bilstm_3e_submit.csv\",index=False)"
   ]
  },
  {
   "cell_type": "markdown",
   "metadata": {},
   "source": [
    "## Evaluate and score on new competition datasets\n",
    "\n",
    "We have a new training and test set! Time to see how my best existing model does on it.."
   ]
  },
  {
   "cell_type": "code",
   "execution_count": 108,
   "metadata": {},
   "outputs": [
    {
     "data": {
      "text/plain": [
       "(159571, 8)"
      ]
     },
     "execution_count": 108,
     "metadata": {},
     "output_type": "execute_result"
    }
   ],
   "source": [
    "# Read in new training set\n",
    "full_train = pd.read_csv('../train.csv')\n",
    "full_train.shape"
   ]
  },
  {
   "cell_type": "code",
   "execution_count": 109,
   "metadata": {
    "collapsed": true
   },
   "outputs": [],
   "source": [
    "labels = np.array(full_train[['toxic', 'severe_toxic', 'obscene', 'threat','insult', 'identity_hate']])"
   ]
  },
  {
   "cell_type": "code",
   "execution_count": 110,
   "metadata": {
    "collapsed": true
   },
   "outputs": [],
   "source": [
    "comments=full_train['comment_text'].tolist()"
   ]
  },
  {
   "cell_type": "code",
   "execution_count": 111,
   "metadata": {
    "collapsed": true
   },
   "outputs": [],
   "source": [
    "token_dict = {}\n",
    "token_set = set()\n",
    "tokenized_comments = copy.copy(comments)\n",
    "for i in range(len(tokenized_comments)):\n",
    "    tokenized_comments[i] = re.sub(\"\\n\",' ',tokenized_comments[i])\n",
    "    tokenized_comments[i] = re.sub(\"\\t\",' ',tokenized_comments[i])\n",
    "    tokenized_comments[i] = re.sub(\"[^A-Za-z'\\*\\- ]\",' ',tokenized_comments[i])\n",
    "    tokenized_comments[i] = re.sub(\" +\",' ',tokenized_comments[i])\n",
    "    tokenized_comments[i] = re.sub(\"'+\",\"'\",tokenized_comments[i])    \n",
    "    tokenized_comments[i] = re.sub(\"\\*+\",\"\\*\",tokenized_comments[i])   \n",
    "    tokenized_comments[i] = re.sub(\"\\-+\",\"\\-\",tokenized_comments[i])\n",
    "    tokenized_comments[i] = tokenized_comments[i].lower().strip()\n",
    "    tokenized_comments[i] = tokenized_comments[i].split(' ')\n",
    "    line_dict = {}\n",
    "    line_set = set()\n",
    "    for token in tokenized_comments[i]:        \n",
    "        if token in token_set:\n",
    "            token_dict[token] += 1\n",
    "        else:\n",
    "            token_set.add(token)\n",
    "            token_dict[token] = 1"
   ]
  },
  {
   "cell_type": "code",
   "execution_count": 112,
   "metadata": {},
   "outputs": [
    {
     "data": {
      "text/plain": [
       "(153164, 2)"
      ]
     },
     "execution_count": 112,
     "metadata": {},
     "output_type": "execute_result"
    }
   ],
   "source": [
    "# Read in test data\n",
    "testdat = pd.read_csv('../test.csv')\n",
    "testdat.shape"
   ]
  },
  {
   "cell_type": "code",
   "execution_count": 113,
   "metadata": {
    "collapsed": true
   },
   "outputs": [],
   "source": [
    "test_comments0 = testdat['comment_text'].tolist()"
   ]
  },
  {
   "cell_type": "code",
   "execution_count": 114,
   "metadata": {
    "collapsed": true
   },
   "outputs": [],
   "source": [
    "test_comments0 = testdat['comment_text'].tolist()\n",
    "test_comments = copy.copy(test_comments0)\n",
    "for i in range(len(test_comments)):\n",
    "    if type(test_comments[i]) is float:\n",
    "        print(i,test_comments[i])\n",
    "        test_comments[i]=[]\n",
    "    else:\n",
    "        test_comments[i] = re.sub(\"\\n\",' ',test_comments[i])\n",
    "        test_comments[i] = re.sub(\"\\t\",' ',test_comments[i])\n",
    "        test_comments[i] = re.sub(\"[^A-Za-z'\\*\\- ]\",' ',test_comments[i])\n",
    "        test_comments[i] = re.sub(\" +\",' ',test_comments[i])\n",
    "        test_comments[i] = re.sub(\"'+\",\"'\",test_comments[i])    \n",
    "        test_comments[i] = re.sub(\"\\*+\",\"\\*\",test_comments[i])   \n",
    "        test_comments[i] = re.sub(\"\\-+\",\"\\-\",test_comments[i])\n",
    "        test_comments[i] = test_comments[i].lower().strip()\n",
    "        test_comments[i] = test_comments[i].split(' ')\n",
    "        for token in test_comments[i]:        \n",
    "            if token in token_set:\n",
    "                token_dict[token] += 1\n",
    "            else:\n",
    "                token_set.add(token)\n",
    "                token_dict[token] = 1  "
   ]
  },
  {
   "cell_type": "code",
   "execution_count": 116,
   "metadata": {
    "collapsed": true
   },
   "outputs": [],
   "source": [
    "# Tokenized corpus\n",
    "tokenized_corpus = []\n",
    "for line in tokenized_comments:\n",
    "    line_token_idx = []\n",
    "    for t in line:\n",
    "        if t in reduced_token_set:\n",
    "            line_token_idx += [token_index_dict[t]]\n",
    "    tokenized_corpus += [line_token_idx]"
   ]
  },
  {
   "cell_type": "code",
   "execution_count": 117,
   "metadata": {
    "collapsed": true
   },
   "outputs": [],
   "source": [
    "tokenized_corpus_padded = pad_sequences(tokenized_corpus,maxlen=MAX_SEQ_LENGTH)"
   ]
  },
  {
   "cell_type": "code",
   "execution_count": 118,
   "metadata": {
    "collapsed": true
   },
   "outputs": [],
   "source": [
    "predict_new_train = lstm_model.predict(tokenized_corpus_padded)"
   ]
  },
  {
   "cell_type": "code",
   "execution_count": 126,
   "metadata": {},
   "outputs": [
    {
     "data": {
      "text/plain": [
       "array([0.09455352, 0.01146149, 0.0535958 , 0.00424603, 0.05066519,\n",
       "       0.01010244], dtype=float32)"
      ]
     },
     "execution_count": 126,
     "metadata": {},
     "output_type": "execute_result"
    }
   ],
   "source": [
    "np.mean(predict_new_train,axis=0)"
   ]
  },
  {
   "cell_type": "code",
   "execution_count": 122,
   "metadata": {
    "collapsed": true
   },
   "outputs": [],
   "source": [
    "tokenized_test = []\n",
    "for line in test_comments:\n",
    "    line_token_idx = []\n",
    "    for t in line:\n",
    "        if t in reduced_token_set:\n",
    "            line_token_idx += [token_index_dict[t]]\n",
    "    tokenized_test += [line_token_idx]"
   ]
  },
  {
   "cell_type": "code",
   "execution_count": 123,
   "metadata": {
    "collapsed": true
   },
   "outputs": [],
   "source": [
    "tokenized_test_padded = pad_sequences(tokenized_test,maxlen=200)"
   ]
  },
  {
   "cell_type": "code",
   "execution_count": 127,
   "metadata": {
    "collapsed": true
   },
   "outputs": [],
   "source": [
    "lstm_kaggle_predict = lstm_model.predict(tokenized_test_padded)"
   ]
  },
  {
   "cell_type": "code",
   "execution_count": 128,
   "metadata": {},
   "outputs": [
    {
     "data": {
      "text/plain": [
       "array([0.21327764, 0.02350517, 0.12829877, 0.00956312, 0.11544549,\n",
       "       0.02125325], dtype=float32)"
      ]
     },
     "execution_count": 128,
     "metadata": {},
     "output_type": "execute_result"
    }
   ],
   "source": [
    "np.mean(lstm_kaggle_predict,axis=0)"
   ]
  },
  {
   "cell_type": "code",
   "execution_count": 129,
   "metadata": {},
   "outputs": [
    {
     "name": "stdout",
     "output_type": "stream",
     "text": [
      "(153164, 6)\n"
     ]
    }
   ],
   "source": [
    "kaggle_submit = pd.DataFrame(lstm_kaggle_predict)\n",
    "print(kaggle_submit.shape)\n",
    "kaggle_submit.columns = ['toxic', 'severe_toxic', 'obscene', 'threat','insult', 'identity_hate']"
   ]
  },
  {
   "cell_type": "code",
   "execution_count": 130,
   "metadata": {},
   "outputs": [
    {
     "data": {
      "text/html": [
       "<div>\n",
       "<style>\n",
       "    .dataframe thead tr:only-child th {\n",
       "        text-align: right;\n",
       "    }\n",
       "\n",
       "    .dataframe thead th {\n",
       "        text-align: left;\n",
       "    }\n",
       "\n",
       "    .dataframe tbody tr th {\n",
       "        vertical-align: top;\n",
       "    }\n",
       "</style>\n",
       "<table border=\"1\" class=\"dataframe\">\n",
       "  <thead>\n",
       "    <tr style=\"text-align: right;\">\n",
       "      <th></th>\n",
       "      <th>id</th>\n",
       "      <th>toxic</th>\n",
       "      <th>severe_toxic</th>\n",
       "      <th>obscene</th>\n",
       "      <th>threat</th>\n",
       "      <th>insult</th>\n",
       "      <th>identity_hate</th>\n",
       "    </tr>\n",
       "  </thead>\n",
       "  <tbody>\n",
       "    <tr>\n",
       "      <th>0</th>\n",
       "      <td>00001cee341fdb12</td>\n",
       "      <td>0.997193</td>\n",
       "      <td>0.421062</td>\n",
       "      <td>0.958760</td>\n",
       "      <td>0.102458</td>\n",
       "      <td>0.929780</td>\n",
       "      <td>0.356530</td>\n",
       "    </tr>\n",
       "    <tr>\n",
       "      <th>1</th>\n",
       "      <td>0000247867823ef7</td>\n",
       "      <td>0.001712</td>\n",
       "      <td>0.000004</td>\n",
       "      <td>0.000211</td>\n",
       "      <td>0.000025</td>\n",
       "      <td>0.000148</td>\n",
       "      <td>0.000048</td>\n",
       "    </tr>\n",
       "    <tr>\n",
       "      <th>2</th>\n",
       "      <td>00013b17ad220c46</td>\n",
       "      <td>0.002728</td>\n",
       "      <td>0.000013</td>\n",
       "      <td>0.000360</td>\n",
       "      <td>0.000066</td>\n",
       "      <td>0.000264</td>\n",
       "      <td>0.000108</td>\n",
       "    </tr>\n",
       "    <tr>\n",
       "      <th>3</th>\n",
       "      <td>00017563c3f7919a</td>\n",
       "      <td>0.001460</td>\n",
       "      <td>0.000002</td>\n",
       "      <td>0.000196</td>\n",
       "      <td>0.000013</td>\n",
       "      <td>0.000133</td>\n",
       "      <td>0.000033</td>\n",
       "    </tr>\n",
       "    <tr>\n",
       "      <th>4</th>\n",
       "      <td>00017695ad8997eb</td>\n",
       "      <td>0.007627</td>\n",
       "      <td>0.000067</td>\n",
       "      <td>0.000982</td>\n",
       "      <td>0.000284</td>\n",
       "      <td>0.000899</td>\n",
       "      <td>0.000394</td>\n",
       "    </tr>\n",
       "  </tbody>\n",
       "</table>\n",
       "</div>"
      ],
      "text/plain": [
       "                 id     toxic  severe_toxic   obscene    threat    insult  \\\n",
       "0  00001cee341fdb12  0.997193      0.421062  0.958760  0.102458  0.929780   \n",
       "1  0000247867823ef7  0.001712      0.000004  0.000211  0.000025  0.000148   \n",
       "2  00013b17ad220c46  0.002728      0.000013  0.000360  0.000066  0.000264   \n",
       "3  00017563c3f7919a  0.001460      0.000002  0.000196  0.000013  0.000133   \n",
       "4  00017695ad8997eb  0.007627      0.000067  0.000982  0.000284  0.000899   \n",
       "\n",
       "   identity_hate  \n",
       "0       0.356530  \n",
       "1       0.000048  \n",
       "2       0.000108  \n",
       "3       0.000033  \n",
       "4       0.000394  "
      ]
     },
     "execution_count": 130,
     "metadata": {},
     "output_type": "execute_result"
    }
   ],
   "source": [
    "kaggle_submit['id'] = testdat['id']\n",
    "kaggle_submit = kaggle_submit[['id','toxic', 'severe_toxic', 'obscene', 'threat','insult', 'identity_hate']]\n",
    "kaggle_submit.head()"
   ]
  },
  {
   "cell_type": "code",
   "execution_count": 133,
   "metadata": {},
   "outputs": [
    {
     "data": {
      "text/html": [
       "<div>\n",
       "<style>\n",
       "    .dataframe thead tr:only-child th {\n",
       "        text-align: right;\n",
       "    }\n",
       "\n",
       "    .dataframe thead th {\n",
       "        text-align: left;\n",
       "    }\n",
       "\n",
       "    .dataframe tbody tr th {\n",
       "        vertical-align: top;\n",
       "    }\n",
       "</style>\n",
       "<table border=\"1\" class=\"dataframe\">\n",
       "  <thead>\n",
       "    <tr style=\"text-align: right;\">\n",
       "      <th></th>\n",
       "      <th>id</th>\n",
       "      <th>comment_text</th>\n",
       "    </tr>\n",
       "  </thead>\n",
       "  <tbody>\n",
       "    <tr>\n",
       "      <th>0</th>\n",
       "      <td>00001cee341fdb12</td>\n",
       "      <td>Yo bitch Ja Rule is more succesful then you'll ever be whats up with you and hating you sad mofuckas...i should bitch slap ur pethedic w...</td>\n",
       "    </tr>\n",
       "    <tr>\n",
       "      <th>1</th>\n",
       "      <td>0000247867823ef7</td>\n",
       "      <td>== From RfC == \\n\\n The title is fine as it is, IMO.</td>\n",
       "    </tr>\n",
       "    <tr>\n",
       "      <th>2</th>\n",
       "      <td>00013b17ad220c46</td>\n",
       "      <td>\" \\n\\n == Sources == \\n\\n * Zawe Ashton on Lapland —  /  \"</td>\n",
       "    </tr>\n",
       "    <tr>\n",
       "      <th>3</th>\n",
       "      <td>00017563c3f7919a</td>\n",
       "      <td>:If you have a look back at the source, the information I updated was the correct form. I can only guess the source hadn't updated. I sh...</td>\n",
       "    </tr>\n",
       "    <tr>\n",
       "      <th>4</th>\n",
       "      <td>00017695ad8997eb</td>\n",
       "      <td>I don't anonymously edit articles at all.</td>\n",
       "    </tr>\n",
       "  </tbody>\n",
       "</table>\n",
       "</div>"
      ],
      "text/plain": [
       "                 id  \\\n",
       "0  00001cee341fdb12   \n",
       "1  0000247867823ef7   \n",
       "2  00013b17ad220c46   \n",
       "3  00017563c3f7919a   \n",
       "4  00017695ad8997eb   \n",
       "\n",
       "                                                                                                                                  comment_text  \n",
       "0  Yo bitch Ja Rule is more succesful then you'll ever be whats up with you and hating you sad mofuckas...i should bitch slap ur pethedic w...  \n",
       "1                                                                                         == From RfC == \\n\\n The title is fine as it is, IMO.  \n",
       "2                                                                                   \" \\n\\n == Sources == \\n\\n * Zawe Ashton on Lapland —  /  \"  \n",
       "3  :If you have a look back at the source, the information I updated was the correct form. I can only guess the source hadn't updated. I sh...  \n",
       "4                                                                                                    I don't anonymously edit articles at all.  "
      ]
     },
     "execution_count": 133,
     "metadata": {},
     "output_type": "execute_result"
    }
   ],
   "source": [
    "testdat.head()"
   ]
  },
  {
   "cell_type": "code",
   "execution_count": 134,
   "metadata": {
    "collapsed": true
   },
   "outputs": [],
   "source": [
    "kaggle_submit.to_csv(\"../300fasttext_bilstm_3e_submit.csv\",index=False)"
   ]
  },
  {
   "cell_type": "markdown",
   "metadata": {},
   "source": [
    "### New leaderboard stats: score = 0.069, rank = 153"
   ]
  },
  {
   "cell_type": "code",
   "execution_count": null,
   "metadata": {
    "collapsed": true
   },
   "outputs": [],
   "source": []
  }
 ],
 "metadata": {
  "kernelspec": {
   "display_name": "Python 3",
   "language": "python",
   "name": "python3"
  },
  "language_info": {
   "codemirror_mode": {
    "name": "ipython",
    "version": 3
   },
   "file_extension": ".py",
   "mimetype": "text/x-python",
   "name": "python",
   "nbconvert_exporter": "python",
   "pygments_lexer": "ipython3",
   "version": "3.6.1"
  }
 },
 "nbformat": 4,
 "nbformat_minor": 2
}
