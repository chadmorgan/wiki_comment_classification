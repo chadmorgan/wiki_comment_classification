{
 "cells": [
  {
   "cell_type": "markdown",
   "metadata": {},
   "source": [
    "## Transfer learning from public Figshare dataset\n",
    "\n",
    "It seems that there is another public training set for this problem available on Figshare. \n",
    "The test set is being revised to remove this previously released data, but we can still try to learn\n",
    "something from this public data that we could transfer to learning from our training data. \n",
    "\n",
    "Note that the kaggle training set is ~96k observations vs. ~160k from Figshare, so this is a significant \n",
    "increase in our training data size. Unfortunately the labels are different, so we cannoth simply combine these\n",
    "two datasets and learn one model over them. Instead I want to try learning a model on the Figshare data and\n",
    "then transfer the trained initial layers to a new model that is then trained on the kaggle labels (i.e. transfer learning)\n",
    "\n",
    "Figshare data metadata: https://meta.wikimedia.org/wiki/Research:Detox/Data_Release#Toxicity\n",
    "\n",
    "\n",
    "**Schema for toxicity_annotations.tsv**\n",
    "\n",
    "* *rev_id*: MediaWiki revision id of the edit that added the comment to a talk page (i.e. discussion).\n",
    "* *worker_id*: Anonymized crowd-worker id.\n",
    "* *toxicity_score*: Categorical variable ranging from very toxic (-2), to neutral (0), to very healthy (2).\n",
    "* *toxicity*: Indicator variable for whether the worker thought the comment is toxic. The annotation takes on the value 1 if the worker considered the comment toxic (i.e worker gave a toxicity_score less than 0) and value 0 if the worker considered the comment neutral or healthy (i.e worker gave a toxicity_score greater or equal to 0). Takes on values in {0, 1}.\n"
   ]
  },
  {
   "cell_type": "code",
   "execution_count": 1,
   "metadata": {
    "collapsed": true
   },
   "outputs": [],
   "source": [
    "import numpy as np\n",
    "import pandas as pd\n",
    "import re\n",
    "import copy\n",
    "import gensim"
   ]
  },
  {
   "cell_type": "code",
   "execution_count": 2,
   "metadata": {},
   "outputs": [
    {
     "name": "stderr",
     "output_type": "stream",
     "text": [
      "/Users/ChadMorgan/anaconda/lib/python3.6/site-packages/h5py/__init__.py:34: FutureWarning: Conversion of the second argument of issubdtype from `float` to `np.floating` is deprecated. In future, it will be treated as `np.float64 == np.dtype(float).type`.\n",
      "  from ._conv import register_converters as _register_converters\n",
      "Using TensorFlow backend.\n"
     ]
    }
   ],
   "source": [
    "from keras.preprocessing.sequence import pad_sequences\n",
    "from keras.layers import Dense, Input, Conv1D, Embedding, Dropout, Activation, Flatten\n",
    "from keras.layers import GlobalMaxPool1D, MaxPooling1D, concatenate\n",
    "from keras.layers import Bidirectional,LSTM\n",
    "from keras.models import Model\n",
    "from keras import initializers, regularizers, constraints, optimizers, layers\n",
    "from keras.utils.np_utils import to_categorical\n",
    "from keras.regularizers import l2"
   ]
  },
  {
   "cell_type": "code",
   "execution_count": 3,
   "metadata": {
    "collapsed": true
   },
   "outputs": [],
   "source": [
    "from sklearn.model_selection import train_test_split\n",
    "from sklearn.utils import shuffle "
   ]
  },
  {
   "cell_type": "code",
   "execution_count": 4,
   "metadata": {
    "collapsed": true
   },
   "outputs": [],
   "source": [
    "from matplotlib import pyplot as plt\n",
    "%matplotlib inline"
   ]
  },
  {
   "cell_type": "code",
   "execution_count": 5,
   "metadata": {
    "collapsed": true
   },
   "outputs": [],
   "source": [
    "pd.set_option('max_colwidth',140)"
   ]
  },
  {
   "cell_type": "markdown",
   "metadata": {},
   "source": [
    "### Read in figshare data\n",
    "\n",
    "In the Figshare data the comments and labels are in separate files. They also appear to include the scores from each human judge, so there are multple rows per comment in the annotations file."
   ]
  },
  {
   "cell_type": "code",
   "execution_count": 6,
   "metadata": {},
   "outputs": [
    {
     "name": "stdout",
     "output_type": "stream",
     "text": [
      "(1598289, 4)\n"
     ]
    },
    {
     "data": {
      "text/html": [
       "<div>\n",
       "<style>\n",
       "    .dataframe thead tr:only-child th {\n",
       "        text-align: right;\n",
       "    }\n",
       "\n",
       "    .dataframe thead th {\n",
       "        text-align: left;\n",
       "    }\n",
       "\n",
       "    .dataframe tbody tr th {\n",
       "        vertical-align: top;\n",
       "    }\n",
       "</style>\n",
       "<table border=\"1\" class=\"dataframe\">\n",
       "  <thead>\n",
       "    <tr style=\"text-align: right;\">\n",
       "      <th></th>\n",
       "      <th>rev_id</th>\n",
       "      <th>worker_id</th>\n",
       "      <th>toxicity</th>\n",
       "      <th>toxicity_score</th>\n",
       "    </tr>\n",
       "  </thead>\n",
       "  <tbody>\n",
       "    <tr>\n",
       "      <th>0</th>\n",
       "      <td>2232.0</td>\n",
       "      <td>723</td>\n",
       "      <td>0</td>\n",
       "      <td>0.0</td>\n",
       "    </tr>\n",
       "    <tr>\n",
       "      <th>1</th>\n",
       "      <td>2232.0</td>\n",
       "      <td>4000</td>\n",
       "      <td>0</td>\n",
       "      <td>0.0</td>\n",
       "    </tr>\n",
       "    <tr>\n",
       "      <th>2</th>\n",
       "      <td>2232.0</td>\n",
       "      <td>3989</td>\n",
       "      <td>0</td>\n",
       "      <td>1.0</td>\n",
       "    </tr>\n",
       "    <tr>\n",
       "      <th>3</th>\n",
       "      <td>2232.0</td>\n",
       "      <td>3341</td>\n",
       "      <td>0</td>\n",
       "      <td>0.0</td>\n",
       "    </tr>\n",
       "    <tr>\n",
       "      <th>4</th>\n",
       "      <td>2232.0</td>\n",
       "      <td>1574</td>\n",
       "      <td>0</td>\n",
       "      <td>1.0</td>\n",
       "    </tr>\n",
       "  </tbody>\n",
       "</table>\n",
       "</div>"
      ],
      "text/plain": [
       "   rev_id  worker_id  toxicity  toxicity_score\n",
       "0  2232.0        723         0             0.0\n",
       "1  2232.0       4000         0             0.0\n",
       "2  2232.0       3989         0             1.0\n",
       "3  2232.0       3341         0             0.0\n",
       "4  2232.0       1574         0             1.0"
      ]
     },
     "execution_count": 6,
     "metadata": {},
     "output_type": "execute_result"
    }
   ],
   "source": [
    "figshare_annotations = pd.read_csv(\"../figshare data/toxicity_annotations.tsv\",sep='\\t')\n",
    "print(figshare_annotations.shape)\n",
    "figshare_annotations.head()"
   ]
  },
  {
   "cell_type": "code",
   "execution_count": 7,
   "metadata": {},
   "outputs": [
    {
     "name": "stdout",
     "output_type": "stream",
     "text": [
      "(159686, 7)\n"
     ]
    },
    {
     "data": {
      "text/html": [
       "<div>\n",
       "<style>\n",
       "    .dataframe thead tr:only-child th {\n",
       "        text-align: right;\n",
       "    }\n",
       "\n",
       "    .dataframe thead th {\n",
       "        text-align: left;\n",
       "    }\n",
       "\n",
       "    .dataframe tbody tr th {\n",
       "        vertical-align: top;\n",
       "    }\n",
       "</style>\n",
       "<table border=\"1\" class=\"dataframe\">\n",
       "  <thead>\n",
       "    <tr style=\"text-align: right;\">\n",
       "      <th></th>\n",
       "      <th>rev_id</th>\n",
       "      <th>comment</th>\n",
       "      <th>year</th>\n",
       "      <th>logged_in</th>\n",
       "      <th>ns</th>\n",
       "      <th>sample</th>\n",
       "      <th>split</th>\n",
       "    </tr>\n",
       "  </thead>\n",
       "  <tbody>\n",
       "    <tr>\n",
       "      <th>0</th>\n",
       "      <td>2232.0</td>\n",
       "      <td>This: :One can make an analogy in mathematical terms by envisioning the distribution of opinions in a population as a Gaussian curve. We...</td>\n",
       "      <td>2002</td>\n",
       "      <td>True</td>\n",
       "      <td>article</td>\n",
       "      <td>random</td>\n",
       "      <td>train</td>\n",
       "    </tr>\n",
       "    <tr>\n",
       "      <th>1</th>\n",
       "      <td>4216.0</td>\n",
       "      <td>`  :Clarification for you  (and Zundark's right, i should have checked the Wikipedia bugs page first).   This is a ``bug`` in the code t...</td>\n",
       "      <td>2002</td>\n",
       "      <td>True</td>\n",
       "      <td>user</td>\n",
       "      <td>random</td>\n",
       "      <td>train</td>\n",
       "    </tr>\n",
       "    <tr>\n",
       "      <th>2</th>\n",
       "      <td>8953.0</td>\n",
       "      <td>Elected or Electoral? JHK</td>\n",
       "      <td>2002</td>\n",
       "      <td>False</td>\n",
       "      <td>article</td>\n",
       "      <td>random</td>\n",
       "      <td>test</td>\n",
       "    </tr>\n",
       "    <tr>\n",
       "      <th>3</th>\n",
       "      <td>26547.0</td>\n",
       "      <td>`This is such a fun entry.   Devotchka  I once had a coworker from Korea and not only couldn't she tell the difference between USA-Engli...</td>\n",
       "      <td>2002</td>\n",
       "      <td>True</td>\n",
       "      <td>article</td>\n",
       "      <td>random</td>\n",
       "      <td>train</td>\n",
       "    </tr>\n",
       "    <tr>\n",
       "      <th>4</th>\n",
       "      <td>28959.0</td>\n",
       "      <td>Please relate the ozone hole to increases in cancer, and provide figures. Otherwise, this article will be biased toward the environmenta...</td>\n",
       "      <td>2002</td>\n",
       "      <td>True</td>\n",
       "      <td>article</td>\n",
       "      <td>random</td>\n",
       "      <td>test</td>\n",
       "    </tr>\n",
       "  </tbody>\n",
       "</table>\n",
       "</div>"
      ],
      "text/plain": [
       "    rev_id  \\\n",
       "0   2232.0   \n",
       "1   4216.0   \n",
       "2   8953.0   \n",
       "3  26547.0   \n",
       "4  28959.0   \n",
       "\n",
       "                                                                                                                                       comment  \\\n",
       "0  This: :One can make an analogy in mathematical terms by envisioning the distribution of opinions in a population as a Gaussian curve. We...   \n",
       "1  `  :Clarification for you  (and Zundark's right, i should have checked the Wikipedia bugs page first).   This is a ``bug`` in the code t...   \n",
       "2                                                                                                                    Elected or Electoral? JHK   \n",
       "3  `This is such a fun entry.   Devotchka  I once had a coworker from Korea and not only couldn't she tell the difference between USA-Engli...   \n",
       "4  Please relate the ozone hole to increases in cancer, and provide figures. Otherwise, this article will be biased toward the environmenta...   \n",
       "\n",
       "   year  logged_in       ns  sample  split  \n",
       "0  2002       True  article  random  train  \n",
       "1  2002       True     user  random  train  \n",
       "2  2002      False  article  random   test  \n",
       "3  2002       True  article  random  train  \n",
       "4  2002       True  article  random   test  "
      ]
     },
     "execution_count": 7,
     "metadata": {},
     "output_type": "execute_result"
    }
   ],
   "source": [
    "figshare_comments = pd.read_csv(\"../figshare data/toxicity_annotated_comments.tsv\",sep='\\t')\n",
    "print(figshare_comments.shape)\n",
    "\n",
    "figshare_comments['comment'] = figshare_comments['comment'].str.replace('NEWLINE_TOKEN',' ')\n",
    "figshare_comments['comment'] = figshare_comments['comment'].str.replace('TAB_TOKEN',' ')\n",
    "figshare_comments.head()"
   ]
  },
  {
   "cell_type": "markdown",
   "metadata": {},
   "source": [
    "### Basic data exploration"
   ]
  },
  {
   "cell_type": "code",
   "execution_count": 8,
   "metadata": {},
   "outputs": [
    {
     "data": {
      "text/plain": [
       "split\n",
       "dev      32128\n",
       "test     31866\n",
       "train    95692\n",
       "Name: rev_id, dtype: int64"
      ]
     },
     "execution_count": 8,
     "metadata": {},
     "output_type": "execute_result"
    }
   ],
   "source": [
    "figshare_comments.groupby('split')['rev_id'].count()"
   ]
  },
  {
   "cell_type": "code",
   "execution_count": 9,
   "metadata": {},
   "outputs": [
    {
     "data": {
      "text/html": [
       "<div>\n",
       "<style>\n",
       "    .dataframe thead tr:only-child th {\n",
       "        text-align: right;\n",
       "    }\n",
       "\n",
       "    .dataframe thead th {\n",
       "        text-align: left;\n",
       "    }\n",
       "\n",
       "    .dataframe tbody tr th {\n",
       "        vertical-align: top;\n",
       "    }\n",
       "</style>\n",
       "<table border=\"1\" class=\"dataframe\">\n",
       "  <thead>\n",
       "    <tr style=\"text-align: right;\">\n",
       "      <th></th>\n",
       "      <th>rev_id</th>\n",
       "      <th>comment</th>\n",
       "      <th>year</th>\n",
       "      <th>logged_in</th>\n",
       "      <th>ns</th>\n",
       "      <th>sample</th>\n",
       "      <th>split</th>\n",
       "    </tr>\n",
       "  </thead>\n",
       "  <tbody>\n",
       "    <tr>\n",
       "      <th>21735</th>\n",
       "      <td>67151175.0</td>\n",
       "      <td>== You bastard ==  You bastard, you deleated my article before I even had time to write it.  You suck.</td>\n",
       "      <td>2006</td>\n",
       "      <td>True</td>\n",
       "      <td>user</td>\n",
       "      <td>blocked</td>\n",
       "      <td>train</td>\n",
       "    </tr>\n",
       "    <tr>\n",
       "      <th>33779</th>\n",
       "      <td>104794459.0</td>\n",
       "      <td>== This guy is a fucking loser==  Hey nerd, get a fucking life and stop editing shit out and warning me, who gave you the right?  Just ...</td>\n",
       "      <td>2007</td>\n",
       "      <td>False</td>\n",
       "      <td>user</td>\n",
       "      <td>blocked</td>\n",
       "      <td>dev</td>\n",
       "    </tr>\n",
       "    <tr>\n",
       "      <th>47471</th>\n",
       "      <td>154524710.0</td>\n",
       "      <td>FUCK U! U FUCKEN STOLE MY CLOUDSONG AND IF I EVER FUCKEN FIND U FUUUUUUUUUUCK FUCK U!</td>\n",
       "      <td>2007</td>\n",
       "      <td>True</td>\n",
       "      <td>user</td>\n",
       "      <td>blocked</td>\n",
       "      <td>test</td>\n",
       "    </tr>\n",
       "    <tr>\n",
       "      <th>54309</th>\n",
       "      <td>179908303.0</td>\n",
       "      <td>== Shit ==  keep your sorry ass shit post off my page</td>\n",
       "      <td>2007</td>\n",
       "      <td>True</td>\n",
       "      <td>user</td>\n",
       "      <td>blocked</td>\n",
       "      <td>train</td>\n",
       "    </tr>\n",
       "    <tr>\n",
       "      <th>60765</th>\n",
       "      <td>199917660.0</td>\n",
       "      <td>== Stefano == It would be a much better world if you kept your nose to the grindstone and give up on Stefano.  You have behaved well f...</td>\n",
       "      <td>2008</td>\n",
       "      <td>False</td>\n",
       "      <td>user</td>\n",
       "      <td>blocked</td>\n",
       "      <td>train</td>\n",
       "    </tr>\n",
       "    <tr>\n",
       "      <th>75635</th>\n",
       "      <td>254617673.0</td>\n",
       "      <td>Look you little cocksucker. I did nothing wrong. I am sick of your bullshit harassment and you are really starting to piss me off you ...</td>\n",
       "      <td>2008</td>\n",
       "      <td>True</td>\n",
       "      <td>user</td>\n",
       "      <td>blocked</td>\n",
       "      <td>test</td>\n",
       "    </tr>\n",
       "    <tr>\n",
       "      <th>93705</th>\n",
       "      <td>330815595.0</td>\n",
       "      <td>== RE: Wikipedia Firearms Project ==  I think New Yorkers should be allowed to have guns  so they can shoot people like you.</td>\n",
       "      <td>2009</td>\n",
       "      <td>False</td>\n",
       "      <td>user</td>\n",
       "      <td>blocked</td>\n",
       "      <td>train</td>\n",
       "    </tr>\n",
       "    <tr>\n",
       "      <th>111402</th>\n",
       "      <td>416341391.0</td>\n",
       "      <td>Please refrain from unmaking unconstructive edits to Wikipedia, as you did at Tim Pawlenty. Your edits appear to constitute whitewashi...</td>\n",
       "      <td>2011</td>\n",
       "      <td>False</td>\n",
       "      <td>user</td>\n",
       "      <td>blocked</td>\n",
       "      <td>train</td>\n",
       "    </tr>\n",
       "    <tr>\n",
       "      <th>118228</th>\n",
       "      <td>452926013.0</td>\n",
       "      <td>== LOL Nawlin, you are so predictable it's funny. ==  I knew you would spot my edits within a few hours and quickly censor them becaus...</td>\n",
       "      <td>2011</td>\n",
       "      <td>False</td>\n",
       "      <td>user</td>\n",
       "      <td>blocked</td>\n",
       "      <td>test</td>\n",
       "    </tr>\n",
       "    <tr>\n",
       "      <th>119027</th>\n",
       "      <td>456896279.0</td>\n",
       "      <td>F u c k i n g   c u n t s get a life you sad f u c k i n g gits.</td>\n",
       "      <td>2011</td>\n",
       "      <td>True</td>\n",
       "      <td>user</td>\n",
       "      <td>blocked</td>\n",
       "      <td>train</td>\n",
       "    </tr>\n",
       "  </tbody>\n",
       "</table>\n",
       "</div>"
      ],
      "text/plain": [
       "             rev_id  \\\n",
       "21735    67151175.0   \n",
       "33779   104794459.0   \n",
       "47471   154524710.0   \n",
       "54309   179908303.0   \n",
       "60765   199917660.0   \n",
       "75635   254617673.0   \n",
       "93705   330815595.0   \n",
       "111402  416341391.0   \n",
       "118228  452926013.0   \n",
       "119027  456896279.0   \n",
       "\n",
       "                                                                                                                                            comment  \\\n",
       "21735                                        == You bastard ==  You bastard, you deleated my article before I even had time to write it.  You suck.   \n",
       "33779    == This guy is a fucking loser==  Hey nerd, get a fucking life and stop editing shit out and warning me, who gave you the right?  Just ...   \n",
       "47471                                                         FUCK U! U FUCKEN STOLE MY CLOUDSONG AND IF I EVER FUCKEN FIND U FUUUUUUUUUUCK FUCK U!   \n",
       "54309                                                                                         == Shit ==  keep your sorry ass shit post off my page   \n",
       "60765     == Stefano == It would be a much better world if you kept your nose to the grindstone and give up on Stefano.  You have behaved well f...   \n",
       "75635     Look you little cocksucker. I did nothing wrong. I am sick of your bullshit harassment and you are really starting to piss me off you ...   \n",
       "93705               == RE: Wikipedia Firearms Project ==  I think New Yorkers should be allowed to have guns  so they can shoot people like you.      \n",
       "111402    Please refrain from unmaking unconstructive edits to Wikipedia, as you did at Tim Pawlenty. Your edits appear to constitute whitewashi...   \n",
       "118228    == LOL Nawlin, you are so predictable it's funny. ==  I knew you would spot my edits within a few hours and quickly censor them becaus...   \n",
       "119027                                                                             F u c k i n g   c u n t s get a life you sad f u c k i n g gits.   \n",
       "\n",
       "        year  logged_in    ns   sample  split  \n",
       "21735   2006       True  user  blocked  train  \n",
       "33779   2007      False  user  blocked    dev  \n",
       "47471   2007       True  user  blocked   test  \n",
       "54309   2007       True  user  blocked  train  \n",
       "60765   2008      False  user  blocked  train  \n",
       "75635   2008       True  user  blocked   test  \n",
       "93705   2009      False  user  blocked  train  \n",
       "111402  2011      False  user  blocked  train  \n",
       "118228  2011      False  user  blocked   test  \n",
       "119027  2011       True  user  blocked  train  "
      ]
     },
     "execution_count": 9,
     "metadata": {},
     "output_type": "execute_result"
    }
   ],
   "source": [
    "figshare_comments[figshare_comments['rev_id'].isin(\n",
    "    figshare_annotations[figshare_annotations['toxicity_score']==-2]['rev_id'].sample(10))]"
   ]
  },
  {
   "cell_type": "code",
   "execution_count": 10,
   "metadata": {},
   "outputs": [
    {
     "name": "stdout",
     "output_type": "stream",
     "text": [
      "(159686, 3)\n"
     ]
    },
    {
     "data": {
      "text/html": [
       "<div>\n",
       "<style>\n",
       "    .dataframe thead tr:only-child th {\n",
       "        text-align: right;\n",
       "    }\n",
       "\n",
       "    .dataframe thead th {\n",
       "        text-align: left;\n",
       "    }\n",
       "\n",
       "    .dataframe tbody tr th {\n",
       "        vertical-align: top;\n",
       "    }\n",
       "</style>\n",
       "<table border=\"1\" class=\"dataframe\">\n",
       "  <thead>\n",
       "    <tr style=\"text-align: right;\">\n",
       "      <th></th>\n",
       "      <th>rev_id</th>\n",
       "      <th>toxicity</th>\n",
       "      <th>toxicity_score</th>\n",
       "    </tr>\n",
       "  </thead>\n",
       "  <tbody>\n",
       "    <tr>\n",
       "      <th>0</th>\n",
       "      <td>2232.0</td>\n",
       "      <td>0.1</td>\n",
       "      <td>-0.4</td>\n",
       "    </tr>\n",
       "    <tr>\n",
       "      <th>1</th>\n",
       "      <td>4216.0</td>\n",
       "      <td>0.0</td>\n",
       "      <td>-0.5</td>\n",
       "    </tr>\n",
       "    <tr>\n",
       "      <th>2</th>\n",
       "      <td>8953.0</td>\n",
       "      <td>0.0</td>\n",
       "      <td>-0.1</td>\n",
       "    </tr>\n",
       "    <tr>\n",
       "      <th>3</th>\n",
       "      <td>26547.0</td>\n",
       "      <td>0.0</td>\n",
       "      <td>-0.6</td>\n",
       "    </tr>\n",
       "    <tr>\n",
       "      <th>4</th>\n",
       "      <td>28959.0</td>\n",
       "      <td>0.2</td>\n",
       "      <td>-0.2</td>\n",
       "    </tr>\n",
       "  </tbody>\n",
       "</table>\n",
       "</div>"
      ],
      "text/plain": [
       "    rev_id  toxicity  toxicity_score\n",
       "0   2232.0       0.1            -0.4\n",
       "1   4216.0       0.0            -0.5\n",
       "2   8953.0       0.0            -0.1\n",
       "3  26547.0       0.0            -0.6\n",
       "4  28959.0       0.2            -0.2"
      ]
     },
     "execution_count": 10,
     "metadata": {},
     "output_type": "execute_result"
    }
   ],
   "source": [
    "figshare_mean_toxic_rating = figshare_annotations.groupby('rev_id')[['toxicity','toxicity_score']].mean().reset_index()\n",
    "figshare_mean_toxic_rating['toxicity_score'] = -1*figshare_mean_toxic_rating['toxicity_score']\n",
    "print(figshare_mean_toxic_rating.shape)\n",
    "figshare_mean_toxic_rating.head()"
   ]
  },
  {
   "cell_type": "code",
   "execution_count": 11,
   "metadata": {
    "scrolled": true
   },
   "outputs": [
    {
     "data": {
      "text/plain": [
       "0.14504894359788023"
      ]
     },
     "execution_count": 11,
     "metadata": {},
     "output_type": "execute_result"
    }
   ],
   "source": [
    "np.mean(figshare_mean_toxic_rating['toxicity'])"
   ]
  },
  {
   "cell_type": "markdown",
   "metadata": {},
   "source": [
    "Important: the Figshare data has a higher rate of toxic comments"
   ]
  },
  {
   "cell_type": "code",
   "execution_count": 12,
   "metadata": {},
   "outputs": [
    {
     "data": {
      "text/plain": [
       "<matplotlib.collections.PathCollection at 0x125cc2f28>"
      ]
     },
     "execution_count": 12,
     "metadata": {},
     "output_type": "execute_result"
    },
    {
     "data": {
      "image/png": "[encoded data removed]",
      "text/plain": [
       "<matplotlib.figure.Figure at 0x12569aeb8>"
      ]
     },
     "metadata": {},
     "output_type": "display_data"
    }
   ],
   "source": [
    "plt.figure(figsize=(8, 8))\n",
    "plt.scatter(figshare_mean_toxic_rating['toxicity'],figshare_mean_toxic_rating['toxicity_score'])"
   ]
  },
  {
   "cell_type": "code",
   "execution_count": 28,
   "metadata": {},
   "outputs": [
    {
     "name": "stdout",
     "output_type": "stream",
     "text": [
      "0.25386501321939464 0.5032696436893133\n"
     ]
    }
   ],
   "source": [
    "print(np.std(figshare_mean_toxic_rating['toxicity']),np.std(figshare_mean_toxic_rating['toxicity_score']))"
   ]
  },
  {
   "cell_type": "code",
   "execution_count": 34,
   "metadata": {},
   "outputs": [
    {
     "name": "stdout",
     "output_type": "stream",
     "text": [
      "0.042815274977142645\n",
      "0.09620129504151897\n"
     ]
    }
   ],
   "source": [
    "print(np.mean(figshare_mean_toxic_rating['toxicity_score']>1))\n",
    "print(np.mean(figshare_mean_toxic_rating['toxicity']>0.5))"
   ]
  },
  {
   "cell_type": "code",
   "execution_count": 26,
   "metadata": {},
   "outputs": [
    {
     "data": {
      "image/png": "[encoded data removed]",
      "text/plain": [
       "<matplotlib.figure.Figure at 0x1264317f0>"
      ]
     },
     "metadata": {},
     "output_type": "display_data"
    }
   ],
   "source": [
    "plt.figure(figsize=(12, 4))\n",
    "n, bins, patches = plt.hist(figshare_mean_toxic_rating['toxicity_score'], 35, normed=1, facecolor='green', alpha=0.7)"
   ]
  },
  {
   "cell_type": "code",
   "execution_count": 49,
   "metadata": {},
   "outputs": [
    {
     "data": {
      "text/html": [
       "<div>\n",
       "<style>\n",
       "    .dataframe thead tr:only-child th {\n",
       "        text-align: right;\n",
       "    }\n",
       "\n",
       "    .dataframe thead th {\n",
       "        text-align: left;\n",
       "    }\n",
       "\n",
       "    .dataframe tbody tr th {\n",
       "        vertical-align: top;\n",
       "    }\n",
       "</style>\n",
       "<table border=\"1\" class=\"dataframe\">\n",
       "  <thead>\n",
       "    <tr style=\"text-align: right;\">\n",
       "      <th></th>\n",
       "      <th>rev_id</th>\n",
       "      <th>comment</th>\n",
       "      <th>year</th>\n",
       "      <th>logged_in</th>\n",
       "      <th>ns</th>\n",
       "      <th>sample</th>\n",
       "      <th>split</th>\n",
       "    </tr>\n",
       "  </thead>\n",
       "  <tbody>\n",
       "    <tr>\n",
       "      <th>30988</th>\n",
       "      <td>94598810.0</td>\n",
       "      <td>== Lonelyboy ==  Stop writing messages to Lonelyboy on my page. That's probably how a lot of crap was started here before because of y...</td>\n",
       "      <td>2006</td>\n",
       "      <td>False</td>\n",
       "      <td>user</td>\n",
       "      <td>blocked</td>\n",
       "      <td>train</td>\n",
       "    </tr>\n",
       "    <tr>\n",
       "      <th>40551</th>\n",
       "      <td>128824839.0</td>\n",
       "      <td>`::Nice wording there.  That's the point.  It's a fact.  It's not a ``portrayal`` that is ``too positive``.  It's a fucking FACT.  What ...</td>\n",
       "      <td>2007</td>\n",
       "      <td>True</td>\n",
       "      <td>article</td>\n",
       "      <td>blocked</td>\n",
       "      <td>test</td>\n",
       "    </tr>\n",
       "    <tr>\n",
       "      <th>42686</th>\n",
       "      <td>136907063.0</td>\n",
       "      <td>YOUR MOM's Va jay jay</td>\n",
       "      <td>2007</td>\n",
       "      <td>False</td>\n",
       "      <td>user</td>\n",
       "      <td>blocked</td>\n",
       "      <td>test</td>\n",
       "    </tr>\n",
       "    <tr>\n",
       "      <th>66288</th>\n",
       "      <td>218626733.0</td>\n",
       "      <td>OH NOES OH NOES OH NOES OH NOES OH NOES OH NOES OH NOES OH NOES OH NOES OH NOES OH NOES OH NOES OH NOES OH NOES OH NOES OH NOES OH NOES ...</td>\n",
       "      <td>2008</td>\n",
       "      <td>False</td>\n",
       "      <td>user</td>\n",
       "      <td>blocked</td>\n",
       "      <td>test</td>\n",
       "    </tr>\n",
       "    <tr>\n",
       "      <th>69682</th>\n",
       "      <td>230593131.0</td>\n",
       "      <td>MUD MUD MUD MUD MUD MUD MUD MUD MUD MUD MUD MUD MUD MUD MUD MUD MUD MUD MUD MUD MUD MUD MUD MUD MUD MUD MUD MUD MUD MUD MUD MUD MUD MU...</td>\n",
       "      <td>2008</td>\n",
       "      <td>False</td>\n",
       "      <td>user</td>\n",
       "      <td>blocked</td>\n",
       "      <td>test</td>\n",
       "    </tr>\n",
       "    <tr>\n",
       "      <th>72209</th>\n",
       "      <td>240235526.0</td>\n",
       "      <td>`  How dare you call ME the vandal or a Yankees fan. I am neither. Paul Byrd does have a pig nose and closely resembles a swine so that ...</td>\n",
       "      <td>2008</td>\n",
       "      <td>True</td>\n",
       "      <td>user</td>\n",
       "      <td>random</td>\n",
       "      <td>dev</td>\n",
       "    </tr>\n",
       "    <tr>\n",
       "      <th>96029</th>\n",
       "      <td>341425437.0</td>\n",
       "      <td>== sockpuppet ==  whose sockpuppet are you?</td>\n",
       "      <td>2010</td>\n",
       "      <td>True</td>\n",
       "      <td>user</td>\n",
       "      <td>blocked</td>\n",
       "      <td>dev</td>\n",
       "    </tr>\n",
       "    <tr>\n",
       "      <th>97002</th>\n",
       "      <td>345963714.0</td>\n",
       "      <td>lol wtf i aint vandalising seriously i tried not to hurt yo feelins tht time</td>\n",
       "      <td>2010</td>\n",
       "      <td>True</td>\n",
       "      <td>user</td>\n",
       "      <td>blocked</td>\n",
       "      <td>train</td>\n",
       "    </tr>\n",
       "    <tr>\n",
       "      <th>100210</th>\n",
       "      <td>361618613.0</td>\n",
       "      <td>` I AM SHADOWJAMS WORST NIGHTMERE..... ``THE WIKIPEDIA HACKER`` `</td>\n",
       "      <td>2010</td>\n",
       "      <td>False</td>\n",
       "      <td>user</td>\n",
       "      <td>blocked</td>\n",
       "      <td>dev</td>\n",
       "    </tr>\n",
       "    <tr>\n",
       "      <th>109121</th>\n",
       "      <td>404329048.0</td>\n",
       "      <td>`   ===Czechoslovak fan panslavist idiote== ``Please do not create attack pages as you did at User talk:Iaaasi. Attack pages and files a...</td>\n",
       "      <td>2010</td>\n",
       "      <td>False</td>\n",
       "      <td>user</td>\n",
       "      <td>blocked</td>\n",
       "      <td>dev</td>\n",
       "    </tr>\n",
       "  </tbody>\n",
       "</table>\n",
       "</div>"
      ],
      "text/plain": [
       "             rev_id  \\\n",
       "30988    94598810.0   \n",
       "40551   128824839.0   \n",
       "42686   136907063.0   \n",
       "66288   218626733.0   \n",
       "69682   230593131.0   \n",
       "72209   240235526.0   \n",
       "96029   341425437.0   \n",
       "97002   345963714.0   \n",
       "100210  361618613.0   \n",
       "109121  404329048.0   \n",
       "\n",
       "                                                                                                                                            comment  \\\n",
       "30988     == Lonelyboy ==  Stop writing messages to Lonelyboy on my page. That's probably how a lot of crap was started here before because of y...   \n",
       "40551   `::Nice wording there.  That's the point.  It's a fact.  It's not a ``portrayal`` that is ``too positive``.  It's a fucking FACT.  What ...   \n",
       "42686                                                                                                                         YOUR MOM's Va jay jay   \n",
       "66288   OH NOES OH NOES OH NOES OH NOES OH NOES OH NOES OH NOES OH NOES OH NOES OH NOES OH NOES OH NOES OH NOES OH NOES OH NOES OH NOES OH NOES ...   \n",
       "69682     MUD MUD MUD MUD MUD MUD MUD MUD MUD MUD MUD MUD MUD MUD MUD MUD MUD MUD MUD MUD MUD MUD MUD MUD MUD MUD MUD MUD MUD MUD MUD MUD MUD MU...   \n",
       "72209   `  How dare you call ME the vandal or a Yankees fan. I am neither. Paul Byrd does have a pig nose and closely resembles a swine so that ...   \n",
       "96029                                                                                              == sockpuppet ==  whose sockpuppet are you?        \n",
       "97002                                                              lol wtf i aint vandalising seriously i tried not to hurt yo feelins tht time       \n",
       "100210                                                                            ` I AM SHADOWJAMS WORST NIGHTMERE..... ``THE WIKIPEDIA HACKER`` `   \n",
       "109121  `   ===Czechoslovak fan panslavist idiote== ``Please do not create attack pages as you did at User talk:Iaaasi. Attack pages and files a...   \n",
       "\n",
       "        year  logged_in       ns   sample  split  \n",
       "30988   2006      False     user  blocked  train  \n",
       "40551   2007       True  article  blocked   test  \n",
       "42686   2007      False     user  blocked   test  \n",
       "66288   2008      False     user  blocked   test  \n",
       "69682   2008      False     user  blocked   test  \n",
       "72209   2008       True     user   random    dev  \n",
       "96029   2010       True     user  blocked    dev  \n",
       "97002   2010       True     user  blocked  train  \n",
       "100210  2010      False     user  blocked    dev  \n",
       "109121  2010      False     user  blocked    dev  "
      ]
     },
     "execution_count": 49,
     "metadata": {},
     "output_type": "execute_result"
    }
   ],
   "source": [
    "figshare_comments[figshare_comments['rev_id'].isin(\n",
    "figshare_mean_toxic_rating[\n",
    "    (figshare_mean_toxic_rating['toxicity_score']>.55) & (figshare_mean_toxic_rating['toxicity_score']<.60)\n",
    "]['rev_id'].sample(10)\n",
    ")]"
   ]
  },
  {
   "cell_type": "code",
   "execution_count": 14,
   "metadata": {},
   "outputs": [
    {
     "data": {
      "image/png": "[encoded data removed]",
      "text/plain": [
       "<matplotlib.figure.Figure at 0x1288c5f98>"
      ]
     },
     "metadata": {},
     "output_type": "display_data"
    }
   ],
   "source": [
    "plt.figure(figsize=(12, 4))\n",
    "n, bins, patches = plt.hist(figshare_mean_toxic_rating['toxicity'], 20, normed=1, facecolor='green', alpha=0.7)"
   ]
  },
  {
   "cell_type": "code",
   "execution_count": 35,
   "metadata": {},
   "outputs": [
    {
     "data": {
      "text/plain": [
       "count    159686.000000\n",
       "mean         10.008949\n",
       "std           0.450793\n",
       "min           8.000000\n",
       "25%          10.000000\n",
       "50%          10.000000\n",
       "75%          10.000000\n",
       "max          21.000000\n",
       "Name: worker_id, dtype: float64"
      ]
     },
     "execution_count": 35,
     "metadata": {},
     "output_type": "execute_result"
    }
   ],
   "source": [
    "# annotators per comment\n",
    "comment_annotation_count = figshare_annotations.groupby('rev_id')['worker_id'].count().reset_index()\n",
    "comment_annotation_count['worker_id'].describe()"
   ]
  },
  {
   "cell_type": "code",
   "execution_count": 40,
   "metadata": {},
   "outputs": [
    {
     "data": {
      "text/html": [
       "<div>\n",
       "<style>\n",
       "    .dataframe thead tr:only-child th {\n",
       "        text-align: right;\n",
       "    }\n",
       "\n",
       "    .dataframe thead th {\n",
       "        text-align: left;\n",
       "    }\n",
       "\n",
       "    .dataframe tbody tr th {\n",
       "        vertical-align: top;\n",
       "    }\n",
       "</style>\n",
       "<table border=\"1\" class=\"dataframe\">\n",
       "  <thead>\n",
       "    <tr style=\"text-align: right;\">\n",
       "      <th></th>\n",
       "      <th>worker_id</th>\n",
       "      <th>toxicity_score</th>\n",
       "    </tr>\n",
       "  </thead>\n",
       "  <tbody>\n",
       "    <tr>\n",
       "      <th>0</th>\n",
       "      <td>0</td>\n",
       "      <td>-0.208768</td>\n",
       "    </tr>\n",
       "    <tr>\n",
       "      <th>1</th>\n",
       "      <td>1</td>\n",
       "      <td>0.000000</td>\n",
       "    </tr>\n",
       "    <tr>\n",
       "      <th>2</th>\n",
       "      <td>2</td>\n",
       "      <td>0.258403</td>\n",
       "    </tr>\n",
       "    <tr>\n",
       "      <th>3</th>\n",
       "      <td>3</td>\n",
       "      <td>0.689373</td>\n",
       "    </tr>\n",
       "    <tr>\n",
       "      <th>4</th>\n",
       "      <td>4</td>\n",
       "      <td>-0.105263</td>\n",
       "    </tr>\n",
       "  </tbody>\n",
       "</table>\n",
       "</div>"
      ],
      "text/plain": [
       "   worker_id  toxicity_score\n",
       "0          0       -0.208768\n",
       "1          1        0.000000\n",
       "2          2        0.258403\n",
       "3          3        0.689373\n",
       "4          4       -0.105263"
      ]
     },
     "execution_count": 40,
     "metadata": {},
     "output_type": "execute_result"
    }
   ],
   "source": [
    "worker_bias = figshare_annotations.groupby('worker_id')['toxicity_score'].mean().reset_index()\n",
    "worker_bias.head()"
   ]
  },
  {
   "cell_type": "code",
   "execution_count": 41,
   "metadata": {},
   "outputs": [
    {
     "data": {
      "image/png": "[encoded data removed]",
      "text/plain": [
       "<matplotlib.figure.Figure at 0x1259ed048>"
      ]
     },
     "metadata": {},
     "output_type": "display_data"
    }
   ],
   "source": [
    "plt.figure(figsize=(12, 4))\n",
    "n, bins, patches = plt.hist(worker_bias['toxicity_score'], 20, normed=1, facecolor='green', alpha=0.7)"
   ]
  },
  {
   "cell_type": "markdown",
   "metadata": {},
   "source": [
    "### Comment processing"
   ]
  },
  {
   "cell_type": "code",
   "execution_count": 13,
   "metadata": {
    "collapsed": true
   },
   "outputs": [],
   "source": [
    "comments = figshare_comments['comment'].tolist()"
   ]
  },
  {
   "cell_type": "code",
   "execution_count": 14,
   "metadata": {
    "collapsed": true
   },
   "outputs": [],
   "source": [
    "token_dict = {}\n",
    "token_set = set()\n",
    "tokenized_comments = copy.copy(comments)\n",
    "for i in range(len(tokenized_comments)):\n",
    "    tokenized_comments[i] = re.sub(\"NEWLINE_TOKEN\",' ',tokenized_comments[i])\n",
    "    tokenized_comments[i] = re.sub(\"TAB_TOKEN\",' ',tokenized_comments[i])\n",
    "    tokenized_comments[i] = re.sub(\"[^A-Za-z'\\*\\- ]\",' ',tokenized_comments[i])\n",
    "    tokenized_comments[i] = re.sub(\" +\",' ',tokenized_comments[i])\n",
    "    tokenized_comments[i] = re.sub(\"'+\",\"'\",tokenized_comments[i])    \n",
    "    tokenized_comments[i] = re.sub(\"\\*+\",\"\\*\",tokenized_comments[i])   \n",
    "    tokenized_comments[i] = re.sub(\"\\-+\",\"\\-\",tokenized_comments[i])\n",
    "    tokenized_comments[i] = tokenized_comments[i].lower().strip()\n",
    "    tokenized_comments[i] = tokenized_comments[i].split(' ')\n",
    "    line_dict = {}\n",
    "    line_set = set()\n",
    "    for token in tokenized_comments[i]:        \n",
    "        if token in token_set:\n",
    "            token_dict[token] += 1\n",
    "        else:\n",
    "            token_set.add(token)\n",
    "            token_dict[token] = 1"
   ]
  },
  {
   "cell_type": "code",
   "execution_count": 15,
   "metadata": {},
   "outputs": [
    {
     "data": {
      "text/html": [
       "<div>\n",
       "<style>\n",
       "    .dataframe thead tr:only-child th {\n",
       "        text-align: right;\n",
       "    }\n",
       "\n",
       "    .dataframe thead th {\n",
       "        text-align: left;\n",
       "    }\n",
       "\n",
       "    .dataframe tbody tr th {\n",
       "        vertical-align: top;\n",
       "    }\n",
       "</style>\n",
       "<table border=\"1\" class=\"dataframe\">\n",
       "  <thead>\n",
       "    <tr style=\"text-align: right;\">\n",
       "      <th></th>\n",
       "      <th>token</th>\n",
       "      <th>freq</th>\n",
       "    </tr>\n",
       "  </thead>\n",
       "  <tbody>\n",
       "    <tr>\n",
       "      <th>0</th>\n",
       "      <td>the</td>\n",
       "      <td>1118947</td>\n",
       "    </tr>\n",
       "    <tr>\n",
       "      <th>1</th>\n",
       "      <td>to</td>\n",
       "      <td>667698</td>\n",
       "    </tr>\n",
       "    <tr>\n",
       "      <th>2</th>\n",
       "      <td>of</td>\n",
       "      <td>470204</td>\n",
       "    </tr>\n",
       "    <tr>\n",
       "      <th>3</th>\n",
       "      <td>and</td>\n",
       "      <td>450762</td>\n",
       "    </tr>\n",
       "    <tr>\n",
       "      <th>4</th>\n",
       "      <td>a</td>\n",
       "      <td>445528</td>\n",
       "    </tr>\n",
       "  </tbody>\n",
       "</table>\n",
       "</div>"
      ],
      "text/plain": [
       "  token     freq\n",
       "0   the  1118947\n",
       "1    to   667698\n",
       "2    of   470204\n",
       "3   and   450762\n",
       "4     a   445528"
      ]
     },
     "execution_count": 15,
     "metadata": {},
     "output_type": "execute_result"
    }
   ],
   "source": [
    "# token count from kaggle data\n",
    "token_count = pd.read_csv(\"../token_count.csv\",na_values=None,keep_default_na=False)\n",
    "token_count = token_count[['token','freq']]\n",
    "token_count.head()"
   ]
  },
  {
   "cell_type": "code",
   "execution_count": 16,
   "metadata": {},
   "outputs": [
    {
     "name": "stdout",
     "output_type": "stream",
     "text": [
      "(41286, 3)\n"
     ]
    }
   ],
   "source": [
    "reduced_token_count = token_count[token_count['freq']>=10].reset_index()\n",
    "print(reduced_token_count.shape)\n",
    "reduced_token_set = set(reduced_token_count['token'])"
   ]
  },
  {
   "cell_type": "code",
   "execution_count": 17,
   "metadata": {
    "collapsed": true
   },
   "outputs": [],
   "source": [
    "index_token_dict = pd.Series(reduced_token_count.token.values,index=reduced_token_count.index.values+1).to_dict()\n",
    "token_index_dict = pd.Series(reduced_token_count.index.values+1,index=reduced_token_count.token.values).to_dict()"
   ]
  },
  {
   "cell_type": "code",
   "execution_count": 18,
   "metadata": {
    "collapsed": true
   },
   "outputs": [],
   "source": [
    "tokenized_corpus = []\n",
    "for line in tokenized_comments:\n",
    "    line_token_idx = []\n",
    "    for t in line:\n",
    "        if t in reduced_token_set:\n",
    "            line_token_idx += [token_index_dict[t]]\n",
    "    tokenized_corpus += [line_token_idx]"
   ]
  },
  {
   "cell_type": "code",
   "execution_count": 19,
   "metadata": {
    "scrolled": false
   },
   "outputs": [
    {
     "data": {
      "text/plain": [
       "[121, 79, 39740, 5, 710, 545, 2613, 363]"
      ]
     },
     "execution_count": 19,
     "metadata": {},
     "output_type": "execute_result"
    }
   ],
   "source": [
    "tokenized_corpus[100]"
   ]
  },
  {
   "cell_type": "code",
   "execution_count": 20,
   "metadata": {},
   "outputs": [
    {
     "data": {
      "text/plain": [
       "0.06370001127212153"
      ]
     },
     "execution_count": 20,
     "metadata": {},
     "output_type": "execute_result"
    }
   ],
   "source": [
    "comment_length = []\n",
    "for comment in tokenized_comments:\n",
    "    comment_length.append(len(comment))\n",
    "comment_length = np.array(comment_length)\n",
    "np.mean(comment_length>200)"
   ]
  },
  {
   "cell_type": "code",
   "execution_count": 21,
   "metadata": {},
   "outputs": [
    {
     "data": {
      "text/plain": [
       "(0, 400)"
      ]
     },
     "execution_count": 21,
     "metadata": {},
     "output_type": "execute_result"
    },
    {
     "data": {
      "image/png": "[encoded data removed]",
      "text/plain": [
       "<matplotlib.figure.Figure at 0x15abd4160>"
      ]
     },
     "metadata": {},
     "output_type": "display_data"
    }
   ],
   "source": [
    "plt.figure(figsize=(12, 4))\n",
    "n, bins, patches = plt.hist(comment_length, 300, normed=1, facecolor='green', alpha=0.7)\n",
    "plt.xlim([0,400])"
   ]
  },
  {
   "cell_type": "code",
   "execution_count": 22,
   "metadata": {
    "collapsed": true
   },
   "outputs": [],
   "source": [
    "MAX_SEQ_LENGTH=200\n",
    "tokenized_corpus_padded = pad_sequences(tokenized_corpus,maxlen=MAX_SEQ_LENGTH)"
   ]
  },
  {
   "cell_type": "markdown",
   "metadata": {},
   "source": [
    "### Load FastText embeddings"
   ]
  },
  {
   "cell_type": "code",
   "execution_count": 23,
   "metadata": {
    "collapsed": true
   },
   "outputs": [],
   "source": [
    "fasttext_model = gensim.models.Word2Vec.load(\"../wiki_fasttext_embed\")"
   ]
  },
  {
   "cell_type": "code",
   "execution_count": 24,
   "metadata": {},
   "outputs": [
    {
     "name": "stdout",
     "output_type": "stream",
     "text": [
      "88829\n",
      "(41286, 3)\n"
     ]
    }
   ],
   "source": [
    "print(len(fasttext_model.wv.vocab))\n",
    "print(reduced_token_count.shape)"
   ]
  },
  {
   "cell_type": "code",
   "execution_count": 25,
   "metadata": {},
   "outputs": [
    {
     "name": "stdout",
     "output_type": "stream",
     "text": [
      "(41287, 300)\n"
     ]
    }
   ],
   "source": [
    "V = len(reduced_token_set)+1\n",
    "EMBEDDING_DIM=300\n",
    "print((V,EMBEDDING_DIM))"
   ]
  },
  {
   "cell_type": "code",
   "execution_count": 26,
   "metadata": {
    "collapsed": true
   },
   "outputs": [],
   "source": [
    "embed_matrix = np.zeros((V,EMBEDDING_DIM))\n",
    "for token in token_index_dict.keys():\n",
    "    embed_matrix[token_index_dict[token]] = fasttext_model.wv[token]"
   ]
  },
  {
   "cell_type": "markdown",
   "metadata": {},
   "source": [
    "### Split training data into train,valid sets"
   ]
  },
  {
   "cell_type": "code",
   "execution_count": 27,
   "metadata": {
    "collapsed": true
   },
   "outputs": [],
   "source": [
    "rating_label = figshare_mean_toxic_rating['toxicity_score']\n",
    "rating_label0,tokenized_corpus_padded0 = shuffle(rating_label,tokenized_corpus_padded)"
   ]
  },
  {
   "cell_type": "code",
   "execution_count": 28,
   "metadata": {
    "collapsed": true
   },
   "outputs": [],
   "source": [
    "rating_label_train,rating_label_valid, seq_train,seq_valid  = \\\n",
    "    train_test_split(rating_label0,tokenized_corpus_padded0,test_size=0.2)"
   ]
  },
  {
   "cell_type": "code",
   "execution_count": 29,
   "metadata": {},
   "outputs": [
    {
     "name": "stdout",
     "output_type": "stream",
     "text": [
      "(127748,)\n",
      "(31938,)\n"
     ]
    }
   ],
   "source": [
    "print(rating_label_train.shape)\n",
    "print(rating_label_valid.shape)"
   ]
  },
  {
   "cell_type": "markdown",
   "metadata": {},
   "source": [
    "## Convolutional model"
   ]
  },
  {
   "cell_type": "code",
   "execution_count": 30,
   "metadata": {
    "collapsed": true
   },
   "outputs": [],
   "source": [
    "# Sequence input\n",
    "sequence_input = Input(shape=(MAX_SEQ_LENGTH,),dtype='int32',name='Input')\n",
    "\n",
    "# Embedding lookup\n",
    "embed_seq_unmasked = Embedding(input_dim=V\n",
    "                              ,output_dim=EMBEDDING_DIM\n",
    "                              ,weights=[embed_matrix]\n",
    "                              ,input_length=MAX_SEQ_LENGTH\n",
    "                              ,trainable=False\n",
    "                              ,mask_zero=False\n",
    "                              ,name='Embedding')(sequence_input)"
   ]
  },
  {
   "cell_type": "code",
   "execution_count": 38,
   "metadata": {
    "collapsed": true
   },
   "outputs": [],
   "source": [
    "# Convolutional layers: width 7\n",
    "Conv7_layer = Conv1D(64,7,activation='relu',padding='same')(embed_seq_unmasked)\n",
    "Conv7_layer = MaxPooling1D(2)(Conv7_layer)\n",
    "Conv7_layer = Conv1D(64,7,activation='relu',padding='same')(Conv7_layer)\n",
    "Conv7_layer = GlobalMaxPool1D()(Conv7_layer)\n",
    "Conv7_layer = Dropout(0.5)(Conv7_layer)"
   ]
  },
  {
   "cell_type": "code",
   "execution_count": 39,
   "metadata": {
    "collapsed": true
   },
   "outputs": [],
   "source": [
    "Conv_dense = Dense(32,activation='relu',kernel_regularizer=regularizers.l2(0.0001))(Conv7_layer)\n",
    "Conv_output = Dense(1, activation=\"linear\")(Conv_dense)"
   ]
  },
  {
   "cell_type": "code",
   "execution_count": 40,
   "metadata": {},
   "outputs": [
    {
     "name": "stdout",
     "output_type": "stream",
     "text": [
      "_________________________________________________________________\n",
      "Layer (type)                 Output Shape              Param #   \n",
      "=================================================================\n",
      "Input (InputLayer)           (None, 200)               0         \n",
      "_________________________________________________________________\n",
      "Embedding (Embedding)        (None, 200, 300)          12386100  \n",
      "_________________________________________________________________\n",
      "conv1d_3 (Conv1D)            (None, 200, 64)           134464    \n",
      "_________________________________________________________________\n",
      "max_pooling1d_2 (MaxPooling1 (None, 100, 64)           0         \n",
      "_________________________________________________________________\n",
      "conv1d_4 (Conv1D)            (None, 100, 64)           28736     \n",
      "_________________________________________________________________\n",
      "global_max_pooling1d_2 (Glob (None, 64)                0         \n",
      "_________________________________________________________________\n",
      "dropout_2 (Dropout)          (None, 64)                0         \n",
      "_________________________________________________________________\n",
      "dense_5 (Dense)              (None, 32)                2080      \n",
      "_________________________________________________________________\n",
      "dense_6 (Dense)              (None, 1)                 33        \n",
      "=================================================================\n",
      "Total params: 12,551,413\n",
      "Trainable params: 165,313\n",
      "Non-trainable params: 12,386,100\n",
      "_________________________________________________________________\n"
     ]
    }
   ],
   "source": [
    "cnn_model = Model(inputs=sequence_input, outputs=Conv_output)\n",
    "cnn_model.compile(loss='mean_squared_error', optimizer='adagrad')\n",
    "cnn_model.summary()"
   ]
  },
  {
   "cell_type": "code",
   "execution_count": 41,
   "metadata": {},
   "outputs": [
    {
     "name": "stdout",
     "output_type": "stream",
     "text": [
      "Train on 127748 samples, validate on 31938 samples\n",
      "Epoch 1/5\n",
      "127748/127748 [==============================] - 708s - loss: 0.0879 - val_loss: 0.0840\n",
      "Epoch 2/5\n",
      "127748/127748 [==============================] - 708s - loss: 0.0740 - val_loss: 0.0787\n",
      "Epoch 3/5\n",
      "127748/127748 [==============================] - 707s - loss: 0.0702 - val_loss: 0.0759\n",
      "Epoch 4/5\n",
      "127748/127748 [==============================] - 706s - loss: 0.0672 - val_loss: 0.0731\n",
      "Epoch 5/5\n",
      "127748/127748 [==============================] - 706s - loss: 0.0645 - val_loss: 0.0774\n"
     ]
    }
   ],
   "source": [
    "history_CNN = cnn_model.fit(seq_train,rating_label_train\n",
    "                           ,epochs=5\n",
    "                           ,batch_size=16\n",
    "                           ,validation_data=(seq_valid,rating_label_valid)\n",
    "                           ,verbose=1)"
   ]
  },
  {
   "cell_type": "code",
   "execution_count": 42,
   "metadata": {},
   "outputs": [
    {
     "data": {
      "text/plain": [
       "<matplotlib.text.Text at 0x15cee9908>"
      ]
     },
     "execution_count": 42,
     "metadata": {},
     "output_type": "execute_result"
    },
    {
     "data": {
      "image/png": "[encoded data removed]",
      "text/plain": [
       "<matplotlib.figure.Figure at 0x15cec9358>"
      ]
     },
     "metadata": {},
     "output_type": "display_data"
    }
   ],
   "source": [
    "plt.figure(figsize=(12,6))\n",
    "plt.suptitle(\"Convolutional sequence model with Figshare ratings\")\n",
    "#plt.subplot(121)\n",
    "plt.plot(history_CNN.history['loss'],'-o',label='train')\n",
    "plt.plot(history_CNN.history['val_loss'],'-o',label='test')\n",
    "plt.legend()\n",
    "plt.xlabel('epoch',fontsize=14)\n",
    "plt.ylabel('loss',fontsize=14)"
   ]
  },
  {
   "cell_type": "code",
   "execution_count": 48,
   "metadata": {
    "collapsed": true
   },
   "outputs": [],
   "source": [
    "cnn_model.save(\"figshare_rating_cnn\")"
   ]
  },
  {
   "cell_type": "code",
   "execution_count": 43,
   "metadata": {
    "collapsed": true
   },
   "outputs": [],
   "source": [
    "cnn_predict = cnn_model.predict(seq_valid)"
   ]
  },
  {
   "cell_type": "code",
   "execution_count": 49,
   "metadata": {
    "collapsed": true
   },
   "outputs": [],
   "source": [
    "cnn_predict = cnn_predict[:,0]"
   ]
  },
  {
   "cell_type": "code",
   "execution_count": 62,
   "metadata": {},
   "outputs": [
    {
     "data": {
      "text/plain": [
       "<matplotlib.collections.PathCollection at 0x1633bf0f0>"
      ]
     },
     "execution_count": 62,
     "metadata": {},
     "output_type": "execute_result"
    },
    {
     "data": {
      "image/png": "[encoded data removed]",
      "text/plain": [
       "<matplotlib.figure.Figure at 0x16328b390>"
      ]
     },
     "metadata": {},
     "output_type": "display_data"
    }
   ],
   "source": [
    "plt.figure(figsize=(8,8))\n",
    "plt.scatter(cnn_predict,rating_label_valid,alpha=.03)"
   ]
  },
  {
   "cell_type": "code",
   "execution_count": 58,
   "metadata": {},
   "outputs": [
    {
     "data": {
      "image/png": "[encoded data removed]",
      "text/plain": [
       "<matplotlib.figure.Figure at 0x162b3c358>"
      ]
     },
     "metadata": {},
     "output_type": "display_data"
    }
   ],
   "source": [
    "plt.figure(figsize=(12, 4))\n",
    "n, bins, patches = plt.hist(cnn_predict, 35, normed=1, facecolor='green', alpha=0.7)"
   ]
  },
  {
   "cell_type": "code",
   "execution_count": 54,
   "metadata": {},
   "outputs": [
    {
     "data": {
      "text/plain": [
       "0.7018732285775813"
      ]
     },
     "execution_count": 54,
     "metadata": {},
     "output_type": "execute_result"
    }
   ],
   "source": [
    "cnn_mse=np.mean((cnn_predict-rating_label_valid)**2)\n",
    "rating_var = np.var(rating_label_valid)\n",
    "1 - (cnn_mse/rating_var)"
   ]
  },
  {
   "cell_type": "code",
   "execution_count": 63,
   "metadata": {},
   "outputs": [
    {
     "data": {
      "text/plain": [
       "0.08186777180413285"
      ]
     },
     "execution_count": 63,
     "metadata": {},
     "output_type": "execute_result"
    }
   ],
   "source": [
    "np.mean((cnn_predict-rating_label_valid))"
   ]
  },
  {
   "cell_type": "code",
   "execution_count": null,
   "metadata": {
    "collapsed": true
   },
   "outputs": [],
   "source": []
  }
 ],
 "metadata": {
  "kernelspec": {
   "display_name": "Python 3",
   "language": "python",
   "name": "python3"
  },
  "language_info": {
   "codemirror_mode": {
    "name": "ipython",
    "version": 3
   },
   "file_extension": ".py",
   "mimetype": "text/x-python",
   "name": "python",
   "nbconvert_exporter": "python",
   "pygments_lexer": "ipython3",
   "version": "3.6.1"
  }
 },
 "nbformat": 4,
 "nbformat_minor": 2
}
