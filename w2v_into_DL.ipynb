{
 "cells": [
  {
   "cell_type": "markdown",
   "metadata": {},
   "source": [
    "## Word2Vec sequence embeddings into  Deep Learning models\n",
    "\n",
    "Use w2v embeddings learned across train + test comments in Convolutional and Recurrent networks"
   ]
  },
  {
   "cell_type": "code",
   "execution_count": 2,
   "metadata": {},
   "outputs": [],
   "source": [
    "import numpy as np\n",
    "import pandas as pd\n",
    "import re\n",
    "import copy\n",
    "import gensim"
   ]
  },
  {
   "cell_type": "code",
   "execution_count": 3,
   "metadata": {},
   "outputs": [
    {
     "name": "stderr",
     "output_type": "stream",
     "text": [
      "/Users/ChadMorgan/anaconda/lib/python3.6/site-packages/h5py/__init__.py:34: FutureWarning: Conversion of the second argument of issubdtype from `float` to `np.floating` is deprecated. In future, it will be treated as `np.float64 == np.dtype(float).type`.\n",
      "  from ._conv import register_converters as _register_converters\n",
      "Using TensorFlow backend.\n"
     ]
    }
   ],
   "source": [
    "from keras.preprocessing.sequence import pad_sequences\n",
    "from keras.layers import Dense, Input, Conv1D, Embedding, Dropout, Activation, Flatten\n",
    "from keras.layers import GlobalMaxPool1D, MaxPooling1D, concatenate\n",
    "from keras.layers import Bidirectional,LSTM\n",
    "from keras.models import Model\n",
    "from keras import initializers, regularizers, constraints, optimizers, layers\n",
    "from keras.utils.np_utils import to_categorical\n",
    "from keras.regularizers import l2"
   ]
  },
  {
   "cell_type": "code",
   "execution_count": 4,
   "metadata": {
    "collapsed": true
   },
   "outputs": [],
   "source": [
    "from sklearn.model_selection import train_test_split\n",
    "from sklearn.utils import shuffle "
   ]
  },
  {
   "cell_type": "code",
   "execution_count": 5,
   "metadata": {
    "collapsed": true
   },
   "outputs": [],
   "source": [
    "from matplotlib import pyplot as plt\n",
    "%matplotlib inline"
   ]
  },
  {
   "cell_type": "code",
   "execution_count": 6,
   "metadata": {
    "collapsed": true
   },
   "outputs": [],
   "source": [
    "pd.set_option('max_colwidth',140)"
   ]
  },
  {
   "cell_type": "markdown",
   "metadata": {},
   "source": [
    "### Read in training data"
   ]
  },
  {
   "cell_type": "code",
   "execution_count": 7,
   "metadata": {},
   "outputs": [
    {
     "data": {
      "text/plain": [
       "(95851, 8)"
      ]
     },
     "execution_count": 7,
     "metadata": {},
     "output_type": "execute_result"
    }
   ],
   "source": [
    "full_train = pd.read_csv('../train.csv')\n",
    "full_train.shape"
   ]
  },
  {
   "cell_type": "code",
   "execution_count": 8,
   "metadata": {
    "collapsed": true
   },
   "outputs": [],
   "source": [
    "labels = np.array(full_train[['toxic', 'severe_toxic', 'obscene', 'threat','insult', 'identity_hate']])"
   ]
  },
  {
   "cell_type": "code",
   "execution_count": 9,
   "metadata": {
    "collapsed": true
   },
   "outputs": [],
   "source": [
    "clean_comment = np.zeros(shape=[labels.shape[0]])\n",
    "clean_comment[np.max(labels,axis=1)==0] = 1"
   ]
  },
  {
   "cell_type": "code",
   "execution_count": 10,
   "metadata": {
    "collapsed": true
   },
   "outputs": [],
   "source": [
    "comments=full_train['comment_text'].tolist()"
   ]
  },
  {
   "cell_type": "code",
   "execution_count": 11,
   "metadata": {
    "collapsed": true
   },
   "outputs": [],
   "source": [
    "token_dict = {}\n",
    "token_set = set()\n",
    "tokenized_comments = copy.copy(comments)\n",
    "for i in range(len(tokenized_comments)):\n",
    "    tokenized_comments[i] = re.sub(\"\\n\",' ',tokenized_comments[i])\n",
    "    tokenized_comments[i] = re.sub(\"\\t\",' ',tokenized_comments[i])\n",
    "    tokenized_comments[i] = re.sub(\"[^A-Za-z'\\*\\- ]\",' ',tokenized_comments[i])\n",
    "    tokenized_comments[i] = re.sub(\" +\",' ',tokenized_comments[i])\n",
    "    tokenized_comments[i] = re.sub(\"'+\",\"'\",tokenized_comments[i])    \n",
    "    tokenized_comments[i] = re.sub(\"\\*+\",\"\\*\",tokenized_comments[i])   \n",
    "    tokenized_comments[i] = re.sub(\"\\-+\",\"\\-\",tokenized_comments[i])\n",
    "    tokenized_comments[i] = tokenized_comments[i].lower().strip()\n",
    "    tokenized_comments[i] = tokenized_comments[i].split(' ')\n",
    "    line_dict = {}\n",
    "    line_set = set()\n",
    "    for token in tokenized_comments[i]:        \n",
    "        if token in token_set:\n",
    "            token_dict[token] += 1\n",
    "        else:\n",
    "            token_set.add(token)\n",
    "            token_dict[token] = 1"
   ]
  },
  {
   "cell_type": "markdown",
   "metadata": {},
   "source": [
    "### Read in test data"
   ]
  },
  {
   "cell_type": "code",
   "execution_count": 12,
   "metadata": {
    "collapsed": true
   },
   "outputs": [],
   "source": [
    "testdat = pd.read_csv('../test.csv')"
   ]
  },
  {
   "cell_type": "code",
   "execution_count": 13,
   "metadata": {
    "collapsed": true
   },
   "outputs": [],
   "source": [
    "test_comments0 = testdat['comment_text'].tolist()"
   ]
  },
  {
   "cell_type": "code",
   "execution_count": 14,
   "metadata": {},
   "outputs": [
    {
     "name": "stdout",
     "output_type": "stream",
     "text": [
      "52300 nan\n"
     ]
    }
   ],
   "source": [
    "test_comments0 = testdat['comment_text'].tolist()\n",
    "test_comments = copy.copy(test_comments0)\n",
    "for i in range(len(test_comments)):\n",
    "    if type(test_comments[i]) is float:\n",
    "        print(i,test_comments[i])\n",
    "        test_comments[i]=[]\n",
    "    else:\n",
    "        test_comments[i] = re.sub(\"\\n\",' ',test_comments[i])\n",
    "        test_comments[i] = re.sub(\"\\t\",' ',test_comments[i])\n",
    "        test_comments[i] = re.sub(\"[^A-Za-z'\\*\\- ]\",' ',test_comments[i])\n",
    "        test_comments[i] = re.sub(\" +\",' ',test_comments[i])\n",
    "        test_comments[i] = re.sub(\"'+\",\"'\",test_comments[i])    \n",
    "        test_comments[i] = re.sub(\"\\*+\",\"\\*\",test_comments[i])   \n",
    "        test_comments[i] = re.sub(\"\\-+\",\"\\-\",test_comments[i])\n",
    "        test_comments[i] = test_comments[i].lower().strip()\n",
    "        test_comments[i] = test_comments[i].split(' ')\n",
    "        for token in test_comments[i]:        \n",
    "            if token in token_set:\n",
    "                token_dict[token] += 1\n",
    "            else:\n",
    "                token_set.add(token)\n",
    "                token_dict[token] = 1        "
   ]
  },
  {
   "cell_type": "code",
   "execution_count": 15,
   "metadata": {
    "collapsed": true
   },
   "outputs": [],
   "source": [
    "token_count = pd.DataFrame.from_dict(token_dict,orient='index').reset_index()\n",
    "token_count.columns = ['token','freq']"
   ]
  },
  {
   "cell_type": "code",
   "execution_count": 16,
   "metadata": {
    "collapsed": true
   },
   "outputs": [],
   "source": [
    "token_count = token_count.sort_values('freq',ascending=False)\\\n",
    "    .reset_index(drop=True)\n",
    "token_count = token_count.reset_index()"
   ]
  },
  {
   "cell_type": "code",
   "execution_count": 20,
   "metadata": {
    "collapsed": true
   },
   "outputs": [],
   "source": [
    "reduced_token_count = token_count[token_count['freq']>=15]\n",
    "reduced_token_count.shape\n",
    "reduced_token_set = set(reduced_token_count['token'])"
   ]
  },
  {
   "cell_type": "code",
   "execution_count": 21,
   "metadata": {},
   "outputs": [
    {
     "data": {
      "text/html": [
       "<div>\n",
       "<style>\n",
       "    .dataframe thead tr:only-child th {\n",
       "        text-align: right;\n",
       "    }\n",
       "\n",
       "    .dataframe thead th {\n",
       "        text-align: left;\n",
       "    }\n",
       "\n",
       "    .dataframe tbody tr th {\n",
       "        vertical-align: top;\n",
       "    }\n",
       "</style>\n",
       "<table border=\"1\" class=\"dataframe\">\n",
       "  <thead>\n",
       "    <tr style=\"text-align: right;\">\n",
       "      <th></th>\n",
       "      <th>index</th>\n",
       "      <th>token</th>\n",
       "      <th>freq</th>\n",
       "    </tr>\n",
       "  </thead>\n",
       "  <tbody>\n",
       "    <tr>\n",
       "      <th>20707</th>\n",
       "      <td>20707</td>\n",
       "      <td>characterisation</td>\n",
       "      <td>28</td>\n",
       "    </tr>\n",
       "    <tr>\n",
       "      <th>18356</th>\n",
       "      <td>18356</td>\n",
       "      <td>frankish</td>\n",
       "      <td>34</td>\n",
       "    </tr>\n",
       "    <tr>\n",
       "      <th>6682</th>\n",
       "      <td>6682</td>\n",
       "      <td>backwards</td>\n",
       "      <td>167</td>\n",
       "    </tr>\n",
       "    <tr>\n",
       "      <th>27326</th>\n",
       "      <td>27326</td>\n",
       "      <td>newspaper's</td>\n",
       "      <td>18</td>\n",
       "    </tr>\n",
       "    <tr>\n",
       "      <th>30826</th>\n",
       "      <td>30826</td>\n",
       "      <td>indenting</td>\n",
       "      <td>15</td>\n",
       "    </tr>\n",
       "  </tbody>\n",
       "</table>\n",
       "</div>"
      ],
      "text/plain": [
       "       index             token  freq\n",
       "20707  20707  characterisation    28\n",
       "18356  18356          frankish    34\n",
       "6682    6682         backwards   167\n",
       "27326  27326       newspaper's    18\n",
       "30826  30826         indenting    15"
      ]
     },
     "execution_count": 21,
     "metadata": {},
     "output_type": "execute_result"
    }
   ],
   "source": [
    "reduced_token_count.sample(5)"
   ]
  },
  {
   "cell_type": "markdown",
   "metadata": {},
   "source": [
    "#### Convert training sequences to index"
   ]
  },
  {
   "cell_type": "code",
   "execution_count": 22,
   "metadata": {
    "collapsed": true
   },
   "outputs": [],
   "source": [
    "index_token_dict = pd.Series(reduced_token_count.token.values,index=reduced_token_count.index+1).to_dict()\n",
    "token_index_dict = pd.Series(reduced_token_count.index.values+1,index=reduced_token_count.token).to_dict()"
   ]
  },
  {
   "cell_type": "code",
   "execution_count": 20,
   "metadata": {
    "collapsed": true
   },
   "outputs": [],
   "source": [
    "tokenized_corpus = []\n",
    "for line in tokenized_comments:\n",
    "    line_token_idx = []\n",
    "    for t in line:\n",
    "        if t in reduced_token_set:\n",
    "            line_token_idx += [token_index_dict[t]]\n",
    "    tokenized_corpus += [line_token_idx]"
   ]
  },
  {
   "cell_type": "code",
   "execution_count": 21,
   "metadata": {},
   "outputs": [
    {
     "name": "stdout",
     "output_type": "stream",
     "text": [
      "['nonsense', 'kiss', 'off', 'geek', 'what', 'i', 'said', 'is', 'true', \"i'll\", 'have', 'your', 'account', 'terminated']\n",
      "[853, 2316, 340, 9168, 53, 9, 216, 8, 396, 326, 22, 24, 218, 13547]\n"
     ]
    }
   ],
   "source": [
    "print(tokenized_comments[0])\n",
    "print(tokenized_corpus[0])"
   ]
  },
  {
   "cell_type": "code",
   "execution_count": 22,
   "metadata": {},
   "outputs": [
    {
     "data": {
      "text/plain": [
       "90.0"
      ]
     },
     "execution_count": 22,
     "metadata": {},
     "output_type": "execute_result"
    }
   ],
   "source": [
    "comment_length = []\n",
    "for comment in tokenized_comments:\n",
    "    comment_length.append(len(comment))\n",
    "comment_length = np.array(comment_length)\n",
    "np.percentile(comment_length,80)"
   ]
  },
  {
   "cell_type": "code",
   "execution_count": 133,
   "metadata": {
    "collapsed": true
   },
   "outputs": [],
   "source": [
    "clean_comment = np.zeros(shape=[labels.shape[0]])\n",
    "clean_comment[np.max(labels,axis=1)==0] = 1"
   ]
  },
  {
   "cell_type": "code",
   "execution_count": 144,
   "metadata": {},
   "outputs": [
    {
     "data": {
      "text/plain": [
       "0.85342185903983658"
      ]
     },
     "execution_count": 144,
     "metadata": {},
     "output_type": "execute_result"
    }
   ],
   "source": [
    "np.mean(comment_length[clean_comment==0]<80)"
   ]
  },
  {
   "cell_type": "code",
   "execution_count": 135,
   "metadata": {},
   "outputs": [
    {
     "data": {
      "text/plain": [
       "(0, 600)"
      ]
     },
     "execution_count": 135,
     "metadata": {},
     "output_type": "execute_result"
    },
    {
     "data": {
      "image/png": "[encoded data removed]",
      "text/plain": [
       "<matplotlib.figure.Figure at 0x190512710>"
      ]
     },
     "metadata": {},
     "output_type": "display_data"
    }
   ],
   "source": [
    "plt.figure(figsize=(12, 4))\n",
    "n, bins, patches = plt.hist(comment_length[clean_comment==0], 300, normed=1, facecolor='green', alpha=0.7)\n",
    "n, bins, patches = plt.hist(comment_length[clean_comment==1], 300, normed=1, facecolor='blue', alpha=0.7)\n",
    "plt.xlim([0,600])"
   ]
  },
  {
   "cell_type": "code",
   "execution_count": 145,
   "metadata": {
    "collapsed": true
   },
   "outputs": [],
   "source": [
    "MAX_SEQ_LENGTH=80\n",
    "tokenized_corpus_padded = pad_sequences(tokenized_corpus,maxlen=MAX_SEQ_LENGTH)"
   ]
  },
  {
   "cell_type": "markdown",
   "metadata": {},
   "source": [
    "### Load w2v model"
   ]
  },
  {
   "cell_type": "code",
   "execution_count": 29,
   "metadata": {
    "collapsed": true
   },
   "outputs": [],
   "source": [
    "w2v_model = gensim.models.Word2Vec.load(\"../wiki_comment_word2vec\")"
   ]
  },
  {
   "cell_type": "code",
   "execution_count": 30,
   "metadata": {},
   "outputs": [
    {
     "data": {
      "text/plain": [
       "31293"
      ]
     },
     "execution_count": 30,
     "metadata": {},
     "output_type": "execute_result"
    }
   ],
   "source": [
    "len(w2v_model.wv.vocab)"
   ]
  },
  {
   "cell_type": "code",
   "execution_count": 31,
   "metadata": {},
   "outputs": [
    {
     "name": "stdout",
     "output_type": "stream",
     "text": [
      "(31294, 50)\n"
     ]
    }
   ],
   "source": [
    "V = len(reduced_token_set)+1\n",
    "EMBEDDING_DIM=50\n",
    "print((V,EMBEDDING_DIM))"
   ]
  },
  {
   "cell_type": "code",
   "execution_count": 32,
   "metadata": {
    "collapsed": true
   },
   "outputs": [],
   "source": [
    "embed_matrix = np.zeros((V,EMBEDDING_DIM))\n",
    "for token in token_index_dict.keys():\n",
    "    embed_matrix[token_index_dict[token]] = w2v_model.wv[token]"
   ]
  },
  {
   "cell_type": "code",
   "execution_count": 33,
   "metadata": {},
   "outputs": [
    {
     "data": {
      "text/plain": [
       "(31294, 50)"
      ]
     },
     "execution_count": 33,
     "metadata": {},
     "output_type": "execute_result"
    }
   ],
   "source": [
    "embed_matrix.shape"
   ]
  },
  {
   "cell_type": "markdown",
   "metadata": {},
   "source": [
    "### Split training data into train,valid sets"
   ]
  },
  {
   "cell_type": "code",
   "execution_count": 146,
   "metadata": {
    "collapsed": true
   },
   "outputs": [],
   "source": [
    "labels0,tokenized_corpus_padded0 = shuffle(labels,tokenized_corpus_padded)"
   ]
  },
  {
   "cell_type": "code",
   "execution_count": 147,
   "metadata": {
    "collapsed": true
   },
   "outputs": [],
   "source": [
    "labels_train,labels_valid, \\\n",
    "seq_train,seq_valid  = \\\n",
    "train_test_split(labels0,tokenized_corpus_padded0,\\\n",
    "                 test_size=0.2,stratify=clean_comment)"
   ]
  },
  {
   "cell_type": "code",
   "execution_count": 148,
   "metadata": {},
   "outputs": [
    {
     "name": "stdout",
     "output_type": "stream",
     "text": [
      "[ 0.09685707  0.01005477  0.05329943  0.00323422  0.04988263  0.00864632]\n",
      "(76680, 6)\n",
      "[ 0.09441344  0.01011945  0.05330969  0.00297324  0.04903239  0.00787648]\n",
      "(19171, 6)\n"
     ]
    }
   ],
   "source": [
    "print(np.mean(labels_train,axis=0))\n",
    "print(labels_train.shape)\n",
    "print(np.mean(labels_valid,axis=0))\n",
    "print(labels_valid.shape)"
   ]
  },
  {
   "cell_type": "markdown",
   "metadata": {},
   "source": [
    "### Lightweight convolutional model"
   ]
  },
  {
   "cell_type": "code",
   "execution_count": null,
   "metadata": {
    "collapsed": true
   },
   "outputs": [],
   "source": [
    "# (with 300 length sequences)"
   ]
  },
  {
   "cell_type": "code",
   "execution_count": 126,
   "metadata": {
    "collapsed": true
   },
   "outputs": [],
   "source": [
    "# Sequence input\n",
    "sequence_input = Input(shape=(MAX_SEQ_LENGTH,),dtype='int32',name='Input')\n",
    "\n",
    "# Embedding lookup\n",
    "embed_seq_unmasked = Embedding(input_dim=V\n",
    "                              ,output_dim=EMBEDDING_DIM\n",
    "                              ,weights=[embed_matrix]\n",
    "                              ,input_length=300\n",
    "                              ,trainable=False\n",
    "                              ,mask_zero=False\n",
    "                              ,name='Embedding')(sequence_input)"
   ]
  },
  {
   "cell_type": "code",
   "execution_count": 55,
   "metadata": {
    "collapsed": true
   },
   "outputs": [],
   "source": [
    "# Convolutional layers: width 7\n",
    "Conv7_layer = Conv1D(64,7,activation='sigmoid',padding='same')(embed_seq_unmasked)\n",
    "Conv7_layer = MaxPooling1D(2)(Conv7_layer)\n",
    "Conv7_layer = Conv1D(64,7,activation='sigmoid',padding='same')(Conv7_layer)\n",
    "Conv7_layer = GlobalMaxPool1D()(Conv7_layer)\n",
    "Conv7_layer = Dropout(0.5)(Conv7_layer)"
   ]
  },
  {
   "cell_type": "code",
   "execution_count": 58,
   "metadata": {
    "collapsed": true
   },
   "outputs": [],
   "source": [
    "#Conv_dense = Dense(50,activation='relu')(Conv_cat)\n",
    "Conv_dense = Dense(32,activation='relu',kernel_regularizer=regularizers.l2(0.0001))(Conv7_layer)\n",
    "Conv_output = Dense(6, activation=\"sigmoid\")(Conv_dense)"
   ]
  },
  {
   "cell_type": "code",
   "execution_count": 59,
   "metadata": {},
   "outputs": [
    {
     "name": "stdout",
     "output_type": "stream",
     "text": [
      "_________________________________________________________________\n",
      "Layer (type)                 Output Shape              Param #   \n",
      "=================================================================\n",
      "Input (InputLayer)           (None, 300)               0         \n",
      "_________________________________________________________________\n",
      "Embedding (Embedding)        (None, 300, 50)           1564700   \n",
      "_________________________________________________________________\n",
      "conv1d_9 (Conv1D)            (None, 300, 64)           22464     \n",
      "_________________________________________________________________\n",
      "max_pooling1d_4 (MaxPooling1 (None, 150, 64)           0         \n",
      "_________________________________________________________________\n",
      "conv1d_10 (Conv1D)           (None, 150, 64)           28736     \n",
      "_________________________________________________________________\n",
      "global_max_pooling1d_5 (Glob (None, 64)                0         \n",
      "_________________________________________________________________\n",
      "dropout_6 (Dropout)          (None, 64)                0         \n",
      "_________________________________________________________________\n",
      "dense_9 (Dense)              (None, 32)                2080      \n",
      "_________________________________________________________________\n",
      "dense_10 (Dense)             (None, 6)                 198       \n",
      "=================================================================\n",
      "Total params: 1,618,178\n",
      "Trainable params: 53,478\n",
      "Non-trainable params: 1,564,700\n",
      "_________________________________________________________________\n"
     ]
    }
   ],
   "source": [
    "cnn_model = Model(inputs=sequence_input, outputs=Conv_output)\n",
    "cnn_model.compile(loss='binary_crossentropy', optimizer='adam', metrics=['accuracy'])\n",
    "cnn_model.summary()"
   ]
  },
  {
   "cell_type": "code",
   "execution_count": 60,
   "metadata": {},
   "outputs": [
    {
     "name": "stdout",
     "output_type": "stream",
     "text": [
      "Train on 76680 samples, validate on 19171 samples\n",
      "Epoch 1/6\n",
      "76680/76680 [==============================] - 246s - loss: 0.0779 - acc: 0.9753 - val_loss: 0.0574 - val_acc: 0.9802\n",
      "Epoch 2/6\n",
      "76680/76680 [==============================] - 246s - loss: 0.0595 - acc: 0.9795 - val_loss: 0.0562 - val_acc: 0.9804\n",
      "Epoch 3/6\n",
      "76680/76680 [==============================] - 246s - loss: 0.0558 - acc: 0.9804 - val_loss: 0.0544 - val_acc: 0.9803\n",
      "Epoch 4/6\n",
      "76680/76680 [==============================] - 247s - loss: 0.0540 - acc: 0.9808 - val_loss: 0.0552 - val_acc: 0.9801\n",
      "Epoch 5/6\n",
      "76680/76680 [==============================] - 248s - loss: 0.0523 - acc: 0.9812 - val_loss: 0.0548 - val_acc: 0.9804\n",
      "Epoch 6/6\n",
      "76680/76680 [==============================] - 243s - loss: 0.0509 - acc: 0.9816 - val_loss: 0.0557 - val_acc: 0.9807\n"
     ]
    }
   ],
   "source": [
    "history_CNN = cnn_model.fit(seq_train,labels_train\n",
    "                           ,epochs=6\n",
    "                           ,batch_size=16\n",
    "                           ,validation_data=(seq_valid,labels_valid)\n",
    "                           ,verbose=1)"
   ]
  },
  {
   "cell_type": "code",
   "execution_count": 101,
   "metadata": {},
   "outputs": [
    {
     "data": {
      "text/plain": [
       "<matplotlib.text.Text at 0x1a323d128>"
      ]
     },
     "execution_count": 101,
     "metadata": {},
     "output_type": "execute_result"
    },
    {
     "data": {
      "image/png": "[encoded data removed]",
      "text/plain": [
       "<matplotlib.figure.Figure at 0x19db03e80>"
      ]
     },
     "metadata": {},
     "output_type": "display_data"
    }
   ],
   "source": [
    "plt.figure(figsize=(12,6))\n",
    "plt.suptitle(\"Convolutional sequence model\")\n",
    "#plt.subplot(121)\n",
    "plt.plot(history_CNN.history['loss'],'-o',label='train')\n",
    "plt.plot(history_CNN.history['val_loss'],'-o',label='test')\n",
    "plt.legend()\n",
    "plt.xlabel('epoch',fontsize=14)\n",
    "plt.ylabel('loss',fontsize=14)\n",
    "#plt.subplot(122)\n",
    "#plt.plot(history_CNN.history['acc'],label='train')\n",
    "#plt.plot(history_CNN.history['val_acc'],label='test')\n",
    "#plt.legend()\n",
    "#plt.xlabel('epoch',fontsize=14)\n",
    "#plt.xlabel('accuracy',fontsize=14)"
   ]
  },
  {
   "cell_type": "code",
   "execution_count": 27,
   "metadata": {},
   "outputs": [
    {
     "ename": "NameError",
     "evalue": "name 'history_CNN' is not defined",
     "output_type": "error",
     "traceback": [
      "\u001b[0;31m---------------------------------------------------------------------------\u001b[0m",
      "\u001b[0;31mNameError\u001b[0m                                 Traceback (most recent call last)",
      "\u001b[0;32m<ipython-input-27-22ce56541932>\u001b[0m in \u001b[0;36m<module>\u001b[0;34m()\u001b[0m\n\u001b[0;32m----> 1\u001b[0;31m \u001b[0mnp\u001b[0m\u001b[0;34m.\u001b[0m\u001b[0mmin\u001b[0m\u001b[0;34m(\u001b[0m\u001b[0mhistory_CNN\u001b[0m\u001b[0;34m.\u001b[0m\u001b[0mhistory\u001b[0m\u001b[0;34m[\u001b[0m\u001b[0;34m'val_loss'\u001b[0m\u001b[0;34m]\u001b[0m\u001b[0;34m)\u001b[0m\u001b[0;34m\u001b[0m\u001b[0m\n\u001b[0m",
      "\u001b[0;31mNameError\u001b[0m: name 'history_CNN' is not defined"
     ]
    }
   ],
   "source": [
    "np.min(history_CNN.history['val_loss'])"
   ]
  },
  {
   "cell_type": "markdown",
   "metadata": {},
   "source": [
    "### Recurrent model"
   ]
  },
  {
   "cell_type": "code",
   "execution_count": 160,
   "metadata": {
    "collapsed": true
   },
   "outputs": [],
   "source": [
    "# Sequence input\n",
    "sequence_input = Input(shape=(80,),dtype='int32',name='Input')\n",
    "\n",
    "# Embedding lookup\n",
    "embed_seq_unmasked = Embedding(input_dim=V\n",
    "                              ,output_dim=EMBEDDING_DIM\n",
    "                              ,weights=[embed_matrix]\n",
    "                              ,input_length=80\n",
    "                              ,trainable=False\n",
    "                              ,mask_zero=False\n",
    "                              ,name='Embedding')(sequence_input)"
   ]
  },
  {
   "cell_type": "code",
   "execution_count": 161,
   "metadata": {
    "collapsed": true
   },
   "outputs": [],
   "source": [
    "recurrent_layer = Bidirectional(LSTM(30, return_sequences=True))(embed_seq_unmasked) #dropout=0.1, recurrent_dropout=0.1\n",
    "recurrent_layer = GlobalMaxPool1D()(recurrent_layer)\n",
    "recurrent_layer = Dropout(0.5)(recurrent_layer)"
   ]
  },
  {
   "cell_type": "code",
   "execution_count": 162,
   "metadata": {
    "collapsed": true
   },
   "outputs": [],
   "source": [
    "recurrent_dense = Dense(16,activation='relu',kernel_regularizer=regularizers.l2(0.0001))(recurrent_layer)\n",
    "recurrent_output = Dense(6, activation=\"sigmoid\")(recurrent_dense)"
   ]
  },
  {
   "cell_type": "code",
   "execution_count": 163,
   "metadata": {},
   "outputs": [
    {
     "name": "stdout",
     "output_type": "stream",
     "text": [
      "_________________________________________________________________\n",
      "Layer (type)                 Output Shape              Param #   \n",
      "=================================================================\n",
      "Input (InputLayer)           (None, 80)                0         \n",
      "_________________________________________________________________\n",
      "Embedding (Embedding)        (None, 80, 50)            1564700   \n",
      "_________________________________________________________________\n",
      "bidirectional_10 (Bidirectio (None, 80, 60)            19440     \n",
      "_________________________________________________________________\n",
      "global_max_pooling1d_14 (Glo (None, 60)                0         \n",
      "_________________________________________________________________\n",
      "dropout_14 (Dropout)         (None, 60)                0         \n",
      "_________________________________________________________________\n",
      "dense_25 (Dense)             (None, 16)                976       \n",
      "_________________________________________________________________\n",
      "dense_26 (Dense)             (None, 6)                 102       \n",
      "=================================================================\n",
      "Total params: 1,585,218\n",
      "Trainable params: 20,518\n",
      "Non-trainable params: 1,564,700\n",
      "_________________________________________________________________\n"
     ]
    },
    {
     "name": "stderr",
     "output_type": "stream",
     "text": [
      "/Users/ChadMorgan/anaconda/lib/python3.6/site-packages/ipykernel_launcher.py:1: UserWarning: Update your `Model` call to the Keras 2 API: `Model(inputs=Tensor(\"In..., outputs=Tensor(\"de...)`\n",
      "  \"\"\"Entry point for launching an IPython kernel.\n"
     ]
    }
   ],
   "source": [
    "lstm_model = Model(inputs=sequence_input, output=recurrent_output)\n",
    "lstm_model.compile(loss='binary_crossentropy', optimizer='adam', metrics=['accuracy'])\n",
    "lstm_model.summary()"
   ]
  },
  {
   "cell_type": "code",
   "execution_count": 164,
   "metadata": {
    "scrolled": false
   },
   "outputs": [
    {
     "name": "stdout",
     "output_type": "stream",
     "text": [
      "Train on 76680 samples, validate on 19171 samples\n",
      "Epoch 1/3\n",
      "76680/76680 [==============================] - 1107s - loss: 0.0763 - acc: 0.9758 - val_loss: 0.0556 - val_acc: 0.9811\n",
      "Epoch 2/3\n",
      "76680/76680 [==============================] - 1109s - loss: 0.0598 - acc: 0.9793 - val_loss: 0.0544 - val_acc: 0.9808\n",
      "Epoch 3/3\n",
      "76680/76680 [==============================] - 1111s - loss: 0.0571 - acc: 0.9800 - val_loss: 0.0525 - val_acc: 0.9815\n"
     ]
    }
   ],
   "source": [
    "history_LSTM = lstm_model.fit(seq_train,labels_train\n",
    "                           ,epochs=3\n",
    "                           ,batch_size=16\n",
    "                           ,validation_data=(seq_valid,labels_valid)\n",
    "                           ,verbose=1)"
   ]
  },
  {
   "cell_type": "code",
   "execution_count": 165,
   "metadata": {},
   "outputs": [
    {
     "data": {
      "text/plain": [
       "<matplotlib.text.Text at 0x1978824a8>"
      ]
     },
     "execution_count": 165,
     "metadata": {},
     "output_type": "execute_result"
    },
    {
     "data": {
      "image/png": "[encoded data removed]",
      "text/plain": [
       "<matplotlib.figure.Figure at 0x1978b75c0>"
      ]
     },
     "metadata": {},
     "output_type": "display_data"
    }
   ],
   "source": [
    "plt.figure(figsize=(12,6))\n",
    "plt.suptitle(\"LSTM sequence model\")\n",
    "plt.plot(history_LSTM.history['loss'],'-o',label='train')\n",
    "plt.plot(history_LSTM.history['val_loss'],'-o',label='test')\n",
    "plt.legend()\n",
    "plt.xlabel('epoch',fontsize=14)\n",
    "plt.ylabel('loss',fontsize=14)"
   ]
  },
  {
   "cell_type": "markdown",
   "metadata": {},
   "source": [
    "### Wider w2v inputs (150d)"
   ]
  },
  {
   "cell_type": "code",
   "execution_count": 175,
   "metadata": {
    "collapsed": true
   },
   "outputs": [],
   "source": [
    "wide_w2v_model = gensim.models.Word2Vec.load(\"../wiki_comment_word2vec_150d\")"
   ]
  },
  {
   "cell_type": "code",
   "execution_count": 178,
   "metadata": {},
   "outputs": [
    {
     "name": "stdout",
     "output_type": "stream",
     "text": [
      "(31294, 150)\n"
     ]
    }
   ],
   "source": [
    "V = len(reduced_token_set)+1\n",
    "EMBEDDING_DIM_WIDE=150\n",
    "print((V,EMBEDDING_DIM_WIDE))"
   ]
  },
  {
   "cell_type": "code",
   "execution_count": 181,
   "metadata": {},
   "outputs": [
    {
     "data": {
      "text/plain": [
       "(31294, 150)"
      ]
     },
     "execution_count": 181,
     "metadata": {},
     "output_type": "execute_result"
    }
   ],
   "source": [
    "wide_embed_matrix = np.zeros((V,EMBEDDING_DIM_WIDE))\n",
    "for token in token_index_dict.keys():\n",
    "    wide_embed_matrix[token_index_dict[token]] = wide_w2v_model.wv[token]\n",
    "                             \n",
    "wide_embed_matrix.shape"
   ]
  },
  {
   "cell_type": "markdown",
   "metadata": {},
   "source": [
    "### ConvNet with wider w2v"
   ]
  },
  {
   "cell_type": "code",
   "execution_count": 182,
   "metadata": {
    "collapsed": true
   },
   "outputs": [],
   "source": [
    "# Sequence input\n",
    "sequence_input = Input(shape=(80,),dtype='int32',name='Input')\n",
    "\n",
    "# Embedding lookup\n",
    "wider_embed_seq_unmasked = Embedding(input_dim=V\n",
    "                              ,output_dim=EMBEDDING_DIM_WIDE\n",
    "                              ,weights=[wide_embed_matrix]\n",
    "                              ,input_length=80\n",
    "                              ,trainable=False\n",
    "                              ,mask_zero=False\n",
    "                              ,name='Embedding')(sequence_input)"
   ]
  },
  {
   "cell_type": "code",
   "execution_count": 183,
   "metadata": {
    "collapsed": true
   },
   "outputs": [],
   "source": [
    "# Convolutional layers: width 7\n",
    "wide_Conv7_layer = Conv1D(64,7,activation='sigmoid',padding='same')(wider_embed_seq_unmasked)\n",
    "wide_Conv7_layer = MaxPooling1D(2)(wide_Conv7_layer)\n",
    "wide_Conv7_layer = Conv1D(64,7,activation='sigmoid',padding='same')(wide_Conv7_layer)\n",
    "wide_Conv7_layer = GlobalMaxPool1D()(wide_Conv7_layer)\n",
    "wide_Conv7_layer = Dropout(0.5)(wide_Conv7_layer)"
   ]
  },
  {
   "cell_type": "code",
   "execution_count": 184,
   "metadata": {
    "collapsed": true
   },
   "outputs": [],
   "source": [
    "#Conv_dense = Dense(50,activation='relu')(Conv_cat)\n",
    "wide_Conv_dense = Dense(32,activation='relu',kernel_regularizer=regularizers.l2(0.0001))(wide_Conv7_layer)\n",
    "wide_Conv_output = Dense(6, activation=\"sigmoid\")(wide_Conv_dense)"
   ]
  },
  {
   "cell_type": "code",
   "execution_count": 185,
   "metadata": {},
   "outputs": [
    {
     "name": "stdout",
     "output_type": "stream",
     "text": [
      "_________________________________________________________________\n",
      "Layer (type)                 Output Shape              Param #   \n",
      "=================================================================\n",
      "Input (InputLayer)           (None, 80)                0         \n",
      "_________________________________________________________________\n",
      "Embedding (Embedding)        (None, 80, 150)           4694100   \n",
      "_________________________________________________________________\n",
      "conv1d_11 (Conv1D)           (None, 80, 64)            67264     \n",
      "_________________________________________________________________\n",
      "max_pooling1d_5 (MaxPooling1 (None, 40, 64)            0         \n",
      "_________________________________________________________________\n",
      "conv1d_12 (Conv1D)           (None, 40, 64)            28736     \n",
      "_________________________________________________________________\n",
      "global_max_pooling1d_15 (Glo (None, 64)                0         \n",
      "_________________________________________________________________\n",
      "dropout_15 (Dropout)         (None, 64)                0         \n",
      "_________________________________________________________________\n",
      "dense_27 (Dense)             (None, 32)                2080      \n",
      "_________________________________________________________________\n",
      "dense_28 (Dense)             (None, 6)                 198       \n",
      "=================================================================\n",
      "Total params: 4,792,378\n",
      "Trainable params: 98,278\n",
      "Non-trainable params: 4,694,100\n",
      "_________________________________________________________________\n"
     ]
    }
   ],
   "source": [
    "wide_cnn_model = Model(inputs=sequence_input, outputs=wide_Conv_output)\n",
    "wide_cnn_model.compile(loss='binary_crossentropy', optimizer='adam', metrics=['accuracy'])\n",
    "wide_cnn_model.summary()"
   ]
  },
  {
   "cell_type": "code",
   "execution_count": 186,
   "metadata": {},
   "outputs": [
    {
     "name": "stdout",
     "output_type": "stream",
     "text": [
      "Train on 76680 samples, validate on 19171 samples\n",
      "Epoch 1/6\n",
      "76680/76680 [==============================] - 144s - loss: 0.0756 - acc: 0.9762 - val_loss: 0.0551 - val_acc: 0.9810\n",
      "Epoch 2/6\n",
      "76680/76680 [==============================] - 154s - loss: 0.0575 - acc: 0.9801 - val_loss: 0.0555 - val_acc: 0.9796\n",
      "Epoch 3/6\n",
      "76680/76680 [==============================] - 141s - loss: 0.0538 - acc: 0.9810 - val_loss: 0.0528 - val_acc: 0.9810\n",
      "Epoch 4/6\n",
      "76680/76680 [==============================] - 141s - loss: 0.0505 - acc: 0.9819 - val_loss: 0.0540 - val_acc: 0.9808\n",
      "Epoch 5/6\n",
      "76680/76680 [==============================] - 141s - loss: 0.0474 - acc: 0.9828 - val_loss: 0.0534 - val_acc: 0.9813\n",
      "Epoch 6/6\n",
      "76680/76680 [==============================] - 142s - loss: 0.0446 - acc: 0.9836 - val_loss: 0.0543 - val_acc: 0.9811\n"
     ]
    }
   ],
   "source": [
    "history_wider_CNN = wide_cnn_model.fit(seq_train,labels_train\n",
    "                           ,epochs=6\n",
    "                           ,batch_size=16\n",
    "                           ,validation_data=(seq_valid,labels_valid)\n",
    "                           ,verbose=1)"
   ]
  },
  {
   "cell_type": "code",
   "execution_count": 187,
   "metadata": {},
   "outputs": [
    {
     "data": {
      "text/plain": [
       "<matplotlib.text.Text at 0x19b4f1cc0>"
      ]
     },
     "execution_count": 187,
     "metadata": {},
     "output_type": "execute_result"
    },
    {
     "data": {
      "image/png": "[encoded data removed]",
      "text/plain": [
       "<matplotlib.figure.Figure at 0x19b56e7b8>"
      ]
     },
     "metadata": {},
     "output_type": "display_data"
    }
   ],
   "source": [
    "plt.figure(figsize=(12,6))\n",
    "plt.suptitle(\"ConvNet with 150dim word2vec\")\n",
    "plt.plot(history_wider_CNN.history['loss'],'-o',label='train')\n",
    "plt.plot(history_wider_CNN.history['val_loss'],'-o',label='test')\n",
    "plt.legend()\n",
    "plt.xlabel('epoch',fontsize=14)\n",
    "plt.ylabel('loss',fontsize=14)"
   ]
  },
  {
   "cell_type": "code",
   "execution_count": null,
   "metadata": {
    "collapsed": true
   },
   "outputs": [],
   "source": []
  },
  {
   "cell_type": "code",
   "execution_count": 191,
   "metadata": {
    "collapsed": true
   },
   "outputs": [],
   "source": [
    "wider_recurrent_layer = Bidirectional(LSTM(30, return_sequences=True))(wider_embed_seq_unmasked) #dropout=0.1, recurrent_dropout=0.1\n",
    "wider_recurrent_layer = GlobalMaxPool1D()(wider_recurrent_layer)\n",
    "wider_recurrent_layer = Dropout(0.5)(wider_recurrent_layer)"
   ]
  },
  {
   "cell_type": "code",
   "execution_count": 192,
   "metadata": {
    "collapsed": true
   },
   "outputs": [],
   "source": [
    "wider_recurrent_dense = Dense(16,activation='relu',kernel_regularizer=regularizers.l2(0.0001))(wider_recurrent_layer)\n",
    "wider_recurrent_output = Dense(6, activation=\"sigmoid\")(wider_recurrent_dense)"
   ]
  },
  {
   "cell_type": "code",
   "execution_count": 193,
   "metadata": {},
   "outputs": [
    {
     "name": "stdout",
     "output_type": "stream",
     "text": [
      "_________________________________________________________________\n",
      "Layer (type)                 Output Shape              Param #   \n",
      "=================================================================\n",
      "Input (InputLayer)           (None, 80)                0         \n",
      "_________________________________________________________________\n",
      "Embedding (Embedding)        (None, 80, 150)           4694100   \n",
      "_________________________________________________________________\n",
      "bidirectional_12 (Bidirectio (None, 80, 60)            43440     \n",
      "_________________________________________________________________\n",
      "global_max_pooling1d_17 (Glo (None, 60)                0         \n",
      "_________________________________________________________________\n",
      "dropout_17 (Dropout)         (None, 60)                0         \n",
      "_________________________________________________________________\n",
      "dense_31 (Dense)             (None, 16)                976       \n",
      "_________________________________________________________________\n",
      "dense_32 (Dense)             (None, 6)                 102       \n",
      "=================================================================\n",
      "Total params: 4,738,618\n",
      "Trainable params: 44,518\n",
      "Non-trainable params: 4,694,100\n",
      "_________________________________________________________________\n"
     ]
    },
    {
     "name": "stderr",
     "output_type": "stream",
     "text": [
      "/Users/ChadMorgan/anaconda/lib/python3.6/site-packages/ipykernel_launcher.py:1: UserWarning: Update your `Model` call to the Keras 2 API: `Model(inputs=Tensor(\"In..., outputs=Tensor(\"de...)`\n",
      "  \"\"\"Entry point for launching an IPython kernel.\n"
     ]
    }
   ],
   "source": [
    "wider_lstm_model = Model(inputs=sequence_input, output=wider_recurrent_output)\n",
    "wider_lstm_model.compile(loss='binary_crossentropy', optimizer='adam', metrics=['accuracy'])\n",
    "wider_lstm_model.summary()"
   ]
  },
  {
   "cell_type": "code",
   "execution_count": 194,
   "metadata": {},
   "outputs": [
    {
     "name": "stdout",
     "output_type": "stream",
     "text": [
      "Train on 76680 samples, validate on 19171 samples\n",
      "Epoch 1/3\n",
      "76680/76680 [==============================] - 1143s - loss: 0.0748 - acc: 0.9758 - val_loss: 0.0531 - val_acc: 0.9815\n",
      "Epoch 2/3\n",
      "76680/76680 [==============================] - 1139s - loss: 0.0568 - acc: 0.9803 - val_loss: 0.0512 - val_acc: 0.9820\n",
      "Epoch 3/3\n",
      "76680/76680 [==============================] - 1127s - loss: 0.0534 - acc: 0.9811 - val_loss: 0.0508 - val_acc: 0.9817\n"
     ]
    }
   ],
   "source": [
    "history_wider_LSTM = wider_lstm_model.fit(seq_train,labels_train\n",
    "                           ,epochs=3\n",
    "                           ,batch_size=16\n",
    "                           ,validation_data=(seq_valid,labels_valid)\n",
    "                           ,verbose=1)"
   ]
  },
  {
   "cell_type": "code",
   "execution_count": 195,
   "metadata": {},
   "outputs": [
    {
     "data": {
      "text/plain": [
       "<matplotlib.text.Text at 0x1a9fcc550>"
      ]
     },
     "execution_count": 195,
     "metadata": {},
     "output_type": "execute_result"
    },
    {
     "data": {
      "image/png": "[encoded data removed]",
      "text/plain": [
       "<matplotlib.figure.Figure at 0x1a79959e8>"
      ]
     },
     "metadata": {},
     "output_type": "display_data"
    }
   ],
   "source": [
    "plt.figure(figsize=(12,6))\n",
    "plt.suptitle(\"LSTM with 150dim word2vec\")\n",
    "plt.plot(history_wider_LSTM.history['loss'],'-o',label='train')\n",
    "plt.plot(history_wider_LSTM.history['val_loss'],'-o',label='test')\n",
    "plt.legend()\n",
    "plt.xlabel('epoch',fontsize=14)\n",
    "plt.ylabel('loss',fontsize=14)"
   ]
  },
  {
   "cell_type": "markdown",
   "metadata": {},
   "source": [
    "#### Kaggle test set scoring"
   ]
  },
  {
   "cell_type": "code",
   "execution_count": 168,
   "metadata": {
    "collapsed": true
   },
   "outputs": [],
   "source": [
    "tokenized_test = []\n",
    "for line in test_comments:\n",
    "    line_token_idx = []\n",
    "    for t in line:\n",
    "        if t in reduced_token_set:\n",
    "            line_token_idx += [token_index_dict[t]]\n",
    "    tokenized_test += [line_token_idx]"
   ]
  },
  {
   "cell_type": "code",
   "execution_count": 169,
   "metadata": {
    "collapsed": true
   },
   "outputs": [],
   "source": [
    "tokenized_test_padded = pad_sequences(tokenized_test,maxlen=80)"
   ]
  },
  {
   "cell_type": "code",
   "execution_count": 238,
   "metadata": {
    "collapsed": true
   },
   "outputs": [],
   "source": [
    "lstm_kaggle_predict = wider_lstm_model.predict(tokenized_test_padded)"
   ]
  },
  {
   "cell_type": "code",
   "execution_count": 239,
   "metadata": {},
   "outputs": [
    {
     "name": "stdout",
     "output_type": "stream",
     "text": [
      "(226998, 6)\n"
     ]
    }
   ],
   "source": [
    "kaggle_submit = pd.DataFrame(lstm_kaggle_predict)\n",
    "print(kaggle_submit.shape)\n",
    "kaggle_submit.columns = ['toxic', 'severe_toxic', 'obscene', 'threat','insult', 'identity_hate']"
   ]
  },
  {
   "cell_type": "code",
   "execution_count": 240,
   "metadata": {},
   "outputs": [
    {
     "data": {
      "text/html": [
       "<div>\n",
       "<style>\n",
       "    .dataframe thead tr:only-child th {\n",
       "        text-align: right;\n",
       "    }\n",
       "\n",
       "    .dataframe thead th {\n",
       "        text-align: left;\n",
       "    }\n",
       "\n",
       "    .dataframe tbody tr th {\n",
       "        vertical-align: top;\n",
       "    }\n",
       "</style>\n",
       "<table border=\"1\" class=\"dataframe\">\n",
       "  <thead>\n",
       "    <tr style=\"text-align: right;\">\n",
       "      <th></th>\n",
       "      <th>id</th>\n",
       "      <th>toxic</th>\n",
       "      <th>severe_toxic</th>\n",
       "      <th>obscene</th>\n",
       "      <th>threat</th>\n",
       "      <th>insult</th>\n",
       "      <th>identity_hate</th>\n",
       "    </tr>\n",
       "  </thead>\n",
       "  <tbody>\n",
       "    <tr>\n",
       "      <th>0</th>\n",
       "      <td>6044863</td>\n",
       "      <td>0.004043</td>\n",
       "      <td>0.000018</td>\n",
       "      <td>0.001204</td>\n",
       "      <td>0.000116</td>\n",
       "      <td>0.000567</td>\n",
       "      <td>0.000200</td>\n",
       "    </tr>\n",
       "    <tr>\n",
       "      <th>1</th>\n",
       "      <td>6102620</td>\n",
       "      <td>0.002528</td>\n",
       "      <td>0.000003</td>\n",
       "      <td>0.000604</td>\n",
       "      <td>0.000019</td>\n",
       "      <td>0.000350</td>\n",
       "      <td>0.000074</td>\n",
       "    </tr>\n",
       "    <tr>\n",
       "      <th>2</th>\n",
       "      <td>14563293</td>\n",
       "      <td>0.001390</td>\n",
       "      <td>0.000001</td>\n",
       "      <td>0.000359</td>\n",
       "      <td>0.000012</td>\n",
       "      <td>0.000159</td>\n",
       "      <td>0.000035</td>\n",
       "    </tr>\n",
       "    <tr>\n",
       "      <th>3</th>\n",
       "      <td>21086297</td>\n",
       "      <td>0.002894</td>\n",
       "      <td>0.000006</td>\n",
       "      <td>0.000669</td>\n",
       "      <td>0.000048</td>\n",
       "      <td>0.000399</td>\n",
       "      <td>0.000108</td>\n",
       "    </tr>\n",
       "    <tr>\n",
       "      <th>4</th>\n",
       "      <td>22982444</td>\n",
       "      <td>0.003443</td>\n",
       "      <td>0.000011</td>\n",
       "      <td>0.000898</td>\n",
       "      <td>0.000080</td>\n",
       "      <td>0.000487</td>\n",
       "      <td>0.000159</td>\n",
       "    </tr>\n",
       "  </tbody>\n",
       "</table>\n",
       "</div>"
      ],
      "text/plain": [
       "         id     toxic  severe_toxic   obscene    threat    insult  \\\n",
       "0   6044863  0.004043      0.000018  0.001204  0.000116  0.000567   \n",
       "1   6102620  0.002528      0.000003  0.000604  0.000019  0.000350   \n",
       "2  14563293  0.001390      0.000001  0.000359  0.000012  0.000159   \n",
       "3  21086297  0.002894      0.000006  0.000669  0.000048  0.000399   \n",
       "4  22982444  0.003443      0.000011  0.000898  0.000080  0.000487   \n",
       "\n",
       "   identity_hate  \n",
       "0       0.000200  \n",
       "1       0.000074  \n",
       "2       0.000035  \n",
       "3       0.000108  \n",
       "4       0.000159  "
      ]
     },
     "execution_count": 240,
     "metadata": {},
     "output_type": "execute_result"
    }
   ],
   "source": [
    "kaggle_submit['id'] = testdat['id']\n",
    "kaggle_submit = kaggle_submit[['id','toxic', 'severe_toxic', 'obscene', 'threat','insult', 'identity_hate']]\n",
    "kaggle_submit.head()"
   ]
  },
  {
   "cell_type": "code",
   "execution_count": 241,
   "metadata": {
    "collapsed": true
   },
   "outputs": [],
   "source": [
    "kaggle_submit.to_csv(\"../150w2v_lstm_3e_submit.csv\",index=False)"
   ]
  },
  {
   "cell_type": "markdown",
   "metadata": {},
   "source": [
    "Kaggle leaderboard score = 0.052 (#840 at the time of submission)"
   ]
  },
  {
   "cell_type": "code",
   "execution_count": 251,
   "metadata": {},
   "outputs": [
    {
     "data": {
      "text/html": [
       "<div>\n",
       "<style>\n",
       "    .dataframe thead tr:only-child th {\n",
       "        text-align: right;\n",
       "    }\n",
       "\n",
       "    .dataframe thead th {\n",
       "        text-align: left;\n",
       "    }\n",
       "\n",
       "    .dataframe tbody tr th {\n",
       "        vertical-align: top;\n",
       "    }\n",
       "</style>\n",
       "<table border=\"1\" class=\"dataframe\">\n",
       "  <thead>\n",
       "    <tr style=\"text-align: right;\">\n",
       "      <th></th>\n",
       "      <th>id</th>\n",
       "      <th>comment_text</th>\n",
       "    </tr>\n",
       "  </thead>\n",
       "  <tbody>\n",
       "    <tr>\n",
       "      <th>6297</th>\n",
       "      <td>27490178016</td>\n",
       "      <td>Block me then you cocksucker - clever people don't give a fuck about editing Wikikpedia? Just because Wikipedia has turned you into its ...</td>\n",
       "    </tr>\n",
       "    <tr>\n",
       "      <th>10064</th>\n",
       "      <td>44177310624</td>\n",
       "      <td>All I Have to say to you, is go fuck yourself. You're a cocksucker with a little power that's massively gone to your head</td>\n",
       "    </tr>\n",
       "    <tr>\n",
       "      <th>12096</th>\n",
       "      <td>53183071356</td>\n",
       "      <td>ARSE YOU FUCKING PRICK. FUCK OFF.</td>\n",
       "    </tr>\n",
       "    <tr>\n",
       "      <th>17253</th>\n",
       "      <td>75859090464</td>\n",
       "      <td>no fucking shit, dick head.</td>\n",
       "    </tr>\n",
       "    <tr>\n",
       "      <th>48415</th>\n",
       "      <td>214088056645</td>\n",
       "      <td>About fucking time you retarded little bitch!</td>\n",
       "    </tr>\n",
       "    <tr>\n",
       "      <th>100306</th>\n",
       "      <td>442485882227</td>\n",
       "      <td>aka cock sucking lover of VegaDick</td>\n",
       "    </tr>\n",
       "    <tr>\n",
       "      <th>116253</th>\n",
       "      <td>512743720186</td>\n",
       "      <td>You twats know fuck all about anything.</td>\n",
       "    </tr>\n",
       "    <tr>\n",
       "      <th>176353</th>\n",
       "      <td>777370561067</td>\n",
       "      <td>hey Jingiby you hate Turkic people because you are a racist Slavic Bulgarian... but you hate your Turkic ancestries... everybody hate yo...</td>\n",
       "    </tr>\n",
       "    <tr>\n",
       "      <th>193494</th>\n",
       "      <td>852936198507</td>\n",
       "      <td>WANKER  WANKER  WANKER  WANKER  WANKER  WANKER  WANKER  WANKER  WANKER  WANKER  WANKER  WANKER  WANKER  WANKER  WANKER  WANKER  WANKER  ...</td>\n",
       "    </tr>\n",
       "    <tr>\n",
       "      <th>219755</th>\n",
       "      <td>968281801226</td>\n",
       "      <td>Black Kite, fuck you embesil. What vandalisation other than the porno movies your mother stars in?</td>\n",
       "    </tr>\n",
       "  </tbody>\n",
       "</table>\n",
       "</div>"
      ],
      "text/plain": [
       "                  id  \\\n",
       "6297     27490178016   \n",
       "10064    44177310624   \n",
       "12096    53183071356   \n",
       "17253    75859090464   \n",
       "48415   214088056645   \n",
       "100306  442485882227   \n",
       "116253  512743720186   \n",
       "176353  777370561067   \n",
       "193494  852936198507   \n",
       "219755  968281801226   \n",
       "\n",
       "                                                                                                                                       comment_text  \n",
       "6297    Block me then you cocksucker - clever people don't give a fuck about editing Wikikpedia? Just because Wikipedia has turned you into its ...  \n",
       "10064                     All I Have to say to you, is go fuck yourself. You're a cocksucker with a little power that's massively gone to your head  \n",
       "12096                                                                                                             ARSE YOU FUCKING PRICK. FUCK OFF.  \n",
       "17253                                                                                                                   no fucking shit, dick head.  \n",
       "48415                                                                                                 About fucking time you retarded little bitch!  \n",
       "100306                                                                                                           aka cock sucking lover of VegaDick  \n",
       "116253                                                                                                      You twats know fuck all about anything.  \n",
       "176353  hey Jingiby you hate Turkic people because you are a racist Slavic Bulgarian... but you hate your Turkic ancestries... everybody hate yo...  \n",
       "193494  WANKER  WANKER  WANKER  WANKER  WANKER  WANKER  WANKER  WANKER  WANKER  WANKER  WANKER  WANKER  WANKER  WANKER  WANKER  WANKER  WANKER  ...  \n",
       "219755                                           Black Kite, fuck you embesil. What vandalisation other than the porno movies your mother stars in?  "
      ]
     },
     "execution_count": 251,
     "metadata": {},
     "output_type": "execute_result"
    }
   ],
   "source": [
    "testdat[testdat['id'].isin(kaggle_submit[kaggle_submit['identity_hate']>0.2].sample(10)['id'])]"
   ]
  },
  {
   "cell_type": "code",
   "execution_count": 243,
   "metadata": {},
   "outputs": [
    {
     "name": "stdout",
     "output_type": "stream",
     "text": [
      "[ 0.09636832  0.01006771  0.05330148  0.00318202  0.04971257  0.00849235]\n",
      "[ 0.02999607  0.00317678  0.0161566   0.00089962  0.01500889  0.00288092]\n",
      "[ 0.1318257   0.02953791  0.10475662  0.00495702  0.0941691   0.01922035]\n"
     ]
    }
   ],
   "source": [
    "print(np.mean(labels,axis=0))\n",
    "print(np.mean(cnn_kaggle_predict,axis=0))\n",
    "print(np.std(cnn_kaggle_predict,axis=0))"
   ]
  },
  {
   "cell_type": "code",
   "execution_count": 252,
   "metadata": {},
   "outputs": [
    {
     "data": {
      "text/html": [
       "<div>\n",
       "<style>\n",
       "    .dataframe thead tr:only-child th {\n",
       "        text-align: right;\n",
       "    }\n",
       "\n",
       "    .dataframe thead th {\n",
       "        text-align: left;\n",
       "    }\n",
       "\n",
       "    .dataframe tbody tr th {\n",
       "        vertical-align: top;\n",
       "    }\n",
       "</style>\n",
       "<table border=\"1\" class=\"dataframe\">\n",
       "  <thead>\n",
       "    <tr style=\"text-align: right;\">\n",
       "      <th></th>\n",
       "      <th>0</th>\n",
       "      <th>1</th>\n",
       "      <th>2</th>\n",
       "      <th>3</th>\n",
       "      <th>4</th>\n",
       "      <th>5</th>\n",
       "    </tr>\n",
       "  </thead>\n",
       "  <tbody>\n",
       "    <tr>\n",
       "      <th>0</th>\n",
       "      <td>1.000000</td>\n",
       "      <td>0.757358</td>\n",
       "      <td>0.940088</td>\n",
       "      <td>0.907769</td>\n",
       "      <td>0.953271</td>\n",
       "      <td>0.892138</td>\n",
       "    </tr>\n",
       "    <tr>\n",
       "      <th>1</th>\n",
       "      <td>0.757358</td>\n",
       "      <td>1.000000</td>\n",
       "      <td>0.884630</td>\n",
       "      <td>0.880673</td>\n",
       "      <td>0.895212</td>\n",
       "      <td>0.961345</td>\n",
       "    </tr>\n",
       "    <tr>\n",
       "      <th>2</th>\n",
       "      <td>0.940088</td>\n",
       "      <td>0.884630</td>\n",
       "      <td>1.000000</td>\n",
       "      <td>0.906447</td>\n",
       "      <td>0.995845</td>\n",
       "      <td>0.952970</td>\n",
       "    </tr>\n",
       "    <tr>\n",
       "      <th>3</th>\n",
       "      <td>0.907769</td>\n",
       "      <td>0.880673</td>\n",
       "      <td>0.906447</td>\n",
       "      <td>1.000000</td>\n",
       "      <td>0.933600</td>\n",
       "      <td>0.968418</td>\n",
       "    </tr>\n",
       "    <tr>\n",
       "      <th>4</th>\n",
       "      <td>0.953271</td>\n",
       "      <td>0.895212</td>\n",
       "      <td>0.995845</td>\n",
       "      <td>0.933600</td>\n",
       "      <td>1.000000</td>\n",
       "      <td>0.968963</td>\n",
       "    </tr>\n",
       "    <tr>\n",
       "      <th>5</th>\n",
       "      <td>0.892138</td>\n",
       "      <td>0.961345</td>\n",
       "      <td>0.952970</td>\n",
       "      <td>0.968418</td>\n",
       "      <td>0.968963</td>\n",
       "      <td>1.000000</td>\n",
       "    </tr>\n",
       "  </tbody>\n",
       "</table>\n",
       "</div>"
      ],
      "text/plain": [
       "          0         1         2         3         4         5\n",
       "0  1.000000  0.757358  0.940088  0.907769  0.953271  0.892138\n",
       "1  0.757358  1.000000  0.884630  0.880673  0.895212  0.961345\n",
       "2  0.940088  0.884630  1.000000  0.906447  0.995845  0.952970\n",
       "3  0.907769  0.880673  0.906447  1.000000  0.933600  0.968418\n",
       "4  0.953271  0.895212  0.995845  0.933600  1.000000  0.968963\n",
       "5  0.892138  0.961345  0.952970  0.968418  0.968963  1.000000"
      ]
     },
     "execution_count": 252,
     "metadata": {},
     "output_type": "execute_result"
    }
   ],
   "source": [
    "pd.DataFrame(cnn_kaggle_predict).corr()"
   ]
  },
  {
   "cell_type": "code",
   "execution_count": 253,
   "metadata": {},
   "outputs": [
    {
     "data": {
      "text/plain": [
       "(0, 0.1)"
      ]
     },
     "execution_count": 253,
     "metadata": {},
     "output_type": "execute_result"
    },
    {
     "data": {
      "image/png": "[encoded data removed]",
      "text/plain": [
       "<matplotlib.figure.Figure at 0x1a9eff240>"
      ]
     },
     "metadata": {},
     "output_type": "display_data"
    }
   ],
   "source": [
    "plt.figure(figsize=(10, 4))\n",
    "n, bins, patches = plt.hist(cnn_kaggle_predict[:,0], 300, normed=0, alpha=0.5,label='toxic')\n",
    "n, bins, patches = plt.hist(cnn_kaggle_predict[:,5], 100, normed=0, alpha=0.5,label='identity_hate')\n",
    "plt.legend()\n",
    "plt.xlim([0,0.1])"
   ]
  }
 ],
 "metadata": {
  "kernelspec": {
   "display_name": "Python 3",
   "language": "python",
   "name": "python3"
  },
  "language_info": {
   "codemirror_mode": {
    "name": "ipython",
    "version": 3
   },
   "file_extension": ".py",
   "mimetype": "text/x-python",
   "name": "python",
   "nbconvert_exporter": "python",
   "pygments_lexer": "ipython3",
   "version": "3.6.1"
  }
 },
 "nbformat": 4,
 "nbformat_minor": 2
}
