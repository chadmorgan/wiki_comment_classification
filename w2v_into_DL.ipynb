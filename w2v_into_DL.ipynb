{
 "cells": [
  {
   "cell_type": "code",
   "execution_count": 1,
   "metadata": {},
   "outputs": [
    {
     "name": "stderr",
     "output_type": "stream",
     "text": [
      "Using TensorFlow backend.\n"
     ]
    }
   ],
   "source": [
    "import numpy as np\n",
    "import pandas as pd\n",
    "import re\n",
    "import copy\n",
    "import gensim"
   ]
  },
  {
   "cell_type": "code",
   "execution_count": 2,
   "metadata": {
    "collapsed": true
   },
   "outputs": [],
   "source": [
    "from keras.preprocessing.sequence import pad_sequences\n",
    "from keras.layers import Dense, Input, Conv1D, Embedding, Dropout, Activation, Flatten\n",
    "from keras.layers import GlobalMaxPool1D, MaxPooling1D, concatenate\n",
    "from keras.models import Model\n",
    "from keras import initializers, regularizers, constraints, optimizers, layers\n",
    "from keras.utils.np_utils import to_categorical\n",
    "from keras.regularizers import l2"
   ]
  },
  {
   "cell_type": "code",
   "execution_count": 3,
   "metadata": {
    "collapsed": true
   },
   "outputs": [],
   "source": [
    "from sklearn.model_selection import train_test_split\n",
    "from sklearn.utils import shuffle "
   ]
  },
  {
   "cell_type": "code",
   "execution_count": 4,
   "metadata": {
    "collapsed": true
   },
   "outputs": [],
   "source": [
    "from matplotlib import pyplot as plt\n",
    "%matplotlib inline"
   ]
  },
  {
   "cell_type": "markdown",
   "metadata": {},
   "source": [
    "### Read in training data"
   ]
  },
  {
   "cell_type": "code",
   "execution_count": 6,
   "metadata": {},
   "outputs": [
    {
     "data": {
      "text/plain": [
       "(95851, 8)"
      ]
     },
     "execution_count": 6,
     "metadata": {},
     "output_type": "execute_result"
    }
   ],
   "source": [
    "full_train = pd.read_csv('../train.csv')\n",
    "full_train.shape"
   ]
  },
  {
   "cell_type": "code",
   "execution_count": 7,
   "metadata": {
    "collapsed": true
   },
   "outputs": [],
   "source": [
    "labels = np.array(full_train[['toxic', 'severe_toxic', 'obscene', 'threat','insult', 'identity_hate']])"
   ]
  },
  {
   "cell_type": "code",
   "execution_count": 8,
   "metadata": {
    "collapsed": true
   },
   "outputs": [],
   "source": [
    "clean_comment = np.zeros(shape=[labels.shape[0]])\n",
    "clean_comment[np.max(labels,axis=1)==0] = 1"
   ]
  },
  {
   "cell_type": "code",
   "execution_count": 9,
   "metadata": {
    "collapsed": true
   },
   "outputs": [],
   "source": [
    "comments=full_train['comment_text'].tolist()"
   ]
  },
  {
   "cell_type": "code",
   "execution_count": 10,
   "metadata": {
    "collapsed": true
   },
   "outputs": [],
   "source": [
    "token_dict = {}\n",
    "token_set = set()\n",
    "tokenized_comments = copy.copy(comments)\n",
    "for i in range(len(tokenized_comments)):\n",
    "    tokenized_comments[i] = re.sub(\"\\n\",' ',tokenized_comments[i])\n",
    "    tokenized_comments[i] = re.sub(\"\\t\",' ',tokenized_comments[i])\n",
    "    tokenized_comments[i] = re.sub(\"[^A-Za-z'\\*\\- ]\",' ',tokenized_comments[i])\n",
    "    tokenized_comments[i] = re.sub(\" +\",' ',tokenized_comments[i])\n",
    "    tokenized_comments[i] = re.sub(\"'+\",\"'\",tokenized_comments[i])    \n",
    "    tokenized_comments[i] = re.sub(\"\\*+\",\"\\*\",tokenized_comments[i])   \n",
    "    tokenized_comments[i] = re.sub(\"\\-+\",\"\\-\",tokenized_comments[i])\n",
    "    tokenized_comments[i] = tokenized_comments[i].lower().strip()\n",
    "    tokenized_comments[i] = tokenized_comments[i].split(' ')\n",
    "    line_dict = {}\n",
    "    line_set = set()\n",
    "    for token in tokenized_comments[i]:        \n",
    "        if token in token_set:\n",
    "            token_dict[token] += 1\n",
    "        else:\n",
    "            token_set.add(token)\n",
    "            token_dict[token] = 1"
   ]
  },
  {
   "cell_type": "markdown",
   "metadata": {},
   "source": [
    "### Read in test data"
   ]
  },
  {
   "cell_type": "code",
   "execution_count": 12,
   "metadata": {},
   "outputs": [],
   "source": [
    "testdat = pd.read_csv('../test.csv')"
   ]
  },
  {
   "cell_type": "code",
   "execution_count": 13,
   "metadata": {
    "collapsed": true
   },
   "outputs": [],
   "source": [
    "test_comments0 = testdat['comment_text'].tolist()"
   ]
  },
  {
   "cell_type": "code",
   "execution_count": 14,
   "metadata": {},
   "outputs": [
    {
     "name": "stdout",
     "output_type": "stream",
     "text": [
      "52300 nan\n"
     ]
    }
   ],
   "source": [
    "test_comments0 = testdat['comment_text'].tolist()\n",
    "test_comments = copy.copy(test_comments0)\n",
    "for i in range(len(test_comments)):\n",
    "    if type(test_comments[i]) is float:\n",
    "        print(i,test_comments[i])\n",
    "        test_comments[i]=[]\n",
    "    else:\n",
    "        test_comments[i] = re.sub(\"\\n\",' ',test_comments[i])\n",
    "        test_comments[i] = re.sub(\"\\t\",' ',test_comments[i])\n",
    "        test_comments[i] = re.sub(\"[^A-Za-z'\\*\\- ]\",' ',test_comments[i])\n",
    "        test_comments[i] = re.sub(\" +\",' ',test_comments[i])\n",
    "        test_comments[i] = re.sub(\"'+\",\"'\",test_comments[i])    \n",
    "        test_comments[i] = re.sub(\"\\*+\",\"\\*\",test_comments[i])   \n",
    "        test_comments[i] = re.sub(\"\\-+\",\"\\-\",test_comments[i])\n",
    "        test_comments[i] = test_comments[i].lower().strip()\n",
    "        test_comments[i] = test_comments[i].split(' ')\n",
    "        for token in test_comments[i]:        \n",
    "            if token in token_set:\n",
    "                token_dict[token] += 1\n",
    "            else:\n",
    "                token_set.add(token)\n",
    "                token_dict[token] = 1        "
   ]
  },
  {
   "cell_type": "code",
   "execution_count": 15,
   "metadata": {
    "collapsed": true
   },
   "outputs": [],
   "source": [
    "token_count = pd.DataFrame.from_dict(token_dict,orient='index').reset_index()\n",
    "token_count.columns = ['token','freq']"
   ]
  },
  {
   "cell_type": "code",
   "execution_count": 16,
   "metadata": {
    "collapsed": true
   },
   "outputs": [],
   "source": [
    "token_count = token_count.sort_values('freq',ascending=False)\\\n",
    "    .reset_index(drop=True)\n",
    "token_count = token_count.reset_index()"
   ]
  },
  {
   "cell_type": "code",
   "execution_count": 17,
   "metadata": {
    "collapsed": true
   },
   "outputs": [],
   "source": [
    "reduced_token_count = token_count[token_count['freq']>=15]\n",
    "reduced_token_count.shape\n",
    "reduced_token_set = set(reduced_token_count['token'])"
   ]
  },
  {
   "cell_type": "code",
   "execution_count": 18,
   "metadata": {},
   "outputs": [
    {
     "data": {
      "text/html": [
       "<div>\n",
       "<style>\n",
       "    .dataframe thead tr:only-child th {\n",
       "        text-align: right;\n",
       "    }\n",
       "\n",
       "    .dataframe thead th {\n",
       "        text-align: left;\n",
       "    }\n",
       "\n",
       "    .dataframe tbody tr th {\n",
       "        vertical-align: top;\n",
       "    }\n",
       "</style>\n",
       "<table border=\"1\" class=\"dataframe\">\n",
       "  <thead>\n",
       "    <tr style=\"text-align: right;\">\n",
       "      <th></th>\n",
       "      <th>index</th>\n",
       "      <th>token</th>\n",
       "      <th>freq</th>\n",
       "    </tr>\n",
       "  </thead>\n",
       "  <tbody>\n",
       "    <tr>\n",
       "      <th>15153</th>\n",
       "      <td>15153</td>\n",
       "      <td>titling</td>\n",
       "      <td>45</td>\n",
       "    </tr>\n",
       "    <tr>\n",
       "      <th>21458</th>\n",
       "      <td>21458</td>\n",
       "      <td>milosevic</td>\n",
       "      <td>26</td>\n",
       "    </tr>\n",
       "    <tr>\n",
       "      <th>8656</th>\n",
       "      <td>8656</td>\n",
       "      <td>cartoons</td>\n",
       "      <td>112</td>\n",
       "    </tr>\n",
       "    <tr>\n",
       "      <th>7916</th>\n",
       "      <td>7916</td>\n",
       "      <td>sidebar</td>\n",
       "      <td>130</td>\n",
       "    </tr>\n",
       "    <tr>\n",
       "      <th>17225</th>\n",
       "      <td>17225</td>\n",
       "      <td>dang</td>\n",
       "      <td>37</td>\n",
       "    </tr>\n",
       "  </tbody>\n",
       "</table>\n",
       "</div>"
      ],
      "text/plain": [
       "       index      token  freq\n",
       "15153  15153    titling    45\n",
       "21458  21458  milosevic    26\n",
       "8656    8656   cartoons   112\n",
       "7916    7916    sidebar   130\n",
       "17225  17225       dang    37"
      ]
     },
     "execution_count": 18,
     "metadata": {},
     "output_type": "execute_result"
    }
   ],
   "source": [
    "reduced_token_count.sample(5)"
   ]
  },
  {
   "cell_type": "markdown",
   "metadata": {},
   "source": [
    "#### Convert training sequences to index"
   ]
  },
  {
   "cell_type": "code",
   "execution_count": 19,
   "metadata": {
    "collapsed": true
   },
   "outputs": [],
   "source": [
    "index_token_dict = pd.Series(reduced_token_count.token.values,index=reduced_token_count.index+1).to_dict()\n",
    "token_index_dict = pd.Series(reduced_token_count.index.values+1,index=reduced_token_count.token).to_dict()"
   ]
  },
  {
   "cell_type": "code",
   "execution_count": 20,
   "metadata": {
    "collapsed": true
   },
   "outputs": [],
   "source": [
    "tokenized_corpus = []\n",
    "for line in tokenized_comments:\n",
    "    line_token_idx = []\n",
    "    for t in line:\n",
    "        if t in reduced_token_set:\n",
    "            line_token_idx += [token_index_dict[t]]\n",
    "    tokenized_corpus += [line_token_idx]"
   ]
  },
  {
   "cell_type": "code",
   "execution_count": 21,
   "metadata": {},
   "outputs": [
    {
     "name": "stdout",
     "output_type": "stream",
     "text": [
      "['nonsense', 'kiss', 'off', 'geek', 'what', 'i', 'said', 'is', 'true', \"i'll\", 'have', 'your', 'account', 'terminated']\n",
      "[853, 2316, 340, 9168, 53, 9, 216, 8, 396, 326, 22, 24, 218, 13547]\n"
     ]
    }
   ],
   "source": [
    "print(tokenized_comments[0])\n",
    "print(tokenized_corpus[0])"
   ]
  },
  {
   "cell_type": "code",
   "execution_count": 22,
   "metadata": {},
   "outputs": [
    {
     "data": {
      "text/plain": [
       "90.0"
      ]
     },
     "execution_count": 22,
     "metadata": {},
     "output_type": "execute_result"
    }
   ],
   "source": [
    "comment_length = []\n",
    "for comment in tokenized_comments:\n",
    "    comment_length.append(len(comment))\n",
    "comment_length = np.array(comment_length)\n",
    "np.percentile(comment_length,80)"
   ]
  },
  {
   "cell_type": "code",
   "execution_count": 25,
   "metadata": {},
   "outputs": [
    {
     "data": {
      "text/plain": [
       "(0, 600)"
      ]
     },
     "execution_count": 25,
     "metadata": {},
     "output_type": "execute_result"
    },
    {
     "data": {
      "image/png": "[encoded data removed]",
      "text/plain": [
       "<matplotlib.figure.Figure at 0x17d0ecf28>"
      ]
     },
     "metadata": {},
     "output_type": "display_data"
    }
   ],
   "source": [
    "plt.figure(figsize=(12, 4))\n",
    "n, bins, patches = plt.hist(comment_length, 300, normed=1, facecolor='green', alpha=0.7)\n",
    "plt.xlim([0,600])"
   ]
  },
  {
   "cell_type": "code",
   "execution_count": 27,
   "metadata": {
    "collapsed": true
   },
   "outputs": [],
   "source": [
    "MAX_SEQ_LENGTH=300\n",
    "tokenized_corpus_padded = pad_sequences(tokenized_corpus,maxlen=MAX_SEQ_LENGTH)"
   ]
  },
  {
   "cell_type": "markdown",
   "metadata": {},
   "source": [
    "### Load w2v model"
   ]
  },
  {
   "cell_type": "code",
   "execution_count": 29,
   "metadata": {},
   "outputs": [],
   "source": [
    "w2v_model = gensim.models.Word2Vec.load(\"../wiki_comment_word2vec\")"
   ]
  },
  {
   "cell_type": "code",
   "execution_count": 30,
   "metadata": {},
   "outputs": [
    {
     "data": {
      "text/plain": [
       "31293"
      ]
     },
     "execution_count": 30,
     "metadata": {},
     "output_type": "execute_result"
    }
   ],
   "source": [
    "len(w2v_model.wv.vocab)"
   ]
  },
  {
   "cell_type": "code",
   "execution_count": 31,
   "metadata": {},
   "outputs": [
    {
     "name": "stdout",
     "output_type": "stream",
     "text": [
      "(31294, 50)\n"
     ]
    }
   ],
   "source": [
    "V = len(reduced_token_set)+1\n",
    "EMBEDDING_DIM=50\n",
    "print((V,EMBEDDING_DIM))"
   ]
  },
  {
   "cell_type": "code",
   "execution_count": 32,
   "metadata": {
    "collapsed": true
   },
   "outputs": [],
   "source": [
    "embed_matrix = np.zeros((V,EMBEDDING_DIM))\n",
    "for token in token_index_dict.keys():\n",
    "    embed_matrix[token_index_dict[token]] = w2v_model.wv[token]"
   ]
  },
  {
   "cell_type": "code",
   "execution_count": 33,
   "metadata": {},
   "outputs": [
    {
     "data": {
      "text/plain": [
       "(31294, 50)"
      ]
     },
     "execution_count": 33,
     "metadata": {},
     "output_type": "execute_result"
    }
   ],
   "source": [
    "embed_matrix.shape"
   ]
  },
  {
   "cell_type": "markdown",
   "metadata": {},
   "source": [
    "### Split training data into train,valid sets"
   ]
  },
  {
   "cell_type": "code",
   "execution_count": 34,
   "metadata": {
    "collapsed": true
   },
   "outputs": [],
   "source": [
    "labels0,tokenized_corpus_padded0 = shuffle(labels,tokenized_corpus_padded)"
   ]
  },
  {
   "cell_type": "code",
   "execution_count": 35,
   "metadata": {
    "collapsed": true
   },
   "outputs": [],
   "source": [
    "labels_train,labels_valid, \\\n",
    "seq_train,seq_valid  = \\\n",
    "train_test_split(labels0,tokenized_corpus_padded0,\\\n",
    "                 test_size=0.2,stratify=clean_comment)"
   ]
  },
  {
   "cell_type": "code",
   "execution_count": 36,
   "metadata": {},
   "outputs": [
    {
     "name": "stdout",
     "output_type": "stream",
     "text": [
      "[ 0.09663537  0.01014606  0.05340376  0.0031951   0.04990871  0.00851591]\n",
      "(76680, 6)\n",
      "[ 0.09530019  0.00975432  0.05289239  0.00312973  0.04892807  0.0083981 ]\n",
      "(19171, 6)\n"
     ]
    }
   ],
   "source": [
    "print(np.mean(labels_train,axis=0))\n",
    "print(labels_train.shape)\n",
    "print(np.mean(labels_valid,axis=0))\n",
    "print(labels_valid.shape)"
   ]
  },
  {
   "cell_type": "markdown",
   "metadata": {},
   "source": [
    "### Lightweight convolutional model"
   ]
  },
  {
   "cell_type": "code",
   "execution_count": null,
   "metadata": {
    "collapsed": true
   },
   "outputs": [],
   "source": []
  },
  {
   "cell_type": "code",
   "execution_count": 37,
   "metadata": {
    "collapsed": true
   },
   "outputs": [],
   "source": [
    "# Sequence input\n",
    "sequence_input = Input(shape=(MAX_SEQ_LENGTH,),dtype='int32',name='Input')\n",
    "\n",
    "# Embedding lookup\n",
    "embed_seq_unmasked = Embedding(input_dim=V\n",
    "                              ,output_dim=EMBEDDING_DIM\n",
    "                              ,weights=[embed_matrix]\n",
    "                              ,input_length=MAX_SEQ_LENGTH\n",
    "                              ,trainable=False\n",
    "                              ,mask_zero=False\n",
    "                              ,name='Embedding')(sequence_input)"
   ]
  },
  {
   "cell_type": "code",
   "execution_count": 55,
   "metadata": {},
   "outputs": [],
   "source": [
    "# Convolutional layers: width 7\n",
    "Conv7_layer = Conv1D(64,7,activation='sigmoid',padding='same')(embed_seq_unmasked)\n",
    "Conv7_layer = MaxPooling1D(2)(Conv7_layer)\n",
    "Conv7_layer = Conv1D(64,7,activation='sigmoid',padding='same')(Conv7_layer)\n",
    "Conv7_layer = GlobalMaxPool1D()(Conv7_layer)\n",
    "Conv7_layer = Dropout(0.5)(Conv7_layer)"
   ]
  },
  {
   "cell_type": "code",
   "execution_count": 58,
   "metadata": {},
   "outputs": [],
   "source": [
    "#Conv_dense = Dense(50,activation='relu')(Conv_cat)\n",
    "Conv_dense = Dense(32,activation='relu',kernel_regularizer=regularizers.l2(0.0001))(Conv7_layer)\n",
    "Conv_output = Dense(6, activation=\"sigmoid\")(Conv_dense)"
   ]
  },
  {
   "cell_type": "code",
   "execution_count": 59,
   "metadata": {},
   "outputs": [
    {
     "name": "stdout",
     "output_type": "stream",
     "text": [
      "_________________________________________________________________\n",
      "Layer (type)                 Output Shape              Param #   \n",
      "=================================================================\n",
      "Input (InputLayer)           (None, 300)               0         \n",
      "_________________________________________________________________\n",
      "Embedding (Embedding)        (None, 300, 50)           1564700   \n",
      "_________________________________________________________________\n",
      "conv1d_9 (Conv1D)            (None, 300, 64)           22464     \n",
      "_________________________________________________________________\n",
      "max_pooling1d_4 (MaxPooling1 (None, 150, 64)           0         \n",
      "_________________________________________________________________\n",
      "conv1d_10 (Conv1D)           (None, 150, 64)           28736     \n",
      "_________________________________________________________________\n",
      "global_max_pooling1d_5 (Glob (None, 64)                0         \n",
      "_________________________________________________________________\n",
      "dropout_6 (Dropout)          (None, 64)                0         \n",
      "_________________________________________________________________\n",
      "dense_9 (Dense)              (None, 32)                2080      \n",
      "_________________________________________________________________\n",
      "dense_10 (Dense)             (None, 6)                 198       \n",
      "=================================================================\n",
      "Total params: 1,618,178\n",
      "Trainable params: 53,478\n",
      "Non-trainable params: 1,564,700\n",
      "_________________________________________________________________\n"
     ]
    }
   ],
   "source": [
    "cnn_model = Model(inputs=sequence_input, outputs=Conv_output)\n",
    "cnn_model.compile(loss='binary_crossentropy', optimizer='adam', metrics=['accuracy'])\n",
    "cnn_model.summary()"
   ]
  },
  {
   "cell_type": "code",
   "execution_count": 60,
   "metadata": {},
   "outputs": [
    {
     "name": "stdout",
     "output_type": "stream",
     "text": [
      "Train on 76680 samples, validate on 19171 samples\n",
      "Epoch 1/6\n",
      "76680/76680 [==============================] - 246s - loss: 0.0779 - acc: 0.9753 - val_loss: 0.0574 - val_acc: 0.9802\n",
      "Epoch 2/6\n",
      "76680/76680 [==============================] - 246s - loss: 0.0595 - acc: 0.9795 - val_loss: 0.0562 - val_acc: 0.9804\n",
      "Epoch 3/6\n",
      "76680/76680 [==============================] - 246s - loss: 0.0558 - acc: 0.9804 - val_loss: 0.0544 - val_acc: 0.9803\n",
      "Epoch 4/6\n",
      "76680/76680 [==============================] - 247s - loss: 0.0540 - acc: 0.9808 - val_loss: 0.0552 - val_acc: 0.9801\n",
      "Epoch 5/6\n",
      "76680/76680 [==============================] - 248s - loss: 0.0523 - acc: 0.9812 - val_loss: 0.0548 - val_acc: 0.9804\n",
      "Epoch 6/6\n",
      "76680/76680 [==============================] - 243s - loss: 0.0509 - acc: 0.9816 - val_loss: 0.0557 - val_acc: 0.9807\n"
     ]
    }
   ],
   "source": [
    "history_CNN = cnn_model.fit(seq_train,labels_train\n",
    "                           ,epochs=6\n",
    "                           ,batch_size=16\n",
    "                           ,validation_data=(seq_valid,labels_valid)\n",
    "                           ,verbose=1)"
   ]
  },
  {
   "cell_type": "code",
   "execution_count": 61,
   "metadata": {},
   "outputs": [
    {
     "data": {
      "text/plain": [
       "<matplotlib.text.Text at 0x19ff4a5f8>"
      ]
     },
     "execution_count": 61,
     "metadata": {},
     "output_type": "execute_result"
    },
    {
     "data": {
      "image/png": "[encoded data removed]",
      "text/plain": [
       "<matplotlib.figure.Figure at 0x19fbf3438>"
      ]
     },
     "metadata": {},
     "output_type": "display_data"
    }
   ],
   "source": [
    "plt.figure(figsize=(15,8))\n",
    "plt.suptitle(\"Convolutional sequence model\")\n",
    "#plt.subplot(121)\n",
    "plt.plot(history_CNN.history['loss'],label='train')\n",
    "plt.plot(history_CNN.history['val_loss'],label='test')\n",
    "plt.legend()\n",
    "plt.xlabel('epoch',fontsize=14)\n",
    "plt.ylabel('loss',fontsize=14)\n",
    "#plt.subplot(122)\n",
    "#plt.plot(history_CNN.history['acc'],label='train')\n",
    "#plt.plot(history_CNN.history['val_acc'],label='test')\n",
    "#plt.legend()\n",
    "#plt.xlabel('epoch',fontsize=14)\n",
    "#plt.xlabel('accuracy',fontsize=14)"
   ]
  },
  {
   "cell_type": "markdown",
   "metadata": {},
   "source": [
    "#### Kaggle test set scoring"
   ]
  },
  {
   "cell_type": "code",
   "execution_count": 62,
   "metadata": {
    "collapsed": true
   },
   "outputs": [],
   "source": [
    "tokenized_test = []\n",
    "for line in test_comments:\n",
    "    line_token_idx = []\n",
    "    for t in line:\n",
    "        if t in reduced_token_set:\n",
    "            line_token_idx += [token_index_dict[t]]\n",
    "    tokenized_test += [line_token_idx]"
   ]
  },
  {
   "cell_type": "code",
   "execution_count": 63,
   "metadata": {
    "collapsed": true
   },
   "outputs": [],
   "source": [
    "tokenized_test_padded = pad_sequences(tokenized_test,maxlen=MAX_SEQ_LENGTH)"
   ]
  },
  {
   "cell_type": "code",
   "execution_count": 64,
   "metadata": {
    "collapsed": true
   },
   "outputs": [],
   "source": [
    "cnn_kaggle_predict = cnn_model.predict(tokenized_test_padded)"
   ]
  },
  {
   "cell_type": "code",
   "execution_count": 70,
   "metadata": {},
   "outputs": [
    {
     "name": "stdout",
     "output_type": "stream",
     "text": [
      "[ 0.09636832  0.01006771  0.05330148  0.00318202  0.04971257  0.00849235]\n",
      "[ 0.02999607  0.00317678  0.0161566   0.00089962  0.01500889  0.00288092]\n",
      "[ 0.1318257   0.02953791  0.10475662  0.00495702  0.0941691   0.01922035]\n"
     ]
    }
   ],
   "source": [
    "print(np.mean(labels,axis=0))\n",
    "print(np.mean(cnn_kaggle_predict,axis=0))\n",
    "print(np.std(cnn_kaggle_predict,axis=0))"
   ]
  },
  {
   "cell_type": "code",
   "execution_count": 97,
   "metadata": {},
   "outputs": [
    {
     "data": {
      "text/html": [
       "<div>\n",
       "<style>\n",
       "    .dataframe thead tr:only-child th {\n",
       "        text-align: right;\n",
       "    }\n",
       "\n",
       "    .dataframe thead th {\n",
       "        text-align: left;\n",
       "    }\n",
       "\n",
       "    .dataframe tbody tr th {\n",
       "        vertical-align: top;\n",
       "    }\n",
       "</style>\n",
       "<table border=\"1\" class=\"dataframe\">\n",
       "  <thead>\n",
       "    <tr style=\"text-align: right;\">\n",
       "      <th></th>\n",
       "      <th>0</th>\n",
       "      <th>1</th>\n",
       "      <th>2</th>\n",
       "      <th>3</th>\n",
       "      <th>4</th>\n",
       "      <th>5</th>\n",
       "    </tr>\n",
       "  </thead>\n",
       "  <tbody>\n",
       "    <tr>\n",
       "      <th>0</th>\n",
       "      <td>1.000000</td>\n",
       "      <td>0.757358</td>\n",
       "      <td>0.940088</td>\n",
       "      <td>0.907769</td>\n",
       "      <td>0.953271</td>\n",
       "      <td>0.892138</td>\n",
       "    </tr>\n",
       "    <tr>\n",
       "      <th>1</th>\n",
       "      <td>0.757358</td>\n",
       "      <td>1.000000</td>\n",
       "      <td>0.884630</td>\n",
       "      <td>0.880673</td>\n",
       "      <td>0.895212</td>\n",
       "      <td>0.961345</td>\n",
       "    </tr>\n",
       "    <tr>\n",
       "      <th>2</th>\n",
       "      <td>0.940088</td>\n",
       "      <td>0.884630</td>\n",
       "      <td>1.000000</td>\n",
       "      <td>0.906447</td>\n",
       "      <td>0.995845</td>\n",
       "      <td>0.952970</td>\n",
       "    </tr>\n",
       "    <tr>\n",
       "      <th>3</th>\n",
       "      <td>0.907769</td>\n",
       "      <td>0.880673</td>\n",
       "      <td>0.906447</td>\n",
       "      <td>1.000000</td>\n",
       "      <td>0.933600</td>\n",
       "      <td>0.968418</td>\n",
       "    </tr>\n",
       "    <tr>\n",
       "      <th>4</th>\n",
       "      <td>0.953271</td>\n",
       "      <td>0.895212</td>\n",
       "      <td>0.995845</td>\n",
       "      <td>0.933600</td>\n",
       "      <td>1.000000</td>\n",
       "      <td>0.968963</td>\n",
       "    </tr>\n",
       "    <tr>\n",
       "      <th>5</th>\n",
       "      <td>0.892138</td>\n",
       "      <td>0.961345</td>\n",
       "      <td>0.952970</td>\n",
       "      <td>0.968418</td>\n",
       "      <td>0.968963</td>\n",
       "      <td>1.000000</td>\n",
       "    </tr>\n",
       "  </tbody>\n",
       "</table>\n",
       "</div>"
      ],
      "text/plain": [
       "          0         1         2         3         4         5\n",
       "0  1.000000  0.757358  0.940088  0.907769  0.953271  0.892138\n",
       "1  0.757358  1.000000  0.884630  0.880673  0.895212  0.961345\n",
       "2  0.940088  0.884630  1.000000  0.906447  0.995845  0.952970\n",
       "3  0.907769  0.880673  0.906447  1.000000  0.933600  0.968418\n",
       "4  0.953271  0.895212  0.995845  0.933600  1.000000  0.968963\n",
       "5  0.892138  0.961345  0.952970  0.968418  0.968963  1.000000"
      ]
     },
     "execution_count": 97,
     "metadata": {},
     "output_type": "execute_result"
    }
   ],
   "source": [
    "pd.DataFrame(cnn_kaggle_predict).corr()"
   ]
  },
  {
   "cell_type": "code",
   "execution_count": 84,
   "metadata": {},
   "outputs": [
    {
     "data": {
      "text/plain": [
       "(0, 0.1)"
      ]
     },
     "execution_count": 84,
     "metadata": {},
     "output_type": "execute_result"
    },
    {
     "data": {
      "image/png": "[encoded data removed]",
      "text/plain": [
       "<matplotlib.figure.Figure at 0x19db4b3c8>"
      ]
     },
     "metadata": {},
     "output_type": "display_data"
    }
   ],
   "source": [
    "plt.figure(figsize=(10, 4))\n",
    "n, bins, patches = plt.hist(cnn_kaggle_predict[:,0], 300, normed=0, alpha=0.5,label='toxic')\n",
    "n, bins, patches = plt.hist(cnn_kaggle_predict[:,5], 100, normed=0, alpha=0.5,label='identity_hate')\n",
    "plt.legend()\n",
    "plt.xlim([0,0.1])"
   ]
  },
  {
   "cell_type": "code",
   "execution_count": 99,
   "metadata": {},
   "outputs": [
    {
     "data": {
      "text/plain": [
       "(0, 1)"
      ]
     },
     "execution_count": 99,
     "metadata": {},
     "output_type": "execute_result"
    },
    {
     "data": {
      "image/png": "[encoded data removed]",
      "text/plain": [
       "<matplotlib.figure.Figure at 0x19da65710>"
      ]
     },
     "metadata": {},
     "output_type": "display_data"
    }
   ],
   "source": [
    "plt.figure(figsize=(8, 8))\n",
    "plt.scatter(cnn_kaggle_predict[:,0],cnn_kaggle_predict[:,1])\n",
    "plt.ylim([0,1])\n",
    "plt.xlim([0,1])"
   ]
  },
  {
   "cell_type": "code",
   "execution_count": null,
   "metadata": {
    "collapsed": true
   },
   "outputs": [],
   "source": []
  }
 ],
 "metadata": {
  "kernelspec": {
   "display_name": "Python 3",
   "language": "python",
   "name": "python3"
  },
  "language_info": {
   "codemirror_mode": {
    "name": "ipython",
    "version": 3
   },
   "file_extension": ".py",
   "mimetype": "text/x-python",
   "name": "python",
   "nbconvert_exporter": "python",
   "pygments_lexer": "ipython3",
   "version": "3.6.1"
  }
 },
 "nbformat": 4,
 "nbformat_minor": 2
}
