{
 "cells": [
  {
   "cell_type": "markdown",
   "metadata": {},
   "source": [
    "## Unsupervised learning on comment text distributions\n",
    "\n",
    "In this notebook we will combine the parsed comment text from the training and test sets to do unsupervised learning like word2vec embeddings and topic models. Because we are not using the labels, it is fine to use the test data here and should be beneficial, as the test data is more than twice as large as the training data."
   ]
  },
  {
   "cell_type": "code",
   "execution_count": 1,
   "metadata": {
    "collapsed": true
   },
   "outputs": [],
   "source": [
    "import numpy as np\n",
    "import pandas as pd\n",
    "import re\n",
    "import copy\n",
    "import gensim\n",
    "from gensim.models import FastText"
   ]
  },
  {
   "cell_type": "code",
   "execution_count": 2,
   "metadata": {
    "collapsed": true
   },
   "outputs": [],
   "source": [
    "from sklearn import decomposition, preprocessing\n",
    "from sklearn.feature_extraction.text import CountVectorizer,TfidfTransformer\n",
    "from sklearn.decomposition import NMF\n",
    "from sklearn.externals import joblib"
   ]
  },
  {
   "cell_type": "code",
   "execution_count": 3,
   "metadata": {
    "collapsed": true
   },
   "outputs": [],
   "source": [
    "from matplotlib import pyplot as plt\n",
    "%matplotlib inline\n",
    "\n",
    "np.set_printoptions(precision=6,suppress=True)"
   ]
  },
  {
   "cell_type": "markdown",
   "metadata": {},
   "source": [
    "### Read in training data and parse comments"
   ]
  },
  {
   "cell_type": "code",
   "execution_count": 4,
   "metadata": {},
   "outputs": [
    {
     "data": {
      "text/plain": [
       "(95851, 8)"
      ]
     },
     "execution_count": 4,
     "metadata": {},
     "output_type": "execute_result"
    }
   ],
   "source": [
    "full_train = pd.read_csv('../train.csv')\n",
    "full_train.shape"
   ]
  },
  {
   "cell_type": "code",
   "execution_count": 5,
   "metadata": {
    "collapsed": true
   },
   "outputs": [],
   "source": [
    "comments=full_train['comment_text'].tolist()\n",
    "tokenized_comments = copy.copy(comments)\n",
    "clean_comments = []\n",
    "token_dict = {}\n",
    "token_set = set()\n",
    "for i in range(len(tokenized_comments)):\n",
    "    tokenized_comments[i] = re.sub(\"\\n\",' ',tokenized_comments[i])\n",
    "    tokenized_comments[i] = re.sub(\"\\t\",' ',tokenized_comments[i])\n",
    "    tokenized_comments[i] = re.sub(\"[^A-Za-z'\\*\\- ]\",' ',tokenized_comments[i])\n",
    "    tokenized_comments[i] = re.sub(\" +\",' ',tokenized_comments[i])\n",
    "    tokenized_comments[i] = re.sub(\"'+\",\"'\",tokenized_comments[i])    \n",
    "    tokenized_comments[i] = re.sub(\"\\*+\",\"\\*\",tokenized_comments[i])   \n",
    "    tokenized_comments[i] = re.sub(\"\\-+\",\"\\-\",tokenized_comments[i])\n",
    "    tokenized_comments[i] = tokenized_comments[i].lower().strip()\n",
    "    clean_comments.append(tokenized_comments[i])\n",
    "    tokenized_comments[i] = tokenized_comments[i].split(' ')\n",
    "    for token in tokenized_comments[i]:        \n",
    "        if token in token_set:\n",
    "            token_dict[token] += 1\n",
    "        else:\n",
    "            token_set.add(token)\n",
    "            token_dict[token] = 1    "
   ]
  },
  {
   "cell_type": "markdown",
   "metadata": {},
   "source": [
    "### Read in test data and parse comments"
   ]
  },
  {
   "cell_type": "code",
   "execution_count": 6,
   "metadata": {},
   "outputs": [
    {
     "name": "stdout",
     "output_type": "stream",
     "text": [
      "(226998, 2)\n"
     ]
    }
   ],
   "source": [
    "testdat = pd.read_csv('../test.csv')\n",
    "print(testdat.shape)"
   ]
  },
  {
   "cell_type": "code",
   "execution_count": 7,
   "metadata": {},
   "outputs": [
    {
     "name": "stdout",
     "output_type": "stream",
     "text": [
      "52300 nan\n"
     ]
    }
   ],
   "source": [
    "test_comments0 = testdat['comment_text'].tolist()\n",
    "test_comments = copy.copy(test_comments0)\n",
    "test_clean_comments = []\n",
    "for i in range(len(test_comments)):\n",
    "    if type(test_comments[i]) is float:\n",
    "        print(i,test_comments[i])\n",
    "        test_comments[i]=[]\n",
    "        test_clean_comments.append('')\n",
    "    else:\n",
    "        test_comments[i] = re.sub(\"\\n\",' ',test_comments[i])\n",
    "        test_comments[i] = re.sub(\"\\t\",' ',test_comments[i])\n",
    "        test_comments[i] = re.sub(\"[^A-Za-z'\\*\\- ]\",' ',test_comments[i])\n",
    "        test_comments[i] = re.sub(\" +\",' ',test_comments[i])\n",
    "        test_comments[i] = re.sub(\"'+\",\"'\",test_comments[i])    \n",
    "        test_comments[i] = re.sub(\"\\*+\",\"\\*\",test_comments[i])   \n",
    "        test_comments[i] = re.sub(\"\\-+\",\"\\-\",test_comments[i])\n",
    "        test_comments[i] = test_comments[i].lower().strip()\n",
    "        test_clean_comments.append(test_comments[i])\n",
    "        test_comments[i] = test_comments[i].split(' ')\n",
    "        for token in test_comments[i]:        \n",
    "            if token in token_set:\n",
    "                token_dict[token] += 1\n",
    "            else:\n",
    "                token_set.add(token)\n",
    "                token_dict[token] = 1           "
   ]
  },
  {
   "cell_type": "markdown",
   "metadata": {},
   "source": [
    "### Word frequency checks"
   ]
  },
  {
   "cell_type": "code",
   "execution_count": 8,
   "metadata": {
    "collapsed": true
   },
   "outputs": [],
   "source": [
    "token_count = pd.DataFrame.from_dict(token_dict,orient='index').reset_index()\n",
    "token_count.columns = ['token','freq']\n",
    "\n",
    "token_count = token_count.sort_values('freq',ascending=False)\\\n",
    "    .reset_index(drop=True)\n",
    "token_count = token_count.reset_index()    "
   ]
  },
  {
   "cell_type": "code",
   "execution_count": 9,
   "metadata": {},
   "outputs": [
    {
     "name": "stdout",
     "output_type": "stream",
     "text": [
      "['the', 'to', 'of', 'and', 'a', 'you', 'link', 'is', 'i', 'wiki', 'that', 'in', 'it', 'for', 'wikipedia', 'this', 'on', 'not', 'be', 'as', 'if', 'have', 'are', 'your', 'or', 'article', 'with', 'page', 'was', 'an', 'but', 'by', 'please', 'from', 'at', 'my', 'do', '\\\\-', 'about', 'use', 'can', 'has', 'talk', 'any', 'image', 'will', 'would', 'there', 'so', 'been', 'one', 'edit', 'what', 'all', 'like', 'me', 'no', 'more', 'which', 'they', 'just', 'may', 'should', 'we', 'see', 'other', 'deletion', '\\\\*', 'articles', 'he', 'also', 'wp', 'some', 'here', \"don't\", 'think', 'hi', 'why', 'who', 'how']\n"
     ]
    }
   ],
   "source": [
    "print(token_count['token'].head(80).tolist())"
   ]
  },
  {
   "cell_type": "code",
   "execution_count": 10,
   "metadata": {},
   "outputs": [
    {
     "data": {
      "text/plain": [
       "41"
      ]
     },
     "execution_count": 10,
     "metadata": {},
     "output_type": "execute_result"
    }
   ],
   "source": [
    "# making a quick stopword list by frequency, excluding substantive words like \"edit\"\n",
    "stopword_list = ['the', 'to', 'of', 'and', 'a', 'you','is', 'i','that', 'in', 'it', 'for',\n",
    "                'this', 'on', 'not', 'be', 'as', 'if', 'have', 'are', 'your', 'or', 'with'\n",
    "                ,'was', 'an', 'but', 'by', 'please', 'from', 'at', 'my', 'do', '\\\\-', 'about'\n",
    "                , 'use', 'can', 'has', 'any',  'will', 'would', 'there']\n",
    "len(stopword_list)"
   ]
  },
  {
   "cell_type": "code",
   "execution_count": 11,
   "metadata": {},
   "outputs": [
    {
     "data": {
      "text/plain": [
       "<matplotlib.text.Text at 0x173dc8a58>"
      ]
     },
     "execution_count": 11,
     "metadata": {},
     "output_type": "execute_result"
    },
    {
     "data": {
      "image/png": "[encoded data removed]",
      "text/plain": [
       "<matplotlib.figure.Figure at 0x172f18eb8>"
      ]
     },
     "metadata": {},
     "output_type": "display_data"
    }
   ],
   "source": [
    "plt.figure(figsize=(16, 8))\n",
    "plt.plot(token_count['index'],token_count['freq'],linestyle='--', marker='o')\n",
    "plt.xlim([-2,50])\n",
    "plt.xlabel('word rank')\n",
    "plt.ylabel('word frequency')"
   ]
  },
  {
   "cell_type": "markdown",
   "metadata": {},
   "source": [
    "### Combine train and test comments"
   ]
  },
  {
   "cell_type": "code",
   "execution_count": 12,
   "metadata": {},
   "outputs": [
    {
     "name": "stdout",
     "output_type": "stream",
     "text": [
      "322849\n",
      "322849\n",
      "322849\n"
     ]
    }
   ],
   "source": [
    "combined_comments = tokenized_comments + test_comments \n",
    "full_clean_comments = clean_comments + test_clean_comments\n",
    "comment_ids = full_train[\"id\"].tolist() + testdat[\"id\"].tolist()\n",
    "print(len(combined_comments))\n",
    "print(len(full_clean_comments))\n",
    "print(len(comment_ids))"
   ]
  },
  {
   "cell_type": "markdown",
   "metadata": {},
   "source": [
    "### Topic modeling via matrix factorization on TF-IDF "
   ]
  },
  {
   "cell_type": "code",
   "execution_count": 34,
   "metadata": {
    "collapsed": true
   },
   "outputs": [],
   "source": [
    "# simple top words extraction from sklearn example\n",
    "def print_top_words(model, feature_names, n_top_words):\n",
    "    for topic_idx,topic in enumerate(model.components_):\n",
    "        message = \"Topic #%d: \" % topic_idx\n",
    "        message += \" \".join([feature_names[i]\n",
    "                             for i in topic.argsort()[:-n_top_words - 1:-1]])\n",
    "        print(message)\n",
    "    print()"
   ]
  },
  {
   "cell_type": "code",
   "execution_count": 18,
   "metadata": {
    "collapsed": true
   },
   "outputs": [],
   "source": [
    "# convert token dictionaries into sparse matrix\n",
    "v = CountVectorizer(stop_words=stopword_list,min_df=15)\n",
    "v.fit(full_clean_comments)\n",
    "X = v.transform(full_clean_comments)"
   ]
  },
  {
   "cell_type": "code",
   "execution_count": 19,
   "metadata": {},
   "outputs": [
    {
     "data": {
      "text/plain": [
       "(322849, 25260)"
      ]
     },
     "execution_count": 19,
     "metadata": {},
     "output_type": "execute_result"
    }
   ],
   "source": [
    "# TF-IDF transformation on sparse matrix\n",
    "tfidf = TfidfTransformer().fit_transform(X)\n",
    "tfidf.shape"
   ]
  },
  {
   "cell_type": "code",
   "execution_count": 29,
   "metadata": {},
   "outputs": [
    {
     "data": {
      "text/plain": [
       "481.9914951230972"
      ]
     },
     "execution_count": 29,
     "metadata": {},
     "output_type": "execute_result"
    }
   ],
   "source": [
    "# non-negative matrix factorization\n",
    "nmf_fit = NMF(n_components=200).fit(X=tfidf)\n",
    "nmf_fit.reconstruction_err_"
   ]
  },
  {
   "cell_type": "code",
   "execution_count": 32,
   "metadata": {},
   "outputs": [
    {
     "data": {
      "text/plain": [
       "['nmf_model.pkl']"
      ]
     },
     "execution_count": 32,
     "metadata": {},
     "output_type": "execute_result"
    }
   ],
   "source": [
    "joblib.dump(nmf_fit, '../nmf_model.pkl') "
   ]
  },
  {
   "cell_type": "code",
   "execution_count": 35,
   "metadata": {
    "scrolled": true
   },
   "outputs": [
    {
     "name": "stdout",
     "output_type": "stream",
     "text": [
      "Topic #0: wiki link special emailuser notability sandbox newcomers de john development\n",
      "Topic #1: image png gif policy provided uploading description tagging days jpeg\n",
      "Topic #2: because reason doesn didn wanted mean simply contested deleted cannot\n",
      "Topic #3: speedy deletion criteria nominated tagged under questions contest csd criterion\n",
      "Topic #4: constructive sandbox appear least test reverting although everyone such contributions\n",
      "Topic #5: policy blocking editing disruptive blocked receive warning next accordance unjustified\n",
      "Topic #6: summary introduction sandbox informative testing ensure wish unconstructive provide appears\n",
      "Topic #7: pages hope place sign ask tutorial manual pillars five style\n",
      "Topic #8: bot reverted repair apologies recognize humble attempts owner legitimate behavior\n",
      "Topic #9: externa http www link org web html htm https id\n",
      "Topic #10: talk contribs replied discuss email responded posts rfc talkback note\n",
      "Topic #11: fair rationale explanation guideline questions disputed media must criteria using\n",
      "Topic #12: jpg disputed rationale orphaned image unspecified unfree possibly copyright cover\n",
      "Topic #13: non free orphaned media logo png feel gif questions cover\n",
      "Topic #14: article featured needs improve created main into inclusion written concerns\n",
      "Topic #15: added preceding unsigned signatures contribs posts sign undated pages info\n",
      "Topic #16: warning report changed entry automatically remove regarding false log feel\n",
      "Topic #17: experimenting tests worked sandbox test our learn contributing encyclopedia reverted\n",
      "Topic #18: he says himself born guy doesn gay died got wants\n",
      "Topic #19: vandalism reverted sandbox constitutes testing unconstructive recent reverting vandalize continue\n",
      "Topic #20: notability subject notable web band indicate guidelines criteria assert leave\n",
      "Topic #21: account further didn creating irrelevant avoid yourself consider shared create\n",
      "Topic #22: sandbox experiment nonsense considered refrain adding making constitute pages appear\n",
      "Topic #23: copyright questions tags media tag status license uploading description ask\n",
      "Topic #24: me tell let give alone contact unblock ban leave excuse\n",
      "Topic #25: file png files commons permission nominated uploaded logo upload altered\n",
      "Topic #26: what mean talking exactly happened tell doing understand hell means\n",
      "Topic #27: spam bot preview button try vand identified doing inappropriate operator\n",
      "Topic #28: changes hello moment fellow altogether need wikipedians modified additional visit\n",
      "Topic #29: user users another banned pages sock sockpuppet admin userpage vandal\n",
      "Topic #30: wp rs per blp npov chicago coi rr csd npa\n",
      "Topic #31: listed find media deletion title search interested entry altered uploaded\n",
      "Topic #32: no longer reason need idea mention consensus worries evidence matter\n",
      "Topic #33: here post click around another came come insert editors reason\n",
      "Topic #34: site official website web sites info fan photo material off\n",
      "Topic #35: we need our us cannot include both until consensus contribute\n",
      "Topic #36: their own website these into names such business others editors\n",
      "Topic #37: sources reliable citing cite verifiability secondary primary published provide independent\n",
      "Topic #38: fuck off shit bitch yourself asshole ass cunt shut faggot\n",
      "Topic #39: when comes especially others cheers finished reviewing set saw checked\n",
      "Topic #40: name names common official real correct changed called last naming\n",
      "Topic #41: time last next warning vandalize blocked editing long receive waste\n",
      "Topic #42: know let created fact recently interesting updated didn dont letting\n",
      "Topic #43: edit summary warring reverted summaries protected semi explanation recent wars\n",
      "Topic #44: re talking trying doing idiot admin saying glad interested gonna\n",
      "Topic #45: redirect redirects talk film album john song station district de\n",
      "Topic #46: utc july september august jun december june february march mar\n",
      "Topic #47: welcome encyclopedia contributing learn contribute constructively introduction everyone newcomers invite\n",
      "Topic #48: am trying doing myself gay glad working saying writing interested\n",
      "Topic #49: don understand care worry anything mind forget either anymore give\n",
      "Topic #50: stop vandalizing continue removing editing deleting vandalising disruptive adding spamming\n",
      "Topic #51: states united us state most american city country term part\n",
      "Topic #52: may however wish issues interested deleted longer username further notice\n",
      "Topic #53: good faith idea luck job looks sounds assume bad reason\n",
      "Topic #54: just wanted thought trying wondering let noticed saw maybe curious\n",
      "Topic #55: why explain reason deleted explanation understand explained deleting ask criteria\n",
      "Topic #56: best regards wishes probably happy ever year luck rfa most\n",
      "Topic #57: all these over those after stuff things must etc means\n",
      "Topic #58: thank rfa appreciate hello kind experiment understanding future participate reverting\n",
      "Topic #59: should maybe merged included perhaps probably mentioned used deleted changed\n",
      "Topic #60: they aren these themselves both different metal their seem band\n",
      "Topic #61: discussion participate consensus policies guidelines nominated whether matter redirects noticeboard\n",
      "Topic #62: now fixed working commons understand got until okay off gone\n",
      "Topic #63: her life birth love book death album mother family age\n",
      "Topic #64: template templates infobox using instructions guideline must questions blank compliance\n",
      "Topic #65: information incorrect correct creator relevant verify missing sourced added provided\n",
      "Topic #66: ll try find give soon later okay few tomorrow probably\n",
      "Topic #67: see above nice altered search seven around files fail already\n",
      "Topic #68: ve got seen added never heard already replied noticed fixed\n",
      "Topic #69: she born says old years herself doesn girl got woman\n",
      "Topic #70: new york year happy zealand city old jersey create times\n",
      "Topic #71: list lists characters episodes featured names policies episode members already\n",
      "Topic #72: used media note currently however criteria policy specifies non fair\n",
      "Topic #73: one another two week most day least thing every each\n",
      "Topic #74: how many long works explain come tell dare tutorial exactly\n",
      "Topic #75: up clean shut heads cleaned show give cleaning set grow\n",
      "Topic #76: deletion proposed process notice removing consensus deleted inclusion prod criteria\n",
      "Topic #77: source reliable unspecified creator says material published find provided primary\n",
      "Topic #78: personal attacks attack against users tolerated living persons opinion biographies\n",
      "Topic #79: help need desk reverting ask happy getting portal improve contents\n",
      "Topic #80: section criticism lead sections needs paragraph controversy whole trivia above\n",
      "Topic #81: than better rather less others nothing without much manner considered\n",
      "Topic #82: been since years already involved haven hasn warned reverted submission\n",
      "Topic #83: his life father book death own career mother family son\n",
      "Topic #84: some might sort kind time stuff maybe try reason info\n",
      "Topic #85: block unblock blocked appealing reason expires unjustified contributions expired blocks\n",
      "Topic #86: sorry didn im bad thought got forgot mistake mean wasn\n",
      "Topic #87: thanks appreciate rfa lot appreciated many hey heads cheers advice\n",
      "Topic #88: request unblock protected semi requests unblocked arbitration mediation reason handled\n",
      "Topic #89: did created fact recently interesting updated dyk refrain suggest expanded\n",
      "Topic #90: get life off rid trying over chance soon banned try\n",
      "Topic #91: hi cheers regards hope noticed wanted love wondering nice interested\n",
      "Topic #92: yes class importance needs start low correct fine indeed infobox\n",
      "Topic #93: archive web added https org cheers finished reviewing true parameter\n",
      "Topic #94: more than info bit little specific needs details accurate likely\n",
      "Topic #95: so far doing much many called long already anyway won\n",
      "Topic #96: well known written might hope sourced guess required works congratulations\n",
      "Topic #97: com www http youtube watch news google php html id\n",
      "Topic #98: style color background width align px border vertical top solid\n",
      "Topic #99: nomination dyk deletion ga criteria nd nominations mfd matter policies\n",
      "Topic #100: who those person anyone editor editors knows cares wrote guy\n",
      "Topic #101: links spam advertising external sites inappropriate promotion added web adding\n",
      "Topic #102: external link vandalize testing sandbox constitutes reverted diff recent linking\n",
      "Topic #103: out check figure pointing pointed find sort things opt come\n",
      "Topic #104: afd vote prod consensus admin process closed notability result debate\n",
      "Topic #105: people many these most living things lot white black group\n",
      "Topic #106: then created website doesn tags specify until suggest okay untagged\n",
      "Topic #107: work nice needs hard others improving damaging manner lot invite\n",
      "Topic #108: images description policy status using verify uploaded need indicating notice\n",
      "Topic #109: point view neutral npov pov conflict interest points violations policy\n",
      "Topic #110: tagging license gif jpg logo under permission leave deletions gfdl\n",
      "Topic #111: edits unconstructive regarding making reverting constitute refrain during reverted appear\n",
      "Topic #112: really need doesn appreciate isn care anything lot matter necessary\n",
      "Topic #113: agree above completely totally needs consensus disagree fully most mediation\n",
      "Topic #114: other editors users each things hand two words such editor\n",
      "Topic #115: ok got fine let enough fixed looks thats cool im\n",
      "Topic #116: english language word british american german names french spelling translation\n",
      "Topic #117: category categories missing birth need longer nominated created wikipedians commons\n",
      "Topic #118: being used such explanation issue without admin case guideline must\n",
      "Topic #119: done already anything nothing job needs haven feel harm things\n",
      "Topic #120: en org title php index http oldid diff action wiki\n",
      "Topic #121: go ahead yourself away hell through suck die dick let\n",
      "Topic #122: page main questions blank protection moved explanation description bottom protected\n",
      "Topic #123: does mean anyone seem exist belong doesn matter else word\n",
      "Topic #124: comments sign above participate opinions remove left tildes four end\n",
      "Topic #125: seems bit mention case pov seem since reasonable little clear\n",
      "Topic #126: which case issue fact means both part another suggest recently\n",
      "Topic #127: content remove without removing reason blank summary specify our valid\n",
      "Topic #128: move requested moved moves consensus title modify subsequent rm result\n",
      "Topic #129: message leave hello alone left wanted regarding sent note undone\n",
      "Topic #130: right left wing thing yeah place quite absolutely probably far\n",
      "Topic #131: ip address shared users multiple ignore username blocked addresses email\n",
      "Topic #132: removed material tag reason added citation sourced paragraph unsourced statement\n",
      "Topic #133: too long many much bad far bit little big late\n",
      "Topic #134: back come after expires useful off wish contributions changed moved\n",
      "Topic #135: history military book historical part books news ancient check revision\n",
      "Topic #136: account accounts wikimedia special keegan announcement tools changes better our\n",
      "Topic #137: articles creation related submission these create deletion improve quality created\n",
      "Topic #138: review ga peer editor featured reviewer reviewed transcluded contribs class\n",
      "Topic #139: references needs citations needed cite citation removing inline provide added\n",
      "Topic #140: want might whatever dont write anyone tests start removing feel\n",
      "Topic #141: school high schools college university students district class st student\n",
      "Topic #142: were those two these thought many both trying years killed\n",
      "Topic #143: someone else needs wikilove something anyone spread unless find answer\n",
      "Topic #144: delete deleted templates blank portions materials dont deleting admin reason\n",
      "Topic #145: way either around using simply things easy must complete remember\n",
      "Topic #146: could perhaps maybe explain find bit anyone wondering possible possibly\n",
      "Topic #147: wikipedia verifiability policies community requests spam pump wiki village neutral\n",
      "Topic #148: disambiguation these dab solver notification dispenser py cgi bin pages\n",
      "Topic #149: make sense sockpuppetry evidence clear trying contributions doesn useful expires\n",
      "Topic #150: say anything doesn says wanted saying word something must words\n",
      "Topic #151: first second sentence paragraph place two before line third guide\n",
      "Topic #152: text material copyrighted headline bold copy formatted cannot example insert\n",
      "Topic #153: only two thing few actually since far once those receive\n",
      "Topic #154: revert three rule consensus rr warring dispute reverts reversions editors\n",
      "Topic #155: support rfa per above oppose adminship proposal vote requests evidence\n",
      "Topic #156: reference book desk citation errors statement added find ref cite\n",
      "Topic #157: where find come show got live says came tell case\n",
      "Topic #158: look take into care learn contributing encyclopedia forward introduction invite\n",
      "Topic #159: them those these questions most none ask pictures provided try\n",
      "Topic #160: tag deleted placed note adding remove guidelines contest yourself explaining\n",
      "Topic #161: fucking hey shit bitch suck gay ass dick cunt asshole\n",
      "Topic #162: problem copyright gif permission solved fixed fix logo solve big\n",
      "Topic #163: still needs working though yet waiting old active years lot\n",
      "Topic #164: wikiproject newsletter project issue class military delivered issues films future\n",
      "Topic #165: found reverted contact believe link refrain unavailable runs replaceable season\n",
      "Topic #166: very much appreciated pretty nice little important interesting few short\n",
      "Topic #167: had before already thought since after another didn years ago\n",
      "Topic #168: add nonsense info feel necessary alternatively modifying appropriate leave free\n",
      "Topic #169: question answer ask answered desk asked response whether quick before\n",
      "Topic #170: also inclusion note known such explained mentioned might related include\n",
      "Topic #171: comment unsigned preceding rfc above requests posts sign signatures response\n",
      "Topic #172: picture photo featured pictures needs day candidates nice main caption\n",
      "Topic #173: going through im down anyone isn kill around start long\n",
      "Topic #174: wrong something nothing correct anything got else doing maybe prove\n",
      "Topic #175: even though doesn mention isn didn word yet fact before\n",
      "Topic #176: merge into merged proposal two proposed merger merging oppose separate\n",
      "Topic #177: change consensus making minor changes format changed username changing title\n",
      "Topic #178: sure pretty wasn case evidence sockpuppetry though quite sock might\n",
      "Topic #179: blocked vandalize continue editing pages disruptive constitutes warning gabsadds contribs\n",
      "Topic #180: again once happen won yet ever before try receive over\n",
      "Topic #181: him admin guy love give man call asked against ask\n",
      "Topic #182: made constitutes regarding testing recent during sandbox pages continue changes\n",
      "Topic #183: war world over civil ii years during military dispute start\n",
      "Topic #184: think might idea important enough appropriate bit actually pretty personally\n",
      "Topic #185: like looks sounds something reads sound things experiment seem acting\n",
      "Topic #186: january contribs regarding newsletter notification during year protected semi th\n",
      "Topic #187: game video games film series play tv show season played\n",
      "Topic #188: great day job write happy britain tutorial deal love idea\n",
      "Topic #189: signpost th february october march updated april news single november\n",
      "Topic #190: put into info stuff together down place didn putting trying\n",
      "Topic #191: barnstar original research award anti tireless contributions working kindness rickk\n",
      "Topic #192: said never anything before above mind heard true actually already\n",
      "Topic #193: reply post email above replied left posted response note reviewed\n",
      "Topic #194: same thing two different person both exactly these exact between\n",
      "Topic #195: its own dont possibly unfree deleted altered entry status current\n",
      "Topic #196: keep off mind modifying necessary alternatively eye after online result\n",
      "Topic #197: read before book carefully above books policies guidelines guide understand\n",
      "Topic #198: oh yeah lol love god man wait thought didn dear\n",
      "Topic #199: version current old previous correct song original versions album since\n",
      "\n"
     ]
    }
   ],
   "source": [
    "feature_names = v.get_feature_names()\n",
    "print_top_words(nmf_fit,feature_names,10)"
   ]
  },
  {
   "cell_type": "code",
   "execution_count": 36,
   "metadata": {
    "collapsed": true
   },
   "outputs": [],
   "source": [
    "nmf_topics = np.array(nmf_fit.transform(tfidf))"
   ]
  },
  {
   "cell_type": "code",
   "execution_count": null,
   "metadata": {
    "collapsed": true
   },
   "outputs": [],
   "source": [
    "np.corrcoef(x=nmf_topics[:,161],y=nmf_topics[:,38])"
   ]
  },
  {
   "cell_type": "code",
   "execution_count": 80,
   "metadata": {},
   "outputs": [
    {
     "data": {
      "text/plain": [
       "0.014564129249677867"
      ]
     },
     "execution_count": 80,
     "metadata": {},
     "output_type": "execute_result"
    }
   ],
   "source": [
    "np.mean(nmf_topics[:,33]>0.001)"
   ]
  },
  {
   "cell_type": "code",
   "execution_count": 75,
   "metadata": {},
   "outputs": [
    {
     "data": {
      "text/plain": [
       "(0, 0.01)"
      ]
     },
     "execution_count": 75,
     "metadata": {},
     "output_type": "execute_result"
    },
    {
     "data": {
      "image/png": "[encoded data removed]",
      "text/plain": [
       "<matplotlib.figure.Figure at 0x197e70048>"
      ]
     },
     "metadata": {},
     "output_type": "display_data"
    }
   ],
   "source": [
    "# plot zero histogram, excluding zeros\n",
    "n, bins, patches = plt.hist(nmf_topics[nmf_topics[:,38]>0][:,38], 200, normed=1, facecolor='green', alpha=0.5)\n",
    "plt.xlim([0,0.01])"
   ]
  },
  {
   "cell_type": "code",
   "execution_count": 48,
   "metadata": {
    "collapsed": true
   },
   "outputs": [],
   "source": [
    "# Save topic scores per comment\n",
    "comment_topics = pd.DataFrame(nmf_topics).add_prefix(\"nmf_\")\n",
    "comment_topics['id'] = comment_ids\n",
    "comment_topics.head()\n",
    "comment_topics.to_csv(\"../comment_nmf_topics.csv\",index=False)"
   ]
  },
  {
   "cell_type": "markdown",
   "metadata": {},
   "source": [
    "### Word2Vec word embeddings"
   ]
  },
  {
   "cell_type": "code",
   "execution_count": 21,
   "metadata": {},
   "outputs": [
    {
     "name": "stdout",
     "output_type": "stream",
     "text": [
      "31293\n",
      "0.08671279452229405\n",
      "0.969647020554\n"
     ]
    }
   ],
   "source": [
    "min_token_freq = 15\n",
    "num_unique_tokens = token_count[token_count['freq']>=min_token_freq].shape[0]\n",
    "print(num_unique_tokens)\n",
    "print(num_unique_tokens/len(token_dict.keys()))\n",
    "print(sum(token_count[token_count['freq']>=min_token_freq]['freq']/sum(token_count['freq'])))"
   ]
  },
  {
   "cell_type": "code",
   "execution_count": 22,
   "metadata": {
    "collapsed": true
   },
   "outputs": [],
   "source": [
    "model = gensim.models.Word2Vec(size=50, window=7, min_count=15,iter=10,sg=1,workers=8)"
   ]
  },
  {
   "cell_type": "code",
   "execution_count": 23,
   "metadata": {},
   "outputs": [
    {
     "data": {
      "text/plain": [
       "31293"
      ]
     },
     "execution_count": 23,
     "metadata": {},
     "output_type": "execute_result"
    }
   ],
   "source": [
    "model.build_vocab(combined_comments)\n",
    "len(model.wv.vocab)"
   ]
  },
  {
   "cell_type": "code",
   "execution_count": 24,
   "metadata": {},
   "outputs": [
    {
     "data": {
      "text/plain": [
       "172819667"
      ]
     },
     "execution_count": 24,
     "metadata": {},
     "output_type": "execute_result"
    }
   ],
   "source": [
    "model.train(combined_comments,total_examples=model.corpus_count,epochs=model.iter)"
   ]
  },
  {
   "cell_type": "code",
   "execution_count": 25,
   "metadata": {
    "collapsed": true
   },
   "outputs": [],
   "source": [
    "model.save(\"../wiki_comment_word2vec\")"
   ]
  },
  {
   "cell_type": "code",
   "execution_count": 26,
   "metadata": {},
   "outputs": [
    {
     "data": {
      "text/plain": [
       "[('spamming', 0.748274564743042),\n",
       " ('inappropriate', 0.747218906879425),\n",
       " ('spammer', 0.7094085812568665),\n",
       " ('linkfarm', 0.7023770809173584),\n",
       " ('self\\\\-promotion', 0.6910476684570312),\n",
       " ('promotion', 0.6873908638954163),\n",
       " ('misinformation', 0.6829708814620972),\n",
       " ('advertising', 0.6816965937614441),\n",
       " ('links', 0.6570734977722168),\n",
       " ('item', 0.655972421169281)]"
      ]
     },
     "execution_count": 26,
     "metadata": {},
     "output_type": "execute_result"
    }
   ],
   "source": [
    "model.wv.most_similar(positive=['spam'])"
   ]
  },
  {
   "cell_type": "code",
   "execution_count": 27,
   "metadata": {},
   "outputs": [
    {
     "data": {
      "text/plain": [
       "[('homophobic', 0.8496531844139099),\n",
       " ('racist', 0.809245228767395),\n",
       " ('raving', 0.8077417016029358),\n",
       " ('misogynistic', 0.8000978827476501),\n",
       " ('slur', 0.7964104413986206),\n",
       " ('homophobe', 0.7958419322967529),\n",
       " ('stereotyping', 0.7799964547157288),\n",
       " ('slurs', 0.7624128460884094),\n",
       " ('amoral', 0.7623727321624756),\n",
       " ('ignorant', 0.7553340792655945)]"
      ]
     },
     "execution_count": 27,
     "metadata": {},
     "output_type": "execute_result"
    }
   ],
   "source": [
    "model.wv.most_similar(positive=['sexist'])"
   ]
  },
  {
   "cell_type": "markdown",
   "metadata": {},
   "source": [
    "### Wider w2v vector"
   ]
  },
  {
   "cell_type": "code",
   "execution_count": 13,
   "metadata": {
    "collapsed": true
   },
   "outputs": [],
   "source": [
    "w2v_model_150dim = gensim.models.Word2Vec(size=150, window=7, min_count=15,iter=10,sg=1,workers=8)"
   ]
  },
  {
   "cell_type": "code",
   "execution_count": 18,
   "metadata": {},
   "outputs": [
    {
     "data": {
      "text/plain": [
       "31293"
      ]
     },
     "execution_count": 18,
     "metadata": {},
     "output_type": "execute_result"
    }
   ],
   "source": [
    "w2v_model_150dim.build_vocab(combined_comments)\n",
    "len(w2v_model_150dim.wv.vocab)"
   ]
  },
  {
   "cell_type": "code",
   "execution_count": 20,
   "metadata": {},
   "outputs": [
    {
     "data": {
      "text/plain": [
       "172816471"
      ]
     },
     "execution_count": 20,
     "metadata": {},
     "output_type": "execute_result"
    }
   ],
   "source": [
    "w2v_model_150dim.train(combined_comments,total_examples=w2v_model_150dim.corpus_count,epochs=w2v_model_150dim.iter)"
   ]
  },
  {
   "cell_type": "code",
   "execution_count": 21,
   "metadata": {
    "collapsed": true
   },
   "outputs": [],
   "source": [
    "w2v_model_150dim.save(\"../wiki_comment_word2vec_150d\")"
   ]
  },
  {
   "cell_type": "markdown",
   "metadata": {},
   "source": [
    "### FastText embeddings"
   ]
  },
  {
   "cell_type": "code",
   "execution_count": 14,
   "metadata": {},
   "outputs": [],
   "source": [
    "fasttext_model = FastText(combined_comments,sg=1,size=150,window=7,min_count=10,negative=7,workers=8)"
   ]
  },
  {
   "cell_type": "code",
   "execution_count": 16,
   "metadata": {},
   "outputs": [],
   "source": [
    "fasttext_model.save(\"../wiki_fasttext_embed\")"
   ]
  },
  {
   "cell_type": "code",
   "execution_count": null,
   "metadata": {
    "collapsed": true
   },
   "outputs": [],
   "source": [
    "fasttext_model.wv.most_similar(positive=['sexist'])"
   ]
  },
  {
   "cell_type": "code",
   "execution_count": null,
   "metadata": {
    "collapsed": true
   },
   "outputs": [],
   "source": []
  }
 ],
 "metadata": {
  "kernelspec": {
   "display_name": "Python 3",
   "language": "python",
   "name": "python3"
  },
  "language_info": {
   "codemirror_mode": {
    "name": "ipython",
    "version": 3
   },
   "file_extension": ".py",
   "mimetype": "text/x-python",
   "name": "python",
   "nbconvert_exporter": "python",
   "pygments_lexer": "ipython3",
   "version": "3.6.1"
  }
 },
 "nbformat": 4,
 "nbformat_minor": 2
}
