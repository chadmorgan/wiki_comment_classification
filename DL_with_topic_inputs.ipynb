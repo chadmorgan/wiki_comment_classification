{
 "cells": [
  {
   "cell_type": "code",
   "execution_count": 5,
   "metadata": {},
   "outputs": [],
   "source": [
    "import numpy as np\n",
    "import pandas as pd"
   ]
  },
  {
   "cell_type": "code",
   "execution_count": 6,
   "metadata": {
    "collapsed": true
   },
   "outputs": [],
   "source": [
    "from matplotlib import pyplot as plt\n",
    "%matplotlib inline"
   ]
  },
  {
   "cell_type": "code",
   "execution_count": 22,
   "metadata": {
    "collapsed": true
   },
   "outputs": [],
   "source": [
    "from sklearn.model_selection import train_test_split\n",
    "from sklearn.utils import shuffle "
   ]
  },
  {
   "cell_type": "code",
   "execution_count": 13,
   "metadata": {},
   "outputs": [
    {
     "name": "stderr",
     "output_type": "stream",
     "text": [
      "Using TensorFlow backend.\n"
     ]
    }
   ],
   "source": [
    "# -- basic architecture needs -- #\n",
    "from keras.layers import Dense, Input,  Dropout, Activation\n",
    "from keras.models import Model\n",
    "#from keras.utils.np_utils import to_categorical\n",
    "from keras.regularizers import l2\n",
    "#from keras import initializers, regularizers, constraints, optimizers, layers\n",
    "\n",
    "# -- ConvNet needs -- #\n",
    "#from keras.preprocessing.sequence import pad_sequences\n",
    "#from keras.layers import Conv1D, Embedding, Flatten\n",
    "#from keras.layers import GlobalMaxPool1D, MaxPooling1D, concatenate"
   ]
  },
  {
   "cell_type": "markdown",
   "metadata": {},
   "source": [
    "### Read in training data and topic dataset"
   ]
  },
  {
   "cell_type": "code",
   "execution_count": 12,
   "metadata": {},
   "outputs": [
    {
     "name": "stdout",
     "output_type": "stream",
     "text": [
      "Index(['id', 'comment_text', 'toxic', 'severe_toxic', 'obscene', 'threat',\n",
      "       'insult', 'identity_hate'],\n",
      "      dtype='object')\n"
     ]
    },
    {
     "data": {
      "text/plain": [
       "(95851, 8)"
      ]
     },
     "execution_count": 12,
     "metadata": {},
     "output_type": "execute_result"
    }
   ],
   "source": [
    "full_train = pd.read_csv('../train.csv')\n",
    "print(full_train.columns)\n",
    "full_train.shape"
   ]
  },
  {
   "cell_type": "code",
   "execution_count": 8,
   "metadata": {},
   "outputs": [
    {
     "data": {
      "text/html": [
       "<div>\n",
       "<style>\n",
       "    .dataframe thead tr:only-child th {\n",
       "        text-align: right;\n",
       "    }\n",
       "\n",
       "    .dataframe thead th {\n",
       "        text-align: left;\n",
       "    }\n",
       "\n",
       "    .dataframe tbody tr th {\n",
       "        vertical-align: top;\n",
       "    }\n",
       "</style>\n",
       "<table border=\"1\" class=\"dataframe\">\n",
       "  <thead>\n",
       "    <tr style=\"text-align: right;\">\n",
       "      <th></th>\n",
       "      <th>nmf_0</th>\n",
       "      <th>nmf_1</th>\n",
       "      <th>nmf_2</th>\n",
       "      <th>nmf_3</th>\n",
       "      <th>nmf_4</th>\n",
       "      <th>nmf_5</th>\n",
       "      <th>nmf_6</th>\n",
       "      <th>nmf_7</th>\n",
       "      <th>nmf_8</th>\n",
       "      <th>nmf_9</th>\n",
       "      <th>...</th>\n",
       "      <th>nmf_191</th>\n",
       "      <th>nmf_192</th>\n",
       "      <th>nmf_193</th>\n",
       "      <th>nmf_194</th>\n",
       "      <th>nmf_195</th>\n",
       "      <th>nmf_196</th>\n",
       "      <th>nmf_197</th>\n",
       "      <th>nmf_198</th>\n",
       "      <th>nmf_199</th>\n",
       "      <th>id</th>\n",
       "    </tr>\n",
       "  </thead>\n",
       "  <tbody>\n",
       "    <tr>\n",
       "      <th>0</th>\n",
       "      <td>0.0</td>\n",
       "      <td>0.0</td>\n",
       "      <td>0.000000</td>\n",
       "      <td>0.000000</td>\n",
       "      <td>0.0</td>\n",
       "      <td>0.000000</td>\n",
       "      <td>0.0</td>\n",
       "      <td>0.000000</td>\n",
       "      <td>0.0</td>\n",
       "      <td>0.0</td>\n",
       "      <td>...</td>\n",
       "      <td>0.000000</td>\n",
       "      <td>0.034784</td>\n",
       "      <td>0.000000</td>\n",
       "      <td>0.0</td>\n",
       "      <td>0.000452</td>\n",
       "      <td>0.007369</td>\n",
       "      <td>0.000000</td>\n",
       "      <td>0.000000</td>\n",
       "      <td>0.0</td>\n",
       "      <td>22256635</td>\n",
       "    </tr>\n",
       "    <tr>\n",
       "      <th>1</th>\n",
       "      <td>0.0</td>\n",
       "      <td>0.0</td>\n",
       "      <td>0.000000</td>\n",
       "      <td>0.000000</td>\n",
       "      <td>0.0</td>\n",
       "      <td>0.000000</td>\n",
       "      <td>0.0</td>\n",
       "      <td>0.001963</td>\n",
       "      <td>0.0</td>\n",
       "      <td>0.0</td>\n",
       "      <td>...</td>\n",
       "      <td>0.000000</td>\n",
       "      <td>0.000000</td>\n",
       "      <td>0.000000</td>\n",
       "      <td>0.0</td>\n",
       "      <td>0.000000</td>\n",
       "      <td>0.000000</td>\n",
       "      <td>0.000000</td>\n",
       "      <td>0.000000</td>\n",
       "      <td>0.0</td>\n",
       "      <td>27450690</td>\n",
       "    </tr>\n",
       "    <tr>\n",
       "      <th>2</th>\n",
       "      <td>0.0</td>\n",
       "      <td>0.0</td>\n",
       "      <td>0.010796</td>\n",
       "      <td>0.000000</td>\n",
       "      <td>0.0</td>\n",
       "      <td>0.000000</td>\n",
       "      <td>0.0</td>\n",
       "      <td>0.000000</td>\n",
       "      <td>0.0</td>\n",
       "      <td>0.0</td>\n",
       "      <td>...</td>\n",
       "      <td>0.000000</td>\n",
       "      <td>0.000000</td>\n",
       "      <td>0.072916</td>\n",
       "      <td>0.0</td>\n",
       "      <td>0.000151</td>\n",
       "      <td>0.000000</td>\n",
       "      <td>0.000278</td>\n",
       "      <td>0.000081</td>\n",
       "      <td>0.0</td>\n",
       "      <td>54037174</td>\n",
       "    </tr>\n",
       "    <tr>\n",
       "      <th>3</th>\n",
       "      <td>0.0</td>\n",
       "      <td>0.0</td>\n",
       "      <td>0.000064</td>\n",
       "      <td>0.000087</td>\n",
       "      <td>0.0</td>\n",
       "      <td>0.018906</td>\n",
       "      <td>0.0</td>\n",
       "      <td>0.000000</td>\n",
       "      <td>0.0</td>\n",
       "      <td>0.0</td>\n",
       "      <td>...</td>\n",
       "      <td>0.000207</td>\n",
       "      <td>0.000000</td>\n",
       "      <td>0.000000</td>\n",
       "      <td>0.0</td>\n",
       "      <td>0.000000</td>\n",
       "      <td>0.000000</td>\n",
       "      <td>0.000000</td>\n",
       "      <td>0.001777</td>\n",
       "      <td>0.0</td>\n",
       "      <td>77493077</td>\n",
       "    </tr>\n",
       "    <tr>\n",
       "      <th>4</th>\n",
       "      <td>0.0</td>\n",
       "      <td>0.0</td>\n",
       "      <td>0.000000</td>\n",
       "      <td>0.000000</td>\n",
       "      <td>0.0</td>\n",
       "      <td>0.000000</td>\n",
       "      <td>0.0</td>\n",
       "      <td>0.000969</td>\n",
       "      <td>0.0</td>\n",
       "      <td>0.0</td>\n",
       "      <td>...</td>\n",
       "      <td>0.000000</td>\n",
       "      <td>0.023492</td>\n",
       "      <td>0.000000</td>\n",
       "      <td>0.0</td>\n",
       "      <td>0.000000</td>\n",
       "      <td>0.000000</td>\n",
       "      <td>0.000000</td>\n",
       "      <td>0.000000</td>\n",
       "      <td>0.0</td>\n",
       "      <td>79357270</td>\n",
       "    </tr>\n",
       "  </tbody>\n",
       "</table>\n",
       "<p>5 rows × 201 columns</p>\n",
       "</div>"
      ],
      "text/plain": [
       "   nmf_0  nmf_1     nmf_2     nmf_3  nmf_4     nmf_5  nmf_6     nmf_7  nmf_8  \\\n",
       "0    0.0    0.0  0.000000  0.000000    0.0  0.000000    0.0  0.000000    0.0   \n",
       "1    0.0    0.0  0.000000  0.000000    0.0  0.000000    0.0  0.001963    0.0   \n",
       "2    0.0    0.0  0.010796  0.000000    0.0  0.000000    0.0  0.000000    0.0   \n",
       "3    0.0    0.0  0.000064  0.000087    0.0  0.018906    0.0  0.000000    0.0   \n",
       "4    0.0    0.0  0.000000  0.000000    0.0  0.000000    0.0  0.000969    0.0   \n",
       "\n",
       "   nmf_9    ...      nmf_191   nmf_192   nmf_193  nmf_194   nmf_195   nmf_196  \\\n",
       "0    0.0    ...     0.000000  0.034784  0.000000      0.0  0.000452  0.007369   \n",
       "1    0.0    ...     0.000000  0.000000  0.000000      0.0  0.000000  0.000000   \n",
       "2    0.0    ...     0.000000  0.000000  0.072916      0.0  0.000151  0.000000   \n",
       "3    0.0    ...     0.000207  0.000000  0.000000      0.0  0.000000  0.000000   \n",
       "4    0.0    ...     0.000000  0.023492  0.000000      0.0  0.000000  0.000000   \n",
       "\n",
       "    nmf_197   nmf_198  nmf_199        id  \n",
       "0  0.000000  0.000000      0.0  22256635  \n",
       "1  0.000000  0.000000      0.0  27450690  \n",
       "2  0.000278  0.000081      0.0  54037174  \n",
       "3  0.000000  0.001777      0.0  77493077  \n",
       "4  0.000000  0.000000      0.0  79357270  \n",
       "\n",
       "[5 rows x 201 columns]"
      ]
     },
     "execution_count": 8,
     "metadata": {},
     "output_type": "execute_result"
    }
   ],
   "source": [
    "topics_combined = pd.read_csv('../comment_nmf_topics.csv')\n",
    "topics_combined.head()"
   ]
  },
  {
   "cell_type": "code",
   "execution_count": 11,
   "metadata": {},
   "outputs": [
    {
     "name": "stdout",
     "output_type": "stream",
     "text": [
      "Index(['id', 'comment_text', 'toxic', 'severe_toxic', 'obscene', 'threat',\n",
      "       'insult', 'identity_hate', 'nmf_0', 'nmf_1',\n",
      "       ...\n",
      "       'nmf_190', 'nmf_191', 'nmf_192', 'nmf_193', 'nmf_194', 'nmf_195',\n",
      "       'nmf_196', 'nmf_197', 'nmf_198', 'nmf_199'],\n",
      "      dtype='object', length=208)\n"
     ]
    },
    {
     "data": {
      "text/plain": [
       "(95851, 208)"
      ]
     },
     "execution_count": 11,
     "metadata": {},
     "output_type": "execute_result"
    }
   ],
   "source": [
    "train_topics = full_train.merge(topics_combined,on='id')\n",
    "print(train_topics.columns)\n",
    "train_topics.shape"
   ]
  },
  {
   "cell_type": "markdown",
   "metadata": {},
   "source": [
    "### prep x and y arrays; train/valid split "
   ]
  },
  {
   "cell_type": "code",
   "execution_count": 21,
   "metadata": {},
   "outputs": [
    {
     "data": {
      "text/plain": [
       "(95851, 6)"
      ]
     },
     "execution_count": 21,
     "metadata": {},
     "output_type": "execute_result"
    }
   ],
   "source": [
    "labels = np.array(train_topics[['toxic', 'severe_toxic', 'obscene', 'threat', 'insult', 'identity_hate']])\n",
    "labels.shape"
   ]
  },
  {
   "cell_type": "code",
   "execution_count": 20,
   "metadata": {},
   "outputs": [
    {
     "name": "stdout",
     "output_type": "stream",
     "text": [
      "Index(['nmf_0', 'nmf_1', 'nmf_2', 'nmf_3', 'nmf_4', 'nmf_5', 'nmf_6', 'nmf_7',\n",
      "       'nmf_8', 'nmf_9',\n",
      "       ...\n",
      "       'nmf_190', 'nmf_191', 'nmf_192', 'nmf_193', 'nmf_194', 'nmf_195',\n",
      "       'nmf_196', 'nmf_197', 'nmf_198', 'nmf_199'],\n",
      "      dtype='object', length=200)\n"
     ]
    },
    {
     "data": {
      "text/plain": [
       "(95851, 200)"
      ]
     },
     "execution_count": 20,
     "metadata": {},
     "output_type": "execute_result"
    }
   ],
   "source": [
    "print(train_topics.columns[8:208])\n",
    "topics_x = np.array(train_topics[train_topics.columns[8:208]])\n",
    "topics_x.shape"
   ]
  },
  {
   "cell_type": "code",
   "execution_count": 23,
   "metadata": {
    "collapsed": true
   },
   "outputs": [],
   "source": [
    "# shuffle labels and topics\n",
    "labels,topics_x = shuffle(labels,topics_x)"
   ]
  },
  {
   "cell_type": "code",
   "execution_count": 24,
   "metadata": {
    "collapsed": true
   },
   "outputs": [],
   "source": [
    "# training/validation  split\n",
    "labels_train,labels_valid, \\\n",
    "topics_train,topics_valid \\\n",
    "= train_test_split(labels,topics_x,test_size=0.2,stratify=labels)"
   ]
  },
  {
   "cell_type": "code",
   "execution_count": 25,
   "metadata": {},
   "outputs": [
    {
     "name": "stdout",
     "output_type": "stream",
     "text": [
      "(76680, 6)\n",
      "(19171, 6)\n"
     ]
    }
   ],
   "source": [
    "print(labels_train.shape)\n",
    "print(labels_valid.shape)"
   ]
  },
  {
   "cell_type": "markdown",
   "metadata": {},
   "source": [
    "### Basic DNN model with topic inputs"
   ]
  },
  {
   "cell_type": "code",
   "execution_count": 37,
   "metadata": {
    "collapsed": true
   },
   "outputs": [],
   "source": [
    "# Topic input\n",
    "topic_input = Input(shape=(200,),dtype='float32',name='TopicInput')"
   ]
  },
  {
   "cell_type": "code",
   "execution_count": 73,
   "metadata": {},
   "outputs": [],
   "source": [
    "# Dense layers\n",
    "topic_dense0 = Dense(150,activation='relu')(topic_input)  #  ,kernel_regularizer=regularizers.l2(0.001)\n",
    "topic_dropout0 = Dropout(0.5)(topic_dense0)\n",
    "topic_dense1 = Dense(100,activation='relu')(topic_dropout0)\n",
    "topic_dropout1 = Dropout(0.5)(topic_dense1)\n",
    "topic_dense2 = Dense(50,activation='relu')(topic_dropout1)\n",
    "topic_dropout2 = Dropout(0.5)(topic_dense2)\n",
    "topic_output = Dense(6, activation=\"sigmoid\",kernel_regularizer=l2(0.0001))(topic_dropout2)"
   ]
  },
  {
   "cell_type": "code",
   "execution_count": 74,
   "metadata": {},
   "outputs": [
    {
     "name": "stdout",
     "output_type": "stream",
     "text": [
      "_________________________________________________________________\n",
      "Layer (type)                 Output Shape              Param #   \n",
      "=================================================================\n",
      "TopicInput (InputLayer)      (None, 200)               0         \n",
      "_________________________________________________________________\n",
      "dense_39 (Dense)             (None, 150)               30150     \n",
      "_________________________________________________________________\n",
      "dropout_29 (Dropout)         (None, 150)               0         \n",
      "_________________________________________________________________\n",
      "dense_40 (Dense)             (None, 100)               15100     \n",
      "_________________________________________________________________\n",
      "dropout_30 (Dropout)         (None, 100)               0         \n",
      "_________________________________________________________________\n",
      "dense_41 (Dense)             (None, 50)                5050      \n",
      "_________________________________________________________________\n",
      "dropout_31 (Dropout)         (None, 50)                0         \n",
      "_________________________________________________________________\n",
      "dense_42 (Dense)             (None, 6)                 306       \n",
      "=================================================================\n",
      "Total params: 50,606\n",
      "Trainable params: 50,606\n",
      "Non-trainable params: 0\n",
      "_________________________________________________________________\n"
     ]
    }
   ],
   "source": [
    "topic_dnn = Model(inputs=topic_input, outputs=topic_output)\n",
    "topic_dnn.compile(loss='binary_crossentropy', optimizer='adam', metrics=['accuracy'])\n",
    "topic_dnn.summary()"
   ]
  },
  {
   "cell_type": "code",
   "execution_count": 75,
   "metadata": {},
   "outputs": [
    {
     "name": "stdout",
     "output_type": "stream",
     "text": [
      "Train on 76680 samples, validate on 19171 samples\n",
      "Epoch 1/6\n",
      "76680/76680 [==============================] - 25s - loss: 0.1146 - acc: 0.9657 - val_loss: 0.0822 - val_acc: 0.9739\n",
      "Epoch 2/6\n",
      "76680/76680 [==============================] - 24s - loss: 0.0900 - acc: 0.9724 - val_loss: 0.0786 - val_acc: 0.9748\n",
      "Epoch 3/6\n",
      "76680/76680 [==============================] - 24s - loss: 0.0857 - acc: 0.9726 - val_loss: 0.0767 - val_acc: 0.9747\n",
      "Epoch 4/6\n",
      "76680/76680 [==============================] - 24s - loss: 0.0841 - acc: 0.9732 - val_loss: 0.0746 - val_acc: 0.9752\n",
      "Epoch 5/6\n",
      "76680/76680 [==============================] - 24s - loss: 0.0825 - acc: 0.9736 - val_loss: 0.0735 - val_acc: 0.9754\n",
      "Epoch 6/6\n",
      "76680/76680 [==============================] - 24s - loss: 0.0808 - acc: 0.9738 - val_loss: 0.0731 - val_acc: 0.9751\n"
     ]
    }
   ],
   "source": [
    "history_topic_dnn = topic_dnn.fit(topics_train,labels_train\n",
    "                           ,epochs=6\n",
    "                           ,batch_size=16\n",
    "                           ,validation_data=(topics_valid,labels_valid)\n",
    "                           ,verbose=1)"
   ]
  },
  {
   "cell_type": "code",
   "execution_count": 77,
   "metadata": {},
   "outputs": [
    {
     "data": {
      "text/plain": [
       "<matplotlib.text.Text at 0x163d48710>"
      ]
     },
     "execution_count": 77,
     "metadata": {},
     "output_type": "execute_result"
    },
    {
     "data": {
      "image/png": "[encoded data removed]",
      "text/plain": [
       "<matplotlib.figure.Figure at 0x163d7d4e0>"
      ]
     },
     "metadata": {},
     "output_type": "display_data"
    }
   ],
   "source": [
    "plt.figure(figsize=(16,8))\n",
    "plt.suptitle(\"DNN with NMF Topic input\")\n",
    "#plt.subplot(121)\n",
    "#plt.plot(history_topic_dnn.history['loss'],label='train')\n",
    "plt.plot(history_topic_dnn.history['val_loss'],label='test')\n",
    "plt.legend()\n",
    "plt.xlabel('epoch',fontsize=14)\n",
    "plt.xlabel('loss',fontsize=14)\n",
    "#plt.subplot(122)\n",
    "#plt.plot(history_topic_dnn.history['acc'],label='train')\n",
    "# plt.plot(history_topic_dnn.history['val_acc'],label='test')\n",
    "# plt.legend()\n",
    "# plt.xlabel('epoch',fontsize=14)\n",
    "# plt.xlabel('accuracy',fontsize=14)"
   ]
  },
  {
   "cell_type": "code",
   "execution_count": 47,
   "metadata": {},
   "outputs": [
    {
     "data": {
      "text/plain": [
       "(76680, 6)"
      ]
     },
     "execution_count": 47,
     "metadata": {},
     "output_type": "execute_result"
    }
   ],
   "source": [
    "train_predict = topic_dnn.predict(topics_train)\n",
    "train_predict.shape"
   ]
  },
  {
   "cell_type": "code",
   "execution_count": 55,
   "metadata": {},
   "outputs": [
    {
     "data": {
      "image/png": "[encoded data removed]",
      "text/plain": [
       "<matplotlib.figure.Figure at 0x160514ac8>"
      ]
     },
     "metadata": {},
     "output_type": "display_data"
    }
   ],
   "source": [
    "n, bins, patches = plt.hist(train_predict[:,0], 30, normed=1, facecolor='green', alpha=0.7)"
   ]
  },
  {
   "cell_type": "code",
   "execution_count": null,
   "metadata": {
    "collapsed": true
   },
   "outputs": [],
   "source": []
  }
 ],
 "metadata": {
  "kernelspec": {
   "display_name": "Python 3",
   "language": "python",
   "name": "python3"
  },
  "language_info": {
   "codemirror_mode": {
    "name": "ipython",
    "version": 3
   },
   "file_extension": ".py",
   "mimetype": "text/x-python",
   "name": "python",
   "nbconvert_exporter": "python",
   "pygments_lexer": "ipython3",
   "version": "3.6.1"
  }
 },
 "nbformat": 4,
 "nbformat_minor": 2
}
